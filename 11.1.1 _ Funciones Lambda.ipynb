{
 "cells": [
  {
   "cell_type": "code",
   "execution_count": 1,
   "id": "da3d7f27",
   "metadata": {},
   "outputs": [
    {
     "name": "stdout",
     "output_type": "stream",
     "text": [
      "Resultado = 50100\n"
     ]
    }
   ],
   "source": [
    "# Prueba simple\n",
    "a = 100\n",
    "b = 501\n",
    "c = a * b\n",
    "print(\"Resultado =\", c)"
   ]
  },
  {
   "cell_type": "code",
   "execution_count": 2,
   "id": "b0d04815",
   "metadata": {},
   "outputs": [
    {
     "data": {
      "text/plain": [
       "100002"
      ]
     },
     "execution_count": 2,
     "metadata": {},
     "output_type": "execute_result"
    }
   ],
   "source": [
    "# Ejemplo a ser replicado\n",
    "def add_one(x):\n",
    "    return x + 1\n",
    "\n",
    "add_one(100001)"
   ]
  },
  {
   "cell_type": "code",
   "execution_count": 3,
   "id": "ffcbc290",
   "metadata": {},
   "outputs": [
    {
     "data": {
      "text/plain": [
       "103"
      ]
     },
     "execution_count": 3,
     "metadata": {},
     "output_type": "execute_result"
    }
   ],
   "source": [
    "# La misma lógica con lambda\n",
    "# En este caso no se tiene una definición formal de la función, solamente la operación, se llama a la variable \"x\"\n",
    "add_one = lambda x: x + 1\n",
    "add_one(102)"
   ]
  },
  {
   "cell_type": "code",
   "execution_count": 4,
   "id": "e773a5e9",
   "metadata": {},
   "outputs": [
    {
     "name": "stdout",
     "output_type": "stream",
     "text": [
      "130\n"
     ]
    }
   ],
   "source": [
    "# Ejemplo 1 - suma simple\n",
    "x = lambda a: a + 10\n",
    "print(x(120))"
   ]
  },
  {
   "cell_type": "code",
   "execution_count": 5,
   "id": "4c63dade",
   "metadata": {},
   "outputs": [
    {
     "name": "stdout",
     "output_type": "stream",
     "text": [
      "300\n"
     ]
    }
   ],
   "source": [
    "# Ejemplo 2 - multiplicación\n",
    "x = lambda a, b: a * b\n",
    "print(x(5, 60))"
   ]
  },
  {
   "cell_type": "code",
   "execution_count": 6,
   "id": "0eca446b",
   "metadata": {},
   "outputs": [
    {
     "name": "stdout",
     "output_type": "stream",
     "text": [
      "21\n"
     ]
    }
   ],
   "source": [
    "# Ejemplo 3 - se puede tener cualquier número de argumentos\n",
    "x = lambda a, b, c: a + b + c\n",
    "print(x(5, 6, 10))"
   ]
  },
  {
   "cell_type": "code",
   "execution_count": 7,
   "id": "74d2b45e",
   "metadata": {},
   "outputs": [
    {
     "name": "stdout",
     "output_type": "stream",
     "text": [
      "22\n"
     ]
    }
   ],
   "source": [
    "# Se pueden incluir funciones lambda dentro de otras funciones\n",
    "def myfunc(n):\n",
    "    return lambda a: a * n\n",
    "\n",
    "# Genera la función para multiplicar por 2 el número\n",
    "mydoubler = myfunc(2)\n",
    "\n",
    "print(mydoubler(11))"
   ]
  },
  {
   "cell_type": "code",
   "execution_count": 8,
   "id": "7e4de0ce",
   "metadata": {},
   "outputs": [
    {
     "name": "stdout",
     "output_type": "stream",
     "text": [
      "33\n"
     ]
    }
   ],
   "source": [
    "def myfunc(n):\n",
    "    return lambda a: a * n\n",
    "\n",
    "# Genera la función para triplicar el número\n",
    "mytripler = myfunc(3)\n",
    "\n",
    "# Aplica la función a un número\n",
    "print(mytripler(11))"
   ]
  },
  {
   "cell_type": "code",
   "execution_count": 9,
   "id": "af3a8e6c",
   "metadata": {},
   "outputs": [
    {
     "name": "stdout",
     "output_type": "stream",
     "text": [
      "22\n",
      "33\n"
     ]
    }
   ],
   "source": [
    "def myfunc(n):\n",
    "    return lambda a: a * n\n",
    "\n",
    "mydoubler = myfunc(2)\n",
    "mytripler = myfunc(3)\n",
    "\n",
    "print(mydoubler(11))\n",
    "print(mytripler(11))"
   ]
  },
  {
   "cell_type": "code",
   "execution_count": 10,
   "id": "450ec9e3",
   "metadata": {},
   "outputs": [
    {
     "data": {
      "text/plain": [
       "'Full name: Ebac Curso De Data Analysis 2023-2024'"
      ]
     },
     "execution_count": 10,
     "metadata": {},
     "output_type": "execute_result"
    }
   ],
   "source": [
    "# Ejemplo con strings\n",
    "full_name = lambda first, last: f'Full name: {first.title()} {last.title()}'\n",
    "full_name(\"EBAC\", \"Curso de Data Analysis 2023-2024\")"
   ]
  },
  {
   "cell_type": "code",
   "execution_count": 11,
   "id": "416beb7f",
   "metadata": {},
   "outputs": [
    {
     "data": {
      "text/plain": [
       "600"
      ]
     },
     "execution_count": 11,
     "metadata": {},
     "output_type": "execute_result"
    }
   ],
   "source": [
    "# Ejemplo de una lambda invocada inmediatamente (IIFE = immediately invoked function execution)\n",
    "(lambda x, y: x * y)(60, 10)"
   ]
  },
  {
   "cell_type": "markdown",
   "id": "65e78228",
   "metadata": {},
   "source": [
    "- Las funciones lambda no pueden tener statements dentro, como return, pass, assert, raise, etc.\n",
    "- Se escriben como solamente una línea de ejecución\n",
    "- No soportan ningún tipo de anotaciones (comentarios)\n",
    "- Se pueden invocar inmediatamente\n",
    "- Son anónimas\n",
    "- Pueden anidarse"
   ]
  },
  {
   "cell_type": "code",
   "execution_count": null,
   "id": "ef8d148b",
   "metadata": {},
   "outputs": [],
   "source": []
  }
 ],
 "metadata": {
  "kernelspec": {
   "display_name": "Python 3 (ipykernel)",
   "language": "python",
   "name": "python3"
  },
  "language_info": {
   "codemirror_mode": {
    "name": "ipython",
    "version": 3
   },
   "file_extension": ".py",
   "mimetype": "text/x-python",
   "name": "python",
   "nbconvert_exporter": "python",
   "pygments_lexer": "ipython3",
   "version": "3.11.5"
  }
 },
 "nbformat": 4,
 "nbformat_minor": 5
}
