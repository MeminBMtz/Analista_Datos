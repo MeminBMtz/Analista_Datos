{
 "cells": [
  {
   "cell_type": "markdown",
   "id": "1306209f",
   "metadata": {},
   "source": [
    "# Map\n",
    "- Retorna un objeto map (un iterador) de los resultados aplicados a cada uno de los ítems de un iterable (lista, tupla, etc), enviado como parámetro.\n",
    "- Retorna una lista de los resultados, luego de aplicar la misma función a todos los ítems de un mismo iterable.\n",
    "- Uso: map(function, iterable, [iterable1, iterable2, ...])"
   ]
  },
  {
   "cell_type": "code",
   "execution_count": 1,
   "id": "56a7dd13",
   "metadata": {},
   "outputs": [
    {
     "name": "stdout",
     "output_type": "stream",
     "text": [
      "[1, 8, 27, 64, 125]\n"
     ]
    }
   ],
   "source": [
    "# Ejemplo - Generando una operación a ser aplicada a un listado de números\n",
    "# Este es un ejemplo SIN map()\n",
    "# Generando un listado de números con exponencial\n",
    "\n",
    "# Declara las listas a ser usadas\n",
    "org_list = [1, 2, 3, 4, 5]\n",
    "fin_list = []\n",
    "\n",
    "# Aplica la operación a cada uno de los números en la lista\n",
    "for num in org_list:\n",
    "    fin_list.append(num ** 3)\n",
    "    \n",
    "# Imprime la lista\n",
    "print(fin_list)"
   ]
  },
  {
   "cell_type": "code",
   "execution_count": 2,
   "id": "e28e9275",
   "metadata": {},
   "outputs": [
    {
     "name": "stdout",
     "output_type": "stream",
     "text": [
      "[1, 8, 27, 64, 125]\n"
     ]
    }
   ],
   "source": [
    "# El mismo ejemplo exponencial usando map()\n",
    "\n",
    "# Define la lista inicial de números. No es necesario definir la lista resultado.\n",
    "org_list = [1, 2, 3, 4, 5]\n",
    "\n",
    "# Define la función a ser aplicada a cada número.\n",
    "def cube(num):\n",
    "    return num ** 3\n",
    "\n",
    "# Aplica la función map()\n",
    "fin_list = list(map(cube, org_list))\n",
    "print(fin_list)\n",
    "\n",
    "# Esta lógica es definitivamente muy limpia y escalable\n",
    "# Se pueden aplicar a cualquier número de funciones y además declarar las funciones en otros archivos incluso"
   ]
  },
  {
   "cell_type": "code",
   "execution_count": 3,
   "id": "9100a660",
   "metadata": {},
   "outputs": [
    {
     "name": "stdout",
     "output_type": "stream",
     "text": [
      "[3, 5, 4]\n"
     ]
    }
   ],
   "source": [
    "# Otro ejemplo\n",
    "# Largo de cada elemento en una vista\n",
    "# Utilizo la función de Python \"len\"\n",
    "org_list = [\"Hey\", \"mundo\", \"EBAC\"]\n",
    "fin_list = list(map(len, org_list))\n",
    "print(fin_list)"
   ]
  },
  {
   "cell_type": "code",
   "execution_count": 4,
   "id": "cc1df29d",
   "metadata": {},
   "outputs": [
    {
     "name": "stdout",
     "output_type": "stream",
     "text": [
      "[10, 100, 1000, 10000]\n"
     ]
    }
   ],
   "source": [
    "# Usando más de un iterable (base y power)\n",
    "# Aprovecho la función \"pow\" de Python\n",
    "base = [10, 10, 10, 10]\n",
    "power = [1, 2, 3, 4]\n",
    "\n",
    "result = list(map(pow, base, power))\n",
    "print(result)"
   ]
  },
  {
   "cell_type": "code",
   "execution_count": 5,
   "id": "01a653bc",
   "metadata": {},
   "outputs": [
    {
     "name": "stdout",
     "output_type": "stream",
     "text": [
      "[1, 8, 27, 64, 125]\n"
     ]
    }
   ],
   "source": [
    "# Ejemplo de map usando lambdas\n",
    "org_list = [1, 2, 3, 4, 5]\n",
    "\n",
    "fin_list = list(map(lambda x: x ** 3, org_list))\n",
    "print(fin_list) # [1, 8, 27, 64, 125]\n",
    "\n",
    "# Este definitivamente es un óptimo de código en cuanto a extensión"
   ]
  },
  {
   "cell_type": "code",
   "execution_count": 6,
   "id": "862694db",
   "metadata": {},
   "outputs": [
    {
     "name": "stdout",
     "output_type": "stream",
     "text": [
      "[1, 8, 27, 64, 125]\n"
     ]
    }
   ],
   "source": [
    "# Reducido a 2 líneas\n",
    "org_list = [1, 2, 3, 4, 5]\n",
    "print(list(map(lambda x: x ** 3, org_list)))"
   ]
  },
  {
   "cell_type": "code",
   "execution_count": 7,
   "id": "ba74f291",
   "metadata": {},
   "outputs": [
    {
     "name": "stdout",
     "output_type": "stream",
     "text": [
      "[2, 4, 6, 8]\n"
     ]
    }
   ],
   "source": [
    "# Doble de un número\n",
    "def addition(n):\n",
    "    return n + n\n",
    "\n",
    "# Duplicamos todos los números usando map()\n",
    "numbers = (1, 2, 3, 4)\n",
    "result = map(addition, numbers)\n",
    "print(list(result))"
   ]
  },
  {
   "cell_type": "code",
   "execution_count": 9,
   "id": "729c7802",
   "metadata": {},
   "outputs": [
    {
     "name": "stdout",
     "output_type": "stream",
     "text": [
      "[2, 4, 6, 8]\n"
     ]
    }
   ],
   "source": [
    "# Doble de números usando map() y lambda\n",
    "\n",
    "nums = (1, 2, 3, 4)\n",
    "result = map(lambda x: x + x, nums)\n",
    "print(list(result))"
   ]
  },
  {
   "cell_type": "code",
   "execution_count": 10,
   "id": "dfc9515f",
   "metadata": {},
   "outputs": [
    {
     "name": "stdout",
     "output_type": "stream",
     "text": [
      "[5, 7, 9]\n"
     ]
    }
   ],
   "source": [
    "# Suma de 2 listas con map() y lambda\n",
    "\n",
    "nums1 = [1, 2, 3]\n",
    "nums2 = [4, 5, 6]\n",
    "\n",
    "result = map(lambda x, y: x + y, nums1, nums2)\n",
    "print(list(result))"
   ]
  },
  {
   "cell_type": "code",
   "execution_count": 11,
   "id": "5b3b4397",
   "metadata": {},
   "outputs": [
    {
     "name": "stdout",
     "output_type": "stream",
     "text": [
      "[12, 15, 18]\n"
     ]
    }
   ],
   "source": [
    "# Suma de 3 listas con map() y lambda\n",
    "\n",
    "nums1 = [1, 2, 3]\n",
    "nums2 = [4, 5, 6]\n",
    "nums3 = [7, 8, 9]\n",
    "\n",
    "result = map(lambda x, y, z: x + y + z, nums1, nums2, nums3)\n",
    "print(list(result))"
   ]
  },
  {
   "cell_type": "code",
   "execution_count": 12,
   "id": "ecc2be87",
   "metadata": {},
   "outputs": [
    {
     "name": "stdout",
     "output_type": "stream",
     "text": [
      "[['s', 'a', 't'], ['b', 'a', 't'], ['c', 'a', 't'], ['m', 'a', 't']]\n"
     ]
    }
   ],
   "source": [
    "# Ejemplo con cadenas de caracteres (strings)\n",
    "l = ['sat', 'bat', 'cat', 'mat']\n",
    "\n",
    "# map() puede usarse para dividir en caracteres a las palabras enviadas\n",
    "# obteniendo una lista de listas\n",
    "test = list(map(list, l))\n",
    "print(test)"
   ]
  },
  {
   "cell_type": "code",
   "execution_count": null,
   "id": "838bf643",
   "metadata": {},
   "outputs": [],
   "source": []
  }
 ],
 "metadata": {
  "kernelspec": {
   "display_name": "Python 3 (ipykernel)",
   "language": "python",
   "name": "python3"
  },
  "language_info": {
   "codemirror_mode": {
    "name": "ipython",
    "version": 3
   },
   "file_extension": ".py",
   "mimetype": "text/x-python",
   "name": "python",
   "nbconvert_exporter": "python",
   "pygments_lexer": "ipython3",
   "version": "3.11.5"
  }
 },
 "nbformat": 4,
 "nbformat_minor": 5
}
