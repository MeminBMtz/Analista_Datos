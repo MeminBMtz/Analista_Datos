{
 "cells": [
  {
   "cell_type": "markdown",
   "id": "b6ff165d",
   "metadata": {},
   "source": [
    "# Filter\n",
    "- Esta función permite extraer valores de iterables. Para extraer estos valores se debe definir una condición que los ítems deben cumplir y generar a su vez una nueva lista de iterables.\n",
    "- La sintaxis es: filter(function, iterable).\n",
    "- El primer argumento es objeto función \"function\" y debe ser llamada sin paréntesis.\n",
    "- El segundo argumento es un iterable, que puede ser una lista, una tupla o un set.\n",
    "- Filtering se aplica a cada ítem del iterable.\n",
    "- Filter es una función built-in, lo que quiere decir que no debe importarse desde ninguna librería.\n",
    "- Filter iba a ser eliminada de la versión 3 de Python, pero la comunidad pidió que se quedara."
   ]
  },
  {
   "cell_type": "code",
   "execution_count": 1,
   "id": "5845368f",
   "metadata": {},
   "outputs": [
    {
     "data": {
      "text/plain": [
       "[10, 6, 50]"
      ]
     },
     "execution_count": 1,
     "metadata": {},
     "output_type": "execute_result"
    }
   ],
   "source": [
    "# Ejemplo para ver números pares de una lista\n",
    "# Se tiene una lista inicial de números a ser procesados\n",
    "# Con cada ítem, se valida que su residuo (%) cuando se divide para 2 sea cero (Condición par / impar)\n",
    "numbers = [1, 3, 10, 45, 6, 50]\n",
    "\n",
    "def extract_even(numbers):\n",
    "    even_numbers = []\n",
    "    for number in numbers:\n",
    "        if number % 2 == 0: # Filtering condition\n",
    "            even_numbers.append(number)\n",
    "    return even_numbers\n",
    "\n",
    "extract_even(numbers)"
   ]
  },
  {
   "cell_type": "code",
   "execution_count": 2,
   "id": "e4704450",
   "metadata": {},
   "outputs": [
    {
     "data": {
      "text/plain": [
       "3"
      ]
     },
     "execution_count": 2,
     "metadata": {},
     "output_type": "execute_result"
    }
   ],
   "source": [
    "# Función mod\n",
    "10 % 7"
   ]
  },
  {
   "cell_type": "code",
   "execution_count": 3,
   "id": "fdac5edb",
   "metadata": {},
   "outputs": [
    {
     "data": {
      "text/plain": [
       "True"
      ]
     },
     "execution_count": 3,
     "metadata": {},
     "output_type": "execute_result"
    }
   ],
   "source": [
    "# El mismo ejemplo usando filter()\n",
    "numbers = [1, 3, 10, 45, 6, 50]\n",
    "\n",
    "def is_even(number):\n",
    "    return number % 2 == 0 # Filtering condition\n",
    "\n",
    "is_even(10)"
   ]
  },
  {
   "cell_type": "code",
   "execution_count": 4,
   "id": "7816a50a",
   "metadata": {},
   "outputs": [
    {
     "data": {
      "text/plain": [
       "[10, 6, 50]"
      ]
     },
     "execution_count": 4,
     "metadata": {},
     "output_type": "execute_result"
    }
   ],
   "source": [
    "list(filter(is_even, numbers))"
   ]
  },
  {
   "cell_type": "code",
   "execution_count": 5,
   "id": "46ea9c98",
   "metadata": {},
   "outputs": [
    {
     "data": {
      "text/plain": [
       "[1, 2, 10]"
      ]
     },
     "execution_count": 5,
     "metadata": {},
     "output_type": "execute_result"
    }
   ],
   "source": [
    "# Ejemplo simple, obtener los números positivos de una lista\n",
    "# Se hace con un loop que valida, uno por uno, los números de la lista\n",
    "# y pregunta si son mayores 0\n",
    "# Si lo son, los incluye en el listado de números positivos\n",
    "numbers = [-2, -1, 0, 1, 2, 10]\n",
    "\n",
    "def extract_positive(numbers):\n",
    "    positive_numbers = []\n",
    "    for number in numbers:\n",
    "        if number > 0: # Filtering condition\n",
    "            positive_numbers.append(number)\n",
    "    return positive_numbers\n",
    "\n",
    "extract_positive(numbers)"
   ]
  },
  {
   "cell_type": "code",
   "execution_count": 6,
   "id": "aab013df",
   "metadata": {},
   "outputs": [
    {
     "data": {
      "text/plain": [
       "[1, 2, 10]"
      ]
     },
     "execution_count": 6,
     "metadata": {},
     "output_type": "execute_result"
    }
   ],
   "source": [
    "# Aquí la misma función aplicada filter() y simplificada con una lambda\n",
    "\n",
    "# Se define la lista de números a ser procesados\n",
    "numbers = [-2, -1, 0, 1, 2, 10]\n",
    "\n",
    "# Se define la función lambda que va a aplicarse como filtro (que los números sean mayores a cero)\n",
    "positive_numbers = filter(lambda n: n > 0, numbers)\n",
    "positive_numbers\n",
    "\n",
    "list(positive_numbers)"
   ]
  },
  {
   "cell_type": "code",
   "execution_count": 7,
   "id": "6779f1bf",
   "metadata": {},
   "outputs": [
    {
     "name": "stdout",
     "output_type": "stream",
     "text": [
      "Media = 10.692307692307692 . Bajo = -7.128740076825961 . Alto = 28.513355461441343\n"
     ]
    }
   ],
   "source": [
    "# Eliminando outliers de un listado de números\n",
    "import statistics as st\n",
    "sample = [10, 8, 10, 8, 2, 7, 9, 3, 34, 9, 5, 9, 25]\n",
    "\n",
    "# Calcula la media de la muestra, antes de eliminar los outliers\n",
    "mean = st.mean(sample)\n",
    "\n",
    "# Calcula dos desviaciones estándar como si el límite bajo y alto para filtrar la lista\n",
    "stdev = st.stdev(sample)\n",
    "low = mean - 2 * stdev\n",
    "high = mean + 2 * stdev\n",
    "\n",
    "print(\"Media =\", mean, \". Bajo =\", low, \". Alto =\", high)"
   ]
  },
  {
   "cell_type": "code",
   "execution_count": 8,
   "id": "32066526",
   "metadata": {},
   "outputs": [
    {
     "name": "stdout",
     "output_type": "stream",
     "text": [
      "Media = 10.69 Bajo = -7.13 Alto = 28.51\n"
     ]
    }
   ],
   "source": [
    "# Formato de 2 decimales\n",
    "print(\"Media = {:.2f}\".format(mean), \"Bajo = {:.2f}\".format(low), \"Alto = {:.2f}\".format(high))"
   ]
  },
  {
   "cell_type": "code",
   "execution_count": 9,
   "id": "084ba331",
   "metadata": {},
   "outputs": [
    {
     "data": {
      "text/plain": [
       "[10, 8, 10, 8, 2, 7, 9, 3, 9, 5, 9, 25]"
      ]
     },
     "execution_count": 9,
     "metadata": {},
     "output_type": "execute_result"
    }
   ],
   "source": [
    "# Los valores de la muestra que están fuera de los valores bajo y alto\n",
    "# no van a ser mostrados, utilizando una combinación de filter y una función lambda simple\n",
    "# que condiciona los límites de cada ítem\n",
    "\n",
    "clean_sample = list(filter(lambda x: low <= x <= high, sample))\n",
    "clean_sample"
   ]
  },
  {
   "cell_type": "code",
   "execution_count": 10,
   "id": "f75efaf2",
   "metadata": {},
   "outputs": [
    {
     "name": "stdout",
     "output_type": "stream",
     "text": [
      "True\n",
      "False\n"
     ]
    }
   ],
   "source": [
    "# Función para buscar palabras Palíndromes\n",
    "def is_palindrome(word):\n",
    "    reversed_word = \"\".join(reversed(word))\n",
    "    return word.lower() == reversed_word.lower()\n",
    "\n",
    "# Madam\n",
    "print(is_palindrome(\"Madam\"))\n",
    "# EBAC\n",
    "print(is_palindrome(\"Python\"))"
   ]
  },
  {
   "cell_type": "code",
   "execution_count": 11,
   "id": "d9c8884c",
   "metadata": {},
   "outputs": [
    {
     "data": {
      "text/plain": [
       "['Ana', 'madam', 'racecar', 'sosos']"
      ]
     },
     "execution_count": 11,
     "metadata": {},
     "output_type": "execute_result"
    }
   ],
   "source": [
    "# Ejemplo para encontrar palabras palindrome con filter\n",
    "words = (\"filter\", \"Ana\", \"hello\", \"world\", \"madam\", \"racecar\", \"sosos\")\n",
    "\n",
    "list(filter(is_palindrome, words))"
   ]
  },
  {
   "cell_type": "code",
   "execution_count": 12,
   "id": "5d273335",
   "metadata": {},
   "outputs": [
    {
     "data": {
      "text/plain": [
       "''"
      ]
     },
     "execution_count": 12,
     "metadata": {},
     "output_type": "execute_result"
    }
   ],
   "source": [
    "# Usando la función filter para excluir números de listas\n",
    "def identity(x):\n",
    "    return x\n",
    "\n",
    "identity(\"\")"
   ]
  },
  {
   "cell_type": "code",
   "execution_count": 13,
   "id": "34790c44",
   "metadata": {},
   "outputs": [
    {
     "data": {
      "text/plain": [
       "[1, 4, 5, 8, 9, 15, 'sss']"
      ]
     },
     "execution_count": 13,
     "metadata": {},
     "output_type": "execute_result"
    }
   ],
   "source": [
    "objects = [0, 1, [], 4, 5, \"\", None, 8, 9, 15, \"sss\"]\n",
    "list(filter(identity, objects))"
   ]
  },
  {
   "cell_type": "code",
   "execution_count": 14,
   "id": "78ce5ba8",
   "metadata": {},
   "outputs": [
    {
     "data": {
      "text/plain": [
       "[1, 4, 5, 8, 9, 15]"
      ]
     },
     "execution_count": 14,
     "metadata": {},
     "output_type": "execute_result"
    }
   ],
   "source": [
    "objects = [0, 1, [], 4, 5, \"\", None, 8, 9, 15, \"\"]\n",
    "list(filter(identity, objects))"
   ]
  },
  {
   "cell_type": "code",
   "execution_count": null,
   "id": "400bccc8",
   "metadata": {},
   "outputs": [],
   "source": []
  }
 ],
 "metadata": {
  "kernelspec": {
   "display_name": "Python 3 (ipykernel)",
   "language": "python",
   "name": "python3"
  },
  "language_info": {
   "codemirror_mode": {
    "name": "ipython",
    "version": 3
   },
   "file_extension": ".py",
   "mimetype": "text/x-python",
   "name": "python",
   "nbconvert_exporter": "python",
   "pygments_lexer": "ipython3",
   "version": "3.11.5"
  }
 },
 "nbformat": 4,
 "nbformat_minor": 5
}
