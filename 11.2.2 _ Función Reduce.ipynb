{
 "cells": [
  {
   "cell_type": "markdown",
   "id": "ade07220",
   "metadata": {},
   "source": [
    "# Función Reduce\n",
    "- La función reduce implementa una operación matemática llamada \"folding\" o \"reducción\".\n",
    "- Esta función es útil cuando se quiere aplicar una misma función a un elemento iterable y reducirla a un solo número.\n",
    "- Es popular entre developers que tienen una orientación a programar funcionalmente (romper un todo en sus partes).\n",
    "- Incluso esta función, junto con map() y filter(), iban a ser eliminadas de Python, pero no fue así.\n",
    "- Esto ocasionó que reduce se tenga que importar desde la librería \"functools\"\n",
    "- Se usa reduce(function, iterable, initializer)"
   ]
  },
  {
   "cell_type": "code",
   "execution_count": 1,
   "id": "f15e8632",
   "metadata": {},
   "outputs": [
    {
     "name": "stdout",
     "output_type": "stream",
     "text": [
      "5 + 10 = 15\n"
     ]
    },
    {
     "data": {
      "text/plain": [
       "15"
      ]
     },
     "execution_count": 1,
     "metadata": {},
     "output_type": "execute_result"
    }
   ],
   "source": [
    "# Ejemplo de suma simple\n",
    "def mysum(a, b):\n",
    "    result = a + b\n",
    "    print(f\"{a} + {b} = {result}\")\n",
    "    return result\n",
    "\n",
    "mysum(5, 10)"
   ]
  },
  {
   "cell_type": "code",
   "execution_count": 2,
   "id": "c2d08ccf",
   "metadata": {},
   "outputs": [
    {
     "name": "stdout",
     "output_type": "stream",
     "text": [
      "0 + 1 = 1\n",
      "1 + 2 = 3\n",
      "3 + 3 = 6\n",
      "6 + 4 = 10\n"
     ]
    },
    {
     "data": {
      "text/plain": [
       "10"
      ]
     },
     "execution_count": 2,
     "metadata": {},
     "output_type": "execute_result"
    }
   ],
   "source": [
    "# Progresión\n",
    "a = mysum(0, 1)\n",
    "b = mysum(a, 2)\n",
    "c = mysum(b, 3)\n",
    "mysum(c, 4)"
   ]
  },
  {
   "cell_type": "code",
   "execution_count": 3,
   "id": "cb3c523c",
   "metadata": {},
   "outputs": [
    {
     "name": "stdout",
     "output_type": "stream",
     "text": [
      "0 + 1 = 1\n",
      "1 + 2 = 3\n",
      "3 + 3 = 6\n",
      "6 + 4 = 10\n"
     ]
    },
    {
     "data": {
      "text/plain": [
       "10"
      ]
     },
     "execution_count": 3,
     "metadata": {},
     "output_type": "execute_result"
    }
   ],
   "source": [
    "# El mismo ejemplo con reduce\n",
    "# Antes que nada, se importa la librería\n",
    "from functools import reduce\n",
    "\n",
    "# Se genera la lista de números para ser procesados\n",
    "numbers = [0, 1, 2, 3, 4]\n",
    "\n",
    "# Se aplica la función de suma sobre el listado de números\n",
    "reduce(mysum, numbers)"
   ]
  },
  {
   "cell_type": "code",
   "execution_count": 4,
   "id": "038eed61",
   "metadata": {},
   "outputs": [
    {
     "name": "stdout",
     "output_type": "stream",
     "text": [
      "100 + 0 = 100\n",
      "100 + 1 = 101\n",
      "101 + 2 = 103\n",
      "103 + 3 = 106\n",
      "106 + 4 = 110\n"
     ]
    },
    {
     "data": {
      "text/plain": [
       "110"
      ]
     },
     "execution_count": 4,
     "metadata": {},
     "output_type": "execute_result"
    }
   ],
   "source": [
    "# Avanzado - reduce con un initializer (valor base)\n",
    "# Tercer argumento: Initializer\n",
    "from functools import reduce\n",
    "numbers = [0, 1, 2, 3, 4]\n",
    "reduce(mysum, numbers, 100)"
   ]
  },
  {
   "cell_type": "code",
   "execution_count": 5,
   "id": "fad764e2",
   "metadata": {},
   "outputs": [
    {
     "data": {
      "text/plain": [
       "15"
      ]
     },
     "execution_count": 5,
     "metadata": {},
     "output_type": "execute_result"
    }
   ],
   "source": [
    "# Ejemplo de suma de valores numéricos\n",
    "\n",
    "numbers = [1, 2, 3, 4, 5]\n",
    "total = 0\n",
    "for num in numbers:\n",
    "    total += num\n",
    "total"
   ]
  },
  {
   "cell_type": "code",
   "execution_count": 6,
   "id": "ef49918f",
   "metadata": {},
   "outputs": [
    {
     "data": {
      "text/plain": [
       "3"
      ]
     },
     "execution_count": 6,
     "metadata": {},
     "output_type": "execute_result"
    }
   ],
   "source": [
    "def my_add(a, b):\n",
    "    return a+b\n",
    "\n",
    "my_add(1,2)"
   ]
  },
  {
   "cell_type": "code",
   "execution_count": 7,
   "id": "7f1bea16",
   "metadata": {},
   "outputs": [
    {
     "data": {
      "text/plain": [
       "15"
      ]
     },
     "execution_count": 7,
     "metadata": {},
     "output_type": "execute_result"
    }
   ],
   "source": [
    "# La misma función con reduce\n",
    "from functools import reduce\n",
    "numbers = [1, 2, 3, 4, 5]\n",
    "reduce(my_add, numbers)"
   ]
  },
  {
   "cell_type": "code",
   "execution_count": 8,
   "id": "09b5bd7c",
   "metadata": {},
   "outputs": [
    {
     "data": {
      "text/plain": [
       "15"
      ]
     },
     "execution_count": 8,
     "metadata": {},
     "output_type": "execute_result"
    }
   ],
   "source": [
    "# Ejemplo de reduce con función lambda\n",
    "from functools import reduce\n",
    "numbers = [1, 2, 3, 4, 5]\n",
    "reduce(lambda x, y: x + y, numbers)"
   ]
  },
  {
   "cell_type": "code",
   "execution_count": 9,
   "id": "a179738a",
   "metadata": {},
   "outputs": [
    {
     "name": "stdout",
     "output_type": "stream",
     "text": [
      "3\n"
     ]
    }
   ],
   "source": [
    "# Con add, reduce\n",
    "from operator import add\n",
    "from functools import reduce\n",
    "\n",
    "print(add(1,2))"
   ]
  },
  {
   "cell_type": "code",
   "execution_count": 10,
   "id": "1d6bdad8",
   "metadata": {},
   "outputs": [
    {
     "data": {
      "text/plain": [
       "55"
      ]
     },
     "execution_count": 10,
     "metadata": {},
     "output_type": "execute_result"
    }
   ],
   "source": [
    "numbers = [x for x in range(1, 11)]\n",
    "reduce(add, numbers)"
   ]
  },
  {
   "cell_type": "code",
   "execution_count": 11,
   "id": "ece1573a",
   "metadata": {},
   "outputs": [
    {
     "name": "stdout",
     "output_type": "stream",
     "text": [
      "Mínimo = -20\n",
      "Máximo = 109\n"
     ]
    }
   ],
   "source": [
    "# Usando reduce para calcular máximo y mínimo\n",
    "# Se aplican las funciones mínimo y máximo a todos los ítems de la lista\n",
    "from functools import reduce\n",
    "\n",
    "# Función para calcular mínimo\n",
    "def minimo(a, b):\n",
    "    # print(\"a =\", a, \"| b =\", b)\n",
    "    return a if a < b else b\n",
    "\n",
    "# Función para calcular máximo\n",
    "def maximo(a, b):\n",
    "    # print(\"a =\", a, \"| b =\", b)\n",
    "    return a  if a > b else b\n",
    "\n",
    "numbers = [4, 5, 9, -20, 15, 109, 25, -1]\n",
    "\n",
    "mini = reduce(minimo, numbers)\n",
    "maxi = reduce(maximo, numbers)\n",
    "\n",
    "# Se imprime el resultado de la lista\n",
    "print(f\"Mínimo = {mini}\")\n",
    "print(f\"Máximo = {maxi}\")"
   ]
  },
  {
   "cell_type": "markdown",
   "id": "5018120e",
   "metadata": {},
   "source": [
    "## Wrap Up:\n",
    "- La función reduce nos lleva a un solo número\n",
    "- Se aplica a todos los ítems del iterable\n",
    "- Contiene un \"Initializer\" como parámetro"
   ]
  },
  {
   "cell_type": "code",
   "execution_count": null,
   "id": "28a0c6b3",
   "metadata": {},
   "outputs": [],
   "source": []
  }
 ],
 "metadata": {
  "kernelspec": {
   "display_name": "Python 3 (ipykernel)",
   "language": "python",
   "name": "python3"
  },
  "language_info": {
   "codemirror_mode": {
    "name": "ipython",
    "version": 3
   },
   "file_extension": ".py",
   "mimetype": "text/x-python",
   "name": "python",
   "nbconvert_exporter": "python",
   "pygments_lexer": "ipython3",
   "version": "3.11.5"
  }
 },
 "nbformat": 4,
 "nbformat_minor": 5
}
