{
 "cells": [
  {
   "cell_type": "markdown",
   "id": "ea5b1ee9",
   "metadata": {},
   "source": [
    "# Antes de empezar\n",
    "- Revisar la configuración del ambiente de trabajo: Anaconda + VS Code\n",
    "- Para VS Code, se lo baja directamente desde Microsoft: https://code.visualstudio.com/download\n",
    "- Para Python, se lo puede descargar de la distribución Anaconda: https://anaconda.com\n",
    "- Para descargar información de Kaggle, generar una cuenta en: https://kaggle.com\n",
    "- Obtener el archivo netflix_titles.csv del centro de descargas. Es una base de datos de películas de Netflix que contiene información relevante como su ID, el tipo de película, su título y director, la fecha en la que se subió a la plataforma, su duración, rating y una descripción. Este archivo se lo bajó desde Kaggle.com. Referencia: https://www.kaggle.com/datasets/shivamb/netflix-shows"
   ]
  },
  {
   "cell_type": "markdown",
   "id": "477973e0",
   "metadata": {},
   "source": [
    "# Módulos y paquetes\n",
    "- Instalación de Módulos y paquetes\n",
    "- Uso de librerías estadísticas básicas\n",
    "- Primeras gráficas: histograma\n",
    "\n",
    "## Introducción\n",
    "- Cualquier archivo Python es un módulo. Contiene muchas funciones Python dentro de su código.\n",
    "- Cuando se importa un módulo o un paquete, el objeto que se genera en Python es siempre del tipo módulo.\n",
    "\n",
    "- Un paquete es un conjunto de módulos de Python, en forma de una colección que sirve para inicializar el código.\n",
    "- El paquete es un directorio que tiene colecciones de módulos. El directorio contiene módulos Python (archivos .py) así como archivos init.py\n",
    "- Los paquetes pueden tener cualquier número de niveles.\n",
    "- Esto quiere decir que la diferencia entre módulos y paquetes es nada más a nivel de sistema operativo.\n",
    "\n",
    "- La diferencia principal: los paquetes trabajan en cada librería, definiendo los códigos como una sola unidad, de cualquier función.\n",
    "- Mientras que los módulos son librerías separadas cada uno, con funciones incluidas. La reusabilidad de los paquetes los hace preferidos vs. los módulos."
   ]
  },
  {
   "cell_type": "code",
   "execution_count": 1,
   "id": "63ba7fed",
   "metadata": {},
   "outputs": [
    {
     "data": {
      "text/plain": [
       "256.0"
      ]
     },
     "execution_count": 1,
     "metadata": {},
     "output_type": "execute_result"
    }
   ],
   "source": [
    "# Ejemplo de un módulo\n",
    "import math\n",
    "from math import pow\n",
    "pow(2, 8)"
   ]
  },
  {
   "cell_type": "code",
   "execution_count": 2,
   "id": "83925f30",
   "metadata": {},
   "outputs": [],
   "source": [
    "# Ejemplo de un paquete\n",
    "import math"
   ]
  },
  {
   "cell_type": "code",
   "execution_count": 3,
   "id": "1bfcf632",
   "metadata": {},
   "outputs": [
    {
     "ename": "NameError",
     "evalue": "name 'date' is not defined",
     "output_type": "error",
     "traceback": [
      "\u001b[0;31m---------------------------------------------------------------------------\u001b[0m",
      "\u001b[0;31mNameError\u001b[0m                                 Traceback (most recent call last)",
      "Cell \u001b[0;32mIn[3], line 3\u001b[0m\n\u001b[1;32m      1\u001b[0m \u001b[38;5;66;03m# Ejemplo simple\u001b[39;00m\n\u001b[1;32m      2\u001b[0m \u001b[38;5;28;01mimport\u001b[39;00m \u001b[38;5;21;01mdatetime\u001b[39;00m\n\u001b[0;32m----> 3\u001b[0m date\u001b[38;5;241m.\u001b[39mtoday()\n",
      "\u001b[0;31mNameError\u001b[0m: name 'date' is not defined"
     ]
    }
   ],
   "source": [
    "# Ejemplo simple\n",
    "import datetime\n",
    "date.today()"
   ]
  },
  {
   "cell_type": "code",
   "execution_count": 4,
   "id": "c4786453",
   "metadata": {},
   "outputs": [
    {
     "data": {
      "text/plain": [
       "datetime.date(2024, 5, 5)"
      ]
     },
     "execution_count": 4,
     "metadata": {},
     "output_type": "execute_result"
    }
   ],
   "source": [
    "# El ejemplo 2 funciona porque el submódulo 'date' se importó, lo que permite ejecutarlo directamente\n",
    "from datetime import date\n",
    "date.today()"
   ]
  },
  {
   "cell_type": "code",
   "execution_count": 5,
   "id": "a329bc0e",
   "metadata": {},
   "outputs": [
    {
     "name": "stdout",
     "output_type": "stream",
     "text": [
      "Current working directory: /Users/memobarbosa/Análisis de datos/Parte 2/M12\n"
     ]
    }
   ],
   "source": [
    "# Importar la función completa 'csv' para tratamiento de archivos\n",
    "import csv\n",
    "\n",
    "# Importar la función 'os' para leer el directorio actual\n",
    "import os\n",
    "\n",
    "# Get the current working directory\n",
    "cwd = os.getcwd()\n",
    "\n",
    "# Print the current working directory\n",
    "print(\"Current working directory: {0}\".format(cwd))"
   ]
  },
  {
   "cell_type": "code",
   "execution_count": 6,
   "id": "578d8570",
   "metadata": {},
   "outputs": [
    {
     "name": "stdout",
     "output_type": "stream",
     "text": [
      "Current working directory: /Users/memobarbosa/Análisis de datos/Parte 2/M12\n"
     ]
    }
   ],
   "source": [
    "# Cambiar el directorio actual con chdir\n",
    "os.chdir('/users/memobarbosa/análisis de datos/parte 2/M12')\n",
    "\n",
    "# Print the current working directory\n",
    "print('Current working directory: {0}'.format(cwd))"
   ]
  },
  {
   "cell_type": "code",
   "execution_count": 7,
   "id": "de164ac1",
   "metadata": {},
   "outputs": [],
   "source": [
    "# Abre el archivo de lectura\n",
    "file = open(r'./netflix_titles.csv')\n",
    "\n",
    "# Lee el archivo en el objeto csvreader\n",
    "csvreader = csv.reader(file)"
   ]
  },
  {
   "cell_type": "code",
   "execution_count": 8,
   "id": "58b95355",
   "metadata": {},
   "outputs": [
    {
     "data": {
      "text/plain": [
       "_csv.reader"
      ]
     },
     "execution_count": 8,
     "metadata": {},
     "output_type": "execute_result"
    }
   ],
   "source": [
    "type(csvreader)"
   ]
  },
  {
   "cell_type": "code",
   "execution_count": 9,
   "id": "cb4441f1",
   "metadata": {},
   "outputs": [
    {
     "data": {
      "text/plain": [
       "['show_id',\n",
       " 'type',\n",
       " 'title',\n",
       " 'director',\n",
       " 'cast',\n",
       " 'country',\n",
       " 'date_added',\n",
       " 'release_year',\n",
       " 'rating',\n",
       " 'duration',\n",
       " 'listed_in',\n",
       " 'description']"
      ]
     },
     "execution_count": 9,
     "metadata": {},
     "output_type": "execute_result"
    }
   ],
   "source": [
    "# Obtiene los encabezados del archivo (header)\n",
    "header = []\n",
    "header = next(csvreader)\n",
    "header"
   ]
  },
  {
   "cell_type": "code",
   "execution_count": 10,
   "id": "8a9444b6",
   "metadata": {},
   "outputs": [
    {
     "name": "stdout",
     "output_type": "stream",
     "text": [
      "[['s1', 'Movie', 'Dick Johnson Is Dead', 'Kirsten Johnson', '', 'United States', 'September 25, 2021', '2020', 'PG-13', '90 min', 'Documentaries', 'As her father nears the end of his life, filmmaker Kirsten Johnson stages his death in inventive and comical ways to help them both face the inevitable.'], ['s2', 'TV Show', 'Blood & Water', '', 'Ama Qamata, Khosi Ngema, Gail Mabalane, Thabang Molaba, Dillon Windvogel, Natasha Thahane, Arno Greeff, Xolile Tshabalala, Getmore Sithole, Cindy Mahlangu, Ryle De Morny, Greteli Fincham, Sello Maake Ka-Ncube, Odwa Gwanya, Mekaila Mathys, Sandi Schultz, Duane Williams, Shamilla Miller, Patrick Mofokeng', 'South Africa', 'September 24, 2021', '2021', 'TV-MA', '2 Seasons', 'International TV Shows, TV Dramas, TV Mysteries', 'After crossing paths at a party, a Cape Town teen sets out to prove whether a private-school swimming star is her sister who was abducted at birth.']]\n"
     ]
    }
   ],
   "source": [
    "# Extrae los datos a una lista\n",
    "rows = []\n",
    "for row in csvreader: rows.append(row)\n",
    "print(rows[:2])"
   ]
  },
  {
   "cell_type": "code",
   "execution_count": 11,
   "id": "ff3ef13b",
   "metadata": {},
   "outputs": [
    {
     "data": {
      "text/plain": [
       "[['s1',\n",
       "  'Movie',\n",
       "  'Dick Johnson Is Dead',\n",
       "  'Kirsten Johnson',\n",
       "  '',\n",
       "  'United States',\n",
       "  'September 25, 2021',\n",
       "  '2020',\n",
       "  'PG-13',\n",
       "  '90 min',\n",
       "  'Documentaries',\n",
       "  'As her father nears the end of his life, filmmaker Kirsten Johnson stages his death in inventive and comical ways to help them both face the inevitable.'],\n",
       " ['s2',\n",
       "  'TV Show',\n",
       "  'Blood & Water',\n",
       "  '',\n",
       "  'Ama Qamata, Khosi Ngema, Gail Mabalane, Thabang Molaba, Dillon Windvogel, Natasha Thahane, Arno Greeff, Xolile Tshabalala, Getmore Sithole, Cindy Mahlangu, Ryle De Morny, Greteli Fincham, Sello Maake Ka-Ncube, Odwa Gwanya, Mekaila Mathys, Sandi Schultz, Duane Williams, Shamilla Miller, Patrick Mofokeng',\n",
       "  'South Africa',\n",
       "  'September 24, 2021',\n",
       "  '2021',\n",
       "  'TV-MA',\n",
       "  '2 Seasons',\n",
       "  'International TV Shows, TV Dramas, TV Mysteries',\n",
       "  'After crossing paths at a party, a Cape Town teen sets out to prove whether a private-school swimming star is her sister who was abducted at birth.']]"
      ]
     },
     "execution_count": 11,
     "metadata": {},
     "output_type": "execute_result"
    }
   ],
   "source": [
    "rows[0:2]"
   ]
  },
  {
   "cell_type": "markdown",
   "id": "ee72b6b2",
   "metadata": {},
   "source": []
  }
 ],
 "metadata": {
  "kernelspec": {
   "display_name": "Python 3 (ipykernel)",
   "language": "python",
   "name": "python3"
  },
  "language_info": {
   "codemirror_mode": {
    "name": "ipython",
    "version": 3
   },
   "file_extension": ".py",
   "mimetype": "text/x-python",
   "name": "python",
   "nbconvert_exporter": "python",
   "pygments_lexer": "ipython3",
   "version": "3.11.5"
  }
 },
 "nbformat": 4,
 "nbformat_minor": 5
}
