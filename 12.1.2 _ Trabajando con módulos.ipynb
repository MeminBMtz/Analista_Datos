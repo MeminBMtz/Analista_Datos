{
 "cells": [
  {
   "cell_type": "markdown",
   "id": "9d386022",
   "metadata": {},
   "source": [
    "## Uso de funciones estadísticas\n",
    "- Importación de funciones seleccionadas desde el módulo 'statistics'\n",
    "- Uso del comando 'from'"
   ]
  },
  {
   "cell_type": "code",
   "execution_count": 1,
   "id": "58ffeaef",
   "metadata": {},
   "outputs": [],
   "source": [
    "# Uso de funciones\n",
    "# Partes de módulos completas\n",
    "# Importa algunos cálculos estadísticos básicos desde la librería 'statistics'\n",
    "from statistics import mean, median, mode, stdev"
   ]
  },
  {
   "cell_type": "code",
   "execution_count": 2,
   "id": "70316dfe",
   "metadata": {},
   "outputs": [
    {
     "data": {
      "text/plain": [
       "80.57142857142857"
      ]
     },
     "execution_count": 2,
     "metadata": {},
     "output_type": "execute_result"
    }
   ],
   "source": [
    "# Un ejemplo simple para calcular la media\n",
    "test_scores = [40, 85, 92, 76, 94, 99, 78]\n",
    "mean(test_scores)"
   ]
  },
  {
   "cell_type": "code",
   "execution_count": 3,
   "id": "196d6bf2",
   "metadata": {},
   "outputs": [
    {
     "name": "stdout",
     "output_type": "stream",
     "text": [
      "Media = 80.571\n"
     ]
    }
   ],
   "source": [
    "print('Media = {:.3f}'.format(mean(test_scores)))"
   ]
  },
  {
   "cell_type": "code",
   "execution_count": 4,
   "id": "d9f831b9",
   "metadata": {},
   "outputs": [],
   "source": [
    "# Qué tal si ahora utilizamos nuestra base de datos y calculamos, sobre el campo año la misma media\n",
    "# Importamos el módulo numpy\n",
    "import numpy as np"
   ]
  },
  {
   "cell_type": "code",
   "execution_count": 7,
   "id": "e9824003",
   "metadata": {},
   "outputs": [],
   "source": [
    "# Importar la función completa 'csv' para tratamiento de archivos\n",
    "import csv\n",
    "\n",
    "# Abre el archivo de lectura\n",
    "file = open(r'./netflix_titles.csv')\n",
    "\n",
    "# Lee el archivo en el objeto csvreader\n",
    "csvreader = csv.reader(file)\n",
    "\n",
    "# Extrae los datos a una lista\n",
    "rows = []\n",
    "for row in csvreader: rows.append(row)\n",
    "\n",
    "# Generamos el objeto movies con todas las filas de la lista\n",
    "movies = np.array(rows)"
   ]
  },
  {
   "cell_type": "code",
   "execution_count": 8,
   "id": "1a43496a",
   "metadata": {},
   "outputs": [
    {
     "data": {
      "text/plain": [
       "array(['show_id', 'type', 'title', 'director', 'cast', 'country',\n",
       "       'date_added', 'release_year', 'rating', 'duration', 'listed_in',\n",
       "       'description'], dtype='<U771')"
      ]
     },
     "execution_count": 8,
     "metadata": {},
     "output_type": "execute_result"
    }
   ],
   "source": [
    "movies[0]"
   ]
  },
  {
   "cell_type": "code",
   "execution_count": 12,
   "id": "8d77d2be",
   "metadata": {},
   "outputs": [
    {
     "data": {
      "text/plain": [
       "array(['2020', '2021', '2021', '2021', '2021', '2021', '2021', '1993',\n",
       "       '2021', '2021', '2021', '2021', '2021', '2021', '2021', '2021',\n",
       "       '2020', '2020', '2021', '2021', '2021', '2018', '1996', '2021',\n",
       "       '1998', '2021', '1997', '2010', '2013', '2013', '2021', '2021',\n",
       "       '2020', '2021', '2020', '2021', '2021', '2018', '2017', '2021',\n",
       "       '2021', '1975', '1978', '1983', '1987', '2021', '2012', '2020',\n",
       "       '2001'], dtype='<U771')"
      ]
     },
     "execution_count": 12,
     "metadata": {},
     "output_type": "execute_result"
    }
   ],
   "source": [
    "# Muestra la columna de año para las primeras 50 películas\n",
    "# Recordar que cuando se utilizan arrays (numpy) los índices empiezan en cero!\n",
    "\n",
    "# Se obtiene el campo año 8 (año) de las primeras 50 películas\n",
    "movies[1:50, 7]"
   ]
  },
  {
   "cell_type": "code",
   "execution_count": 13,
   "id": "7d1823df",
   "metadata": {},
   "outputs": [
    {
     "data": {
      "text/plain": [
       "numpy.str_"
      ]
     },
     "execution_count": 13,
     "metadata": {},
     "output_type": "execute_result"
    }
   ],
   "source": [
    "# Convertir la columna de año en valores (es un string)\n",
    "type(movies[1, 6])"
   ]
  },
  {
   "cell_type": "code",
   "execution_count": 15,
   "id": "5cd88467",
   "metadata": {},
   "outputs": [
    {
     "data": {
      "text/plain": [
       "array(['2020', '2021', '2021', ..., '2009', '2006', '2015'], dtype='<U771')"
      ]
     },
     "execution_count": 15,
     "metadata": {},
     "output_type": "execute_result"
    }
   ],
   "source": [
    "# Vamos a generar un array solamente de los años, para trabajar sobre él\n",
    "release_year = movies[1:, 7]\n",
    "release_year"
   ]
  },
  {
   "cell_type": "code",
   "execution_count": 16,
   "id": "5c7a71b9",
   "metadata": {},
   "outputs": [
    {
     "data": {
      "text/plain": [
       "[2020, 2021, 2021, 2021, 2021, 2021, 2021, 1993, 2021, 2021]"
      ]
     },
     "execution_count": 16,
     "metadata": {},
     "output_type": "execute_result"
    }
   ],
   "source": [
    "# Transformación del array en números\n",
    "release_year_int = [int(numeric_string) for numeric_string in release_year]\n",
    "release_year_int[0:10]"
   ]
  },
  {
   "cell_type": "code",
   "execution_count": 18,
   "id": "7334fcb2",
   "metadata": {},
   "outputs": [
    {
     "data": {
      "text/plain": [
       "2014.1801975701146"
      ]
     },
     "execution_count": 18,
     "metadata": {},
     "output_type": "execute_result"
    }
   ],
   "source": [
    "mean(release_year_int)"
   ]
  },
  {
   "cell_type": "code",
   "execution_count": 17,
   "id": "aa953951",
   "metadata": {},
   "outputs": [
    {
     "data": {
      "image/png": "[encoded data removed]",
      "text/plain": [
       "<Figure size 640x480 with 1 Axes>"
      ]
     },
     "metadata": {},
     "output_type": "display_data"
    }
   ],
   "source": [
    "# Primer gráfico: una distribución de los años\n",
    "import matplotlib.pyplot as plt\n",
    "plt.hist(release_year_int)\n",
    "plt.show()"
   ]
  },
  {
   "cell_type": "code",
   "execution_count": 19,
   "id": "dfe31ab0",
   "metadata": {},
   "outputs": [
    {
     "data": {
      "image/png": "[encoded data removed]",
      "text/plain": [
       "<Figure size 640x480 with 1 Axes>"
      ]
     },
     "metadata": {},
     "output_type": "display_data"
    }
   ],
   "source": [
    "# Subimos el número de bins\n",
    "plt.hist(release_year_int, bins=50)\n",
    "plt.show()"
   ]
  },
  {
   "cell_type": "code",
   "execution_count": 20,
   "id": "415f1b5a",
   "metadata": {},
   "outputs": [
    {
     "data": {
      "image/png": "[encoded data removed]",
      "text/plain": [
       "<Figure size 640x480 with 1 Axes>"
      ]
     },
     "metadata": {},
     "output_type": "display_data"
    }
   ],
   "source": [
    "# Generamos un título\n",
    "plt.hist(release_year_int, bins=50)\n",
    "plt.title('Histograma de No. de películas por año - DB Netflix')\n",
    "plt.show()"
   ]
  },
  {
   "cell_type": "code",
   "execution_count": null,
   "id": "53dc8bbf",
   "metadata": {},
   "outputs": [],
   "source": []
  }
 ],
 "metadata": {
  "kernelspec": {
   "display_name": "Python 3 (ipykernel)",
   "language": "python",
   "name": "python3"
  },
  "language_info": {
   "codemirror_mode": {
    "name": "ipython",
    "version": 3
   },
   "file_extension": ".py",
   "mimetype": "text/x-python",
   "name": "python",
   "nbconvert_exporter": "python",
   "pygments_lexer": "ipython3",
   "version": "3.11.5"
  }
 },
 "nbformat": 4,
 "nbformat_minor": 5
}
