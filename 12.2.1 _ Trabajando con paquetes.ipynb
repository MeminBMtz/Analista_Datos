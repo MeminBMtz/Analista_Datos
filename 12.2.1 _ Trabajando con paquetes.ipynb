{
 "cells": [
  {
   "cell_type": "markdown",
   "id": "23e50426",
   "metadata": {},
   "source": [
    "# Manejo de datos básico"
   ]
  },
  {
   "cell_type": "code",
   "execution_count": 1,
   "id": "88a64807",
   "metadata": {},
   "outputs": [],
   "source": [
    "# Uso de funciones\n",
    "# Partes de módulos completas\n",
    "# Importa algunos cálculos estadísticos básicos desde la librería 'statistics'\n",
    "from statistics import mean, median, mode, stdev\n",
    "\n",
    "# Un ejemplo simple para calcular la media\n",
    "test_scores = [40, 85, 92, 76, 94, 99, 78]\n",
    "\n",
    "# Qué tal si ahora utilizamos nuestra base de datos y calculamos, sobre el campo año la misma media\n",
    "# Importamos el módulo numpy\n",
    "import numpy as np\n",
    "\n",
    "# Importar la función completa 'csv' para tratamiento de archivos\n",
    "import csv\n",
    "\n",
    "# Abre el archivo de lectura\n",
    "file = open(r'./netflix_titles.csv')\n",
    "\n",
    "# Lee el archivo en el objeto csvreader\n",
    "csvreader = csv.reader(file)\n",
    "\n",
    "# Extrae los datos a una lista\n",
    "rows = []\n",
    "for row in csvreader: rows.append(row)\n",
    "\n",
    "# Generamos el objeto movies con todas las filas de la lista\n",
    "movies = np.array(rows)\n",
    "\n",
    "# Vamos a generar un array solamente de los años, para trabajar sobre él\n",
    "release_year = movies[1:, 7]\n",
    "\n",
    "# Transformación del array en números\n",
    "release_year_int = [int(numeric_string) for numeric_string in release_year]"
   ]
  },
  {
   "cell_type": "code",
   "execution_count": 2,
   "id": "a74ec9b3",
   "metadata": {},
   "outputs": [
    {
     "name": "stdout",
     "output_type": "stream",
     "text": [
      "En promedio, el año en el que se generaron las películas del archivo es el 2014\n",
      "Además, la desviación estándar de los datos nos muestra que se tienen 8  años de desviación estándar.\n",
      "El primer año que se muestra en los datos es 1925\n",
      "El último año que se incluye en los datos es 2021\n"
     ]
    }
   ],
   "source": [
    "# Cálculo de la media y la desviación estándar del arreglo\n",
    "mean_year = mean(release_year_int)\n",
    "stdev_year = stdev(release_year_int)\n",
    "min_year = min(release_year_int)\n",
    "max_year = max(release_year_int)\n",
    "\n",
    "# Primer reporte estadístico de los datos\n",
    "print('En promedio, el año en el que se generaron las películas del archivo es el', int(mean_year))\n",
    "print('Además, la desviación estándar de los datos nos muestra que se tienen', int(stdev_year), ' años de desviación estándar.')\n",
    "print('El primer año que se muestra en los datos es', int(min_year))\n",
    "print('El último año que se incluye en los datos es', int(max_year))"
   ]
  },
  {
   "cell_type": "code",
   "execution_count": 4,
   "id": "ca22082c",
   "metadata": {},
   "outputs": [
    {
     "data": {
      "text/plain": [
       "array(['90 min', '2 Seasons', '1 Season', '1 Season', '2 Seasons',\n",
       "       '1 Season', '91 min', '125 min', '9 Seasons', '104 min'],\n",
       "      dtype='<U771')"
      ]
     },
     "execution_count": 4,
     "metadata": {},
     "output_type": "execute_result"
    }
   ],
   "source": [
    "# Ahora bien, estos datos nos sirven para entender los años en los que las películas se mostraron al público\n",
    "# No sé si será tan relevante saber el año promedio, pero sí saber cómo hacerlo\n",
    "\n",
    "# Ahora se trabajará con el campo duración\n",
    "# Asignamos al array duration las duraciones de todas las películas\n",
    "# Las duraciones pueden estar en 'min=minutos', o en 'season' o 'seasons' = temporadas\n",
    "duration = movies[1:, 9]\n",
    "duration[0:10]"
   ]
  },
  {
   "cell_type": "code",
   "execution_count": 5,
   "id": "4ddb3753",
   "metadata": {},
   "outputs": [
    {
     "data": {
      "text/plain": [
       "array(['90 min', '91 min', '125 min', '104 min', '127 min', '91 min',\n",
       "       '67 min', '94 min', '161 min'], dtype='<U771')"
      ]
     },
     "execution_count": 5,
     "metadata": {},
     "output_type": "execute_result"
    }
   ],
   "source": [
    "# Cómo obtener la duración promedio de las películas\n",
    "# Una definición inicial, es que vamos a obtener nada más información de películas, no series\n",
    "# Esto quiere decir que SOLAMENTE nos vamos a enfocar en las películas que terminen en 'min'\n",
    "# Obtiene las primeras 10 películas que vienen en minutos\n",
    "movies[np.char.endswith(movies, ' min')][:9]"
   ]
  },
  {
   "cell_type": "code",
   "execution_count": 6,
   "id": "ec1291dc",
   "metadata": {},
   "outputs": [
    {
     "data": {
      "text/plain": [
       "array(['90 min', '91 min', '125 min', ..., '88 min', '88 min', '111 min'],\n",
       "      dtype='<U771')"
      ]
     },
     "execution_count": 6,
     "metadata": {},
     "output_type": "execute_result"
    }
   ],
   "source": [
    "# Generar un array de las duraciones en minutos\n",
    "duration_min = (duration[np.char.endswith(duration, 'min')])\n",
    "duration_min"
   ]
  },
  {
   "cell_type": "code",
   "execution_count": 7,
   "id": "5d0e76a2",
   "metadata": {},
   "outputs": [],
   "source": [
    "# Una vez que tenemos las películas terminadas en min, se convierte el registro, ej, '90 min' a un número = 90\n",
    "# Eso se hace utilizando la función 'strip' de la librería numpy (np.char)\n",
    "\n",
    "# Elimina la terminación ' min'\n",
    "duration_min_end = np.char.strip(duration_min, ' min')\n",
    "\n",
    "# Transforma el array a números\n",
    "duration_min_int = [int(numeric_string) for numeric_string in duration_min_end]"
   ]
  },
  {
   "cell_type": "code",
   "execution_count": 8,
   "id": "46d11973",
   "metadata": {},
   "outputs": [
    {
     "data": {
      "text/plain": [
       "[90, 91, 125, 104, 127, 91, 67, 94, 161]"
      ]
     },
     "execution_count": 8,
     "metadata": {},
     "output_type": "execute_result"
    }
   ],
   "source": [
    "# Muestra las primeras 10 películas con sus duraciones\n",
    "duration_min_int[:9]"
   ]
  },
  {
   "cell_type": "code",
   "execution_count": 9,
   "id": "fa230cd2",
   "metadata": {},
   "outputs": [
    {
     "name": "stdout",
     "output_type": "stream",
     "text": [
      "En promedio, la duración de las películas del conjunto de datos es 99 minutos.\n",
      "Además, la desviación estándar de los datos nos muestra que se tienen 28 minutos.\n",
      "La película con menor duración es de 3 minutos.\n",
      "La película con mayor duración es de 312 minutos.\n"
     ]
    }
   ],
   "source": [
    "# Así, se obtiene un nuevo reporte estadístico, mucho más interesante\n",
    "# Enfocado en las duraciones de las películas\n",
    "\n",
    "mean_movie = mean(duration_min_int)\n",
    "stdev_movie = stdev(duration_min_int)\n",
    "min_movie = min(duration_min_int)\n",
    "max_movie = max(duration_min_int)\n",
    "\n",
    "# Primer reporte estadístico de los datos\n",
    "print('En promedio, la duración de las películas del conjunto de datos es', int(mean_movie), 'minutos.')\n",
    "print('Además, la desviación estándar de los datos nos muestra que se tienen', int(stdev_movie), 'minutos.')\n",
    "print('La película con menor duración es de', int(min_movie), 'minutos.')\n",
    "print('La película con mayor duración es de', int(max_movie), 'minutos.')"
   ]
  },
  {
   "cell_type": "code",
   "execution_count": 10,
   "id": "044eaef4",
   "metadata": {},
   "outputs": [
    {
     "data": {
      "image/png": "[encoded data removed]",
      "text/plain": [
       "<Figure size 640x480 with 1 Axes>"
      ]
     },
     "metadata": {},
     "output_type": "display_data"
    }
   ],
   "source": [
    "# Nuevos gráficos\n",
    "import matplotlib.pyplot as plt\n",
    "plt.title('Histograma de Duración de Películas')\n",
    "plt.hist(duration_min_int, bins=50)\n",
    "plt.show()"
   ]
  },
  {
   "cell_type": "code",
   "execution_count": 12,
   "id": "64f8560c",
   "metadata": {},
   "outputs": [
    {
     "name": "stdout",
     "output_type": "stream",
     "text": [
      "[False False False ... False False False]\n",
      "[['s3778' 'Movie' 'Silent' 'Limbert Fabian, Brandon Oldenburg' ''\n",
      "  'United States' 'June 4, 2019' '2014' 'TV-Y' '3 min'\n",
      "  'Children & Family Movies, Sci-Fi & Fantasy'\n",
      "  '\"Silent\" is an animated short film created by Academy Award® winning Moonbot Studios. It celebrates how storytellers, inventors, and technology work together to create cinema magic.']]\n"
     ]
    }
   ],
   "source": [
    "# Qué películas corresponden a la más corta y más larga?\n",
    "# Tip: buscar por \"3 min\" y \"312 min\" en la base de datos original (no la de duraciones) - movies\n",
    "\n",
    "# Filto para la película de 3 min\n",
    "filter_arr = (duration == '3 min')\n",
    "print(filter_arr)\n",
    "\n",
    "dur_array3min = movies[1:][filter_arr]\n",
    "print(dur_array3min)"
   ]
  },
  {
   "cell_type": "code",
   "execution_count": 13,
   "id": "d38fb835",
   "metadata": {},
   "outputs": [
    {
     "name": "stdout",
     "output_type": "stream",
     "text": [
      "[False False False ... False False False]\n",
      "[['s4254' 'Movie' 'Black Mirror: Bandersnatch' ''\n",
      "  'Fionn Whitehead, Will Poulter, Craig Parkinson, Alice Lowe, Asim Chaudhry'\n",
      "  'United States' 'December 28, 2018' '2018' 'TV-MA' '312 min'\n",
      "  'Dramas, International Movies, Sci-Fi & Fantasy'\n",
      "  'In 1984, a young programmer begins to question reality as he adapts a dark fantasy novel into a video game. A mind-bending tale with multiple endings.']]\n"
     ]
    }
   ],
   "source": [
    "# Filtro para la película de 312 min\n",
    "filter_arr = (duration == '312 min')\n",
    "print(filter_arr)\n",
    "\n",
    "dur_array312min = movies[1:][filter_arr]\n",
    "print(dur_array312min)"
   ]
  },
  {
   "cell_type": "code",
   "execution_count": 15,
   "id": "3a80e443",
   "metadata": {},
   "outputs": [
    {
     "name": "stdout",
     "output_type": "stream",
     "text": [
      "Silent\n",
      "Black Mirror: Bandersnatch\n"
     ]
    }
   ],
   "source": [
    "# Para ver el nombre solamente de la película se puede referir al campo de esta forma\n",
    "# Los índices vienen del primer campo 's3778', que es un índice numérico\n",
    "print(movies[3778][2])\n",
    "print(movies[4254][2])"
   ]
  },
  {
   "cell_type": "code",
   "execution_count": null,
   "id": "a67d87ea",
   "metadata": {},
   "outputs": [],
   "source": []
  }
 ],
 "metadata": {
  "kernelspec": {
   "display_name": "Python 3 (ipykernel)",
   "language": "python",
   "name": "python3"
  },
  "language_info": {
   "codemirror_mode": {
    "name": "ipython",
    "version": 3
   },
   "file_extension": ".py",
   "mimetype": "text/x-python",
   "name": "python",
   "nbconvert_exporter": "python",
   "pygments_lexer": "ipython3",
   "version": "3.11.5"
  }
 },
 "nbformat": 4,
 "nbformat_minor": 5
}
