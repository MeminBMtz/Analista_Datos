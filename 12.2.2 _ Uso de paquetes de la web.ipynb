{
 "cells": [
  {
   "cell_type": "code",
   "execution_count": 1,
   "id": "5f8cfca4",
   "metadata": {},
   "outputs": [
    {
     "name": "stdout",
     "output_type": "stream",
     "text": [
      "Silent\n",
      "Black Mirror: Bandersnatch\n"
     ]
    }
   ],
   "source": [
    "# Uso de funciones\n",
    "# Partes de módulos completas\n",
    "# Importa algunos cálculos estadísticos básicos desde la librería 'statistics'\n",
    "from statistics import mean, median, mode, stdev\n",
    "import matplotlib.pyplot as plt\n",
    "import numpy as np\n",
    "import csv\n",
    "\n",
    "# Un ejemplo simple para calcular la media\n",
    "test_scores = [40, 85, 92, 76, 94, 99, 78]\n",
    "\n",
    "# Abre el archivo de lectura\n",
    "file = open(r'./netflix_titles.csv')\n",
    "\n",
    "# Lee el archivo en el objeto csvreader\n",
    "csvreader = csv.reader(file)\n",
    "\n",
    "# Extrae los datos a una lista\n",
    "rows = []\n",
    "for row in csvreader: rows.append(row)\n",
    "\n",
    "# Generamos el objeto movies con todas las filas de la lista\n",
    "movies = np.array(rows)\n",
    "\n",
    "# Vamos a generar un array solamente de los años, para trabajar sobre él\n",
    "release_year = movies[1:, 7]\n",
    "\n",
    "# Transformación del array en números\n",
    "release_year_int = [int(numeric_string) for numeric_string in release_year]\n",
    "\n",
    "# Cálculo de la media y la desviación estándar del arreglo\n",
    "mean_year = mean(release_year_int)\n",
    "stdev_year = stdev(release_year_int)\n",
    "min_year = min(release_year_int)\n",
    "max_year = max(release_year_int)\n",
    "\n",
    "# Ahora bien, estos datos nos sirven para entender los años en los que las películas se mostraron al público\n",
    "# No sé si será tan relevante saber el año promedio, pero sí saber cómo hacerlo\n",
    "\n",
    "# Ahora se trabajará con el campo duración\n",
    "# Asignamos al array duration las duraciones de todas las películas\n",
    "# Las duraciones pueden estar en 'min=minutos', o en 'season' o 'seasons' = temporadas\n",
    "duration = movies[1:, 9]\n",
    "\n",
    "# Generar un array de las duraciones en minutos\n",
    "duration_min = (duration[np.char.endswith(duration, 'min')])\n",
    "\n",
    "# Una vez que tenemos las películas terminadas en min, se convierte el registro, ej, '90 min' a un número = 90\n",
    "# Eso se hace utilizando la función 'strip' de la librería numpy (np.char)\n",
    "\n",
    "# Elimina la terminación ' min'\n",
    "duration_min_end = np.char.strip(duration_min, ' min')\n",
    "\n",
    "# Transforma el array a números\n",
    "duration_min_int = [int(numeric_string) for numeric_string in duration_min_end]\n",
    "\n",
    "# Así, se obtiene un nuevo reporte estadístico, mucho más interesante\n",
    "# Enfocado en las duraciones de las películas\n",
    "\n",
    "mean_movie = mean(duration_min_int)\n",
    "stdev_movie = stdev(duration_min_int)\n",
    "min_movie = min(duration_min_int)\n",
    "max_movie = max(duration_min_int)\n",
    "\n",
    "# Para ver el nombre solamente de la película se puede referir al campo de esta forma\n",
    "# Los índices vienen del primer campo 's3778' / 's4254', que es un índice numérico\n",
    "print(movies[3778][2])\n",
    "print(movies[4254][2])"
   ]
  },
  {
   "cell_type": "markdown",
   "id": "a3db950c",
   "metadata": {},
   "source": [
    "# Importando funciones de internet\n",
    "- En esta sección, se verá cómo importar funciones de internet\n",
    "- Para este ejemplo se utilizó una función llamada 'IMDbPY': https://www.geeksforgeeks.org/python-imdbpy-searching-a-movie/\n",
    "- IMDB es una base de datos digital enorme de información de películas\n",
    "- La librería trae información de IMDB - una de las librerías públicas"
   ]
  },
  {
   "cell_type": "markdown",
   "id": "f2e4a338",
   "metadata": {},
   "source": [
    "## Instalación de la librería en nuestro entorno\n",
    "- En muchas ocasiones tendremos que instalar nuevas librerías, y eso se lo hace utilizando el 'terminal' desde VSC"
   ]
  },
  {
   "cell_type": "code",
   "execution_count": 2,
   "id": "92e62335",
   "metadata": {},
   "outputs": [
    {
     "name": "stdout",
     "output_type": "stream",
     "text": [
      "Collecting imdbpy\n",
      "  Obtaining dependency information for imdbpy from https://files.pythonhosted.org/packages/6f/3c/38555ae0ae26487eff082065a1f7b7a490f7f6e13ea249b8e82cfcc6eb31/IMDbPY-2022.7.9-py3-none-any.whl.metadata\n",
      "  Downloading IMDbPY-2022.7.9-py3-none-any.whl.metadata (498 bytes)\n",
      "Collecting cinemagoer (from imdbpy)\n",
      "  Obtaining dependency information for cinemagoer from https://files.pythonhosted.org/packages/a7/cc/959c7d74b7d6124852fc4741c154c8f50848f47360955f780636102ec711/cinemagoer-2023.5.1-py3-none-any.whl.metadata\n",
      "  Downloading cinemagoer-2023.5.1-py3-none-any.whl.metadata (2.9 kB)\n",
      "Requirement already satisfied: SQLAlchemy in /Users/memobarbosa/anaconda3/lib/python3.11/site-packages (from cinemagoer->imdbpy) (1.4.39)\n",
      "Requirement already satisfied: lxml in /Users/memobarbosa/anaconda3/lib/python3.11/site-packages (from cinemagoer->imdbpy) (4.9.3)\n",
      "Requirement already satisfied: greenlet!=0.4.17 in /Users/memobarbosa/anaconda3/lib/python3.11/site-packages (from SQLAlchemy->cinemagoer->imdbpy) (2.0.1)\n",
      "Downloading IMDbPY-2022.7.9-py3-none-any.whl (1.2 kB)\n",
      "Downloading cinemagoer-2023.5.1-py3-none-any.whl (297 kB)\n",
      "\u001b[2K   \u001b[90m━━━━━━━━━━━━━━━━━━━━━━━━━━━━━━━━━━━━━━━━\u001b[0m \u001b[32m297.2/297.2 kB\u001b[0m \u001b[31m1.8 MB/s\u001b[0m eta \u001b[36m0:00:00\u001b[0m00:01\u001b[0m00:01\u001b[0mm\n",
      "\u001b[?25hInstalling collected packages: cinemagoer, imdbpy\n",
      "Successfully installed cinemagoer-2023.5.1 imdbpy-2022.7.9\n"
     ]
    }
   ],
   "source": [
    "# Importando funciones de la web\n",
    "# https://www.geeksforgeeks.org/python-imdbpy-searching-a-movie/\n",
    "# Usando IMDbPY\n",
    "!pip install imdbpy"
   ]
  },
  {
   "cell_type": "code",
   "execution_count": 3,
   "id": "f8f2a7e9",
   "metadata": {},
   "outputs": [
    {
     "name": "stdout",
     "output_type": "stream",
     "text": [
      "Silent Witness\n",
      "Silent Hill\n",
      "Silent Night\n",
      "Silent Night\n",
      "Silent Running\n",
      "Silent Hill: Revelation\n",
      "A Silent Voice: The Movie\n",
      "Silent House\n",
      "Silent Rage\n",
      "Silent\n",
      "The Silent Sea\n",
      "Silent Hours\n",
      "Return to Silent Hill (Jeremy Irvine, Hannah Emily Anderson)\n",
      "Jay and Silent Bob Strike Back\n",
      "Cottonmouth\n",
      "Silent Hill: Ascension\n",
      "Silent Movie\n",
      "Silent Fall\n",
      "Silent Night, Deadly Night\n",
      "The Silent Service\n"
     ]
    }
   ],
   "source": [
    "# Importing the module\n",
    "import imdb\n",
    "\n",
    "# Creating instance of IMDB\n",
    "ia = imdb.IMDb()\n",
    "\n",
    "# Busca el nombre de la película correspondiente a la más corta (s3778) y más larga (s4254)\n",
    "name = movies[3778][2]\n",
    "\n",
    "# Busca la película\n",
    "search = ia.search_movie(name)\n",
    "\n",
    "# Printing the result\n",
    "for i in search: print(i)"
   ]
  },
  {
   "cell_type": "code",
   "execution_count": 4,
   "id": "7a5f43a5",
   "metadata": {},
   "outputs": [
    {
     "name": "stdout",
     "output_type": "stream",
     "text": [
      "Black Mirror: Bandersnatch\n",
      "Black Mirror: Bandersnatch\n",
      "Black Mirror: Bandersnatch\n",
      "Black Mirror: Bandersnatch\n",
      "Black Mirror: Bandersnatch\n",
      "Black Mirror: Bandersnatch\n",
      "Black Mirror - Bandersnatch\n",
      "Black Mirror Bandersnatch\n",
      "Black Mirror: Bandersnatch - Spoilercast\n",
      "Quickie: Black Mirror: Bandersnatch (S10.E4)\n",
      "43 - Black Mirror: Bandersnatch (2018)\n",
      "Bird Box/Black Mirror: Bandersnatch\n",
      "'Black Mirror: Bandersnatch' Spoiler Discussion\n",
      "DR228: Black Mirror: Bandersnatch and The Masked Singer\n",
      "AFL Season 2020 Round 6 - The Black Mirror Bandersnatch Special\n",
      "Star Wars Park - X-Men & The MCU - Black Mirror: Bandersnatch\n",
      "200: Charlie Brooker: Bandersnatch, Black Mirror, GamesWipe - The Retro Hour EP200\n",
      "Choose Your Own Adventure: Customer Service Experience (Black Mirror Bandersnatch Parody)\n",
      "Black Mirror: Bandersnatch Izleme Deneyiminde Bir Devrim mi? - Yeni Sezon Gelmis mi? 1\n",
      "Collateral Gaming vs. Collateral Cinema Collaboration Special: David Slade's Black Mirror: Bandersnatch\n"
     ]
    }
   ],
   "source": [
    "# Busca el nombre de la película correspondiente a la más corta (s3778) y más larga (s4254)\n",
    "name = movies[4254][2]\n",
    "\n",
    "# Busca la película\n",
    "search = ia.search_movie(name)\n",
    "\n",
    "# Printing the result\n",
    "for i in search: print(i)"
   ]
  },
  {
   "cell_type": "code",
   "execution_count": 5,
   "id": "15a86992",
   "metadata": {},
   "outputs": [
    {
     "name": "stdout",
     "output_type": "stream",
     "text": [
      "Requirement already satisfied: Cinemagoer in /Users/memobarbosa/anaconda3/lib/python3.11/site-packages (2023.5.1)\n",
      "Requirement already satisfied: SQLAlchemy in /Users/memobarbosa/anaconda3/lib/python3.11/site-packages (from Cinemagoer) (1.4.39)\n",
      "Requirement already satisfied: lxml in /Users/memobarbosa/anaconda3/lib/python3.11/site-packages (from Cinemagoer) (4.9.3)\n",
      "Requirement already satisfied: greenlet!=0.4.17 in /Users/memobarbosa/anaconda3/lib/python3.11/site-packages (from SQLAlchemy->Cinemagoer) (2.0.1)\n"
     ]
    }
   ],
   "source": [
    "!pip install Cinemagoer"
   ]
  },
  {
   "cell_type": "code",
   "execution_count": 6,
   "id": "600e3d2b",
   "metadata": {},
   "outputs": [
    {
     "name": "stdout",
     "output_type": "stream",
     "text": [
      "\u001b[31mERROR: Could not find a version that satisfies the requirement imdb (from versions: none)\u001b[0m\u001b[31m\r\n",
      "\u001b[0m\u001b[31mERROR: No matching distribution found for imdb\u001b[0m\u001b[31m\r\n",
      "\u001b[0m"
     ]
    }
   ],
   "source": [
    "!pip install imdb"
   ]
  },
  {
   "cell_type": "markdown",
   "id": "44450a73",
   "metadata": {},
   "source": [
    "# Wrap up\n",
    "- Se vieron las funcionalidades principales de importar librerías completas (paquetes) y sus funciones/submódulos individuales\n",
    "- Se generó una importación simple de un archivo CSV\n",
    "- Se generó una exploración inicial acerca del manejo estadístico con NumPy\n",
    "- Se instaló una librería utilizando !pip install\n",
    "- Se descargó una librería desde la web para ver información de películas (IMDB) y además se hicieron algunas consultas para entender su funcionamiento y la implementación de la misma en una aplicación propia."
   ]
  },
  {
   "cell_type": "code",
   "execution_count": null,
   "id": "9ca65cf8",
   "metadata": {},
   "outputs": [],
   "source": []
  }
 ],
 "metadata": {
  "kernelspec": {
   "display_name": "Python 3 (ipykernel)",
   "language": "python",
   "name": "python3"
  },
  "language_info": {
   "codemirror_mode": {
    "name": "ipython",
    "version": 3
   },
   "file_extension": ".py",
   "mimetype": "text/x-python",
   "name": "python",
   "nbconvert_exporter": "python",
   "pygments_lexer": "ipython3",
   "version": "3.11.5"
  }
 },
 "nbformat": 4,
 "nbformat_minor": 5
}
