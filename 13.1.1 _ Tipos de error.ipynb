{
 "cells": [
  {
   "cell_type": "markdown",
   "id": "3e3e8cb6",
   "metadata": {},
   "source": [
    "# Errores\n",
    "- En esta sesión hablaremos sobre cómo controlar y monitorear los errores en el código fuente.\n",
    "- Se aprenderá cómo Python señala los errores.\n",
    "- Se harán ejemplos de captura de errores con TRY / EXCEPT.\n",
    "- Haciendo Debugging de un script de un notebook de Python.\n",
    "\n",
    "# Antes de empezar\n",
    "- Revisar la configuración del ambiente de trabajo: Anaconda + VSC\n",
    "- Generar una cuenta en StackOverflow (https://stackoverflow.com/)\n",
    "- Generar como bookmark: https://docs.python.org/3/contents.html\n",
    "- Ejecutar VSC y Anaconda con los suficientes permisos en el sistema (admin) para poder obtener información del sistema operativo (necesario para el ejercicio).\n",
    "- Para esta lección, no se necesita archivo adicional.\n",
    "\n",
    "# Tipos de Error en Python\n",
    "- Errores de Sintaxis. Errores de escritura, ortografía.\n",
    "- Excepciones. Pueden ocurrir en bloques de código que están bien escritos pero que por alguna razón no pueden ejecutarse. Por ejemplo tratar de leer un archivo que no existe. Más información en: https://docs.python.org/3/library/exceptions.html\n",
    "- Errores de lógica. Los más difíciles de detectar, ya que el código sigue ejecutándose, pero no produce la salida deseada."
   ]
  },
  {
   "cell_type": "code",
   "execution_count": 2,
   "id": "78cd14c5",
   "metadata": {},
   "outputs": [
    {
     "ename": "SyntaxError",
     "evalue": "unmatched ')' (812292321.py, line 3)",
     "output_type": "error",
     "traceback": [
      "\u001b[0;36m  Cell \u001b[0;32mIn[2], line 3\u001b[0;36m\u001b[0m\n\u001b[0;31m    print(0 / 0))\u001b[0m\n\u001b[0m                ^\u001b[0m\n\u001b[0;31mSyntaxError\u001b[0m\u001b[0;31m:\u001b[0m unmatched ')'\n"
     ]
    }
   ],
   "source": [
    "# Ejemplos de errores, y cómo Python funciona revisándolos\n",
    "# Error de sintaxis\n",
    "print(0 / 0))"
   ]
  },
  {
   "cell_type": "code",
   "execution_count": 3,
   "id": "1452ca06",
   "metadata": {},
   "outputs": [
    {
     "ename": "TypeError",
     "evalue": "can only concatenate str (not \"int\") to str",
     "output_type": "error",
     "traceback": [
      "\u001b[0;31m---------------------------------------------------------------------------\u001b[0m",
      "\u001b[0;31mTypeError\u001b[0m                                 Traceback (most recent call last)",
      "Cell \u001b[0;32mIn[3], line 2\u001b[0m\n\u001b[1;32m      1\u001b[0m \u001b[38;5;66;03m# Error de tipo de datos\u001b[39;00m\n\u001b[0;32m----> 2\u001b[0m \u001b[38;5;28mprint\u001b[39m(\u001b[38;5;124m'\u001b[39m\u001b[38;5;124m0\u001b[39m\u001b[38;5;124m'\u001b[39m \u001b[38;5;241m+\u001b[39m \u001b[38;5;241m0\u001b[39m)\n",
      "\u001b[0;31mTypeError\u001b[0m: can only concatenate str (not \"int\") to str"
     ]
    }
   ],
   "source": [
    "# Error de tipo de datos\n",
    "print('0' + 0)"
   ]
  },
  {
   "cell_type": "code",
   "execution_count": 4,
   "id": "d477d30b",
   "metadata": {},
   "outputs": [
    {
     "ename": "NameError",
     "evalue": "name 'O' is not defined",
     "output_type": "error",
     "traceback": [
      "\u001b[0;31m---------------------------------------------------------------------------\u001b[0m",
      "\u001b[0;31mNameError\u001b[0m                                 Traceback (most recent call last)",
      "Cell \u001b[0;32mIn[4], line 2\u001b[0m\n\u001b[1;32m      1\u001b[0m \u001b[38;5;66;03m# Error de tipo\u001b[39;00m\n\u001b[0;32m----> 2\u001b[0m \u001b[38;5;28mprint\u001b[39m(\u001b[38;5;241m0\u001b[39m \u001b[38;5;241m/\u001b[39m O)\n",
      "\u001b[0;31mNameError\u001b[0m: name 'O' is not defined"
     ]
    }
   ],
   "source": [
    "# Error de tipo\n",
    "print(0 / O)"
   ]
  },
  {
   "cell_type": "code",
   "execution_count": 5,
   "id": "8d5f0c6f",
   "metadata": {},
   "outputs": [
    {
     "name": "stdout",
     "output_type": "stream",
     "text": [
      "0.0\n"
     ]
    },
    {
     "ename": "ZeroDivisionError",
     "evalue": "division by zero",
     "output_type": "error",
     "traceback": [
      "\u001b[0;31m---------------------------------------------------------------------------\u001b[0m",
      "\u001b[0;31mZeroDivisionError\u001b[0m                         Traceback (most recent call last)",
      "Cell \u001b[0;32mIn[5], line 4\u001b[0m\n\u001b[1;32m      1\u001b[0m \u001b[38;5;66;03m# Ahora que se corrige la sintaxis\u001b[39;00m\n\u001b[1;32m      2\u001b[0m \u001b[38;5;66;03m# Aparece un error dividido para cero\u001b[39;00m\n\u001b[1;32m      3\u001b[0m \u001b[38;5;28mprint\u001b[39m(\u001b[38;5;241m0\u001b[39m\u001b[38;5;241m/\u001b[39m\u001b[38;5;241m5\u001b[39m)\n\u001b[0;32m----> 4\u001b[0m \u001b[38;5;28mprint\u001b[39m(\u001b[38;5;241m0\u001b[39m\u001b[38;5;241m/\u001b[39m\u001b[38;5;241m0\u001b[39m)\n\u001b[1;32m      5\u001b[0m \u001b[38;5;28mprint\u001b[39m(\u001b[38;5;241m0\u001b[39m\u001b[38;5;241m/\u001b[39m\u001b[38;5;241m5\u001b[39m)\n",
      "\u001b[0;31mZeroDivisionError\u001b[0m: division by zero"
     ]
    }
   ],
   "source": [
    "# Ahora que se corrige la sintaxis\n",
    "# Aparece un error dividido para cero\n",
    "print(0/5)\n",
    "print(0/0)\n",
    "print(0/5)\n",
    "\n",
    "# El error siempre aparece en la parte inferior final del mensaje"
   ]
  },
  {
   "cell_type": "code",
   "execution_count": 6,
   "id": "7918dfab",
   "metadata": {},
   "outputs": [
    {
     "ename": "FileNotFoundError",
     "evalue": "[Errno 2] No such file or directory: 'vacio.txt'",
     "output_type": "error",
     "traceback": [
      "\u001b[0;31m---------------------------------------------------------------------------\u001b[0m",
      "\u001b[0;31mFileNotFoundError\u001b[0m                         Traceback (most recent call last)",
      "Cell \u001b[0;32mIn[6], line 3\u001b[0m\n\u001b[1;32m      1\u001b[0m \u001b[38;5;66;03m# Archivo no encontrado\u001b[39;00m\n\u001b[1;32m      2\u001b[0m archivo \u001b[38;5;241m=\u001b[39m \u001b[38;5;124m'\u001b[39m\u001b[38;5;124mvacio.txt\u001b[39m\u001b[38;5;124m'\u001b[39m\n\u001b[0;32m----> 3\u001b[0m fileContent \u001b[38;5;241m=\u001b[39m \u001b[38;5;28mopen\u001b[39m(archivo, \u001b[38;5;124m'\u001b[39m\u001b[38;5;124mr\u001b[39m\u001b[38;5;124m'\u001b[39m)\n",
      "File \u001b[0;32m~/anaconda3/lib/python3.11/site-packages/IPython/core/interactiveshell.py:286\u001b[0m, in \u001b[0;36m_modified_open\u001b[0;34m(file, *args, **kwargs)\u001b[0m\n\u001b[1;32m    279\u001b[0m \u001b[38;5;28;01mif\u001b[39;00m file \u001b[38;5;129;01min\u001b[39;00m {\u001b[38;5;241m0\u001b[39m, \u001b[38;5;241m1\u001b[39m, \u001b[38;5;241m2\u001b[39m}:\n\u001b[1;32m    280\u001b[0m     \u001b[38;5;28;01mraise\u001b[39;00m \u001b[38;5;167;01mValueError\u001b[39;00m(\n\u001b[1;32m    281\u001b[0m         \u001b[38;5;124mf\u001b[39m\u001b[38;5;124m\"\u001b[39m\u001b[38;5;124mIPython won\u001b[39m\u001b[38;5;124m'\u001b[39m\u001b[38;5;124mt let you open fd=\u001b[39m\u001b[38;5;132;01m{\u001b[39;00mfile\u001b[38;5;132;01m}\u001b[39;00m\u001b[38;5;124m by default \u001b[39m\u001b[38;5;124m\"\u001b[39m\n\u001b[1;32m    282\u001b[0m         \u001b[38;5;124m\"\u001b[39m\u001b[38;5;124mas it is likely to crash IPython. If you know what you are doing, \u001b[39m\u001b[38;5;124m\"\u001b[39m\n\u001b[1;32m    283\u001b[0m         \u001b[38;5;124m\"\u001b[39m\u001b[38;5;124myou can use builtins\u001b[39m\u001b[38;5;124m'\u001b[39m\u001b[38;5;124m open.\u001b[39m\u001b[38;5;124m\"\u001b[39m\n\u001b[1;32m    284\u001b[0m     )\n\u001b[0;32m--> 286\u001b[0m \u001b[38;5;28;01mreturn\u001b[39;00m io_open(file, \u001b[38;5;241m*\u001b[39margs, \u001b[38;5;241m*\u001b[39m\u001b[38;5;241m*\u001b[39mkwargs)\n",
      "\u001b[0;31mFileNotFoundError\u001b[0m: [Errno 2] No such file or directory: 'vacio.txt'"
     ]
    }
   ],
   "source": [
    "# Archivo no encontrado\n",
    "archivo = 'vacio.txt'\n",
    "fileContent = open(archivo, 'r')"
   ]
  },
  {
   "cell_type": "code",
   "execution_count": 7,
   "id": "4c0da758",
   "metadata": {},
   "outputs": [
    {
     "ename": "SyntaxError",
     "evalue": "invalid syntax (1956040413.py, line 2)",
     "output_type": "error",
     "traceback": [
      "\u001b[0;36m  Cell \u001b[0;32mIn[7], line 2\u001b[0;36m\u001b[0m\n\u001b[0;31m    fr i in range(50):\u001b[0m\n\u001b[0m       ^\u001b[0m\n\u001b[0;31mSyntaxError\u001b[0m\u001b[0;31m:\u001b[0m invalid syntax\n"
     ]
    }
   ],
   "source": [
    "# Error de sintaxis\n",
    "fr i in range(50):\n",
    "    print(i)"
   ]
  },
  {
   "cell_type": "markdown",
   "id": "f120a51c",
   "metadata": {},
   "source": []
  }
 ],
 "metadata": {
  "kernelspec": {
   "display_name": "Python 3 (ipykernel)",
   "language": "python",
   "name": "python3"
  },
  "language_info": {
   "codemirror_mode": {
    "name": "ipython",
    "version": 3
   },
   "file_extension": ".py",
   "mimetype": "text/x-python",
   "name": "python",
   "nbconvert_exporter": "python",
   "pygments_lexer": "ipython3",
   "version": "3.11.5"
  }
 },
 "nbformat": 4,
 "nbformat_minor": 5
}
