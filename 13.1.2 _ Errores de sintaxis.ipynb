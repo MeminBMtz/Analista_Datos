{
 "cells": [
  {
   "cell_type": "markdown",
   "id": "2a1b9dbb",
   "metadata": {},
   "source": [
    "# Excepciones\n",
    "- Se pueden generar excepciones como la que se mostró anteriormente, de manera manual.\n",
    "- Se utiliza el comando 'raise'"
   ]
  },
  {
   "cell_type": "code",
   "execution_count": 3,
   "id": "052f3b75",
   "metadata": {},
   "outputs": [
    {
     "name": "stdout",
     "output_type": "stream",
     "text": [
      "6\n"
     ]
    }
   ],
   "source": [
    "# Generando excepciones en el código\n",
    "# No son errores de Python, sino condiciones que van a cortar el flujo del programa\n",
    "# Si bien son útiles, van a generar que el programa se corte abruptamente\n",
    "x = 6\n",
    "if x > 7:\n",
    "    raise Exception('x no puede sobrepasar el valor 10. El valor de x fue: {}'.format(x))\n",
    "print(x)"
   ]
  },
  {
   "cell_type": "code",
   "execution_count": 4,
   "id": "e3d7a9ff",
   "metadata": {},
   "outputs": [
    {
     "ename": "Exception",
     "evalue": "x no puede sobrepasar el valor 10. El valor de x fue: 12",
     "output_type": "error",
     "traceback": [
      "\u001b[0;31m---------------------------------------------------------------------------\u001b[0m",
      "\u001b[0;31mException\u001b[0m                                 Traceback (most recent call last)",
      "Cell \u001b[0;32mIn[4], line 3\u001b[0m\n\u001b[1;32m      1\u001b[0m x \u001b[38;5;241m=\u001b[39m \u001b[38;5;241m12\u001b[39m\n\u001b[1;32m      2\u001b[0m \u001b[38;5;28;01mif\u001b[39;00m x \u001b[38;5;241m>\u001b[39m \u001b[38;5;241m7\u001b[39m:\n\u001b[0;32m----> 3\u001b[0m     \u001b[38;5;28;01mraise\u001b[39;00m \u001b[38;5;167;01mException\u001b[39;00m(\u001b[38;5;124m'\u001b[39m\u001b[38;5;124mx no puede sobrepasar el valor 10. El valor de x fue: \u001b[39m\u001b[38;5;132;01m{}\u001b[39;00m\u001b[38;5;124m'\u001b[39m\u001b[38;5;241m.\u001b[39mformat(x))\n\u001b[1;32m      4\u001b[0m \u001b[38;5;28mprint\u001b[39m(x)\n",
      "\u001b[0;31mException\u001b[0m: x no puede sobrepasar el valor 10. El valor de x fue: 12"
     ]
    }
   ],
   "source": [
    "x = 12\n",
    "if x > 7:\n",
    "    raise Exception('x no puede sobrepasar el valor 10. El valor de x fue: {}'.format(x))\n",
    "print(x)"
   ]
  },
  {
   "cell_type": "markdown",
   "id": "f442a208",
   "metadata": {},
   "source": [
    "# Evaluación de condiciones con Assert\n",
    "- Si es que se cumple la condición, se genera la excepción"
   ]
  },
  {
   "cell_type": "code",
   "execution_count": 5,
   "id": "32119de8",
   "metadata": {},
   "outputs": [],
   "source": [
    "x = 'hola'\n",
    "\n",
    "# No ocurre nada si la condición se cumple\n",
    "assert x == 'hola'"
   ]
  },
  {
   "cell_type": "code",
   "execution_count": 6,
   "id": "9419cba5",
   "metadata": {},
   "outputs": [
    {
     "ename": "AssertionError",
     "evalue": "",
     "output_type": "error",
     "traceback": [
      "\u001b[0;31m---------------------------------------------------------------------------\u001b[0m",
      "\u001b[0;31mAssertionError\u001b[0m                            Traceback (most recent call last)",
      "Cell \u001b[0;32mIn[6], line 2\u001b[0m\n\u001b[1;32m      1\u001b[0m \u001b[38;5;66;03m# Si la condición es falsa, se genera una excepción\u001b[39;00m\n\u001b[0;32m----> 2\u001b[0m \u001b[38;5;28;01massert\u001b[39;00m x \u001b[38;5;241m==\u001b[39m \u001b[38;5;124m'\u001b[39m\u001b[38;5;124mchao\u001b[39m\u001b[38;5;124m'\u001b[39m\n",
      "\u001b[0;31mAssertionError\u001b[0m: "
     ]
    }
   ],
   "source": [
    "# Si la condición es falsa, se genera una excepción\n",
    "assert x == 'chao'"
   ]
  },
  {
   "cell_type": "code",
   "execution_count": 7,
   "id": "3712c735",
   "metadata": {},
   "outputs": [
    {
     "name": "stdout",
     "output_type": "stream",
     "text": [
      "Platform = darwin\n"
     ]
    }
   ],
   "source": [
    "# También se pueden evaluar las condiciones (assert) que causan el problema\n",
    "# Y luego si es que no se cumplen, entonces se les deja fuera\n",
    "# Importa la librería 'sys' que validará qué tipo de plataforma tenemos\n",
    "import sys\n",
    "print('Platform =', sys.platform)"
   ]
  },
  {
   "cell_type": "code",
   "execution_count": 8,
   "id": "25646765",
   "metadata": {},
   "outputs": [
    {
     "ename": "AssertionError",
     "evalue": "Este código funciona nada más en Windows.",
     "output_type": "error",
     "traceback": [
      "\u001b[0;31m---------------------------------------------------------------------------\u001b[0m",
      "\u001b[0;31mAssertionError\u001b[0m                            Traceback (most recent call last)",
      "Cell \u001b[0;32mIn[8], line 2\u001b[0m\n\u001b[1;32m      1\u001b[0m \u001b[38;5;66;03m# Aquí nos genera un error porque la plataforma es diferente de Windows\u001b[39;00m\n\u001b[0;32m----> 2\u001b[0m \u001b[38;5;28;01massert\u001b[39;00m (\u001b[38;5;124m'\u001b[39m\u001b[38;5;124mwindows\u001b[39m\u001b[38;5;124m'\u001b[39m \u001b[38;5;129;01min\u001b[39;00m sys\u001b[38;5;241m.\u001b[39mplatform), \u001b[38;5;124m\"\u001b[39m\u001b[38;5;124mEste código funciona nada más en Windows.\u001b[39m\u001b[38;5;124m\"\u001b[39m\n",
      "\u001b[0;31mAssertionError\u001b[0m: Este código funciona nada más en Windows."
     ]
    }
   ],
   "source": [
    "# Aquí nos genera un error porque la plataforma es diferente de Windows\n",
    "assert ('windows' in sys.platform), \"Este código funciona nada más en Windows.\""
   ]
  },
  {
   "cell_type": "code",
   "execution_count": 9,
   "id": "bfba67b2",
   "metadata": {},
   "outputs": [],
   "source": [
    "assert ('darwin' in sys.platform), \"Este código funciona nada más en Windows.\""
   ]
  },
  {
   "cell_type": "code",
   "execution_count": 10,
   "id": "0e13e607",
   "metadata": {},
   "outputs": [],
   "source": [
    "# Encontrarán la función 'assert' como algo muy común en el código de Python\n",
    "# Esta función se usa para validar condiciones tanto de cálculo, de negocio, de sistema, etc.\n",
    "# Corta el flujo del sistema cuando se cree necesario, antes de pasar a ejecuciones más largas"
   ]
  },
  {
   "cell_type": "markdown",
   "id": "45000f0b",
   "metadata": {},
   "source": [
    "# Manejando excepciones con Try / except\n",
    "- Este bloque se usa en Python para capturar excepciones\n",
    "- Python ejecuta todo lo que esté en el bloque 'try' de manera regular\n",
    "- Si es que existe algún error o problema, se ejecuta en cambio el código del área 'except'"
   ]
  },
  {
   "cell_type": "code",
   "execution_count": 11,
   "id": "d960f29e",
   "metadata": {},
   "outputs": [
    {
     "data": {
      "text/plain": [
       "'darwin'"
      ]
     },
     "execution_count": 11,
     "metadata": {},
     "output_type": "execute_result"
    }
   ],
   "source": [
    "# Vamos a hacer un ejercicio con la plataforma de cada equipo\n",
    "# La que se puede ver desde la librería sys.\n",
    "# Tu máquina puede ser 'darwin' (Mac) ó 'linux', 'windows'\n",
    "sys.platform"
   ]
  },
  {
   "cell_type": "code",
   "execution_count": 12,
   "id": "88f1d5a8",
   "metadata": {},
   "outputs": [
    {
     "name": "stdout",
     "output_type": "stream",
     "text": [
      "Ambiente incorrecto!\n"
     ]
    }
   ],
   "source": [
    "# Ejemplo 2 - ahora se toman acciones en la parte except\n",
    "# y si no lo es, simplemente 'pass' (no hace nada)\n",
    "def linux_interaction():\n",
    "    assert ('linux' in sys.platform), \"Solo linux.\"\n",
    "    print('Aquí casual.')\n",
    "\n",
    "try:\n",
    "    linux_interaction()\n",
    "except:\n",
    "    print('Ambiente incorrecto!')"
   ]
  },
  {
   "cell_type": "code",
   "execution_count": 13,
   "id": "e9d29047",
   "metadata": {},
   "outputs": [
    {
     "ename": "AssertionError",
     "evalue": "Solo linux.",
     "output_type": "error",
     "traceback": [
      "\u001b[0;31m---------------------------------------------------------------------------\u001b[0m",
      "\u001b[0;31mAssertionError\u001b[0m                            Traceback (most recent call last)",
      "Cell \u001b[0;32mIn[13], line 1\u001b[0m\n\u001b[0;32m----> 1\u001b[0m linux_interaction()\n",
      "Cell \u001b[0;32mIn[12], line 4\u001b[0m, in \u001b[0;36mlinux_interaction\u001b[0;34m()\u001b[0m\n\u001b[1;32m      3\u001b[0m \u001b[38;5;28;01mdef\u001b[39;00m \u001b[38;5;21mlinux_interaction\u001b[39m():\n\u001b[0;32m----> 4\u001b[0m     \u001b[38;5;28;01massert\u001b[39;00m (\u001b[38;5;124m'\u001b[39m\u001b[38;5;124mlinux\u001b[39m\u001b[38;5;124m'\u001b[39m \u001b[38;5;129;01min\u001b[39;00m sys\u001b[38;5;241m.\u001b[39mplatform), \u001b[38;5;124m\"\u001b[39m\u001b[38;5;124mSolo linux.\u001b[39m\u001b[38;5;124m\"\u001b[39m\n\u001b[1;32m      5\u001b[0m     \u001b[38;5;28mprint\u001b[39m(\u001b[38;5;124m'\u001b[39m\u001b[38;5;124mAquí casual.\u001b[39m\u001b[38;5;124m'\u001b[39m)\n",
      "\u001b[0;31mAssertionError\u001b[0m: Solo linux."
     ]
    }
   ],
   "source": [
    "linux_interaction()"
   ]
  },
  {
   "cell_type": "code",
   "execution_count": 14,
   "id": "2b5ec47a",
   "metadata": {},
   "outputs": [
    {
     "name": "stdout",
     "output_type": "stream",
     "text": [
      "No Linux.\n"
     ]
    }
   ],
   "source": [
    "# Ejemplo 1 - ambiente de desarrollo\n",
    "# El ejemplo nuevamente valida si el sistema es linux\n",
    "# y si no lo es, simplemente 'pass' (no hace nada)\n",
    "# Se hacen pruebas tanto con 'linux' como con 'darwin' en el sistema operativo para probar su funcionamiento\n",
    "def linux_interaction():\n",
    "    assert('linux' in sys.platform), 'Solo Linux.'\n",
    "    print('Aquí casual.')\n",
    "\n",
    "try:\n",
    "    linux_interaction()\n",
    "except:\n",
    "    print('No Linux.')\n",
    "    pass"
   ]
  },
  {
   "cell_type": "code",
   "execution_count": 15,
   "id": "b1af8c14",
   "metadata": {},
   "outputs": [
    {
     "name": "stdout",
     "output_type": "stream",
     "text": [
      "Solo Linux.\n",
      "La función linux_interaction() no se ejecutó.\n"
     ]
    }
   ],
   "source": [
    "# Se modifica ahora el código del except con un assert\n",
    "try:\n",
    "    linux_interaction()\n",
    "except AssertionError as error:\n",
    "    print(error)\n",
    "    print('La función linux_interaction() no se ejecutó.')"
   ]
  },
  {
   "cell_type": "code",
   "execution_count": 16,
   "id": "ef54f66d",
   "metadata": {},
   "outputs": [
    {
     "name": "stdout",
     "output_type": "stream",
     "text": [
      "No puedo abrir file.log\n"
     ]
    }
   ],
   "source": [
    "# Otro ejemplo muy común, la apertura de archivos\n",
    "# Se trata de abrir un archivo (que sabemos que NO existe)\n",
    "try:\n",
    "    with open('file.log') as file:\n",
    "        read_data = file.read()\n",
    "except:\n",
    "    print('No puedo abrir file.log')"
   ]
  },
  {
   "cell_type": "code",
   "execution_count": 17,
   "id": "a768081c",
   "metadata": {},
   "outputs": [
    {
     "name": "stdout",
     "output_type": "stream",
     "text": [
      "Ingresa tu número: 3\n",
      "No ingresaste un número par!\n"
     ]
    }
   ],
   "source": [
    "# Ejemplo con else\n",
    "# Se imprime el recíproco de un número\n",
    "# Además se utiliza la función 'input' para utilizar la barra de comandos para ingresar el número\n",
    "# Si es par, genera el recíproco, si es impar, genera un mensaje\n",
    "\n",
    "try:\n",
    "    num = int(input('Ingresa tu número: '))\n",
    "    assert num % 2 == 0\n",
    "except:\n",
    "    print('No ingresaste un número par!')\n",
    "else:\n",
    "    reciprocal = 1 / num\n",
    "    print(reciprocal)"
   ]
  },
  {
   "cell_type": "code",
   "execution_count": 18,
   "id": "e1498368",
   "metadata": {},
   "outputs": [
    {
     "name": "stdout",
     "output_type": "stream",
     "text": [
      "Ingresa tu número: 2\n",
      "0.5\n"
     ]
    }
   ],
   "source": [
    "try:\n",
    "    num = int(input('Ingresa tu número: '))\n",
    "    assert num % 2 == 0\n",
    "except:\n",
    "    print('No ingresaste un número par!')\n",
    "else:\n",
    "    reciprocal = 1 / num\n",
    "    print(reciprocal)"
   ]
  },
  {
   "cell_type": "code",
   "execution_count": 19,
   "id": "7e517f3e",
   "metadata": {},
   "outputs": [
    {
     "name": "stdout",
     "output_type": "stream",
     "text": [
      "Respuesta: 3\n"
     ]
    }
   ],
   "source": [
    "# Ejemplo 3 - división para 0\n",
    "def divide(x, y):\n",
    "    try:\n",
    "        # Se usa la división Floor, solamente Fraccional\n",
    "        result = x // y\n",
    "        print('Respuesta:', result)\n",
    "    except ZeroDivisionError:\n",
    "        print('División para cero!')\n",
    "\n",
    "divide(7, 2)"
   ]
  },
  {
   "cell_type": "code",
   "execution_count": 20,
   "id": "d12dde96",
   "metadata": {},
   "outputs": [
    {
     "name": "stdout",
     "output_type": "stream",
     "text": [
      "División para cero!\n"
     ]
    }
   ],
   "source": [
    "divide(7, 0)"
   ]
  },
  {
   "cell_type": "code",
   "execution_count": 21,
   "id": "781f90f9",
   "metadata": {},
   "outputs": [
    {
     "name": "stdout",
     "output_type": "stream",
     "text": [
      "Respuesta: 5\n"
     ]
    }
   ],
   "source": [
    "# Una modificación menor\n",
    "def divide(x, y):\n",
    "    try:\n",
    "        result = x // y\n",
    "    except ZeroDivisionError:\n",
    "        print('División para cero!')\n",
    "    else:\n",
    "        print('Respuesta:', result)\n",
    "\n",
    "divide(10,2)"
   ]
  },
  {
   "cell_type": "code",
   "execution_count": 22,
   "id": "baf8de09",
   "metadata": {},
   "outputs": [
    {
     "name": "stdout",
     "output_type": "stream",
     "text": [
      "División para cero!\n"
     ]
    }
   ],
   "source": [
    "divide(10,0)"
   ]
  },
  {
   "cell_type": "code",
   "execution_count": 23,
   "id": "ac87d05e",
   "metadata": {},
   "outputs": [
    {
     "name": "stdout",
     "output_type": "stream",
     "text": [
      "Respuesta: 0\n",
      "Siempre se ejecuta!\n"
     ]
    }
   ],
   "source": [
    "# Ejemplo con Finally\n",
    "def divide(x, y):\n",
    "    try:\n",
    "        result = x // y\n",
    "    except ZeroDivisionError:\n",
    "        print('División para cero!')\n",
    "    else:\n",
    "        print('Respuesta:', result)\n",
    "    finally:\n",
    "        # Este bloque se ejecuta SIEMPRE, sin importar el estado de las excepciones\n",
    "        print('Siempre se ejecuta!')\n",
    "\n",
    "# Look at parameters and note the working of Program\n",
    "divide(1,2)"
   ]
  },
  {
   "cell_type": "code",
   "execution_count": 24,
   "id": "e61d5c41",
   "metadata": {},
   "outputs": [
    {
     "name": "stdout",
     "output_type": "stream",
     "text": [
      "División para cero!\n",
      "Siempre se ejecuta!\n"
     ]
    }
   ],
   "source": [
    "divide(1,0)"
   ]
  },
  {
   "cell_type": "code",
   "execution_count": null,
   "id": "83bf7f25",
   "metadata": {},
   "outputs": [],
   "source": []
  }
 ],
 "metadata": {
  "kernelspec": {
   "display_name": "Python 3 (ipykernel)",
   "language": "python",
   "name": "python3"
  },
  "language_info": {
   "codemirror_mode": {
    "name": "ipython",
    "version": 3
   },
   "file_extension": ".py",
   "mimetype": "text/x-python",
   "name": "python",
   "nbconvert_exporter": "python",
   "pygments_lexer": "ipython3",
   "version": "3.11.5"
  }
 },
 "nbformat": 4,
 "nbformat_minor": 5
}
