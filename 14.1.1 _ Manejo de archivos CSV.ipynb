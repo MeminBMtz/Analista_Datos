{
 "cells": [
  {
   "cell_type": "markdown",
   "id": "be593995",
   "metadata": {},
   "source": [
    "# Interacción con Datos\n",
    "- Manejo de distintos tipos de archivo: CSV, JSON, Excel\n",
    "- Lectura y escritura de los archivos\n",
    "- Manejo de diccionarios y listas"
   ]
  },
  {
   "cell_type": "markdown",
   "id": "71374bd3",
   "metadata": {},
   "source": [
    "# Antes de empezar\n",
    "- Revisar la configuración del ambiente de trabajo: Anaconda + VS Code\n",
    "- Obtener el archivo netflix_titles.csv del Centro de Descargas\n",
    "- Obtener el archivo alumnos.csv del Centro de Descargas\n",
    "- Obtener el archivo example.json del Centro de Descargas\n",
    "- Permisos de lectura y escritura con archivos"
   ]
  },
  {
   "cell_type": "code",
   "execution_count": 2,
   "id": "cdde5e5e",
   "metadata": {},
   "outputs": [
    {
     "name": "stdout",
     "output_type": "stream",
     "text": [
      "Directorio de trabajo: /Users/memobarbosa/Análisis de datos/Parte 2/M14\n"
     ]
    }
   ],
   "source": [
    "# Manejo de archivos CSV\n",
    "# Importar la función completa \"csv\" para tratamiento de archivos\n",
    "import csv\n",
    "# Importar la función \"os\" para leer el directorio actual\n",
    "import os\n",
    "\n",
    "# Get the current working directory\n",
    "cwd = os.getcwd()\n",
    "\n",
    "# Print the current working directory\n",
    "print(\"Directorio de trabajo: {0}\".format(cwd))\n",
    "\n",
    "# Cambiar el directorio actual con chdir\n",
    "os.chdir(\"/users/memobarbosa/Análisis de datos/Parte 2\")"
   ]
  },
  {
   "cell_type": "code",
   "execution_count": 3,
   "id": "5672c93f",
   "metadata": {},
   "outputs": [
    {
     "data": {
      "text/plain": [
       "['show_id',\n",
       " 'type',\n",
       " 'title',\n",
       " 'director',\n",
       " 'cast',\n",
       " 'country',\n",
       " 'date_added',\n",
       " 'release_year',\n",
       " 'rating',\n",
       " 'duration',\n",
       " 'listed_in',\n",
       " 'description']"
      ]
     },
     "execution_count": 3,
     "metadata": {},
     "output_type": "execute_result"
    }
   ],
   "source": [
    "# Abre el archivo de lectura\n",
    "file = open(r'./netflix_titles.csv')\n",
    "\n",
    "# Lee el archivo en el objeto csvreader\n",
    "csvreader = csv.reader(file)\n",
    "\n",
    "# Obtiene los encabezados del archivo (header)\n",
    "header = []\n",
    "header = next(csvreader)\n",
    "header"
   ]
  },
  {
   "cell_type": "code",
   "execution_count": 4,
   "id": "33be4280",
   "metadata": {},
   "outputs": [
    {
     "name": "stdout",
     "output_type": "stream",
     "text": [
      "[['s1', 'Movie', 'Dick Johnson Is Dead', 'Kirsten Johnson', '', 'United States', 'September 25, 2021', '2020', 'PG-13', '90 min', 'Documentaries', 'As her father nears the end of his life, filmmaker Kirsten Johnson stages his death in inventive and comical ways to help them both face the inevitable.'], ['s2', 'TV Show', 'Blood & Water', '', 'Ama Qamata, Khosi Ngema, Gail Mabalane, Thabang Molaba, Dillon Windvogel, Natasha Thahane, Arno Greeff, Xolile Tshabalala, Getmore Sithole, Cindy Mahlangu, Ryle De Morny, Greteli Fincham, Sello Maake Ka-Ncube, Odwa Gwanya, Mekaila Mathys, Sandi Schultz, Duane Williams, Shamilla Miller, Patrick Mofokeng', 'South Africa', 'September 24, 2021', '2021', 'TV-MA', '2 Seasons', 'International TV Shows, TV Dramas, TV Mysteries', 'After crossing paths at a party, a Cape Town teen sets out to prove whether a private-school swimming star is her sister who was abducted at birth.'], ['s3', 'TV Show', 'Ganglands', 'Julien Leclercq', 'Sami Bouajila, Tracy Gotoas, Samuel Jouy, Nabiha Akkari, Sofia Lesaffre, Salim Kechiouche, Noureddine Farihi, Geert Van Rampelberg, Bakary Diombera', '', 'September 24, 2021', '2021', 'TV-MA', '1 Season', 'Crime TV Shows, International TV Shows, TV Action & Adventure', 'To protect his family from a powerful drug lord, skilled thief Mehdi and his expert team of robbers are pulled into a violent and deadly turf war.']]\n"
     ]
    }
   ],
   "source": [
    "# Extrae los datos a una lista\n",
    "rows = []\n",
    "for row in csvreader: rows.append(row)\n",
    "    \n",
    "# Imprime las 3 primeras filas\n",
    "print(rows[:3])\n",
    "\n",
    "# Tenemos toda la información de las películas en la lista rows"
   ]
  },
  {
   "cell_type": "code",
   "execution_count": 5,
   "id": "371eaed9",
   "metadata": {},
   "outputs": [
    {
     "data": {
      "text/plain": [
       "8807"
      ]
     },
     "execution_count": 5,
     "metadata": {},
     "output_type": "execute_result"
    }
   ],
   "source": [
    "len(rows)"
   ]
  },
  {
   "cell_type": "code",
   "execution_count": 6,
   "id": "5d2d18c7",
   "metadata": {},
   "outputs": [],
   "source": [
    "# Para trabajar con filas y columnas, podemos usar numpy\n",
    "\n",
    "# Importamos la función numpy\n",
    "# https://numpy.org/doc/\n",
    "import numpy as np\n",
    "movies = np.array(rows)"
   ]
  },
  {
   "cell_type": "code",
   "execution_count": 7,
   "id": "aca99fc6",
   "metadata": {},
   "outputs": [
    {
     "data": {
      "text/plain": [
       "array(['Dick Johnson Is Dead', 'Blood & Water', 'Ganglands',\n",
       "       'Jailbirds New Orleans', 'Kota Factory', 'Midnight Mass',\n",
       "       'My Little Pony: A New Generation', 'Sankofa',\n",
       "       'The Great British Baking Show', 'The Starling'], dtype='<U771')"
      ]
     },
     "execution_count": 7,
     "metadata": {},
     "output_type": "execute_result"
    }
   ],
   "source": [
    "# Ahora podemos usar filas y columnas\n",
    "# Un array se puede usar con 2 parámetros: rango de filas y rango de columnas\n",
    "# Recordar que en los array los índices empiezan en 0 y van hasta n-1 (0:10)\n",
    "# Si quisiera ver todos los títulos, por ejemplo, de las primeras 10 películas\n",
    "# Ej: Se pueden hacer ejercicios con otros campos\n",
    "movies[0:10, 2]"
   ]
  },
  {
   "cell_type": "code",
   "execution_count": 8,
   "id": "54f630a2",
   "metadata": {},
   "outputs": [],
   "source": [
    "# Vamos a explorar más formas de uso de lectura de archivos más adelante. Por ahora a enfocarnos al manejo de archivos CSV"
   ]
  },
  {
   "cell_type": "markdown",
   "id": "d56697bc",
   "metadata": {},
   "source": [
    "# Escribiendo un archivo CSV"
   ]
  },
  {
   "cell_type": "code",
   "execution_count": 9,
   "id": "bc3ebae6",
   "metadata": {},
   "outputs": [],
   "source": [
    "# Para escribir un archivo CSV, se debe abrir primero el archivo con el flag 'w'\n",
    "import csv\n",
    "header_student = ['id', 'nombre', 'ciudad', 'total']\n",
    "data = [\n",
    "    ['01A', 'G.Vinueza', 'Cuenca', 50],\n",
    "    ['02A', 'J.García', 'Ciudad de México', 75],\n",
    "    ['03A', 'E.Maldonado', 'Puebla', 82],\n",
    "    ['04A', 'S.Humbren', 'Monterrey', 74]\n",
    "]\n",
    "\n",
    "with open('alumnos.csv', 'w', encoding='UTF8', newline='') as f:\n",
    "    writer = csv.writer(f)\n",
    "    \n",
    "    # write the header\n",
    "    writer.writerow(header_student)\n",
    "    \n",
    "    # write the data\n",
    "    writer.writerow(data)"
   ]
  },
  {
   "cell_type": "code",
   "execution_count": 10,
   "id": "11e1b812",
   "metadata": {},
   "outputs": [
    {
     "data": {
      "text/plain": [
       "['id', 'nombre', 'ciudad', 'total']"
      ]
     },
     "execution_count": 10,
     "metadata": {},
     "output_type": "execute_result"
    }
   ],
   "source": [
    "# Luego lo podemos visualizar\n",
    "\n",
    "# Abre el archivo de lectura\n",
    "file = open(r'./alumnos.csv')\n",
    "# Lee el archivo en el objeto csvreader\n",
    "csvreader = csv.reader(file)\n",
    "\n",
    "# Obtiene los encabezados del archivo (header)\n",
    "header_studentt = []\n",
    "header_studentt = next(csvreader)\n",
    "header_studentt"
   ]
  },
  {
   "cell_type": "code",
   "execution_count": 11,
   "id": "0e9230a0",
   "metadata": {},
   "outputs": [
    {
     "data": {
      "text/plain": [
       "[[\"['01A', 'G.Vinueza', 'Cuenca', 50]\",\n",
       "  \"['02A', 'J.García', 'Ciudad de México', 75]\",\n",
       "  \"['03A', 'E.Maldonado', 'Puebla', 82]\",\n",
       "  \"['04A', 'S.Humbren', 'Monterrey', 74]\"]]"
      ]
     },
     "execution_count": 11,
     "metadata": {},
     "output_type": "execute_result"
    }
   ],
   "source": [
    "# Extrae los datos a una lista\n",
    "rows_alumnos = []\n",
    "for row in csvreader: rows_alumnos.append(row)\n",
    "    \n",
    "# Imprime el contenido de las filas de alumnos\n",
    "rows_alumnos"
   ]
  },
  {
   "cell_type": "code",
   "execution_count": null,
   "id": "59a9c666",
   "metadata": {},
   "outputs": [],
   "source": []
  }
 ],
 "metadata": {
  "kernelspec": {
   "display_name": "Python 3 (ipykernel)",
   "language": "python",
   "name": "python3"
  },
  "language_info": {
   "codemirror_mode": {
    "name": "ipython",
    "version": 3
   },
   "file_extension": ".py",
   "mimetype": "text/x-python",
   "name": "python",
   "nbconvert_exporter": "python",
   "pygments_lexer": "ipython3",
   "version": "3.11.5"
  }
 },
 "nbformat": 4,
 "nbformat_minor": 5
}
