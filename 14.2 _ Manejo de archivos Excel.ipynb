{
 "cells": [
  {
   "cell_type": "markdown",
   "id": "7200fe65",
   "metadata": {},
   "source": [
    "# Uso de archivos Excel\n",
    "- Abrir archivos en Excel\n",
    "- Generar archivos en Excel desde estructuras"
   ]
  },
  {
   "cell_type": "code",
   "execution_count": 12,
   "id": "588788db",
   "metadata": {},
   "outputs": [
    {
     "name": "stdout",
     "output_type": "stream",
     "text": [
      "Blood & Water\n"
     ]
    }
   ],
   "source": [
    "# Se usará el archivo netflix_movies.xlsx\n",
    "# Se usa la librería openpyxl\n",
    "# https://www.python-excel.org/\n",
    "# https://openpyxl.readthedocs.io/en/latest/tutorial.html\n",
    "import openpyxl\n",
    "from pathlib import Path\n",
    "\n",
    "xlsx_file = Path('.', 'netflix_titles.xlsx')\n",
    "wb_obj = openpyxl.load_workbook(xlsx_file)\n",
    "\n",
    "# Read the active sheet\n",
    "sheet = wb_obj.active\n",
    "\n",
    "# Se imprime el primer título\n",
    "print(sheet[\"C3\"].value)"
   ]
  },
  {
   "cell_type": "code",
   "execution_count": 3,
   "id": "e45192b7",
   "metadata": {},
   "outputs": [
    {
     "name": "stdout",
     "output_type": "stream",
     "text": [
      "((<Cell 'Worksheet'.A1>, <Cell 'Worksheet'.B1>, <Cell 'Worksheet'.C1>, <Cell 'Worksheet'.D1>), (<Cell 'Worksheet'.A2>, <Cell 'Worksheet'.B2>, <Cell 'Worksheet'.C2>, <Cell 'Worksheet'.D2>), (<Cell 'Worksheet'.A3>, <Cell 'Worksheet'.B3>, <Cell 'Worksheet'.C3>, <Cell 'Worksheet'.D3>), (<Cell 'Worksheet'.A4>, <Cell 'Worksheet'.B4>, <Cell 'Worksheet'.C4>, <Cell 'Worksheet'.D4>), (<Cell 'Worksheet'.A5>, <Cell 'Worksheet'.B5>, <Cell 'Worksheet'.C5>, <Cell 'Worksheet'.D5>), (<Cell 'Worksheet'.A6>, <Cell 'Worksheet'.B6>, <Cell 'Worksheet'.C6>, <Cell 'Worksheet'.D6>), (<Cell 'Worksheet'.A7>, <Cell 'Worksheet'.B7>, <Cell 'Worksheet'.C7>, <Cell 'Worksheet'.D7>), (<Cell 'Worksheet'.A8>, <Cell 'Worksheet'.B8>, <Cell 'Worksheet'.C8>, <Cell 'Worksheet'.D8>), (<Cell 'Worksheet'.A9>, <Cell 'Worksheet'.B9>, <Cell 'Worksheet'.C9>, <Cell 'Worksheet'.D9>), (<Cell 'Worksheet'.A10>, <Cell 'Worksheet'.B10>, <Cell 'Worksheet'.C10>, <Cell 'Worksheet'.D10>), (<Cell 'Worksheet'.A11>, <Cell 'Worksheet'.B11>, <Cell 'Worksheet'.C11>, <Cell 'Worksheet'.D11>), (<Cell 'Worksheet'.A12>, <Cell 'Worksheet'.B12>, <Cell 'Worksheet'.C12>, <Cell 'Worksheet'.D12>), (<Cell 'Worksheet'.A13>, <Cell 'Worksheet'.B13>, <Cell 'Worksheet'.C13>, <Cell 'Worksheet'.D13>), (<Cell 'Worksheet'.A14>, <Cell 'Worksheet'.B14>, <Cell 'Worksheet'.C14>, <Cell 'Worksheet'.D14>), (<Cell 'Worksheet'.A15>, <Cell 'Worksheet'.B15>, <Cell 'Worksheet'.C15>, <Cell 'Worksheet'.D15>), (<Cell 'Worksheet'.A16>, <Cell 'Worksheet'.B16>, <Cell 'Worksheet'.C16>, <Cell 'Worksheet'.D16>), (<Cell 'Worksheet'.A17>, <Cell 'Worksheet'.B17>, <Cell 'Worksheet'.C17>, <Cell 'Worksheet'.D17>), (<Cell 'Worksheet'.A18>, <Cell 'Worksheet'.B18>, <Cell 'Worksheet'.C18>, <Cell 'Worksheet'.D18>), (<Cell 'Worksheet'.A19>, <Cell 'Worksheet'.B19>, <Cell 'Worksheet'.C19>, <Cell 'Worksheet'.D19>), (<Cell 'Worksheet'.A20>, <Cell 'Worksheet'.B20>, <Cell 'Worksheet'.C20>, <Cell 'Worksheet'.D20>), (<Cell 'Worksheet'.A21>, <Cell 'Worksheet'.B21>, <Cell 'Worksheet'.C21>, <Cell 'Worksheet'.D21>), (<Cell 'Worksheet'.A22>, <Cell 'Worksheet'.B22>, <Cell 'Worksheet'.C22>, <Cell 'Worksheet'.D22>), (<Cell 'Worksheet'.A23>, <Cell 'Worksheet'.B23>, <Cell 'Worksheet'.C23>, <Cell 'Worksheet'.D23>), (<Cell 'Worksheet'.A24>, <Cell 'Worksheet'.B24>, <Cell 'Worksheet'.C24>, <Cell 'Worksheet'.D24>), (<Cell 'Worksheet'.A25>, <Cell 'Worksheet'.B25>, <Cell 'Worksheet'.C25>, <Cell 'Worksheet'.D25>), (<Cell 'Worksheet'.A26>, <Cell 'Worksheet'.B26>, <Cell 'Worksheet'.C26>, <Cell 'Worksheet'.D26>), (<Cell 'Worksheet'.A27>, <Cell 'Worksheet'.B27>, <Cell 'Worksheet'.C27>, <Cell 'Worksheet'.D27>), (<Cell 'Worksheet'.A28>, <Cell 'Worksheet'.B28>, <Cell 'Worksheet'.C28>, <Cell 'Worksheet'.D28>), (<Cell 'Worksheet'.A29>, <Cell 'Worksheet'.B29>, <Cell 'Worksheet'.C29>, <Cell 'Worksheet'.D29>), (<Cell 'Worksheet'.A30>, <Cell 'Worksheet'.B30>, <Cell 'Worksheet'.C30>, <Cell 'Worksheet'.D30>), (<Cell 'Worksheet'.A31>, <Cell 'Worksheet'.B31>, <Cell 'Worksheet'.C31>, <Cell 'Worksheet'.D31>), (<Cell 'Worksheet'.A32>, <Cell 'Worksheet'.B32>, <Cell 'Worksheet'.C32>, <Cell 'Worksheet'.D32>), (<Cell 'Worksheet'.A33>, <Cell 'Worksheet'.B33>, <Cell 'Worksheet'.C33>, <Cell 'Worksheet'.D33>), (<Cell 'Worksheet'.A34>, <Cell 'Worksheet'.B34>, <Cell 'Worksheet'.C34>, <Cell 'Worksheet'.D34>), (<Cell 'Worksheet'.A35>, <Cell 'Worksheet'.B35>, <Cell 'Worksheet'.C35>, <Cell 'Worksheet'.D35>), (<Cell 'Worksheet'.A36>, <Cell 'Worksheet'.B36>, <Cell 'Worksheet'.C36>, <Cell 'Worksheet'.D36>), (<Cell 'Worksheet'.A37>, <Cell 'Worksheet'.B37>, <Cell 'Worksheet'.C37>, <Cell 'Worksheet'.D37>), (<Cell 'Worksheet'.A38>, <Cell 'Worksheet'.B38>, <Cell 'Worksheet'.C38>, <Cell 'Worksheet'.D38>), (<Cell 'Worksheet'.A39>, <Cell 'Worksheet'.B39>, <Cell 'Worksheet'.C39>, <Cell 'Worksheet'.D39>), (<Cell 'Worksheet'.A40>, <Cell 'Worksheet'.B40>, <Cell 'Worksheet'.C40>, <Cell 'Worksheet'.D40>), (<Cell 'Worksheet'.A41>, <Cell 'Worksheet'.B41>, <Cell 'Worksheet'.C41>, <Cell 'Worksheet'.D41>), (<Cell 'Worksheet'.A42>, <Cell 'Worksheet'.B42>, <Cell 'Worksheet'.C42>, <Cell 'Worksheet'.D42>), (<Cell 'Worksheet'.A43>, <Cell 'Worksheet'.B43>, <Cell 'Worksheet'.C43>, <Cell 'Worksheet'.D43>), (<Cell 'Worksheet'.A44>, <Cell 'Worksheet'.B44>, <Cell 'Worksheet'.C44>, <Cell 'Worksheet'.D44>), (<Cell 'Worksheet'.A45>, <Cell 'Worksheet'.B45>, <Cell 'Worksheet'.C45>, <Cell 'Worksheet'.D45>), (<Cell 'Worksheet'.A46>, <Cell 'Worksheet'.B46>, <Cell 'Worksheet'.C46>, <Cell 'Worksheet'.D46>), (<Cell 'Worksheet'.A47>, <Cell 'Worksheet'.B47>, <Cell 'Worksheet'.C47>, <Cell 'Worksheet'.D47>), (<Cell 'Worksheet'.A48>, <Cell 'Worksheet'.B48>, <Cell 'Worksheet'.C48>, <Cell 'Worksheet'.D48>), (<Cell 'Worksheet'.A49>, <Cell 'Worksheet'.B49>, <Cell 'Worksheet'.C49>, <Cell 'Worksheet'.D49>), (<Cell 'Worksheet'.A50>, <Cell 'Worksheet'.B50>, <Cell 'Worksheet'.C50>, <Cell 'Worksheet'.D50>))\n"
     ]
    }
   ],
   "source": [
    "# Rangos\n",
    "cell_range = sheet[\"A1\":\"D50\"]\n",
    "print(cell_range)"
   ]
  },
  {
   "cell_type": "code",
   "execution_count": 4,
   "id": "1585b819",
   "metadata": {},
   "outputs": [
    {
     "name": "stdout",
     "output_type": "stream",
     "text": [
      "('show_id', 'type', 'title', 'director')\n",
      "('s1', 'Movie', 'Dick Johnson Is Dead', 'Kirsten Johnson')\n",
      "('s2', 'TV Show', 'Blood & Water', None)\n",
      "('s3', 'TV Show', 'Ganglands', 'Julien Leclercq')\n",
      "('s4', 'TV Show', 'Jailbirds New Orleans', None)\n",
      "('s5', 'TV Show', 'Kota Factory', None)\n",
      "('s6', 'TV Show', 'Midnight Mass', 'Mike Flanagan')\n",
      "('s7', 'Movie', 'My Little Pony: A New Generation', 'Robert Cullen, José Luis Ucha')\n",
      "('s8', 'Movie', 'Sankofa', 'Haile Gerima')\n",
      "('s9', 'TV Show', 'The Great British Baking Show', 'Andy Devonshire')\n",
      "('s10', 'Movie', 'The Starling', 'Theodore Melfi')\n",
      "('s11', 'TV Show', 'Vendetta: Truth, Lies and The Mafia', None)\n",
      "('s12', 'TV Show', 'Bangkok Breaking', 'Kongkiat Komesiri')\n",
      "('s13', 'Movie', 'Je Suis Karl', 'Christian Schwochow')\n",
      "('s14', 'Movie', 'Confessions of an Invisible Girl', 'Bruno Garotti')\n",
      "('s15', 'TV Show', 'Crime Stories: India Detectives', None)\n",
      "('s16', 'TV Show', 'Dear White People', None)\n",
      "('s17', 'Movie', \"Europe's Most Dangerous Man: Otto Skorzeny in Spain\", 'Pedro de Echave García, Pablo Azorín Williams')\n",
      "('s18', 'TV Show', 'Falsa identidad', None)\n",
      "('s19', 'Movie', 'Intrusion', 'Adam Salky')\n",
      "('s20', 'TV Show', 'Jaguar', None)\n",
      "('s21', 'TV Show', 'Monsters Inside: The 24 Faces of Billy Milligan', 'Olivier Megaton')\n",
      "('s22', 'TV Show', 'Resurrection: Ertugrul', None)\n",
      "('s23', 'Movie', 'Avvai Shanmughi', 'K.S. Ravikumar')\n",
      "('s24', 'Movie', 'Go! Go! Cory Carson: Chrissy Takes the Wheel', 'Alex Woo, Stanley Moore')\n",
      "('s25', 'Movie', 'Jeans', 'S. Shankar')\n",
      "('s26', 'TV Show', 'Love on the Spectrum', None)\n",
      "('s27', 'Movie', 'Minsara Kanavu', 'Rajiv Menon')\n",
      "('s28', 'Movie', 'Grown Ups', 'Dennis Dugan')\n",
      "('s29', 'Movie', 'Dark Skies', 'Scott Stewart')\n",
      "('s30', 'Movie', 'Paranoia', 'Robert Luketic')\n",
      "('s31', 'Movie', 'Ankahi Kahaniya', 'Ashwiny Iyer Tiwari, Abhishek Chaubey, Saket Chaudhary')\n",
      "('s32', 'TV Show', 'Chicago Party Aunt', None)\n",
      "('s33', 'TV Show', 'Sex Education', None)\n",
      "('s34', 'TV Show', 'Squid Game', None)\n",
      "('s35', 'TV Show', 'Tayo and Little Wizards', None)\n",
      "('s36', 'Movie', 'The Father Who Moves Mountains', 'Daniel Sandu')\n",
      "('s37', 'Movie', 'The Stronghold', 'Cédric Jimenez')\n",
      "('s38', 'TV Show', 'Angry Birds', None)\n",
      "('s39', 'Movie', 'Birth of the Dragon', 'George Nolfi')\n",
      "('s40', 'TV Show', 'Chhota Bheem', None)\n",
      "('s41', 'TV Show', 'He-Man and the Masters of the Universe', None)\n",
      "('s42', 'Movie', 'Jaws', 'Steven Spielberg')\n",
      "('s43', 'Movie', 'Jaws 2', 'Jeannot Szwarc')\n",
      "('s44', 'Movie', 'Jaws 3', 'Joe Alves')\n",
      "('s45', 'Movie', 'Jaws: The Revenge', 'Joseph Sargent')\n",
      "('s46', 'Movie', 'My Heroes Were Cowboys', 'Tyler Greco')\n",
      "('s47', 'Movie', 'Safe House', 'Daniel Espinosa')\n",
      "('s48', 'TV Show', 'The Smart Money Woman', 'Bunmi Ajakaiye')\n",
      "('s49', 'Movie', 'Training Day', 'Antoine Fuqua')\n"
     ]
    }
   ],
   "source": [
    "# Obtener valores de un rango\n",
    "for row in sheet.iter_rows(min_row=1, max_col=4, max_row=50, values_only=True): print(row)"
   ]
  },
  {
   "cell_type": "code",
   "execution_count": 7,
   "id": "b5364e81",
   "metadata": {},
   "outputs": [
    {
     "name": "stdout",
     "output_type": "stream",
     "text": [
      "<Cell 'Worksheet'.D2>\n"
     ]
    }
   ],
   "source": [
    "# Asignar un valor\n",
    "valor = sheet[\"D2\"]\n",
    "print(valor)"
   ]
  },
  {
   "cell_type": "code",
   "execution_count": 8,
   "id": "68fadf1a",
   "metadata": {},
   "outputs": [
    {
     "name": "stdout",
     "output_type": "stream",
     "text": [
      "10000\n"
     ]
    }
   ],
   "source": [
    "valor.value = 10000\n",
    "valor = sheet[\"D2\"]\n",
    "print(valor.value)"
   ]
  },
  {
   "cell_type": "code",
   "execution_count": 9,
   "id": "dd88b6ae",
   "metadata": {},
   "outputs": [
    {
     "name": "stdout",
     "output_type": "stream",
     "text": [
      "Worksheet\n",
      "Ejemplo\n"
     ]
    }
   ],
   "source": [
    "# Puedo generar una nueva hoja\n",
    "ws1 = wb_obj.create_sheet(\"Ejemplo\")\n",
    "\n",
    "# Más métodos\n",
    "for sheet in wb_obj: print(sheet.title)"
   ]
  },
  {
   "cell_type": "code",
   "execution_count": 10,
   "id": "30dcf08f",
   "metadata": {},
   "outputs": [
    {
     "name": "stdout",
     "output_type": "stream",
     "text": [
      "None\n"
     ]
    }
   ],
   "source": [
    "print(sheet[\"C2\"].value)"
   ]
  },
  {
   "cell_type": "code",
   "execution_count": 13,
   "id": "a27d09fb",
   "metadata": {},
   "outputs": [
    {
     "name": "stdout",
     "output_type": "stream",
     "text": [
      "show_id type title director cast country date_added release_year rating duration listed_in description \n",
      "s1 Movie Dick Johnson Is Dead Kirsten Johnson None United States September 25, 2021 2020 PG-13 90 min Documentaries As her father nears the end of his life, filmmaker Kirsten Johnson stages his death in inventive and comical ways to help them both face the inevitable. \n",
      "s2 TV Show Blood & Water None Ama Qamata, Khosi Ngema, Gail Mabalane, Thabang Molaba, Dillon Windvogel, Natasha Thahane, Arno Greeff, Xolile Tshabalala, Getmore Sithole, Cindy Mahlangu, Ryle De Morny, Greteli Fincham, Sello Maake Ka-Ncube, Odwa Gwanya, Mekaila Mathys, Sandi Schultz, Duane Williams, Shamilla Miller, Patrick Mofokeng South Africa September 24, 2021 2021 TV-MA 2 Seasons International TV Shows, TV Dramas, TV Mysteries After crossing paths at a party, a Cape Town teen sets out to prove whether a private-school swimming star is her sister who was abducted at birth. \n",
      "s3 TV Show Ganglands Julien Leclercq Sami Bouajila, Tracy Gotoas, Samuel Jouy, Nabiha Akkari, Sofia Lesaffre, Salim Kechiouche, Noureddine Farihi, Geert Van Rampelberg, Bakary Diombera None September 24, 2021 2021 TV-MA 1 Season Crime TV Shows, International TV Shows, TV Action & Adventure To protect his family from a powerful drug lord, skilled thief Mehdi and his expert team of robbers are pulled into a violent and deadly turf war. \n",
      "s4 TV Show Jailbirds New Orleans None None None September 24, 2021 2021 TV-MA 1 Season Docuseries, Reality TV Feuds, flirtations and toilet talk go down among the incarcerated women at the Orleans Justice Center in New Orleans on this gritty reality series. \n",
      "s5 TV Show Kota Factory None Mayur More, Jitendra Kumar, Ranjan Raj, Alam Khan, Ahsaas Channa, Revathi Pillai, Urvi Singh, Arun Kumar India September 24, 2021 2021 TV-MA 2 Seasons International TV Shows, Romantic TV Shows, TV Comedies In a city of coaching centers known to train India’s finest collegiate minds, an earnest but unexceptional student and his friends navigate campus life. \n"
     ]
    }
   ],
   "source": [
    "# Verificación en Excel\n",
    "# Se imprimen las primeras 5 líneas\n",
    "for row in sheet.iter_rows(max_row=6):\n",
    "    for cell in row: print(cell.value, end=\" \")\n",
    "    print()"
   ]
  },
  {
   "cell_type": "code",
   "execution_count": 14,
   "id": "58596a30",
   "metadata": {},
   "outputs": [
    {
     "name": "stdout",
     "output_type": "stream",
     "text": [
      "8808 12\n"
     ]
    }
   ],
   "source": [
    "# Se imprime el tamaño de la hoja abierta en filas y columnas\n",
    "print(sheet.max_row, sheet.max_column)"
   ]
  },
  {
   "cell_type": "code",
   "execution_count": 15,
   "id": "0626ac38",
   "metadata": {},
   "outputs": [
    {
     "data": {
      "text/plain": [
       "['show_id',\n",
       " 'type',\n",
       " 'title',\n",
       " 'director',\n",
       " 'cast',\n",
       " 'country',\n",
       " 'date_added',\n",
       " 'release_year',\n",
       " 'rating',\n",
       " 'duration',\n",
       " 'listed_in',\n",
       " 'description']"
      ]
     },
     "execution_count": 15,
     "metadata": {},
     "output_type": "execute_result"
    }
   ],
   "source": [
    "# Se puede además generar un diccionario con las columnas\n",
    "col_names = []\n",
    "for column in sheet.iter_cols(1, sheet.max_column): col_names.append(column[0].value)\n",
    "col_names"
   ]
  },
  {
   "cell_type": "markdown",
   "id": "801ec34a",
   "metadata": {},
   "source": [
    "# Escribiendo un archivo Excel\n",
    "- A partir de un diccionario, se genera un archivo de Excel.\n",
    "- Si es que no se tiene la librería se debería instalar \"openpyxl\".\n",
    "- Existen muchas librerías diferentes de manejo de archivos Excel, se debe escoger la que mejor se adapte a las necesidades."
   ]
  },
  {
   "cell_type": "code",
   "execution_count": 20,
   "id": "40623f93",
   "metadata": {},
   "outputs": [],
   "source": [
    "# import openpyxl module\n",
    "import openpyxl\n",
    "\n",
    "# Call a Workbook() function of openpyxl\n",
    "# to create a new blank Workbook object\n",
    "wb = openpyxl.Workbook()\n",
    "\n",
    "# Get workbook active sheet\n",
    "# from the active attribute\n",
    "sheet = wb.active\n",
    "\n",
    "# Cell objects also have row, column\n",
    "# and coordinate attributes that provide\n",
    "# location information for the cell.\n",
    "\n",
    "# Note: The first row or column integer\n",
    "# is 1, not 0. Cell object is created by\n",
    "# using sheet object's cell() method.\n",
    "c1 = sheet.cell(row=1, column=1)\n",
    "\n",
    "# writing values to cells\n",
    "c1.value = \"Esta es una prueba\"\n",
    "\n",
    "c2 = sheet.cell(row=1, column=2)\n",
    "c2.value = \"con Python y Excel\"\n",
    "\n",
    "# Once have a Worksheet object, one can\n",
    "# access a cell object by its name also.\n",
    "# A2 means column = 1 & row = 2.\n",
    "c3 = sheet[\"A2\"]\n",
    "c3.value = \"para escribir\"\n",
    "\n",
    "# B2 means column = 2 & row = 2.\n",
    "c4 = sheet[\"B2\"]\n",
    "c4.value = \"contenido.\"\n",
    "\n",
    "# Anytime you modify the Workbook object\n",
    "# or its sheets and cells, the spreadsheet\n",
    "# file will not be saved until you call\n",
    "# the save() workbook method.\n",
    "wb.save(\"prueba2.xlsx\")"
   ]
  },
  {
   "cell_type": "code",
   "execution_count": 21,
   "id": "c8379e40",
   "metadata": {},
   "outputs": [],
   "source": [
    "# Ejemplo para escribir un diccionario a un archivo Excel\n",
    "import xlsxwriter\n",
    "\n",
    "workbook = xlsxwriter.Workbook('data.xlsx')\n",
    "worksheet = workbook.add_worksheet()\n",
    "\n",
    "# Código anterior de JSON\n",
    "\n",
    "# Se importa la librería general de json\n",
    "# Se hizo un download del archivo \"EmployeeData.json\" desde https://www.appsloveworld.com/download-sample-json-file-with-multiple-records/\n",
    "# Los archivos json pueden descargarse de cientos de fuentes, además de producirse como forma de intercambio de\n",
    "# información entre aplicaciones y sitios\n",
    "import json\n",
    "import csv\n",
    "# Abre el archivo de lectura\n",
    "file = open(r'./netflix_titles.csv')\n",
    "\n",
    "# Lee el archivo en el objeto csvreader\n",
    "csvreader = csv.reader(file)\n",
    "\n",
    "header = []\n",
    "header = next(csvreader)\n",
    "\n",
    "# Extrae los datos a una lista\n",
    "rows = []\n",
    "for row in csvreader: rows.append(row)\n",
    "    \n",
    "# Para trabajar con filas y columnas, podemos usar numpy\n",
    "\n",
    "# Importamos la función numpy\n",
    "# https://numpy.org/doc/\n",
    "import numpy as np\n",
    "movies = np.array(rows)\n",
    "\n",
    "# Se recuerda que la variables movies es del tipo nparray (todos los ítems son del mismo tipo)\n",
    "# se la debe convertir a un dictionary\n",
    "# Se usa enumerate para hacer la transformación\n",
    "\n",
    "movies_dict = dict(enumerate(movies.flatten(), 1))\n",
    "\n",
    "# Se usa dumps de la librería json para pasar la salida a formato json\n",
    "movies_json = json.dumps(movies_dict, indent=4)\n",
    "\n",
    "# Primero se convierte el header a un array\n",
    "movie_header = np.array(header)\n",
    "\n",
    "# Convierte el array de listas en un array junto\n",
    "flat_movies = [item for sublist in rows for item in sublist]\n",
    "\n",
    "# Combina los headers con cada fila\n",
    "# Ref: https://stackoverflow.com/questions/55789565/how-to-make-a-json-from-two-lists-in-python\n",
    "# Ref2:\n",
    "len_headers = len(header)\n",
    "len_data = len(flat_movies)\n",
    "num_movies = int(len_data / len_headers)\n",
    "flat_header = header * num_movies # Python permite la multiplicación de listas\n",
    "\n",
    "# Se puede generar una lista de diccionarios, como la que se ve a continuación, con las primeras 3 películas\n",
    "final_list = []\n",
    "header_length = len(flat_header) # No. of columns\n",
    "_splitted_dict_list = [{k: v} for k, v in zip(flat_header, flat_movies)]\n",
    "for v in range(0, 3*len_headers, 1): # Primeras 3 películas\n",
    "    final_list.append({nk:nv for nested_dict in _splitted_dict_list[v:v+1] for nk, nv in nested_dict.items()})\n",
    "\n",
    "# Ahora bien, lo que nos sirve a nosotros es generar un diccionario\n",
    "# para poder encontrar rápidamente una película o un valor\n",
    "\n",
    "from itertools import cycle\n",
    "result = {}\n",
    "for key, val in zip(cycle(header), flat_movies):\n",
    "    if key not in result:\n",
    "        result[key] = []\n",
    "    result[key].append(val)\n",
    "\n",
    "    \n",
    "# Código actual\n",
    "\n",
    "d = result\n",
    "row = 0\n",
    "col = 0\n",
    "\n",
    "for key in d.keys():\n",
    "    row += 1\n",
    "    worksheet.write(row, col, key)\n",
    "    for item in d[key]:\n",
    "        worksheet.write(row, col + 1, item)\n",
    "        row += 1\n",
    "\n",
    "workbook.close()"
   ]
  },
  {
   "cell_type": "markdown",
   "id": "42c4faa6",
   "metadata": {},
   "source": [
    "# Wrap up\n",
    "- Uso de archivos CSV, JSON y Excel.\n",
    "- Se abren archivos, se utilizan estructuras para usar su data, y se pueden escribir además.\n",
    "- Manejo de listas y diccionarios.\n",
    "- Estas estructuras se pueden intercalar, es decir, se podría abrir un archivo JSON para luego escribirlo en Excel y viceversa.\n",
    "- Es ahí donde está el verdadero poder de Python y el análisis de datos hecho de esa manera."
   ]
  },
  {
   "cell_type": "code",
   "execution_count": null,
   "id": "53877487",
   "metadata": {},
   "outputs": [],
   "source": []
  }
 ],
 "metadata": {
  "kernelspec": {
   "display_name": "Python 3 (ipykernel)",
   "language": "python",
   "name": "python3"
  },
  "language_info": {
   "codemirror_mode": {
    "name": "ipython",
    "version": 3
   },
   "file_extension": ".py",
   "mimetype": "text/x-python",
   "name": "python",
   "nbconvert_exporter": "python",
   "pygments_lexer": "ipython3",
   "version": "3.11.5"
  }
 },
 "nbformat": 4,
 "nbformat_minor": 5
}
