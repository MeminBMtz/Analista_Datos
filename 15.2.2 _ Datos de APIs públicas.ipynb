{
 "cells": [
  {
   "cell_type": "markdown",
   "id": "0115984a",
   "metadata": {},
   "source": [
    "# Obtener información desde una API Externa\n",
    "- Las librerías se pueden llamar directamente con la librería requests.\n",
    "- Usar el comando GET para obtener la información desde la API.\n",
    "- Otros comandos son: POST (añade data al API), DELETE (permite eliminar data de la API), PUT (para hacer actualizaciones de información).\n",
    "- Códigos de retorno:\n",
    "    - 200 : OK. It means we have a healthy connection with the API on web.\n",
    "    - 204 : It depicts that we can successfully make a connection with the API, but didn't return any data from the service.\n",
    "    - 401 : Authentication failed!\n",
    "    - 403 : Access is forbidden by the API service.\n",
    "    - 404 : The requested API service isn't found on the server / web.\n",
    "    - 500 : Internal Server Error has occurred."
   ]
  },
  {
   "cell_type": "code",
   "execution_count": 1,
   "id": "55014914",
   "metadata": {},
   "outputs": [
    {
     "data": {
      "text/plain": [
       "200"
      ]
     },
     "execution_count": 1,
     "metadata": {},
     "output_type": "execute_result"
    }
   ],
   "source": [
    "import requests\n",
    "\n",
    "response_API = requests.get('https://ebac.mx/')\n",
    "response_API.status_code"
   ]
  },
  {
   "cell_type": "code",
   "execution_count": 4,
   "id": "2c9370ed",
   "metadata": {},
   "outputs": [
    {
     "name": "stdout",
     "output_type": "stream",
     "text": [
      "200\n"
     ]
    }
   ],
   "source": [
    "# Otro ejemplo\n",
    "response = requests.get(\"http://api.open-notify.org/astros.json\")\n",
    "print(response.status_code)"
   ]
  },
  {
   "cell_type": "code",
   "execution_count": 5,
   "id": "8bfae65a",
   "metadata": {},
   "outputs": [
    {
     "name": "stdout",
     "output_type": "stream",
     "text": [
      "{'people': [{'craft': 'ISS', 'name': 'Oleg Kononenko'}, {'craft': 'ISS', 'name': 'Nikolai Chub'}, {'craft': 'ISS', 'name': 'Tracy Caldwell Dyson'}, {'craft': 'ISS', 'name': 'Matthew Dominick'}, {'craft': 'ISS', 'name': 'Michael Barratt'}, {'craft': 'ISS', 'name': 'Jeanette Epps'}, {'craft': 'ISS', 'name': 'Alexander Grebenkin'}, {'craft': 'ISS', 'name': 'Butch Wilmore'}, {'craft': 'ISS', 'name': 'Sunita Williams'}, {'craft': 'Tiangong', 'name': 'Li Guangsu'}, {'craft': 'Tiangong', 'name': 'Li Cong'}, {'craft': 'Tiangong', 'name': 'Ye Guangfu'}], 'number': 12, 'message': 'success'}\n"
     ]
    }
   ],
   "source": [
    "print(response.json())"
   ]
  },
  {
   "cell_type": "code",
   "execution_count": 6,
   "id": "998c107a",
   "metadata": {},
   "outputs": [
    {
     "name": "stdout",
     "output_type": "stream",
     "text": [
      "{'message': 'success',\n",
      " 'number': 12,\n",
      " 'people': [{'craft': 'ISS', 'name': 'Oleg Kononenko'},\n",
      "            {'craft': 'ISS', 'name': 'Nikolai Chub'},\n",
      "            {'craft': 'ISS', 'name': 'Tracy Caldwell Dyson'},\n",
      "            {'craft': 'ISS', 'name': 'Matthew Dominick'},\n",
      "            {'craft': 'ISS', 'name': 'Michael Barratt'},\n",
      "            {'craft': 'ISS', 'name': 'Jeanette Epps'},\n",
      "            {'craft': 'ISS', 'name': 'Alexander Grebenkin'},\n",
      "            {'craft': 'ISS', 'name': 'Butch Wilmore'},\n",
      "            {'craft': 'ISS', 'name': 'Sunita Williams'},\n",
      "            {'craft': 'Tiangong', 'name': 'Li Guangsu'},\n",
      "            {'craft': 'Tiangong', 'name': 'Li Cong'},\n",
      "            {'craft': 'Tiangong', 'name': 'Ye Guangfu'}]}\n"
     ]
    }
   ],
   "source": [
    "from pprint import pprint\n",
    "pprint(response.json())"
   ]
  },
  {
   "cell_type": "code",
   "execution_count": 8,
   "id": "43794e94",
   "metadata": {},
   "outputs": [
    {
     "name": "stdout",
     "output_type": "stream",
     "text": [
      "200 \n",
      "\n",
      "{'iss_position': {'latitude': '-45.7151', 'longitude': '-24.6744'},\n",
      " 'message': 'success',\n",
      " 'timestamp': 1718927312}\n"
     ]
    }
   ],
   "source": [
    "# Otro ejemplo\n",
    "response = requests.get(\"http://api.open-notify.org/iss-now.json\")\n",
    "print(response.status_code, \"\\n\")\n",
    "pprint(response.json())"
   ]
  },
  {
   "cell_type": "code",
   "execution_count": 9,
   "id": "d69b92dd",
   "metadata": {},
   "outputs": [
    {
     "name": "stdout",
     "output_type": "stream",
     "text": [
      "{'latitude': '-45.7151', 'longitude': '-24.6744'}\n",
      "'-45.7151'\n"
     ]
    }
   ],
   "source": [
    "pprint(response.json()[\"iss_position\"])\n",
    "pprint(response.json()[\"iss_position\"][\"latitude\"])"
   ]
  },
  {
   "cell_type": "code",
   "execution_count": 10,
   "id": "ddbcbcf6",
   "metadata": {},
   "outputs": [
    {
     "name": "stdout",
     "output_type": "stream",
     "text": [
      "Latitud: -45.7151\n",
      "\n",
      "Longitud: -24.6744\n"
     ]
    }
   ],
   "source": [
    "lati_str = response.json()[\"iss_position\"][\"latitude\"]\n",
    "long_str = response.json()[\"iss_position\"][\"longitude\"]\n",
    "\n",
    "lati, long = float(lati_str), float(long_str)\n",
    "\n",
    "print(f\"Latitud: {lati}\\n\"); print(f\"Longitud: {long}\")"
   ]
  },
  {
   "cell_type": "code",
   "execution_count": 11,
   "id": "a3324da3",
   "metadata": {},
   "outputs": [
    {
     "data": {
      "image/png": "[encoded data removed]",
      "text/plain": [
       "<Figure size 640x480 with 1 Axes>"
      ]
     },
     "metadata": {},
     "output_type": "display_data"
    }
   ],
   "source": [
    "import matplotlib.pyplot as plt\n",
    "plt.scatter(x=long, y=lati); plt.show()"
   ]
  },
  {
   "cell_type": "code",
   "execution_count": 12,
   "id": "8296f01c",
   "metadata": {},
   "outputs": [
    {
     "name": "stdout",
     "output_type": "stream",
     "text": [
      "{\n",
      "    \"iss_position\": {\n",
      "        \"latitude\": \"-45.7151\",\n",
      "        \"longitude\": \"-24.6744\"\n",
      "    },\n",
      "    \"message\": \"success\",\n",
      "    \"timestamp\": 1718927312\n",
      "}\n"
     ]
    }
   ],
   "source": [
    "# Generalmente las respuestas de una llamada API son archivos JSON\n",
    "# Recordar la clase anterior, cuando se vieron varios ejercicios de cómo utilizarlo de la mejor manera\n",
    "\n",
    "import json\n",
    "# Se genera una función simple llamada \"jprint\"\n",
    "def jprint(obj):\n",
    "    # create a formatted string of the Python JSON object\n",
    "    text = json.dumps(obj, sort_keys=True, indent=4); print(text)\n",
    "\n",
    "jprint(response.json())"
   ]
  },
  {
   "cell_type": "code",
   "execution_count": 16,
   "id": "2cdfb7e7",
   "metadata": {},
   "outputs": [
    {
     "name": "stdout",
     "output_type": "stream",
     "text": [
      "No se pudo obtener información de la url.\n"
     ]
    }
   ],
   "source": [
    "# Envío de parámetros a las funciones\n",
    "# En esta función en particular se pasa la latitud y longitud, y la API indica cuántas veces la estación espacial ha estado por ahí\n",
    "# Aquí el ejemplo, usando la longitud y latitud de Ciudad de México: 19.4326° N, 99.1332° W\n",
    "\n",
    "parameters = {\n",
    "    \"lat\": 19.43,\n",
    "    \"lon\": -99.13\n",
    "}\n",
    "\n",
    "response = requests.get(\"http://api.open-notify.org/iss-pass.json\", params=parameters)\n",
    "\n",
    "if response.status_code == 200:\n",
    "    jprint(response.json())\n",
    "    \n",
    "    # Se analiza más la variable de tiempos\n",
    "\n",
    "    pass_times = response.json()['response']\n",
    "    jprint(pass_times)\n",
    "    \n",
    "    # Finalmente se genera una lista con las horas en las que se hicieron los pasos de la Estación Espacial\n",
    "    # Las unidades están en \"epoch\", es decir el número de segundos medidos desde 1/1/1970\n",
    "    risetimes = []\n",
    "    \n",
    "    for d in pass_times:\n",
    "        time = d['risetime']\n",
    "        risetimes.append(time)\n",
    "    \n",
    "    print(risetimes)\n",
    "    \n",
    "    # Se hace la transformación acá\n",
    "    from datetime import datetime\n",
    "    \n",
    "    times = []\n",
    "    \n",
    "    for rt in risetimes:\n",
    "        time = datetime.fromtimestamp(rt)\n",
    "        times.append(time)\n",
    "        print(time)\n",
    "else:\n",
    "    print('No se pudo obtener información de la url.')"
   ]
  },
  {
   "cell_type": "markdown",
   "id": "bb6de8a8",
   "metadata": {},
   "source": [
    "# Wrap up\n",
    "- En esta sesión se revisó cómo hacer scraping de datos utilizando las librerías requests y luego formatear los resultados con BeautifulSoup.\n",
    "- Se hicieron algunos ejemplos de cómo traer información de sitios web y parsearlos para generar estructuras limpias y fáciles de utilizar.\n",
    "- Se enseñó a encontrar los indicadores de elemento de cada sitio web que permitirán generar de manera muy fácil estas estructuras.\n",
    "- Finalmente se utilizó una librería tipo API junto con sus comandos POST, GET, etc. y obtener la información en formato JSON, para luego parsearlo en una estructura más limpia como un diccionario o una lista."
   ]
  },
  {
   "cell_type": "code",
   "execution_count": null,
   "id": "c173b797",
   "metadata": {},
   "outputs": [],
   "source": []
  }
 ],
 "metadata": {
  "kernelspec": {
   "display_name": "Python 3 (ipykernel)",
   "language": "python",
   "name": "python3"
  },
  "language_info": {
   "codemirror_mode": {
    "name": "ipython",
    "version": 3
   },
   "file_extension": ".py",
   "mimetype": "text/x-python",
   "name": "python",
   "nbconvert_exporter": "python",
   "pygments_lexer": "ipython3",
   "version": "3.11.5"
  }
 },
 "nbformat": 4,
 "nbformat_minor": 5
}
