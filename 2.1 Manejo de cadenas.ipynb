{
 "cells": [
  {
   "cell_type": "code",
   "execution_count": 1,
   "id": "c389f52b",
   "metadata": {},
   "outputs": [
    {
     "name": "stdout",
     "output_type": "stream",
     "text": [
      "Memín Ian\n"
     ]
    }
   ],
   "source": [
    "nombre = \"Memín\"\n",
    "nombre2 = 'Ian'\n",
    "nombre3 = nombre + \" \" + nombre2\n",
    "print(nombre3)"
   ]
  },
  {
   "cell_type": "code",
   "execution_count": 2,
   "id": "665082c1",
   "metadata": {},
   "outputs": [
    {
     "name": "stdout",
     "output_type": "stream",
     "text": [
      "e\n"
     ]
    }
   ],
   "source": [
    "print(nombre3[1])"
   ]
  },
  {
   "cell_type": "code",
   "execution_count": 3,
   "id": "2ea98508",
   "metadata": {},
   "outputs": [
    {
     "name": "stdout",
     "output_type": "stream",
     "text": [
      "M\n"
     ]
    }
   ],
   "source": [
    "print(nombre3[0])"
   ]
  },
  {
   "cell_type": "code",
   "execution_count": 6,
   "id": "d0cb6f35",
   "metadata": {},
   "outputs": [
    {
     "name": "stdout",
     "output_type": "stream",
     "text": [
      "Memín Ia\n"
     ]
    }
   ],
   "source": [
    "print(nombre3[0:8])"
   ]
  },
  {
   "cell_type": "code",
   "execution_count": 8,
   "id": "7c2d332b",
   "metadata": {},
   "outputs": [
    {
     "name": "stdout",
     "output_type": "stream",
     "text": [
      "Memín\n"
     ]
    }
   ],
   "source": [
    "print(nombre3[0:5])"
   ]
  },
  {
   "cell_type": "code",
   "execution_count": 9,
   "id": "4f5ee27d",
   "metadata": {},
   "outputs": [
    {
     "name": "stdout",
     "output_type": "stream",
     "text": [
      "Memín\n"
     ]
    }
   ],
   "source": [
    "print(nombre3[:5])"
   ]
  },
  {
   "cell_type": "code",
   "execution_count": 10,
   "id": "f19adf04",
   "metadata": {},
   "outputs": [
    {
     "name": "stdout",
     "output_type": "stream",
     "text": [
      "Memín Ian\n"
     ]
    }
   ],
   "source": [
    "print(nombre3[0:])"
   ]
  },
  {
   "cell_type": "code",
   "execution_count": 11,
   "id": "96a1a6b0",
   "metadata": {},
   "outputs": [
    {
     "name": "stdout",
     "output_type": "stream",
     "text": [
      "Memín Ian\n"
     ]
    }
   ],
   "source": [
    "print(nombre3[:])"
   ]
  },
  {
   "cell_type": "code",
   "execution_count": 12,
   "id": "83e56a1e",
   "metadata": {},
   "outputs": [
    {
     "ename": "IndexError",
     "evalue": "string index out of range",
     "output_type": "error",
     "traceback": [
      "\u001b[0;31m---------------------------------------------------------------------------\u001b[0m",
      "\u001b[0;31mIndexError\u001b[0m                                Traceback (most recent call last)",
      "Cell \u001b[0;32mIn[12], line 1\u001b[0m\n\u001b[0;32m----> 1\u001b[0m \u001b[38;5;28mprint\u001b[39m(nombre3[\u001b[38;5;241m20\u001b[39m])\n",
      "\u001b[0;31mIndexError\u001b[0m: string index out of range"
     ]
    }
   ],
   "source": [
    "print(nombre3[20])"
   ]
  },
  {
   "cell_type": "code",
   "execution_count": 13,
   "id": "0ba612ea",
   "metadata": {},
   "outputs": [
    {
     "name": "stdout",
     "output_type": "stream",
     "text": [
      "9\n"
     ]
    }
   ],
   "source": [
    "print(len(nombre3))"
   ]
  },
  {
   "cell_type": "code",
   "execution_count": 14,
   "id": "72bc04e3",
   "metadata": {},
   "outputs": [
    {
     "name": "stdout",
     "output_type": "stream",
     "text": [
      "memín ian\n"
     ]
    }
   ],
   "source": [
    "print(nombre3.lower())"
   ]
  },
  {
   "cell_type": "code",
   "execution_count": 15,
   "id": "5360d235",
   "metadata": {},
   "outputs": [
    {
     "name": "stdout",
     "output_type": "stream",
     "text": [
      "MEMÍN IAN\n"
     ]
    }
   ],
   "source": [
    "print(nombre3.upper())"
   ]
  },
  {
   "cell_type": "code",
   "execution_count": 17,
   "id": "4c946e6b",
   "metadata": {},
   "outputs": [
    {
     "data": {
      "text/plain": [
       "['__add__',\n",
       " '__class__',\n",
       " '__contains__',\n",
       " '__delattr__',\n",
       " '__dir__',\n",
       " '__doc__',\n",
       " '__eq__',\n",
       " '__format__',\n",
       " '__ge__',\n",
       " '__getattribute__',\n",
       " '__getitem__',\n",
       " '__getnewargs__',\n",
       " '__getstate__',\n",
       " '__gt__',\n",
       " '__hash__',\n",
       " '__init__',\n",
       " '__init_subclass__',\n",
       " '__iter__',\n",
       " '__le__',\n",
       " '__len__',\n",
       " '__lt__',\n",
       " '__mod__',\n",
       " '__mul__',\n",
       " '__ne__',\n",
       " '__new__',\n",
       " '__reduce__',\n",
       " '__reduce_ex__',\n",
       " '__repr__',\n",
       " '__rmod__',\n",
       " '__rmul__',\n",
       " '__setattr__',\n",
       " '__sizeof__',\n",
       " '__str__',\n",
       " '__subclasshook__',\n",
       " 'capitalize',\n",
       " 'casefold',\n",
       " 'center',\n",
       " 'count',\n",
       " 'encode',\n",
       " 'endswith',\n",
       " 'expandtabs',\n",
       " 'find',\n",
       " 'format',\n",
       " 'format_map',\n",
       " 'index',\n",
       " 'isalnum',\n",
       " 'isalpha',\n",
       " 'isascii',\n",
       " 'isdecimal',\n",
       " 'isdigit',\n",
       " 'isidentifier',\n",
       " 'islower',\n",
       " 'isnumeric',\n",
       " 'isprintable',\n",
       " 'isspace',\n",
       " 'istitle',\n",
       " 'isupper',\n",
       " 'join',\n",
       " 'ljust',\n",
       " 'lower',\n",
       " 'lstrip',\n",
       " 'maketrans',\n",
       " 'partition',\n",
       " 'removeprefix',\n",
       " 'removesuffix',\n",
       " 'replace',\n",
       " 'rfind',\n",
       " 'rindex',\n",
       " 'rjust',\n",
       " 'rpartition',\n",
       " 'rsplit',\n",
       " 'rstrip',\n",
       " 'split',\n",
       " 'splitlines',\n",
       " 'startswith',\n",
       " 'strip',\n",
       " 'swapcase',\n",
       " 'title',\n",
       " 'translate',\n",
       " 'upper',\n",
       " 'zfill']"
      ]
     },
     "execution_count": 17,
     "metadata": {},
     "output_type": "execute_result"
    }
   ],
   "source": [
    "dir(nombre3) # Comandos aplicables a la cadena"
   ]
  },
  {
   "cell_type": "code",
   "execution_count": 18,
   "id": "efea388d",
   "metadata": {},
   "outputs": [
    {
     "name": "stdout",
     "output_type": "stream",
     "text": [
      "Hola, amigo\n",
      "Hola, amiga\n"
     ]
    }
   ],
   "source": [
    "texto = \"Hola, amigo\"\n",
    "print(texto)\n",
    "texto_modificado = texto.replace(\"amigo\", \"amiga\")\n",
    "print(texto_modificado)"
   ]
  },
  {
   "cell_type": "code",
   "execution_count": 22,
   "id": "03097313",
   "metadata": {},
   "outputs": [
    {
     "data": {
      "text/plain": [
       "'Hola amigo'"
      ]
     },
     "execution_count": 22,
     "metadata": {},
     "output_type": "execute_result"
    }
   ],
   "source": [
    "texto = \"   Hola amigo   \"\n",
    "texto.strip() # derecha e izquierda, derecha - rstrip, izquierda - lstrip"
   ]
  },
  {
   "cell_type": "code",
   "execution_count": null,
   "id": "c9bee20c",
   "metadata": {},
   "outputs": [],
   "source": []
  }
 ],
 "metadata": {
  "kernelspec": {
   "display_name": "Python 3 (ipykernel)",
   "language": "python",
   "name": "python3"
  },
  "language_info": {
   "codemirror_mode": {
    "name": "ipython",
    "version": 3
   },
   "file_extension": ".py",
   "mimetype": "text/x-python",
   "name": "python",
   "nbconvert_exporter": "python",
   "pygments_lexer": "ipython3",
   "version": "3.11.5"
  }
 },
 "nbformat": 4,
 "nbformat_minor": 5
}
