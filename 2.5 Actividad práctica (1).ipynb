{
 "cells": [
  {
   "cell_type": "code",
   "execution_count": 20,
   "id": "14356435",
   "metadata": {},
   "outputs": [
    {
     "name": "stdout",
     "output_type": "stream",
     "text": [
      "Ingresa el texto a analizar: El amor es una locura que ni el cura lo cura porque si el cura lo cura sería una locura del cura\n"
     ]
    }
   ],
   "source": [
    "texto = input(\"Ingresa el texto a analizar: \")"
   ]
  },
  {
   "cell_type": "code",
   "execution_count": 21,
   "id": "9f3b4f3d",
   "metadata": {},
   "outputs": [
    {
     "name": "stdout",
     "output_type": "stream",
     "text": [
      "Este es tu texto:\n",
      "El amor es una locura que ni el cura lo cura porque si el cura lo cura sería una locura del cura.\n"
     ]
    }
   ],
   "source": [
    "print(\"Este es tu texto:\\n\"+texto+\".\")"
   ]
  },
  {
   "cell_type": "code",
   "execution_count": 22,
   "id": "f98b9399",
   "metadata": {},
   "outputs": [
    {
     "name": "stdout",
     "output_type": "stream",
     "text": [
      "La palabra 'El' se repite 1 vez.\n",
      "La palabra 'amor' se repite 1 vez.\n",
      "La palabra 'es' se repite 1 vez.\n",
      "La palabra 'una' se repite 2 veces.\n",
      "La palabra 'locura' se repite 2 veces.\n",
      "La palabra 'que' se repite 1 vez.\n",
      "La palabra 'ni' se repite 1 vez.\n",
      "La palabra 'el' se repite 2 veces.\n",
      "La palabra 'cura' se repite 5 veces.\n",
      "La palabra 'lo' se repite 2 veces.\n",
      "La palabra 'porque' se repite 1 vez.\n",
      "La palabra 'si' se repite 1 vez.\n",
      "La palabra 'sería' se repite 1 vez.\n",
      "La palabra 'del' se repite 1 vez.\n"
     ]
    }
   ],
   "source": [
    "palabras = texto.split() # Se crea una lista de todas las palabras del texto del usuario\n",
    "conteo = dict() # Se crea una diccionario vacío que será el conteo de las palabras\n",
    "\n",
    "for palabra in palabras:\n",
    "    if palabra not in conteo: # Si no se ha incluido la palabra en el diccionario, se inicializa con el valor 1\n",
    "        conteo[palabra] = 1\n",
    "    else: # Si la palabra ya está en el diccionario (como locura en la 2da iteración), se incrementa en 1\n",
    "        conteo[palabra] += 1\n",
    "\n",
    "tuplas = conteo.items() # Se crea una lista de tuplas de cada key del diccionario\n",
    "\n",
    "for tupla in tuplas: # Se itera en la lista de tuplas (ítems) del diccionario\n",
    "    x = tupla[0] # Se accede a la palabra\n",
    "    y = tupla[1] # Se accede al conteo de la palabra\n",
    "    texto = \"La palabra '\" + x + \"' se repite \" + str(y) + \" \" # Texto normal\n",
    "    texto = texto + \"vez.\" if y == 1 else texto + \"veces.\" # Se concluye el texto dependiendo de la frecuencia\n",
    "    print(texto) # Se imprime el texto"
   ]
  },
  {
   "cell_type": "code",
   "execution_count": null,
   "id": "1c8a7f5e",
   "metadata": {},
   "outputs": [],
   "source": []
  }
 ],
 "metadata": {
  "kernelspec": {
   "display_name": "Python 3 (ipykernel)",
   "language": "python",
   "name": "python3"
  },
  "language_info": {
   "codemirror_mode": {
    "name": "ipython",
    "version": 3
   },
   "file_extension": ".py",
   "mimetype": "text/x-python",
   "name": "python",
   "nbconvert_exporter": "python",
   "pygments_lexer": "ipython3",
   "version": "3.11.5"
  }
 },
 "nbformat": 4,
 "nbformat_minor": 5
}
