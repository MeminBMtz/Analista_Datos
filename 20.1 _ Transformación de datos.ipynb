{
 "cells": [
  {
   "cell_type": "markdown",
   "id": "a0e6ff58",
   "metadata": {},
   "source": [
    "# Project #2 - Exploratory Data Analysis\n",
    "Antes de empezar:\n",
    "- Revisar la configuración del ambiente de trabajo: Anaconda + VS Code.\n",
    "- Obtener los archivos de ventas sales_month_2019.csv del Centro de Descargas."
   ]
  },
  {
   "cell_type": "code",
   "execution_count": 1,
   "id": "1184ca4f",
   "metadata": {},
   "outputs": [],
   "source": [
    "import pandas as pd\n",
    "import numpy as np\n",
    "import os\n",
    "import seaborn as sns\n",
    "import matplotlib.pyplot as plt\n",
    "\n",
    "os.chdir('/users/memobarbosa/Análisis de datos/Parte 2/M20 - Exploratory Data Analysis Kaggle Project 2')"
   ]
  },
  {
   "cell_type": "markdown",
   "id": "27a97ee2",
   "metadata": {},
   "source": [
    "# Preparación de Datos\n",
    "- Generación de DataFrame master a partir de históricos."
   ]
  },
  {
   "cell_type": "code",
   "execution_count": 2,
   "id": "87ed32ba",
   "metadata": {},
   "outputs": [],
   "source": [
    "# Se usa la función read_csv para leer los archivos .csv que traen los datos de cada mes\n",
    "df1 = pd.read_csv('Sales_January_2019.csv')\n",
    "df2 = pd.read_csv('Sales_February_2019.csv')\n",
    "df3 = pd.read_csv('Sales_March_2019.csv')\n",
    "df4 = pd.read_csv('Sales_April_2019.csv')\n",
    "df5 = pd.read_csv('Sales_May_2019.csv')\n",
    "df6 = pd.read_csv('Sales_June_2019.csv')\n",
    "df7 = pd.read_csv('Sales_July_2019.csv')\n",
    "df8 = pd.read_csv('Sales_August_2019.csv')\n",
    "df9 = pd.read_csv('Sales_September_2019.csv')\n",
    "df10 = pd.read_csv('Sales_October_2019.csv')\n",
    "df11 = pd.read_csv('Sales_November_2019.csv')\n",
    "df12 = pd.read_csv('Sales_December_2019.csv')"
   ]
  },
  {
   "cell_type": "code",
   "execution_count": 3,
   "id": "445a6092",
   "metadata": {},
   "outputs": [
    {
     "data": {
      "text/html": [
       "<div>\n",
       "<style scoped>\n",
       "    .dataframe tbody tr th:only-of-type {\n",
       "        vertical-align: middle;\n",
       "    }\n",
       "\n",
       "    .dataframe tbody tr th {\n",
       "        vertical-align: top;\n",
       "    }\n",
       "\n",
       "    .dataframe thead th {\n",
       "        text-align: right;\n",
       "    }\n",
       "</style>\n",
       "<table border=\"1\" class=\"dataframe\">\n",
       "  <thead>\n",
       "    <tr style=\"text-align: right;\">\n",
       "      <th></th>\n",
       "      <th>Order ID</th>\n",
       "      <th>Product</th>\n",
       "      <th>Quantity Ordered</th>\n",
       "      <th>Price Each</th>\n",
       "      <th>Order Date</th>\n",
       "      <th>Purchase Address</th>\n",
       "      <th>Month</th>\n",
       "    </tr>\n",
       "  </thead>\n",
       "  <tbody>\n",
       "    <tr>\n",
       "      <th>0</th>\n",
       "      <td>141234</td>\n",
       "      <td>iPhone</td>\n",
       "      <td>1</td>\n",
       "      <td>700</td>\n",
       "      <td>01/22/19 21:25</td>\n",
       "      <td>944 Walnut St, Boston, MA 02215</td>\n",
       "      <td>2019-01-01</td>\n",
       "    </tr>\n",
       "    <tr>\n",
       "      <th>1</th>\n",
       "      <td>141235</td>\n",
       "      <td>Lightning Charging Cable</td>\n",
       "      <td>1</td>\n",
       "      <td>14.95</td>\n",
       "      <td>01/28/19 14:15</td>\n",
       "      <td>185 Maple St, Portland, OR 97035</td>\n",
       "      <td>2019-01-01</td>\n",
       "    </tr>\n",
       "    <tr>\n",
       "      <th>2</th>\n",
       "      <td>141236</td>\n",
       "      <td>Wired Headphones</td>\n",
       "      <td>2</td>\n",
       "      <td>11.99</td>\n",
       "      <td>01/17/19 13:33</td>\n",
       "      <td>538 Adams St, San Francisco, CA 94016</td>\n",
       "      <td>2019-01-01</td>\n",
       "    </tr>\n",
       "    <tr>\n",
       "      <th>3</th>\n",
       "      <td>141237</td>\n",
       "      <td>27in FHD Monitor</td>\n",
       "      <td>1</td>\n",
       "      <td>149.99</td>\n",
       "      <td>01/05/19 20:33</td>\n",
       "      <td>738 10th St, Los Angeles, CA 90001</td>\n",
       "      <td>2019-01-01</td>\n",
       "    </tr>\n",
       "    <tr>\n",
       "      <th>4</th>\n",
       "      <td>141238</td>\n",
       "      <td>Wired Headphones</td>\n",
       "      <td>1</td>\n",
       "      <td>11.99</td>\n",
       "      <td>01/25/19 11:59</td>\n",
       "      <td>387 10th St, Austin, TX 73301</td>\n",
       "      <td>2019-01-01</td>\n",
       "    </tr>\n",
       "    <tr>\n",
       "      <th>...</th>\n",
       "      <td>...</td>\n",
       "      <td>...</td>\n",
       "      <td>...</td>\n",
       "      <td>...</td>\n",
       "      <td>...</td>\n",
       "      <td>...</td>\n",
       "      <td>...</td>\n",
       "    </tr>\n",
       "    <tr>\n",
       "      <th>9718</th>\n",
       "      <td>150497</td>\n",
       "      <td>20in Monitor</td>\n",
       "      <td>1</td>\n",
       "      <td>109.99</td>\n",
       "      <td>01/26/19 19:09</td>\n",
       "      <td>95 8th St, Dallas, TX 75001</td>\n",
       "      <td>2019-01-01</td>\n",
       "    </tr>\n",
       "    <tr>\n",
       "      <th>9719</th>\n",
       "      <td>150498</td>\n",
       "      <td>27in FHD Monitor</td>\n",
       "      <td>1</td>\n",
       "      <td>149.99</td>\n",
       "      <td>01/10/19 22:58</td>\n",
       "      <td>403 7th St, San Francisco, CA 94016</td>\n",
       "      <td>2019-01-01</td>\n",
       "    </tr>\n",
       "    <tr>\n",
       "      <th>9720</th>\n",
       "      <td>150499</td>\n",
       "      <td>ThinkPad Laptop</td>\n",
       "      <td>1</td>\n",
       "      <td>999.99</td>\n",
       "      <td>01/21/19 14:31</td>\n",
       "      <td>214 Main St, Portland, OR 97035</td>\n",
       "      <td>2019-01-01</td>\n",
       "    </tr>\n",
       "    <tr>\n",
       "      <th>9721</th>\n",
       "      <td>150500</td>\n",
       "      <td>AAA Batteries (4-pack)</td>\n",
       "      <td>2</td>\n",
       "      <td>2.99</td>\n",
       "      <td>01/15/19 14:21</td>\n",
       "      <td>810 2nd St, Los Angeles, CA 90001</td>\n",
       "      <td>2019-01-01</td>\n",
       "    </tr>\n",
       "    <tr>\n",
       "      <th>9722</th>\n",
       "      <td>150501</td>\n",
       "      <td>Google Phone</td>\n",
       "      <td>1</td>\n",
       "      <td>600</td>\n",
       "      <td>01/13/19 16:43</td>\n",
       "      <td>428 Cedar St, Boston, MA 02215</td>\n",
       "      <td>2019-01-01</td>\n",
       "    </tr>\n",
       "  </tbody>\n",
       "</table>\n",
       "<p>9723 rows × 7 columns</p>\n",
       "</div>"
      ],
      "text/plain": [
       "     Order ID                   Product Quantity Ordered Price Each  \\\n",
       "0      141234                    iPhone                1        700   \n",
       "1      141235  Lightning Charging Cable                1      14.95   \n",
       "2      141236          Wired Headphones                2      11.99   \n",
       "3      141237          27in FHD Monitor                1     149.99   \n",
       "4      141238          Wired Headphones                1      11.99   \n",
       "...       ...                       ...              ...        ...   \n",
       "9718   150497              20in Monitor                1     109.99   \n",
       "9719   150498          27in FHD Monitor                1     149.99   \n",
       "9720   150499           ThinkPad Laptop                1     999.99   \n",
       "9721   150500    AAA Batteries (4-pack)                2       2.99   \n",
       "9722   150501              Google Phone                1        600   \n",
       "\n",
       "          Order Date                       Purchase Address       Month  \n",
       "0     01/22/19 21:25        944 Walnut St, Boston, MA 02215  2019-01-01  \n",
       "1     01/28/19 14:15       185 Maple St, Portland, OR 97035  2019-01-01  \n",
       "2     01/17/19 13:33  538 Adams St, San Francisco, CA 94016  2019-01-01  \n",
       "3     01/05/19 20:33     738 10th St, Los Angeles, CA 90001  2019-01-01  \n",
       "4     01/25/19 11:59          387 10th St, Austin, TX 73301  2019-01-01  \n",
       "...              ...                                    ...         ...  \n",
       "9718  01/26/19 19:09            95 8th St, Dallas, TX 75001  2019-01-01  \n",
       "9719  01/10/19 22:58    403 7th St, San Francisco, CA 94016  2019-01-01  \n",
       "9720  01/21/19 14:31        214 Main St, Portland, OR 97035  2019-01-01  \n",
       "9721  01/15/19 14:21      810 2nd St, Los Angeles, CA 90001  2019-01-01  \n",
       "9722  01/13/19 16:43         428 Cedar St, Boston, MA 02215  2019-01-01  \n",
       "\n",
       "[9723 rows x 7 columns]"
      ]
     },
     "execution_count": 3,
     "metadata": {},
     "output_type": "execute_result"
    }
   ],
   "source": [
    "df = df1 # Genera un dataset donde al final se van a compilar todos los anteriores\n",
    "df['Month'] = '2019-01-01' # Genera un campo de fecha\n",
    "df"
   ]
  },
  {
   "cell_type": "code",
   "execution_count": 4,
   "id": "029cecb3",
   "metadata": {},
   "outputs": [],
   "source": [
    "# February\n",
    "df = pd.concat([df, df2], ignore_index=True)\n",
    "df['Month'] = df['Month'].fillna('2019-02-01')\n",
    "# March\n",
    "df = pd.concat([df, df3], ignore_index=True)\n",
    "df['Month'] = df['Month'].fillna('2019-03-01')\n",
    "# April\n",
    "df = pd.concat([df, df4], ignore_index=True)\n",
    "df['Month'] = df['Month'].fillna('2019-04-01')\n",
    "# May\n",
    "df = pd.concat([df, df5], ignore_index=True)\n",
    "df['Month'] = df['Month'].fillna('2019-05-01')\n",
    "# June\n",
    "df = pd.concat([df, df6], ignore_index=True)\n",
    "df['Month'] = df['Month'].fillna('2019-06-01')\n",
    "# July\n",
    "df = pd.concat([df, df7], ignore_index=True)\n",
    "df['Month'] = df['Month'].fillna('2019-07-01')\n",
    "# August\n",
    "df = pd.concat([df, df8], ignore_index=True)\n",
    "df['Month'] = df['Month'].fillna('2019-08-01')\n",
    "# September\n",
    "df = pd.concat([df, df9], ignore_index=True)\n",
    "df['Month'] = df['Month'].fillna('2019-09-01')\n",
    "# October\n",
    "df = pd.concat([df, df10], ignore_index=True)\n",
    "df['Month'] = df['Month'].fillna('2019-10-01')\n",
    "# November\n",
    "df = pd.concat([df, df11], ignore_index=True)\n",
    "df['Month'] = df['Month'].fillna('2019-11-01')\n",
    "# December\n",
    "df = pd.concat([df, df12], ignore_index=True)\n",
    "df['Month'] = df['Month'].fillna('2019-12-01')"
   ]
  },
  {
   "cell_type": "markdown",
   "id": "d19a3ace",
   "metadata": {},
   "source": [
    "# Análisis básico"
   ]
  },
  {
   "cell_type": "code",
   "execution_count": 5,
   "id": "7cca709a",
   "metadata": {},
   "outputs": [
    {
     "data": {
      "text/html": [
       "<div>\n",
       "<style scoped>\n",
       "    .dataframe tbody tr th:only-of-type {\n",
       "        vertical-align: middle;\n",
       "    }\n",
       "\n",
       "    .dataframe tbody tr th {\n",
       "        vertical-align: top;\n",
       "    }\n",
       "\n",
       "    .dataframe thead th {\n",
       "        text-align: right;\n",
       "    }\n",
       "</style>\n",
       "<table border=\"1\" class=\"dataframe\">\n",
       "  <thead>\n",
       "    <tr style=\"text-align: right;\">\n",
       "      <th></th>\n",
       "      <th>Order ID</th>\n",
       "      <th>Product</th>\n",
       "      <th>Quantity Ordered</th>\n",
       "      <th>Price Each</th>\n",
       "      <th>Order Date</th>\n",
       "      <th>Purchase Address</th>\n",
       "      <th>Month</th>\n",
       "    </tr>\n",
       "  </thead>\n",
       "  <tbody>\n",
       "    <tr>\n",
       "      <th>85902</th>\n",
       "      <td>223177</td>\n",
       "      <td>20in Monitor</td>\n",
       "      <td>1</td>\n",
       "      <td>109.99</td>\n",
       "      <td>07/28/19 12:52</td>\n",
       "      <td>654 11th St, San Francisco, CA 94016</td>\n",
       "      <td>2019-07-01</td>\n",
       "    </tr>\n",
       "    <tr>\n",
       "      <th>171007</th>\n",
       "      <td>304508</td>\n",
       "      <td>Bose SoundSport Headphones</td>\n",
       "      <td>1</td>\n",
       "      <td>99.99</td>\n",
       "      <td>12/21/19 08:53</td>\n",
       "      <td>63 Walnut St, San Francisco, CA 94016</td>\n",
       "      <td>2019-12-01</td>\n",
       "    </tr>\n",
       "    <tr>\n",
       "      <th>115867</th>\n",
       "      <td>251862</td>\n",
       "      <td>USB-C Charging Cable</td>\n",
       "      <td>1</td>\n",
       "      <td>11.95</td>\n",
       "      <td>09/07/19 17:38</td>\n",
       "      <td>451 South St, Boston, MA 02215</td>\n",
       "      <td>2019-09-01</td>\n",
       "    </tr>\n",
       "    <tr>\n",
       "      <th>183811</th>\n",
       "      <td>316755</td>\n",
       "      <td>27in 4K Gaming Monitor</td>\n",
       "      <td>1</td>\n",
       "      <td>389.99</td>\n",
       "      <td>12/25/19 20:35</td>\n",
       "      <td>892 Ridge St, San Francisco, CA 94016</td>\n",
       "      <td>2019-12-01</td>\n",
       "    </tr>\n",
       "    <tr>\n",
       "      <th>100077</th>\n",
       "      <td>236748</td>\n",
       "      <td>Bose SoundSport Headphones</td>\n",
       "      <td>1</td>\n",
       "      <td>99.99</td>\n",
       "      <td>08/19/19 16:40</td>\n",
       "      <td>977 13th St, New York City, NY 10001</td>\n",
       "      <td>2019-08-01</td>\n",
       "    </tr>\n",
       "    <tr>\n",
       "      <th>172482</th>\n",
       "      <td>305918</td>\n",
       "      <td>USB-C Charging Cable</td>\n",
       "      <td>2</td>\n",
       "      <td>11.95</td>\n",
       "      <td>12/24/19 21:22</td>\n",
       "      <td>273 6th St, San Francisco, CA 94016</td>\n",
       "      <td>2019-12-01</td>\n",
       "    </tr>\n",
       "    <tr>\n",
       "      <th>47657</th>\n",
       "      <td>186747</td>\n",
       "      <td>Lightning Charging Cable</td>\n",
       "      <td>1</td>\n",
       "      <td>14.95</td>\n",
       "      <td>04/02/19 10:42</td>\n",
       "      <td>961 Meadow St, New York City, NY 10001</td>\n",
       "      <td>2019-04-01</td>\n",
       "    </tr>\n",
       "    <tr>\n",
       "      <th>92850</th>\n",
       "      <td>229814</td>\n",
       "      <td>AAA Batteries (4-pack)</td>\n",
       "      <td>1</td>\n",
       "      <td>2.99</td>\n",
       "      <td>07/09/19 16:32</td>\n",
       "      <td>105 Forest St, New York City, NY 10001</td>\n",
       "      <td>2019-07-01</td>\n",
       "    </tr>\n",
       "    <tr>\n",
       "      <th>136284</th>\n",
       "      <td>271378</td>\n",
       "      <td>USB-C Charging Cable</td>\n",
       "      <td>1</td>\n",
       "      <td>11.95</td>\n",
       "      <td>10/23/19 17:16</td>\n",
       "      <td>952 Washington St, Los Angeles, CA 90001</td>\n",
       "      <td>2019-10-01</td>\n",
       "    </tr>\n",
       "    <tr>\n",
       "      <th>153806</th>\n",
       "      <td>288105</td>\n",
       "      <td>Wired Headphones</td>\n",
       "      <td>1</td>\n",
       "      <td>11.99</td>\n",
       "      <td>11/12/19 09:44</td>\n",
       "      <td>279 Elm St, Boston, MA 02215</td>\n",
       "      <td>2019-11-01</td>\n",
       "    </tr>\n",
       "  </tbody>\n",
       "</table>\n",
       "</div>"
      ],
      "text/plain": [
       "       Order ID                     Product Quantity Ordered Price Each  \\\n",
       "85902    223177                20in Monitor                1     109.99   \n",
       "171007   304508  Bose SoundSport Headphones                1      99.99   \n",
       "115867   251862        USB-C Charging Cable                1      11.95   \n",
       "183811   316755      27in 4K Gaming Monitor                1     389.99   \n",
       "100077   236748  Bose SoundSport Headphones                1      99.99   \n",
       "172482   305918        USB-C Charging Cable                2      11.95   \n",
       "47657    186747    Lightning Charging Cable                1      14.95   \n",
       "92850    229814      AAA Batteries (4-pack)                1       2.99   \n",
       "136284   271378        USB-C Charging Cable                1      11.95   \n",
       "153806   288105            Wired Headphones                1      11.99   \n",
       "\n",
       "            Order Date                          Purchase Address       Month  \n",
       "85902   07/28/19 12:52      654 11th St, San Francisco, CA 94016  2019-07-01  \n",
       "171007  12/21/19 08:53     63 Walnut St, San Francisco, CA 94016  2019-12-01  \n",
       "115867  09/07/19 17:38            451 South St, Boston, MA 02215  2019-09-01  \n",
       "183811  12/25/19 20:35     892 Ridge St, San Francisco, CA 94016  2019-12-01  \n",
       "100077  08/19/19 16:40      977 13th St, New York City, NY 10001  2019-08-01  \n",
       "172482  12/24/19 21:22       273 6th St, San Francisco, CA 94016  2019-12-01  \n",
       "47657   04/02/19 10:42    961 Meadow St, New York City, NY 10001  2019-04-01  \n",
       "92850   07/09/19 16:32    105 Forest St, New York City, NY 10001  2019-07-01  \n",
       "136284  10/23/19 17:16  952 Washington St, Los Angeles, CA 90001  2019-10-01  \n",
       "153806  11/12/19 09:44              279 Elm St, Boston, MA 02215  2019-11-01  "
      ]
     },
     "execution_count": 5,
     "metadata": {},
     "output_type": "execute_result"
    }
   ],
   "source": [
    "df.sample(10)"
   ]
  },
  {
   "cell_type": "code",
   "execution_count": 6,
   "id": "bb72e673",
   "metadata": {},
   "outputs": [
    {
     "data": {
      "text/plain": [
       "Month\n",
       "2019-01-01     9723\n",
       "2019-02-01    12036\n",
       "2019-03-01    15226\n",
       "2019-04-01    18383\n",
       "2019-05-01    16635\n",
       "2019-06-01    13622\n",
       "2019-07-01    14371\n",
       "2019-08-01    12011\n",
       "2019-09-01    11686\n",
       "2019-10-01    20379\n",
       "2019-11-01    17661\n",
       "2019-12-01    25117\n",
       "Name: Month, dtype: int64"
      ]
     },
     "execution_count": 6,
     "metadata": {},
     "output_type": "execute_result"
    }
   ],
   "source": [
    "# Cuenta el número de ventas por mes\n",
    "df.groupby('Month')['Month'].count()"
   ]
  },
  {
   "cell_type": "code",
   "execution_count": 7,
   "id": "058e14c3",
   "metadata": {},
   "outputs": [
    {
     "data": {
      "text/plain": [
       "<Axes: xlabel='Month'>"
      ]
     },
     "execution_count": 7,
     "metadata": {},
     "output_type": "execute_result"
    },
    {
     "data": {
      "image/png": "[encoded data removed]",
      "text/plain": [
       "<Figure size 640x480 with 1 Axes>"
      ]
     },
     "metadata": {},
     "output_type": "display_data"
    }
   ],
   "source": [
    "# Grafica el número de ventas por mes\n",
    "df.groupby('Month')['Month'].count().plot.bar()\n",
    "# Como era de esperarse, diciembre es el mes con más ventas (al menos en cantidad). Lo iremos descubriendo."
   ]
  },
  {
   "cell_type": "code",
   "execution_count": 8,
   "id": "48808ef4",
   "metadata": {},
   "outputs": [
    {
     "data": {
      "text/plain": [
       "(186850, 7)"
      ]
     },
     "execution_count": 8,
     "metadata": {},
     "output_type": "execute_result"
    }
   ],
   "source": [
    "# Tamaño del DF en filas y columnas\n",
    "df.shape"
   ]
  },
  {
   "cell_type": "code",
   "execution_count": 9,
   "id": "f5696adb",
   "metadata": {},
   "outputs": [
    {
     "name": "stdout",
     "output_type": "stream",
     "text": [
      "<class 'pandas.core.frame.DataFrame'>\n",
      "RangeIndex: 186850 entries, 0 to 186849\n",
      "Data columns (total 7 columns):\n",
      " #   Column            Non-Null Count   Dtype \n",
      "---  ------            --------------   ----- \n",
      " 0   Order ID          186305 non-null  object\n",
      " 1   Product           186305 non-null  object\n",
      " 2   Quantity Ordered  186305 non-null  object\n",
      " 3   Price Each        186305 non-null  object\n",
      " 4   Order Date        186305 non-null  object\n",
      " 5   Purchase Address  186305 non-null  object\n",
      " 6   Month             186850 non-null  object\n",
      "dtypes: object(7)\n",
      "memory usage: 10.0+ MB\n"
     ]
    }
   ],
   "source": [
    "# Tipos de datos\n",
    "df.info()"
   ]
  },
  {
   "cell_type": "code",
   "execution_count": 10,
   "id": "d9806344",
   "metadata": {},
   "outputs": [
    {
     "data": {
      "text/html": [
       "<div>\n",
       "<style scoped>\n",
       "    .dataframe tbody tr th:only-of-type {\n",
       "        vertical-align: middle;\n",
       "    }\n",
       "\n",
       "    .dataframe tbody tr th {\n",
       "        vertical-align: top;\n",
       "    }\n",
       "\n",
       "    .dataframe thead th {\n",
       "        text-align: right;\n",
       "    }\n",
       "</style>\n",
       "<table border=\"1\" class=\"dataframe\">\n",
       "  <thead>\n",
       "    <tr style=\"text-align: right;\">\n",
       "      <th></th>\n",
       "      <th>Order ID</th>\n",
       "      <th>Product</th>\n",
       "      <th>Quantity Ordered</th>\n",
       "      <th>Price Each</th>\n",
       "      <th>Order Date</th>\n",
       "      <th>Purchase Address</th>\n",
       "      <th>Month</th>\n",
       "    </tr>\n",
       "  </thead>\n",
       "  <tbody>\n",
       "    <tr>\n",
       "      <th>30818</th>\n",
       "      <td>170660</td>\n",
       "      <td>Flatscreen TV</td>\n",
       "      <td>1</td>\n",
       "      <td>300</td>\n",
       "      <td>03/03/19 22:49</td>\n",
       "      <td>279 Jackson St, Atlanta, GA 30301</td>\n",
       "      <td>2019-03-01</td>\n",
       "    </tr>\n",
       "    <tr>\n",
       "      <th>1914</th>\n",
       "      <td>143053</td>\n",
       "      <td>AAA Batteries (4-pack)</td>\n",
       "      <td>2</td>\n",
       "      <td>2.99</td>\n",
       "      <td>01/18/19 13:24</td>\n",
       "      <td>926 11th St, Seattle, WA 98101</td>\n",
       "      <td>2019-01-01</td>\n",
       "    </tr>\n",
       "    <tr>\n",
       "      <th>17240</th>\n",
       "      <td>157662</td>\n",
       "      <td>AA Batteries (4-pack)</td>\n",
       "      <td>3</td>\n",
       "      <td>3.84</td>\n",
       "      <td>02/09/19 00:24</td>\n",
       "      <td>791 Jackson St, Austin, TX 73301</td>\n",
       "      <td>2019-02-01</td>\n",
       "    </tr>\n",
       "    <tr>\n",
       "      <th>152058</th>\n",
       "      <td>286436</td>\n",
       "      <td>Wired Headphones</td>\n",
       "      <td>1</td>\n",
       "      <td>11.99</td>\n",
       "      <td>11/17/19 16:57</td>\n",
       "      <td>374 Johnson St, Seattle, WA 98101</td>\n",
       "      <td>2019-11-01</td>\n",
       "    </tr>\n",
       "    <tr>\n",
       "      <th>93826</th>\n",
       "      <td>230744</td>\n",
       "      <td>USB-C Charging Cable</td>\n",
       "      <td>1</td>\n",
       "      <td>11.95</td>\n",
       "      <td>07/20/19 11:27</td>\n",
       "      <td>132 North St, Los Angeles, CA 90001</td>\n",
       "      <td>2019-07-01</td>\n",
       "    </tr>\n",
       "    <tr>\n",
       "      <th>140494</th>\n",
       "      <td>275383</td>\n",
       "      <td>27in 4K Gaming Monitor</td>\n",
       "      <td>1</td>\n",
       "      <td>389.99</td>\n",
       "      <td>10/06/19 16:33</td>\n",
       "      <td>18 Chestnut St, New York City, NY 10001</td>\n",
       "      <td>2019-10-01</td>\n",
       "    </tr>\n",
       "    <tr>\n",
       "      <th>113867</th>\n",
       "      <td>249931</td>\n",
       "      <td>Google Phone</td>\n",
       "      <td>1</td>\n",
       "      <td>600</td>\n",
       "      <td>09/18/19 15:47</td>\n",
       "      <td>29 Washington St, Los Angeles, CA 90001</td>\n",
       "      <td>2019-09-01</td>\n",
       "    </tr>\n",
       "    <tr>\n",
       "      <th>133177</th>\n",
       "      <td>268407</td>\n",
       "      <td>Lightning Charging Cable</td>\n",
       "      <td>1</td>\n",
       "      <td>14.95</td>\n",
       "      <td>10/24/19 15:42</td>\n",
       "      <td>776 Madison St, New York City, NY 10001</td>\n",
       "      <td>2019-10-01</td>\n",
       "    </tr>\n",
       "    <tr>\n",
       "      <th>31032</th>\n",
       "      <td>170864</td>\n",
       "      <td>AAA Batteries (4-pack)</td>\n",
       "      <td>1</td>\n",
       "      <td>2.99</td>\n",
       "      <td>03/19/19 21:26</td>\n",
       "      <td>485 Spruce St, Austin, TX 73301</td>\n",
       "      <td>2019-03-01</td>\n",
       "    </tr>\n",
       "    <tr>\n",
       "      <th>151656</th>\n",
       "      <td>286052</td>\n",
       "      <td>Macbook Pro Laptop</td>\n",
       "      <td>1</td>\n",
       "      <td>1700</td>\n",
       "      <td>11/01/19 07:32</td>\n",
       "      <td>432 Maple St, New York City, NY 10001</td>\n",
       "      <td>2019-11-01</td>\n",
       "    </tr>\n",
       "  </tbody>\n",
       "</table>\n",
       "</div>"
      ],
      "text/plain": [
       "       Order ID                   Product Quantity Ordered Price Each  \\\n",
       "30818    170660             Flatscreen TV                1        300   \n",
       "1914     143053    AAA Batteries (4-pack)                2       2.99   \n",
       "17240    157662     AA Batteries (4-pack)                3       3.84   \n",
       "152058   286436          Wired Headphones                1      11.99   \n",
       "93826    230744      USB-C Charging Cable                1      11.95   \n",
       "140494   275383    27in 4K Gaming Monitor                1     389.99   \n",
       "113867   249931              Google Phone                1        600   \n",
       "133177   268407  Lightning Charging Cable                1      14.95   \n",
       "31032    170864    AAA Batteries (4-pack)                1       2.99   \n",
       "151656   286052        Macbook Pro Laptop                1       1700   \n",
       "\n",
       "            Order Date                         Purchase Address       Month  \n",
       "30818   03/03/19 22:49        279 Jackson St, Atlanta, GA 30301  2019-03-01  \n",
       "1914    01/18/19 13:24           926 11th St, Seattle, WA 98101  2019-01-01  \n",
       "17240   02/09/19 00:24         791 Jackson St, Austin, TX 73301  2019-02-01  \n",
       "152058  11/17/19 16:57        374 Johnson St, Seattle, WA 98101  2019-11-01  \n",
       "93826   07/20/19 11:27      132 North St, Los Angeles, CA 90001  2019-07-01  \n",
       "140494  10/06/19 16:33  18 Chestnut St, New York City, NY 10001  2019-10-01  \n",
       "113867  09/18/19 15:47  29 Washington St, Los Angeles, CA 90001  2019-09-01  \n",
       "133177  10/24/19 15:42  776 Madison St, New York City, NY 10001  2019-10-01  \n",
       "31032   03/19/19 21:26          485 Spruce St, Austin, TX 73301  2019-03-01  \n",
       "151656  11/01/19 07:32    432 Maple St, New York City, NY 10001  2019-11-01  "
      ]
     },
     "execution_count": 10,
     "metadata": {},
     "output_type": "execute_result"
    }
   ],
   "source": [
    "df.sample(10)"
   ]
  },
  {
   "cell_type": "markdown",
   "id": "fc1986af",
   "metadata": {},
   "source": [
    "# Masajeo de Datos"
   ]
  },
  {
   "cell_type": "code",
   "execution_count": 11,
   "id": "dd19ca16",
   "metadata": {},
   "outputs": [
    {
     "data": {
      "text/plain": [
       "0         01/22/19 21:25\n",
       "1         01/28/19 14:15\n",
       "2         01/17/19 13:33\n",
       "3         01/05/19 20:33\n",
       "4         01/25/19 11:59\n",
       "               ...      \n",
       "186845    12/11/19 20:58\n",
       "186846    12/01/19 12:01\n",
       "186847    12/09/19 06:43\n",
       "186848    12/03/19 10:39\n",
       "186849    12/21/19 21:45\n",
       "Name: Order Date, Length: 186850, dtype: object"
      ]
     },
     "execution_count": 11,
     "metadata": {},
     "output_type": "execute_result"
    }
   ],
   "source": [
    "# Elimina nulos\n",
    "df = df.dropna(how='all')\n",
    "df['Order Date']"
   ]
  },
  {
   "cell_type": "code",
   "execution_count": 12,
   "id": "e13d5f7c",
   "metadata": {},
   "outputs": [
    {
     "name": "stderr",
     "output_type": "stream",
     "text": [
      "/var/folders/kc/sj9l8byj6ssgcctgfvyh7gx80000gn/T/ipykernel_7462/1847631254.py:8: UserWarning: Could not infer format, so each element will be parsed individually, falling back to `dateutil`. To ensure parsing is consistent and as-expected, please specify a format.\n",
      "  df['Order Date'] = pd.to_datetime(df['Order Date'])\n"
     ]
    },
    {
     "name": "stdout",
     "output_type": "stream",
     "text": [
      "<class 'pandas.core.frame.DataFrame'>\n",
      "Index: 186495 entries, 0 to 186849\n",
      "Data columns (total 7 columns):\n",
      " #   Column            Non-Null Count   Dtype         \n",
      "---  ------            --------------   -----         \n",
      " 0   Order ID          185950 non-null  object        \n",
      " 1   Product           185950 non-null  object        \n",
      " 2   Quantity Ordered  185950 non-null  object        \n",
      " 3   Price Each        185950 non-null  object        \n",
      " 4   Order Date        185950 non-null  datetime64[ns]\n",
      " 5   Purchase Address  185950 non-null  object        \n",
      " 6   Month             186495 non-null  datetime64[ns]\n",
      "dtypes: datetime64[ns](2), object(5)\n",
      "memory usage: 11.4+ MB\n"
     ]
    }
   ],
   "source": [
    "# Eliminar cadenas especiales para la fecha del pedido\n",
    "df = df[df['Order Date'].str[0:2] != 'Or']\n",
    "\n",
    "# Todos los datos son de tipo object, lo cual nos dificultaría las cosas\n",
    "# Se cambia el tipo de datos para facilitar el procesamiento.\n",
    "# convert the 'Date' column to datetime format\n",
    "df['Month'] = pd.to_datetime(df['Month'])\n",
    "df['Order Date'] = pd.to_datetime(df['Order Date'])\n",
    "\n",
    "# Se ven los cambios de las fechas\n",
    "df.info()"
   ]
  },
  {
   "cell_type": "code",
   "execution_count": 13,
   "id": "2f7a4df5",
   "metadata": {},
   "outputs": [
    {
     "data": {
      "text/plain": [
       "array(['1', '2', '3', '5', '4', nan, '7', '6', '9', '8'], dtype=object)"
      ]
     },
     "execution_count": 13,
     "metadata": {},
     "output_type": "execute_result"
    }
   ],
   "source": [
    "# Se tiene que tener cuidado con las cantidades\n",
    "df['Quantity Ordered'].unique()"
   ]
  },
  {
   "cell_type": "code",
   "execution_count": 14,
   "id": "2156b566",
   "metadata": {},
   "outputs": [
    {
     "name": "stdout",
     "output_type": "stream",
     "text": [
      "Order ID            string[python]\n",
      "Product             string[python]\n",
      "Quantity Ordered             int64\n",
      "Price Each                 float64\n",
      "Order Date          datetime64[ns]\n",
      "Purchase Address    string[python]\n",
      "Month               datetime64[ns]\n",
      "dtype: object\n"
     ]
    }
   ],
   "source": [
    "# Conversión de las columnas numéricas\n",
    "df['Order ID'] = df['Order ID'].astype('string')\n",
    "df['Product'] = df['Product'].astype('string')\n",
    "df['Quantity Ordered'] = df['Quantity Ordered'].fillna(0)\n",
    "df['Quantity Ordered'] = df['Quantity Ordered'].astype('int64')\n",
    "df['Price Each'] = df['Price Each'].astype('float')\n",
    "df['Purchase Address'] = df['Purchase Address'].astype('string')\n",
    "\n",
    "print(df.dtypes)"
   ]
  },
  {
   "cell_type": "code",
   "execution_count": 15,
   "id": "ace74316",
   "metadata": {},
   "outputs": [
    {
     "data": {
      "text/plain": [
       "Order ID            545\n",
       "Product             545\n",
       "Quantity Ordered      0\n",
       "Price Each          545\n",
       "Order Date          545\n",
       "Purchase Address    545\n",
       "Month                 0\n",
       "dtype: int64"
      ]
     },
     "execution_count": 15,
     "metadata": {},
     "output_type": "execute_result"
    }
   ],
   "source": [
    "# Número de datos vacíos por columna\n",
    "missing_values_count = df.isnull().sum()\n",
    "missing_values_count[0:10]"
   ]
  },
  {
   "cell_type": "code",
   "execution_count": 16,
   "id": "d04aa2b1",
   "metadata": {},
   "outputs": [
    {
     "name": "stdout",
     "output_type": "stream",
     "text": [
      "Porcentaje de Datos que no existen: 0.21 %\n"
     ]
    }
   ],
   "source": [
    "# Calcula el % total de datos no existentes\n",
    "# Cuántos datos totales tenemos, y cuántos missing\n",
    "total_cells = np.product(df.shape)\n",
    "total_missing = missing_values_count.sum()\n",
    "# Cálculo del %\n",
    "percent_missing = (total_missing / total_cells) * 100\n",
    "print(f\"Porcentaje de Datos que no existen: {percent_missing:.2f} %\")"
   ]
  },
  {
   "cell_type": "code",
   "execution_count": 17,
   "id": "548655ce",
   "metadata": {},
   "outputs": [
    {
     "data": {
      "text/html": [
       "<div>\n",
       "<style scoped>\n",
       "    .dataframe tbody tr th:only-of-type {\n",
       "        vertical-align: middle;\n",
       "    }\n",
       "\n",
       "    .dataframe tbody tr th {\n",
       "        vertical-align: top;\n",
       "    }\n",
       "\n",
       "    .dataframe thead th {\n",
       "        text-align: right;\n",
       "    }\n",
       "</style>\n",
       "<table border=\"1\" class=\"dataframe\">\n",
       "  <thead>\n",
       "    <tr style=\"text-align: right;\">\n",
       "      <th></th>\n",
       "      <th>Order ID</th>\n",
       "      <th>Product</th>\n",
       "      <th>Quantity Ordered</th>\n",
       "      <th>Price Each</th>\n",
       "      <th>Order Date</th>\n",
       "      <th>Purchase Address</th>\n",
       "      <th>Month</th>\n",
       "    </tr>\n",
       "  </thead>\n",
       "  <tbody>\n",
       "    <tr>\n",
       "      <th>664</th>\n",
       "      <td>&lt;NA&gt;</td>\n",
       "      <td>&lt;NA&gt;</td>\n",
       "      <td>0</td>\n",
       "      <td>NaN</td>\n",
       "      <td>NaT</td>\n",
       "      <td>&lt;NA&gt;</td>\n",
       "      <td>2019-01-01</td>\n",
       "    </tr>\n",
       "    <tr>\n",
       "      <th>678</th>\n",
       "      <td>&lt;NA&gt;</td>\n",
       "      <td>&lt;NA&gt;</td>\n",
       "      <td>0</td>\n",
       "      <td>NaN</td>\n",
       "      <td>NaT</td>\n",
       "      <td>&lt;NA&gt;</td>\n",
       "      <td>2019-01-01</td>\n",
       "    </tr>\n",
       "    <tr>\n",
       "      <th>797</th>\n",
       "      <td>&lt;NA&gt;</td>\n",
       "      <td>&lt;NA&gt;</td>\n",
       "      <td>0</td>\n",
       "      <td>NaN</td>\n",
       "      <td>NaT</td>\n",
       "      <td>&lt;NA&gt;</td>\n",
       "      <td>2019-01-01</td>\n",
       "    </tr>\n",
       "    <tr>\n",
       "      <th>876</th>\n",
       "      <td>&lt;NA&gt;</td>\n",
       "      <td>&lt;NA&gt;</td>\n",
       "      <td>0</td>\n",
       "      <td>NaN</td>\n",
       "      <td>NaT</td>\n",
       "      <td>&lt;NA&gt;</td>\n",
       "      <td>2019-01-01</td>\n",
       "    </tr>\n",
       "    <tr>\n",
       "      <th>1299</th>\n",
       "      <td>&lt;NA&gt;</td>\n",
       "      <td>&lt;NA&gt;</td>\n",
       "      <td>0</td>\n",
       "      <td>NaN</td>\n",
       "      <td>NaT</td>\n",
       "      <td>&lt;NA&gt;</td>\n",
       "      <td>2019-01-01</td>\n",
       "    </tr>\n",
       "    <tr>\n",
       "      <th>...</th>\n",
       "      <td>...</td>\n",
       "      <td>...</td>\n",
       "      <td>...</td>\n",
       "      <td>...</td>\n",
       "      <td>...</td>\n",
       "      <td>...</td>\n",
       "      <td>...</td>\n",
       "    </tr>\n",
       "    <tr>\n",
       "      <th>184678</th>\n",
       "      <td>&lt;NA&gt;</td>\n",
       "      <td>&lt;NA&gt;</td>\n",
       "      <td>0</td>\n",
       "      <td>NaN</td>\n",
       "      <td>NaT</td>\n",
       "      <td>&lt;NA&gt;</td>\n",
       "      <td>2019-12-01</td>\n",
       "    </tr>\n",
       "    <tr>\n",
       "      <th>184695</th>\n",
       "      <td>&lt;NA&gt;</td>\n",
       "      <td>&lt;NA&gt;</td>\n",
       "      <td>0</td>\n",
       "      <td>NaN</td>\n",
       "      <td>NaT</td>\n",
       "      <td>&lt;NA&gt;</td>\n",
       "      <td>2019-12-01</td>\n",
       "    </tr>\n",
       "    <tr>\n",
       "      <th>185042</th>\n",
       "      <td>&lt;NA&gt;</td>\n",
       "      <td>&lt;NA&gt;</td>\n",
       "      <td>0</td>\n",
       "      <td>NaN</td>\n",
       "      <td>NaT</td>\n",
       "      <td>&lt;NA&gt;</td>\n",
       "      <td>2019-12-01</td>\n",
       "    </tr>\n",
       "    <tr>\n",
       "      <th>185729</th>\n",
       "      <td>&lt;NA&gt;</td>\n",
       "      <td>&lt;NA&gt;</td>\n",
       "      <td>0</td>\n",
       "      <td>NaN</td>\n",
       "      <td>NaT</td>\n",
       "      <td>&lt;NA&gt;</td>\n",
       "      <td>2019-12-01</td>\n",
       "    </tr>\n",
       "    <tr>\n",
       "      <th>186463</th>\n",
       "      <td>&lt;NA&gt;</td>\n",
       "      <td>&lt;NA&gt;</td>\n",
       "      <td>0</td>\n",
       "      <td>NaN</td>\n",
       "      <td>NaT</td>\n",
       "      <td>&lt;NA&gt;</td>\n",
       "      <td>2019-12-01</td>\n",
       "    </tr>\n",
       "  </tbody>\n",
       "</table>\n",
       "<p>545 rows × 7 columns</p>\n",
       "</div>"
      ],
      "text/plain": [
       "       Order ID Product  Quantity Ordered  Price Each Order Date  \\\n",
       "664        <NA>    <NA>                 0         NaN        NaT   \n",
       "678        <NA>    <NA>                 0         NaN        NaT   \n",
       "797        <NA>    <NA>                 0         NaN        NaT   \n",
       "876        <NA>    <NA>                 0         NaN        NaT   \n",
       "1299       <NA>    <NA>                 0         NaN        NaT   \n",
       "...         ...     ...               ...         ...        ...   \n",
       "184678     <NA>    <NA>                 0         NaN        NaT   \n",
       "184695     <NA>    <NA>                 0         NaN        NaT   \n",
       "185042     <NA>    <NA>                 0         NaN        NaT   \n",
       "185729     <NA>    <NA>                 0         NaN        NaT   \n",
       "186463     <NA>    <NA>                 0         NaN        NaT   \n",
       "\n",
       "       Purchase Address      Month  \n",
       "664                <NA> 2019-01-01  \n",
       "678                <NA> 2019-01-01  \n",
       "797                <NA> 2019-01-01  \n",
       "876                <NA> 2019-01-01  \n",
       "1299               <NA> 2019-01-01  \n",
       "...                 ...        ...  \n",
       "184678             <NA> 2019-12-01  \n",
       "184695             <NA> 2019-12-01  \n",
       "185042             <NA> 2019-12-01  \n",
       "185729             <NA> 2019-12-01  \n",
       "186463             <NA> 2019-12-01  \n",
       "\n",
       "[545 rows x 7 columns]"
      ]
     },
     "execution_count": 17,
     "metadata": {},
     "output_type": "execute_result"
    }
   ],
   "source": [
    "# Elimino todos los datos donde la cantidad sea cero\n",
    "df[df['Quantity Ordered'] == 0]"
   ]
  },
  {
   "cell_type": "code",
   "execution_count": 18,
   "id": "6f603fa4",
   "metadata": {},
   "outputs": [
    {
     "data": {
      "text/plain": [
       "Order ID            0\n",
       "Product             0\n",
       "Quantity Ordered    0\n",
       "Price Each          0\n",
       "Order Date          0\n",
       "Purchase Address    0\n",
       "Month               0\n",
       "dtype: int64"
      ]
     },
     "execution_count": 18,
     "metadata": {},
     "output_type": "execute_result"
    }
   ],
   "source": [
    "# Elimina todos los registros donde la orden sea 0, que al parecer tienen algún problema\n",
    "df = df[df['Quantity Ordered'] > 0]\n",
    "\n",
    "# Número de datos vacíos por columna\n",
    "missing_values_count = df.isnull().sum()\n",
    "missing_values_count[0:10]"
   ]
  },
  {
   "cell_type": "code",
   "execution_count": 19,
   "id": "96b5f8e3",
   "metadata": {},
   "outputs": [
    {
     "data": {
      "text/html": [
       "<div>\n",
       "<style scoped>\n",
       "    .dataframe tbody tr th:only-of-type {\n",
       "        vertical-align: middle;\n",
       "    }\n",
       "\n",
       "    .dataframe tbody tr th {\n",
       "        vertical-align: top;\n",
       "    }\n",
       "\n",
       "    .dataframe thead th {\n",
       "        text-align: right;\n",
       "    }\n",
       "</style>\n",
       "<table border=\"1\" class=\"dataframe\">\n",
       "  <thead>\n",
       "    <tr style=\"text-align: right;\">\n",
       "      <th></th>\n",
       "      <th>Quantity Ordered</th>\n",
       "      <th>Price Each</th>\n",
       "      <th>Order Date</th>\n",
       "      <th>Month</th>\n",
       "    </tr>\n",
       "  </thead>\n",
       "  <tbody>\n",
       "    <tr>\n",
       "      <th>count</th>\n",
       "      <td>185950.00</td>\n",
       "      <td>185950.00</td>\n",
       "      <td>185950</td>\n",
       "      <td>185950</td>\n",
       "    </tr>\n",
       "    <tr>\n",
       "      <th>mean</th>\n",
       "      <td>1.12</td>\n",
       "      <td>184.40</td>\n",
       "      <td>2019-07-18 21:54:38.887550208</td>\n",
       "      <td>2019-07-03 11:51:07.056735488</td>\n",
       "    </tr>\n",
       "    <tr>\n",
       "      <th>min</th>\n",
       "      <td>1.00</td>\n",
       "      <td>2.99</td>\n",
       "      <td>2019-01-01 03:07:00</td>\n",
       "      <td>2019-01-01 00:00:00</td>\n",
       "    </tr>\n",
       "    <tr>\n",
       "      <th>25%</th>\n",
       "      <td>1.00</td>\n",
       "      <td>11.95</td>\n",
       "      <td>2019-04-16 21:05:15</td>\n",
       "      <td>2019-04-01 00:00:00</td>\n",
       "    </tr>\n",
       "    <tr>\n",
       "      <th>50%</th>\n",
       "      <td>1.00</td>\n",
       "      <td>14.95</td>\n",
       "      <td>2019-07-17 20:40:30</td>\n",
       "      <td>2019-07-01 00:00:00</td>\n",
       "    </tr>\n",
       "    <tr>\n",
       "      <th>75%</th>\n",
       "      <td>1.00</td>\n",
       "      <td>150.00</td>\n",
       "      <td>2019-10-26 08:14:00</td>\n",
       "      <td>2019-10-01 00:00:00</td>\n",
       "    </tr>\n",
       "    <tr>\n",
       "      <th>max</th>\n",
       "      <td>9.00</td>\n",
       "      <td>1700.00</td>\n",
       "      <td>2020-01-01 05:13:00</td>\n",
       "      <td>2019-12-01 00:00:00</td>\n",
       "    </tr>\n",
       "    <tr>\n",
       "      <th>std</th>\n",
       "      <td>0.44</td>\n",
       "      <td>332.73</td>\n",
       "      <td>NaN</td>\n",
       "      <td>NaN</td>\n",
       "    </tr>\n",
       "  </tbody>\n",
       "</table>\n",
       "</div>"
      ],
      "text/plain": [
       "       Quantity Ordered  Price Each                     Order Date  \\\n",
       "count         185950.00   185950.00                         185950   \n",
       "mean               1.12      184.40  2019-07-18 21:54:38.887550208   \n",
       "min                1.00        2.99            2019-01-01 03:07:00   \n",
       "25%                1.00       11.95            2019-04-16 21:05:15   \n",
       "50%                1.00       14.95            2019-07-17 20:40:30   \n",
       "75%                1.00      150.00            2019-10-26 08:14:00   \n",
       "max                9.00     1700.00            2020-01-01 05:13:00   \n",
       "std                0.44      332.73                            NaN   \n",
       "\n",
       "                               Month  \n",
       "count                         185950  \n",
       "mean   2019-07-03 11:51:07.056735488  \n",
       "min              2019-01-01 00:00:00  \n",
       "25%              2019-04-01 00:00:00  \n",
       "50%              2019-07-01 00:00:00  \n",
       "75%              2019-10-01 00:00:00  \n",
       "max              2019-12-01 00:00:00  \n",
       "std                              NaN  "
      ]
     },
     "execution_count": 19,
     "metadata": {},
     "output_type": "execute_result"
    }
   ],
   "source": [
    "# Ver las estadísticas de las columnas. Por cada columna del DF, se muestran las estadísticas principales\n",
    "# Cómo quitar el formato científico de algunas columnas\n",
    "pd.options.display.float_format = '{:.2f}'.format\n",
    "df.describe()"
   ]
  },
  {
   "cell_type": "code",
   "execution_count": 20,
   "id": "a4175f8c",
   "metadata": {},
   "outputs": [
    {
     "data": {
      "text/html": [
       "<div>\n",
       "<style scoped>\n",
       "    .dataframe tbody tr th:only-of-type {\n",
       "        vertical-align: middle;\n",
       "    }\n",
       "\n",
       "    .dataframe tbody tr th {\n",
       "        vertical-align: top;\n",
       "    }\n",
       "\n",
       "    .dataframe thead th {\n",
       "        text-align: right;\n",
       "    }\n",
       "</style>\n",
       "<table border=\"1\" class=\"dataframe\">\n",
       "  <thead>\n",
       "    <tr style=\"text-align: right;\">\n",
       "      <th></th>\n",
       "      <th>count</th>\n",
       "      <th>mean</th>\n",
       "      <th>min</th>\n",
       "      <th>25%</th>\n",
       "      <th>50%</th>\n",
       "      <th>75%</th>\n",
       "      <th>max</th>\n",
       "      <th>std</th>\n",
       "    </tr>\n",
       "  </thead>\n",
       "  <tbody>\n",
       "    <tr>\n",
       "      <th>Quantity Ordered</th>\n",
       "      <td>185950.00</td>\n",
       "      <td>1.12</td>\n",
       "      <td>1.00</td>\n",
       "      <td>1.00</td>\n",
       "      <td>1.00</td>\n",
       "      <td>1.00</td>\n",
       "      <td>9.00</td>\n",
       "      <td>0.44</td>\n",
       "    </tr>\n",
       "    <tr>\n",
       "      <th>Price Each</th>\n",
       "      <td>185950.00</td>\n",
       "      <td>184.40</td>\n",
       "      <td>2.99</td>\n",
       "      <td>11.95</td>\n",
       "      <td>14.95</td>\n",
       "      <td>150.00</td>\n",
       "      <td>1700.00</td>\n",
       "      <td>332.73</td>\n",
       "    </tr>\n",
       "    <tr>\n",
       "      <th>Order Date</th>\n",
       "      <td>185950</td>\n",
       "      <td>2019-07-18 21:54:38.887550208</td>\n",
       "      <td>2019-01-01 03:07:00</td>\n",
       "      <td>2019-04-16 21:05:15</td>\n",
       "      <td>2019-07-17 20:40:30</td>\n",
       "      <td>2019-10-26 08:14:00</td>\n",
       "      <td>2020-01-01 05:13:00</td>\n",
       "      <td>NaN</td>\n",
       "    </tr>\n",
       "    <tr>\n",
       "      <th>Month</th>\n",
       "      <td>185950</td>\n",
       "      <td>2019-07-03 11:51:07.056735488</td>\n",
       "      <td>2019-01-01 00:00:00</td>\n",
       "      <td>2019-04-01 00:00:00</td>\n",
       "      <td>2019-07-01 00:00:00</td>\n",
       "      <td>2019-10-01 00:00:00</td>\n",
       "      <td>2019-12-01 00:00:00</td>\n",
       "      <td>NaN</td>\n",
       "    </tr>\n",
       "  </tbody>\n",
       "</table>\n",
       "</div>"
      ],
      "text/plain": [
       "                     count                           mean  \\\n",
       "Quantity Ordered 185950.00                           1.12   \n",
       "Price Each       185950.00                         184.40   \n",
       "Order Date          185950  2019-07-18 21:54:38.887550208   \n",
       "Month               185950  2019-07-03 11:51:07.056735488   \n",
       "\n",
       "                                  min                  25%  \\\n",
       "Quantity Ordered                 1.00                 1.00   \n",
       "Price Each                       2.99                11.95   \n",
       "Order Date        2019-01-01 03:07:00  2019-04-16 21:05:15   \n",
       "Month             2019-01-01 00:00:00  2019-04-01 00:00:00   \n",
       "\n",
       "                                  50%                  75%  \\\n",
       "Quantity Ordered                 1.00                 1.00   \n",
       "Price Each                      14.95               150.00   \n",
       "Order Date        2019-07-17 20:40:30  2019-10-26 08:14:00   \n",
       "Month             2019-07-01 00:00:00  2019-10-01 00:00:00   \n",
       "\n",
       "                                  max    std  \n",
       "Quantity Ordered                 9.00   0.44  \n",
       "Price Each                    1700.00 332.73  \n",
       "Order Date        2020-01-01 05:13:00    NaN  \n",
       "Month             2019-12-01 00:00:00    NaN  "
      ]
     },
     "execution_count": 20,
     "metadata": {},
     "output_type": "execute_result"
    }
   ],
   "source": [
    "# Se transpone la tabla, aunque no tenga mucho sentido\n",
    "df.describe().T"
   ]
  },
  {
   "cell_type": "code",
   "execution_count": 22,
   "id": "c1a5fd0f",
   "metadata": {},
   "outputs": [
    {
     "data": {
      "text/plain": [
       "185950"
      ]
     },
     "execution_count": 22,
     "metadata": {},
     "output_type": "execute_result"
    }
   ],
   "source": [
    "# Total de ventas analizadas\n",
    "df.shape[0]"
   ]
  },
  {
   "cell_type": "code",
   "execution_count": 23,
   "id": "3e033344",
   "metadata": {},
   "outputs": [
    {
     "data": {
      "text/plain": [
       "0                944 Walnut St, Boston, MA 02215\n",
       "1               185 Maple St, Portland, OR 97035\n",
       "2          538 Adams St, San Francisco, CA 94016\n",
       "3             738 10th St, Los Angeles, CA 90001\n",
       "4                  387 10th St, Austin, TX 73301\n",
       "                           ...                  \n",
       "186845    14 Madison St, San Francisco, CA 94016\n",
       "186846      549 Willow St, Los Angeles, CA 90001\n",
       "186847          273 Wilson St, Seattle, WA 98101\n",
       "186848            778 River St, Dallas, TX 75001\n",
       "186849    747 Chestnut St, Los Angeles, CA 90001\n",
       "Name: Purchase Address, Length: 185950, dtype: string"
      ]
     },
     "execution_count": 23,
     "metadata": {},
     "output_type": "execute_result"
    }
   ],
   "source": [
    "# ZIP Code\n",
    "df['Purchase Address']"
   ]
  },
  {
   "cell_type": "code",
   "execution_count": 24,
   "id": "0fe7eb4c",
   "metadata": {},
   "outputs": [
    {
     "data": {
      "text/plain": [
       "0          02215\n",
       "1          97035\n",
       "2          94016\n",
       "3          90001\n",
       "4          73301\n",
       "           ...  \n",
       "186845     94016\n",
       "186846     90001\n",
       "186847     98101\n",
       "186848     75001\n",
       "186849     90001\n",
       "Name: Purchase Address, Length: 185950, dtype: string"
      ]
     },
     "execution_count": 24,
     "metadata": {},
     "output_type": "execute_result"
    }
   ],
   "source": [
    "df['Purchase Address'].str[-6:]"
   ]
  },
  {
   "cell_type": "code",
   "execution_count": 25,
   "id": "cf83b440",
   "metadata": {},
   "outputs": [
    {
     "data": {
      "text/plain": [
       "<StringArray>\n",
       "[' 02215', ' 97035', ' 94016', ' 90001', ' 73301', ' 30301', ' 98101',\n",
       " ' 10001', ' 75001', ' 04101']\n",
       "Length: 10, dtype: string"
      ]
     },
     "execution_count": 25,
     "metadata": {},
     "output_type": "execute_result"
    }
   ],
   "source": [
    "# Se genera la columna zipcode, tomando los últimos 5 dígitos de la dirección\n",
    "df['zipcode'] = df['Purchase Address'].str[-6:]\n",
    "\n",
    "# Total de zipcodes analizados\n",
    "df['zipcode'].unique()"
   ]
  },
  {
   "cell_type": "code",
   "execution_count": 26,
   "id": "0a26115f",
   "metadata": {},
   "outputs": [
    {
     "name": "stdout",
     "output_type": "stream",
     "text": [
      "<class 'pandas.core.frame.DataFrame'>\n",
      "Index: 185950 entries, 0 to 186849\n",
      "Data columns (total 8 columns):\n",
      " #   Column            Non-Null Count   Dtype         \n",
      "---  ------            --------------   -----         \n",
      " 0   Order ID          185950 non-null  string        \n",
      " 1   Product           185950 non-null  string        \n",
      " 2   Quantity Ordered  185950 non-null  int64         \n",
      " 3   Price Each        185950 non-null  float64       \n",
      " 4   Order Date        185950 non-null  datetime64[ns]\n",
      " 5   Purchase Address  185950 non-null  string        \n",
      " 6   Month             185950 non-null  datetime64[ns]\n",
      " 7   zipcode           185950 non-null  string        \n",
      "dtypes: datetime64[ns](2), float64(1), int64(1), string(4)\n",
      "memory usage: 12.8 MB\n"
     ]
    }
   ],
   "source": [
    "# Cambia el tipo de datos del zipcode\n",
    "df['zipcode'] = df['zipcode'].astype('string')\n",
    "df.info()"
   ]
  },
  {
   "cell_type": "code",
   "execution_count": 27,
   "id": "4f461a79",
   "metadata": {},
   "outputs": [
    {
     "data": {
      "text/plain": [
       "10"
      ]
     },
     "execution_count": 27,
     "metadata": {},
     "output_type": "execute_result"
    }
   ],
   "source": [
    "# Se cuenta el número de zipcodes. Se puede aplicar a todas las columnas de ser necesario.\n",
    "num_zipcodes = df['zipcode'].unique().__len__()\n",
    "num_zipcodes"
   ]
  },
  {
   "cell_type": "code",
   "execution_count": 28,
   "id": "516ba7df",
   "metadata": {},
   "outputs": [
    {
     "data": {
      "text/plain": [
       "Order ID            178437\n",
       "Product                 19\n",
       "Quantity Ordered         9\n",
       "Price Each              17\n",
       "Order Date          142395\n",
       "Purchase Address    140787\n",
       "Month                   12\n",
       "zipcode                 10\n",
       "dtype: int64"
      ]
     },
     "execution_count": 28,
     "metadata": {},
     "output_type": "execute_result"
    }
   ],
   "source": [
    "# Número de valores no únicos. Para ver la estructura interna de cada columna - qué tan variada es\n",
    "df.nunique()"
   ]
  },
  {
   "cell_type": "code",
   "execution_count": 29,
   "id": "d10d9ad0",
   "metadata": {},
   "outputs": [
    {
     "name": "stdout",
     "output_type": "stream",
     "text": [
      "There are 0 missing values.\n"
     ]
    }
   ],
   "source": [
    "# Look for null values in all columns of the dataframe\n",
    "print('There are', df.isnull().sum().sum(), 'missing values.')"
   ]
  },
  {
   "cell_type": "code",
   "execution_count": null,
   "id": "7723c5a9",
   "metadata": {},
   "outputs": [],
   "source": []
  }
 ],
 "metadata": {
  "kernelspec": {
   "display_name": "Python 3 (ipykernel)",
   "language": "python",
   "name": "python3"
  },
  "language_info": {
   "codemirror_mode": {
    "name": "ipython",
    "version": 3
   },
   "file_extension": ".py",
   "mimetype": "text/x-python",
   "name": "python",
   "nbconvert_exporter": "python",
   "pygments_lexer": "ipython3",
   "version": "3.11.5"
  }
 },
 "nbformat": 4,
 "nbformat_minor": 5
}
