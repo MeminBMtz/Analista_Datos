{
 "cells": [
  {
   "cell_type": "code",
   "execution_count": 1,
   "id": "5a2c096a",
   "metadata": {},
   "outputs": [
    {
     "data": {
      "text/plain": [
       "{}"
      ]
     },
     "execution_count": 1,
     "metadata": {},
     "output_type": "execute_result"
    }
   ],
   "source": [
    "elementos = dict()\n",
    "elementos"
   ]
  },
  {
   "cell_type": "code",
   "execution_count": 2,
   "id": "d66eef58",
   "metadata": {},
   "outputs": [
    {
     "data": {
      "text/plain": [
       "{'dinero': 10000, 'dulces': 20, 'amigos': 5}"
      ]
     },
     "execution_count": 2,
     "metadata": {},
     "output_type": "execute_result"
    }
   ],
   "source": [
    "elementos[\"dinero\"] = 10000\n",
    "elementos[\"dulces\"] = 20\n",
    "elementos[\"amigos\"] = 5\n",
    "elementos"
   ]
  },
  {
   "cell_type": "code",
   "execution_count": 3,
   "id": "2e81c40b",
   "metadata": {},
   "outputs": [
    {
     "data": {
      "text/plain": [
       "20"
      ]
     },
     "execution_count": 3,
     "metadata": {},
     "output_type": "execute_result"
    }
   ],
   "source": [
    "elementos[\"dulces\"]"
   ]
  },
  {
   "cell_type": "code",
   "execution_count": 4,
   "id": "adebab2f",
   "metadata": {},
   "outputs": [
    {
     "data": {
      "text/plain": [
       "[20]"
      ]
     },
     "execution_count": 4,
     "metadata": {},
     "output_type": "execute_result"
    }
   ],
   "source": [
    "# En listas\n",
    "lista = list() # equivalente a []\n",
    "lista.append(20)\n",
    "lista"
   ]
  },
  {
   "cell_type": "code",
   "execution_count": 5,
   "id": "b73fe2df",
   "metadata": {},
   "outputs": [
    {
     "data": {
      "text/plain": [
       "{'edad': 20}"
      ]
     },
     "execution_count": 5,
     "metadata": {},
     "output_type": "execute_result"
    }
   ],
   "source": [
    "# En diccionarios\n",
    "diccionario = {} # equivalente a dict()\n",
    "diccionario[\"edad\"] = 20\n",
    "diccionario"
   ]
  },
  {
   "cell_type": "code",
   "execution_count": 6,
   "id": "c8b94110",
   "metadata": {},
   "outputs": [
    {
     "data": {
      "text/plain": [
       "{'Juan': 2, 'Pedro': 1, 'Ramiro': 1}"
      ]
     },
     "execution_count": 6,
     "metadata": {},
     "output_type": "execute_result"
    }
   ],
   "source": [
    "conteo = dict()\n",
    "nombres = [\"Juan\", \"Pedro\", \"Juan\", \"Ramiro\"]\n",
    "\n",
    "# Para cada nombre en la lista de nombres\n",
    "# Checar si el nombre ya existe en el diccionario llamado 'conteo'\n",
    "# Si el nombre no está en la lista, inicializar su frecuencia en 1\n",
    "# En caso contrario (ya está lista), incrementar su frecuencia en 1\n",
    "\n",
    "for nombre in nombres:\n",
    "    if nombre not in conteo:\n",
    "        conteo[nombre] = 1\n",
    "    else:\n",
    "        conteo[nombre] = conteo[nombre] + 1\n",
    "\n",
    "conteo"
   ]
  },
  {
   "cell_type": "code",
   "execution_count": 7,
   "id": "8a2f7446",
   "metadata": {},
   "outputs": [
    {
     "data": {
      "text/plain": [
       "<_io.TextIOWrapper name='Trabalenguas.txt' mode='r' encoding='UTF-8'>"
      ]
     },
     "execution_count": 7,
     "metadata": {},
     "output_type": "execute_result"
    }
   ],
   "source": [
    "archivo = open(\"Trabalenguas.txt\")\n",
    "archivo"
   ]
  },
  {
   "cell_type": "code",
   "execution_count": 8,
   "id": "a089fa4f",
   "metadata": {},
   "outputs": [
    {
     "data": {
      "text/plain": [
       "['El',\n",
       " 'amor',\n",
       " 'es',\n",
       " 'una',\n",
       " 'locura',\n",
       " 'que',\n",
       " 'ni',\n",
       " 'el',\n",
       " 'cura',\n",
       " 'lo',\n",
       " 'cura.',\n",
       " 'Porque',\n",
       " 'si',\n",
       " 'el',\n",
       " 'cura',\n",
       " 'lo',\n",
       " 'cura',\n",
       " 'sería',\n",
       " 'una',\n",
       " 'locura',\n",
       " 'del',\n",
       " 'cura.']"
      ]
     },
     "execution_count": 8,
     "metadata": {},
     "output_type": "execute_result"
    }
   ],
   "source": [
    "for texto in archivo:\n",
    "    palabras = texto.split()\n",
    "\n",
    "palabras"
   ]
  },
  {
   "cell_type": "code",
   "execution_count": 9,
   "id": "e0e7fae3",
   "metadata": {},
   "outputs": [
    {
     "data": {
      "text/plain": [
       "{'El': 1,\n",
       " 'amor': 1,\n",
       " 'es': 1,\n",
       " 'una': 2,\n",
       " 'locura': 2,\n",
       " 'que': 1,\n",
       " 'ni': 1,\n",
       " 'el': 2,\n",
       " 'cura': 3,\n",
       " 'lo': 2,\n",
       " 'cura.': 2,\n",
       " 'Porque': 1,\n",
       " 'si': 1,\n",
       " 'sería': 1,\n",
       " 'del': 1}"
      ]
     },
     "execution_count": 9,
     "metadata": {},
     "output_type": "execute_result"
    }
   ],
   "source": [
    "conteo = dict()\n",
    "\n",
    "for palabra in palabras:\n",
    "    if palabra not in conteo:\n",
    "        conteo[palabra] = 1\n",
    "    else:\n",
    "        conteo[palabra] = conteo[palabra] + 1\n",
    "\n",
    "conteo"
   ]
  },
  {
   "cell_type": "code",
   "execution_count": null,
   "id": "5d293d9d",
   "metadata": {},
   "outputs": [],
   "source": []
  }
 ],
 "metadata": {
  "kernelspec": {
   "display_name": "Python 3 (ipykernel)",
   "language": "python",
   "name": "python3"
  },
  "language_info": {
   "codemirror_mode": {
    "name": "ipython",
    "version": 3
   },
   "file_extension": ".py",
   "mimetype": "text/x-python",
   "name": "python",
   "nbconvert_exporter": "python",
   "pygments_lexer": "ipython3",
   "version": "3.11.5"
  }
 },
 "nbformat": 4,
 "nbformat_minor": 5
}
