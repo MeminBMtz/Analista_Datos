{
 "cells": [
  {
   "cell_type": "code",
   "execution_count": 1,
   "id": "1bb1c171",
   "metadata": {},
   "outputs": [],
   "source": [
    "a = -5\n",
    "b = 4"
   ]
  },
  {
   "cell_type": "code",
   "execution_count": 2,
   "id": "7083f1f4",
   "metadata": {},
   "outputs": [
    {
     "data": {
      "text/plain": [
       "True"
      ]
     },
     "execution_count": 2,
     "metadata": {},
     "output_type": "execute_result"
    }
   ],
   "source": [
    "# ¿El valor de a es menor a 0?\n",
    "a < 0"
   ]
  },
  {
   "cell_type": "code",
   "execution_count": 3,
   "id": "b6cfd6e3",
   "metadata": {},
   "outputs": [
    {
     "data": {
      "text/plain": [
       "False"
      ]
     },
     "execution_count": 3,
     "metadata": {},
     "output_type": "execute_result"
    }
   ],
   "source": [
    "# ¿El valor de a es mayor o igual a 0?\n",
    "a >= 0"
   ]
  },
  {
   "cell_type": "code",
   "execution_count": 4,
   "id": "ff356280",
   "metadata": {},
   "outputs": [
    {
     "data": {
      "text/plain": [
       "True"
      ]
     },
     "execution_count": 4,
     "metadata": {},
     "output_type": "execute_result"
    }
   ],
   "source": [
    "# ¿El valor de a es igual a -5?\n",
    "a == -5"
   ]
  },
  {
   "cell_type": "code",
   "execution_count": 5,
   "id": "258ee005",
   "metadata": {},
   "outputs": [
    {
     "data": {
      "text/plain": [
       "False"
      ]
     },
     "execution_count": 5,
     "metadata": {},
     "output_type": "execute_result"
    }
   ],
   "source": [
    "# ¿El valor de a es distinto de -5?\n",
    "a != -5"
   ]
  },
  {
   "cell_type": "markdown",
   "id": "e1076f52",
   "metadata": {},
   "source": [
    "# Manejo de CONJUNCIONES - (AND)"
   ]
  },
  {
   "cell_type": "code",
   "execution_count": 6,
   "id": "7616cf20",
   "metadata": {},
   "outputs": [],
   "source": [
    "a = -5\n",
    "b = 4"
   ]
  },
  {
   "cell_type": "code",
   "execution_count": 8,
   "id": "b530d57c",
   "metadata": {},
   "outputs": [
    {
     "data": {
      "text/plain": [
       "True"
      ]
     },
     "execution_count": 8,
     "metadata": {},
     "output_type": "execute_result"
    }
   ],
   "source": [
    "a < 0 and b > 0 # Verdadero AND Verdadero"
   ]
  },
  {
   "cell_type": "code",
   "execution_count": 9,
   "id": "4d2c6976",
   "metadata": {},
   "outputs": [
    {
     "data": {
      "text/plain": [
       "False"
      ]
     },
     "execution_count": 9,
     "metadata": {},
     "output_type": "execute_result"
    }
   ],
   "source": [
    "a > 0 and b > 0 # Falso AND Verdadero"
   ]
  },
  {
   "cell_type": "code",
   "execution_count": 10,
   "id": "f5620991",
   "metadata": {},
   "outputs": [
    {
     "data": {
      "text/plain": [
       "False"
      ]
     },
     "execution_count": 10,
     "metadata": {},
     "output_type": "execute_result"
    }
   ],
   "source": [
    "a < 0 and b < 0 # Verdadero AND Falso"
   ]
  },
  {
   "cell_type": "code",
   "execution_count": 11,
   "id": "e61d56de",
   "metadata": {},
   "outputs": [
    {
     "data": {
      "text/plain": [
       "False"
      ]
     },
     "execution_count": 11,
     "metadata": {},
     "output_type": "execute_result"
    }
   ],
   "source": [
    "a > 0 and b < 0 # Falso AND Falso"
   ]
  },
  {
   "cell_type": "markdown",
   "id": "a62eb921",
   "metadata": {},
   "source": [
    "### V - AND - V = V\n",
    "### V - AND - F = F\n",
    "### F - AND - V = F\n",
    "### F - AND - F = F"
   ]
  },
  {
   "cell_type": "markdown",
   "id": "621e3ccc",
   "metadata": {},
   "source": [
    "# Manejo de DISYUNCIONES - (OR)"
   ]
  },
  {
   "cell_type": "code",
   "execution_count": 12,
   "id": "948e642c",
   "metadata": {},
   "outputs": [],
   "source": [
    "a = -5\n",
    "b = 4"
   ]
  },
  {
   "cell_type": "code",
   "execution_count": 13,
   "id": "85c2a0d0",
   "metadata": {},
   "outputs": [
    {
     "data": {
      "text/plain": [
       "True"
      ]
     },
     "execution_count": 13,
     "metadata": {},
     "output_type": "execute_result"
    }
   ],
   "source": [
    "a < 0 or b > 0"
   ]
  },
  {
   "cell_type": "code",
   "execution_count": 14,
   "id": "9dc8132d",
   "metadata": {},
   "outputs": [
    {
     "data": {
      "text/plain": [
       "True"
      ]
     },
     "execution_count": 14,
     "metadata": {},
     "output_type": "execute_result"
    }
   ],
   "source": [
    "a > 0 or b > 0"
   ]
  },
  {
   "cell_type": "code",
   "execution_count": 15,
   "id": "7c95bc5a",
   "metadata": {},
   "outputs": [
    {
     "data": {
      "text/plain": [
       "True"
      ]
     },
     "execution_count": 15,
     "metadata": {},
     "output_type": "execute_result"
    }
   ],
   "source": [
    "a < 0 or b < 0"
   ]
  },
  {
   "cell_type": "code",
   "execution_count": 16,
   "id": "554e643b",
   "metadata": {},
   "outputs": [
    {
     "data": {
      "text/plain": [
       "False"
      ]
     },
     "execution_count": 16,
     "metadata": {},
     "output_type": "execute_result"
    }
   ],
   "source": [
    "a > 0 or b < 0"
   ]
  },
  {
   "cell_type": "markdown",
   "id": "573751f2",
   "metadata": {},
   "source": [
    "### V - OR - V = V\n",
    "### V - OR - F = V\n",
    "### F - OR - V = V\n",
    "### F - OR - F = F"
   ]
  },
  {
   "cell_type": "markdown",
   "id": "00f5f245",
   "metadata": {},
   "source": [
    "# Operador de Negación - NOT"
   ]
  },
  {
   "cell_type": "code",
   "execution_count": 17,
   "id": "15c22083",
   "metadata": {},
   "outputs": [],
   "source": [
    "a = -5\n",
    "b = 4"
   ]
  },
  {
   "cell_type": "code",
   "execution_count": 18,
   "id": "662436c6",
   "metadata": {},
   "outputs": [
    {
     "data": {
      "text/plain": [
       "True"
      ]
     },
     "execution_count": 18,
     "metadata": {},
     "output_type": "execute_result"
    }
   ],
   "source": [
    "not a > 0"
   ]
  },
  {
   "cell_type": "markdown",
   "id": "6766b954",
   "metadata": {},
   "source": [
    "# El operador de disyunción opuesta NOR (NOT OR)"
   ]
  },
  {
   "cell_type": "code",
   "execution_count": 19,
   "id": "2538cb7d",
   "metadata": {},
   "outputs": [
    {
     "data": {
      "text/plain": [
       "False"
      ]
     },
     "execution_count": 19,
     "metadata": {},
     "output_type": "execute_result"
    }
   ],
   "source": [
    "not (a < 0 or b > 0)"
   ]
  },
  {
   "cell_type": "code",
   "execution_count": 20,
   "id": "751939b3",
   "metadata": {},
   "outputs": [
    {
     "data": {
      "text/plain": [
       "True"
      ]
     },
     "execution_count": 20,
     "metadata": {},
     "output_type": "execute_result"
    }
   ],
   "source": [
    "not (a > 0 or b < 0)"
   ]
  },
  {
   "cell_type": "markdown",
   "id": "70fe809a",
   "metadata": {},
   "source": [
    "# Casos especiales"
   ]
  },
  {
   "cell_type": "code",
   "execution_count": 21,
   "id": "2aca9ddb",
   "metadata": {},
   "outputs": [],
   "source": [
    "a = -5\n",
    "b = 4"
   ]
  },
  {
   "cell_type": "code",
   "execution_count": 22,
   "id": "33aa7678",
   "metadata": {},
   "outputs": [
    {
     "data": {
      "text/plain": [
       "False"
      ]
     },
     "execution_count": 22,
     "metadata": {},
     "output_type": "execute_result"
    }
   ],
   "source": [
    "a += 5 # Es lo mismo que a = a + 5\n",
    "a < 0"
   ]
  },
  {
   "cell_type": "code",
   "execution_count": 23,
   "id": "aa06832a",
   "metadata": {},
   "outputs": [
    {
     "data": {
      "text/plain": [
       "0"
      ]
     },
     "execution_count": 23,
     "metadata": {},
     "output_type": "execute_result"
    }
   ],
   "source": [
    "a"
   ]
  },
  {
   "cell_type": "code",
   "execution_count": 25,
   "id": "08c502bf",
   "metadata": {},
   "outputs": [
    {
     "data": {
      "text/plain": [
       "1"
      ]
     },
     "execution_count": 25,
     "metadata": {},
     "output_type": "execute_result"
    }
   ],
   "source": [
    "b %= 3 # Equivalente a: b = b % 3\n",
    "b"
   ]
  },
  {
   "cell_type": "code",
   "execution_count": 26,
   "id": "4340b535",
   "metadata": {},
   "outputs": [
    {
     "data": {
      "text/plain": [
       "2"
      ]
     },
     "execution_count": 26,
     "metadata": {},
     "output_type": "execute_result"
    }
   ],
   "source": [
    "c = 5\n",
    "c //= 2 # Equivalente a tomar la parte entera de la división 5/2 (c/2)\n",
    "c"
   ]
  },
  {
   "cell_type": "code",
   "execution_count": 27,
   "id": "7524ab74",
   "metadata": {},
   "outputs": [
    {
     "data": {
      "text/plain": [
       "False"
      ]
     },
     "execution_count": 27,
     "metadata": {},
     "output_type": "execute_result"
    }
   ],
   "source": [
    "a = 4\n",
    "b = 5\n",
    "a is b"
   ]
  },
  {
   "cell_type": "code",
   "execution_count": 28,
   "id": "eb4c180b",
   "metadata": {},
   "outputs": [
    {
     "data": {
      "text/plain": [
       "True"
      ]
     },
     "execution_count": 28,
     "metadata": {},
     "output_type": "execute_result"
    }
   ],
   "source": [
    "a is not b"
   ]
  },
  {
   "cell_type": "code",
   "execution_count": 29,
   "id": "fb174d7a",
   "metadata": {},
   "outputs": [
    {
     "data": {
      "text/plain": [
       "True"
      ]
     },
     "execution_count": 29,
     "metadata": {},
     "output_type": "execute_result"
    }
   ],
   "source": [
    "texto1 = \"Hola\"\n",
    "texto2 = \"Hola\"\n",
    "texto3 = \"hola\"\n",
    "texto1 is texto2"
   ]
  },
  {
   "cell_type": "code",
   "execution_count": 30,
   "id": "4e00eca8",
   "metadata": {},
   "outputs": [
    {
     "data": {
      "text/plain": [
       "False"
      ]
     },
     "execution_count": 30,
     "metadata": {},
     "output_type": "execute_result"
    }
   ],
   "source": [
    "texto1 is texto3 # Python distingue entre minúsculas y mayúsculas."
   ]
  },
  {
   "cell_type": "code",
   "execution_count": 31,
   "id": "b5f610af",
   "metadata": {},
   "outputs": [],
   "source": [
    "a = [1, 2, 3, 4, 5]"
   ]
  },
  {
   "cell_type": "code",
   "execution_count": 32,
   "id": "a0e89a12",
   "metadata": {},
   "outputs": [
    {
     "data": {
      "text/plain": [
       "True"
      ]
     },
     "execution_count": 32,
     "metadata": {},
     "output_type": "execute_result"
    }
   ],
   "source": [
    "3 in a # ¿3 está en la lista \"a\"?"
   ]
  },
  {
   "cell_type": "code",
   "execution_count": 33,
   "id": "89123e97",
   "metadata": {},
   "outputs": [
    {
     "data": {
      "text/plain": [
       "False"
      ]
     },
     "execution_count": 33,
     "metadata": {},
     "output_type": "execute_result"
    }
   ],
   "source": [
    "7 in a"
   ]
  },
  {
   "cell_type": "code",
   "execution_count": 34,
   "id": "b459a800",
   "metadata": {},
   "outputs": [],
   "source": [
    "texto = \"Hola mundo\""
   ]
  },
  {
   "cell_type": "code",
   "execution_count": 35,
   "id": "26784c8d",
   "metadata": {},
   "outputs": [
    {
     "data": {
      "text/plain": [
       "True"
      ]
     },
     "execution_count": 35,
     "metadata": {},
     "output_type": "execute_result"
    }
   ],
   "source": [
    "\"Hola\" in texto"
   ]
  },
  {
   "cell_type": "code",
   "execution_count": 36,
   "id": "d87866ff",
   "metadata": {},
   "outputs": [
    {
     "data": {
      "text/plain": [
       "False"
      ]
     },
     "execution_count": 36,
     "metadata": {},
     "output_type": "execute_result"
    }
   ],
   "source": [
    "\"hola\" in texto"
   ]
  }
 ],
 "metadata": {
  "kernelspec": {
   "display_name": "Python 3 (ipykernel)",
   "language": "python",
   "name": "python3"
  },
  "language_info": {
   "codemirror_mode": {
    "name": "ipython",
    "version": 3
   },
   "file_extension": ".py",
   "mimetype": "text/x-python",
   "name": "python",
   "nbconvert_exporter": "python",
   "pygments_lexer": "ipython3",
   "version": "3.11.5"
  }
 },
 "nbformat": 4,
 "nbformat_minor": 5
}
