{
 "cells": [
  {
   "cell_type": "code",
   "execution_count": 1,
   "id": "840e75d9",
   "metadata": {},
   "outputs": [
    {
     "name": "stdout",
     "output_type": "stream",
     "text": [
      "B es mayor que A\n"
     ]
    }
   ],
   "source": [
    "a = 33\n",
    "b = 200\n",
    "if b > a:\n",
    "    print(\"B es mayor que A\")"
   ]
  },
  {
   "cell_type": "code",
   "execution_count": 2,
   "id": "247ceaba",
   "metadata": {},
   "outputs": [
    {
     "ename": "IndentationError",
     "evalue": "expected an indented block after 'if' statement on line 3 (1075879772.py, line 4)",
     "output_type": "error",
     "traceback": [
      "\u001b[0;36m  Cell \u001b[0;32mIn[2], line 4\u001b[0;36m\u001b[0m\n\u001b[0;31m    print(\"B es mayor que A\")\u001b[0m\n\u001b[0m    ^\u001b[0m\n\u001b[0;31mIndentationError\u001b[0m\u001b[0;31m:\u001b[0m expected an indented block after 'if' statement on line 3\n"
     ]
    }
   ],
   "source": [
    "a = 33\n",
    "b = 200\n",
    "if b > a:\n",
    "print(\"B es mayor que A\")"
   ]
  },
  {
   "cell_type": "code",
   "execution_count": 3,
   "id": "31023349",
   "metadata": {},
   "outputs": [
    {
     "name": "stdout",
     "output_type": "stream",
     "text": [
      "1\n",
      "2\n",
      "3\n"
     ]
    }
   ],
   "source": [
    "if 'f' in 'foo':\n",
    "    print('1')\n",
    "    print('2')\n",
    "    print('3')"
   ]
  },
  {
   "cell_type": "code",
   "execution_count": 4,
   "id": "986263f3",
   "metadata": {},
   "outputs": [
    {
     "name": "stdout",
     "output_type": "stream",
     "text": [
      "1\n",
      "2\n",
      "3\n"
     ]
    }
   ],
   "source": [
    "if 'f' in 'foo': print('1'); print('2'); print('3') # Alternativa a ejecución en varios renglones"
   ]
  },
  {
   "cell_type": "code",
   "execution_count": 5,
   "id": "3534afd0",
   "metadata": {},
   "outputs": [
    {
     "name": "stdout",
     "output_type": "stream",
     "text": [
      "I es mayor que 11\n"
     ]
    }
   ],
   "source": [
    "i = 15\n",
    "if i > 11: print('I es mayor que 11')"
   ]
  },
  {
   "cell_type": "code",
   "execution_count": 6,
   "id": "0ca8e1a5",
   "metadata": {},
   "outputs": [
    {
     "name": "stdout",
     "output_type": "stream",
     "text": [
      "Ambas condiciones son verdaderas.\n"
     ]
    }
   ],
   "source": [
    "a = 200\n",
    "b = 33\n",
    "c = 500\n",
    "if a > b and c > a:\n",
    "    print(\"Ambas condiciones son verdaderas.\")"
   ]
  },
  {
   "cell_type": "code",
   "execution_count": 7,
   "id": "6af4af6a",
   "metadata": {},
   "outputs": [
    {
     "name": "stdout",
     "output_type": "stream",
     "text": [
      "Al menos una de las condiciones es verdadera.\n"
     ]
    }
   ],
   "source": [
    "a = 200\n",
    "b = 33\n",
    "c = 500\n",
    "if a > b or c > a:\n",
    "    print(\"Al menos una de las condiciones es verdadera.\")"
   ]
  },
  {
   "cell_type": "code",
   "execution_count": 8,
   "id": "88baac2f",
   "metadata": {},
   "outputs": [
    {
     "name": "stdout",
     "output_type": "stream",
     "text": [
      "Pequeño\n",
      "Fin\n"
     ]
    }
   ],
   "source": [
    "x = 5\n",
    "if x < 10:\n",
    "    print(\"Pequeño\")\n",
    "if x > 20:\n",
    "    print(\"Grande\")\n",
    "print(\"Fin\")"
   ]
  },
  {
   "cell_type": "code",
   "execution_count": 9,
   "id": "be6fae91",
   "metadata": {},
   "outputs": [
    {
     "name": "stdout",
     "output_type": "stream",
     "text": [
      "Grande\n",
      "Fin\n"
     ]
    }
   ],
   "source": [
    "x = 50\n",
    "if x < 10:\n",
    "    print(\"Pequeño\")\n",
    "if x > 20:\n",
    "    print(\"Grande\")\n",
    "print(\"Fin\")"
   ]
  },
  {
   "cell_type": "code",
   "execution_count": 10,
   "id": "72997054",
   "metadata": {},
   "outputs": [
    {
     "name": "stdout",
     "output_type": "stream",
     "text": [
      "Igual a 5.\n",
      "Mayor que 4.\n",
      "Mayor o igual que 5.\n",
      "Menor a 6.\n",
      "Menor o igual a 5.\n",
      "Diferente de 6.\n"
     ]
    }
   ],
   "source": [
    "x = 5\n",
    "if x == 5:\n",
    "    print(\"Igual a 5.\")\n",
    "if x > 4:\n",
    "    print(\"Mayor que 4.\")\n",
    "if x >= 5:\n",
    "    print(\"Mayor o igual que 5.\")\n",
    "if x < 6: print(\"Menor a 6.\")\n",
    "if x <= 5: print(\"Menor o igual a 5.\")\n",
    "if x != 6: print(\"Diferente de 6.\")"
   ]
  },
  {
   "cell_type": "code",
   "execution_count": 12,
   "id": "e912bcf3",
   "metadata": {},
   "outputs": [
    {
     "name": "stdout",
     "output_type": "stream",
     "text": [
      "Dame un número: 0\n",
      "Proceso terminado.\n"
     ]
    }
   ],
   "source": [
    "x = input(\"Dame un número: \")\n",
    "if float(x) > 1:\n",
    "    print(\"Mayor a 1.\")\n",
    "    if float(x) < 100:\n",
    "        print(\"Menor a 100.\")\n",
    "print(\"Proceso terminado.\")"
   ]
  },
  {
   "cell_type": "code",
   "execution_count": 14,
   "id": "4ddf75e5",
   "metadata": {},
   "outputs": [
    {
     "name": "stdout",
     "output_type": "stream",
     "text": [
      "Más pequeño.\n",
      "Fin.\n"
     ]
    }
   ],
   "source": [
    "x = 1\n",
    "if x > 2:\n",
    "    print(\"Más grande.\")\n",
    "else:\n",
    "    print(\"Más pequeño.\")\n",
    "print(\"Fin.\")"
   ]
  },
  {
   "cell_type": "code",
   "execution_count": 17,
   "id": "ca350dbd",
   "metadata": {},
   "outputs": [
    {
     "name": "stdout",
     "output_type": "stream",
     "text": [
      "Dame un número: 30\n",
      "x = 30.0\n",
      "Grande.\n",
      "\n",
      "Fin\n"
     ]
    }
   ],
   "source": [
    "x = float(input(\"Dame un número: \"))\n",
    "if x < 2:\n",
    "    print(\"x =\", x)\n",
    "    print(\"Pequeño.\")\n",
    "elif x < 10:\n",
    "    print(\"x =\", x)\n",
    "    print(\"Mediano.\")\n",
    "else:\n",
    "    print(\"x =\", x)\n",
    "    print(\"Grande.\")\n",
    "print(\"\\nFin\")"
   ]
  },
  {
   "cell_type": "code",
   "execution_count": 18,
   "id": "f81cafe6",
   "metadata": {},
   "outputs": [
    {
     "name": "stdout",
     "output_type": "stream",
     "text": [
      "Dame un número: 4\n",
      "x = 4.0\n",
      "Mediano.\n",
      "\n",
      "Fin\n"
     ]
    }
   ],
   "source": [
    "x = float(input(\"Dame un número: \"))\n",
    "print(\"x =\", x)\n",
    "if x < 2: print(\"Pequeño.\")\n",
    "elif x < 10: print(\"Mediano.\")\n",
    "else: print(\"Grande.\")\n",
    "print(\"\\nFin\")"
   ]
  },
  {
   "cell_type": "code",
   "execution_count": 19,
   "id": "3a95c78c",
   "metadata": {},
   "outputs": [
    {
     "name": "stdout",
     "output_type": "stream",
     "text": [
      "Dame un número: 15\n",
      "x = 15.0\n",
      "Grande.\n",
      "\n",
      "Fin\n"
     ]
    }
   ],
   "source": [
    "x = float(input(\"Dame un número: \"))\n",
    "print(\"x =\", x)\n",
    "if x < 2: print(\"Pequeño.\")\n",
    "elif x < 10: print(\"Mediano.\")\n",
    "elif x < 20: print(\"Grande.\")\n",
    "else: print(\"Gigante.\")\n",
    "print(\"\\nFin\")"
   ]
  },
  {
   "cell_type": "code",
   "execution_count": 20,
   "id": "ba4e5b7a",
   "metadata": {},
   "outputs": [
    {
     "name": "stdout",
     "output_type": "stream",
     "text": [
      "B\n"
     ]
    }
   ],
   "source": [
    "a = 3\n",
    "b = 5\n",
    "print(\"A\") if a > b else print(\"B\")"
   ]
  },
  {
   "cell_type": "code",
   "execution_count": 21,
   "id": "ca9594f4",
   "metadata": {},
   "outputs": [
    {
     "name": "stdout",
     "output_type": "stream",
     "text": [
      "B es mayor\n"
     ]
    }
   ],
   "source": [
    "a = 3\n",
    "b = 5\n",
    "print(\"A es mayor\") if a > b else print(\"=\") if a == b else print(\"B es mayor\")"
   ]
  },
  {
   "cell_type": "code",
   "execution_count": 22,
   "id": "b635c248",
   "metadata": {},
   "outputs": [],
   "source": [
    "a = 33\n",
    "b = 200\n",
    "if b > a:\n",
    "    pass"
   ]
  },
  {
   "cell_type": "markdown",
   "id": "dec80860",
   "metadata": {},
   "source": [
    "## Try y Except"
   ]
  },
  {
   "cell_type": "code",
   "execution_count": 23,
   "id": "2a39eff0",
   "metadata": {},
   "outputs": [
    {
     "name": "stdout",
     "output_type": "stream",
     "text": [
      "123\n"
     ]
    }
   ],
   "source": [
    "cadena1 = \"123\"\n",
    "entero = int(cadena1)\n",
    "print(entero)"
   ]
  },
  {
   "cell_type": "code",
   "execution_count": 24,
   "id": "1fa1e394",
   "metadata": {},
   "outputs": [
    {
     "name": "stdout",
     "output_type": "stream",
     "text": [
      "Dame un entero positivo: pablo\n",
      "Valor incorrecto.\n"
     ]
    }
   ],
   "source": [
    "cadena = input(\"Dame un entero positivo: \")\n",
    "try:\n",
    "    entero = int(cadena)\n",
    "except:\n",
    "    entero = -1\n",
    "\n",
    "if entero > 0:\n",
    "    print(\"Valor correcto.\")\n",
    "else:\n",
    "    print(\"Valor incorrecto.\")"
   ]
  },
  {
   "cell_type": "markdown",
   "id": "0399ecd9",
   "metadata": {},
   "source": [
    "# Usos avanzados de IF"
   ]
  },
  {
   "cell_type": "code",
   "execution_count": 27,
   "id": "ea97badf",
   "metadata": {},
   "outputs": [
    {
     "name": "stdout",
     "output_type": "stream",
     "text": [
      "Vamos a la playa.\n"
     ]
    }
   ],
   "source": [
    "lluvia = False\n",
    "print(\"Vamos a\", \"la playa.\" if not lluvia else \"la biblioteca.\")"
   ]
  },
  {
   "cell_type": "code",
   "execution_count": 28,
   "id": "8fd2cc81",
   "metadata": {},
   "outputs": [
    {
     "name": "stdout",
     "output_type": "stream",
     "text": [
      "Vamos a la biblioteca.\n"
     ]
    }
   ],
   "source": [
    "lluvia = True\n",
    "print(\"Vamos a\", \"la playa.\" if not lluvia else \"la biblioteca.\")"
   ]
  },
  {
   "cell_type": "code",
   "execution_count": 29,
   "id": "e47764b4",
   "metadata": {},
   "outputs": [
    {
     "data": {
      "text/plain": [
       "42"
      ]
     },
     "execution_count": 29,
     "metadata": {},
     "output_type": "execute_result"
    }
   ],
   "source": [
    "x = y = 40\n",
    "z = x + 1 if x > y else y + 2\n",
    "z"
   ]
  },
  {
   "cell_type": "code",
   "execution_count": 30,
   "id": "da3541bd",
   "metadata": {},
   "outputs": [
    {
     "data": {
      "text/plain": [
       "'mno'"
      ]
     },
     "execution_count": 30,
     "metadata": {},
     "output_type": "execute_result"
    }
   ],
   "source": [
    "x = 3\n",
    "s = ('abc' if (x == 1) else\n",
    "     'def' if (x == 2) else\n",
    "     'ghi' if (x == 4) else\n",
    "     'mno')\n",
    "s"
   ]
  },
  {
   "cell_type": "code",
   "execution_count": 31,
   "id": "1ee7bcce",
   "metadata": {},
   "outputs": [
    {
     "data": {
      "text/plain": [
       "'No'"
      ]
     },
     "execution_count": 31,
     "metadata": {},
     "output_type": "execute_result"
    }
   ],
   "source": [
    "\"Sí\" if ('jkl' in ['abc', 'def', 'ghi']) else \"No\""
   ]
  },
  {
   "cell_type": "code",
   "execution_count": null,
   "id": "ee03e6aa",
   "metadata": {},
   "outputs": [],
   "source": []
  }
 ],
 "metadata": {
  "kernelspec": {
   "display_name": "Python 3 (ipykernel)",
   "language": "python",
   "name": "python3"
  },
  "language_info": {
   "codemirror_mode": {
    "name": "ipython",
    "version": 3
   },
   "file_extension": ".py",
   "mimetype": "text/x-python",
   "name": "python",
   "nbconvert_exporter": "python",
   "pygments_lexer": "ipython3",
   "version": "3.11.5"
  }
 },
 "nbformat": 4,
 "nbformat_minor": 5
}
