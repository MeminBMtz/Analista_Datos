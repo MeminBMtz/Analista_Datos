{
 "cells": [
  {
   "cell_type": "code",
   "execution_count": 1,
   "id": "6a109a2e",
   "metadata": {},
   "outputs": [
    {
     "name": "stdout",
     "output_type": "stream",
     "text": [
      "La suma es: 48\n"
     ]
    }
   ],
   "source": [
    "numeros = [6, 5, 3, 8, 4, 2, 5, 4, 11]\n",
    "suma = 0\n",
    "\n",
    "for valor in numeros:\n",
    "    suma += valor\n",
    "\n",
    "print(\"La suma es:\", suma)"
   ]
  },
  {
   "cell_type": "code",
   "execution_count": 2,
   "id": "614bdfc5",
   "metadata": {},
   "outputs": [
    {
     "name": "stdout",
     "output_type": "stream",
     "text": [
      "La suma es: 48.\n"
     ]
    }
   ],
   "source": [
    "numeros = [6, 5, 3, 8, 4, 2, 5, 4, 11]\n",
    "suma = 0\n",
    "\n",
    "for valor in numeros:\n",
    "    suma += valor\n",
    "\n",
    "print(f\"La suma es: {suma}.\")"
   ]
  },
  {
   "cell_type": "code",
   "execution_count": 3,
   "id": "674b743f",
   "metadata": {},
   "outputs": [
    {
     "name": "stdout",
     "output_type": "stream",
     "text": [
      "Manzana\n",
      "Fresa\n",
      "Cereza\n"
     ]
    }
   ],
   "source": [
    "frutas = [\"Manzana\", \"Fresa\", \"Cereza\"]\n",
    "\n",
    "for fruta in frutas:\n",
    "    print(fruta)"
   ]
  },
  {
   "cell_type": "code",
   "execution_count": 4,
   "id": "0f78ffb8",
   "metadata": {},
   "outputs": [
    {
     "name": "stdout",
     "output_type": "stream",
     "text": [
      "p\n",
      "l\n",
      "á\n",
      "t\n",
      "a\n",
      "n\n",
      "o\n"
     ]
    }
   ],
   "source": [
    "for letra in \"plátano\":\n",
    "    print(letra)"
   ]
  },
  {
   "cell_type": "code",
   "execution_count": 5,
   "id": "58b7260e",
   "metadata": {},
   "outputs": [
    {
     "name": "stdout",
     "output_type": "stream",
     "text": [
      "5\n",
      "7\n",
      "11\n",
      "13\n",
      "Total: 36\n"
     ]
    }
   ],
   "source": [
    "total = 0\n",
    "for i in 5, 7, 11, 13:\n",
    "    print(i)\n",
    "    total += i\n",
    "print(\"Total:\", total)"
   ]
  },
  {
   "cell_type": "code",
   "execution_count": 6,
   "id": "52d9525b",
   "metadata": {},
   "outputs": [
    {
     "name": "stdout",
     "output_type": "stream",
     "text": [
      "0\n",
      "1\n",
      "2\n",
      "3\n",
      "4\n",
      "5\n"
     ]
    }
   ],
   "source": [
    "for x in range(6):\n",
    "    print(x)"
   ]
  },
  {
   "cell_type": "code",
   "execution_count": 7,
   "id": "0bdf2d98",
   "metadata": {},
   "outputs": [
    {
     "name": "stdout",
     "output_type": "stream",
     "text": [
      "2\n",
      "3\n",
      "4\n",
      "5\n",
      "6\n",
      "7\n",
      "8\n",
      "9\n"
     ]
    }
   ],
   "source": [
    "for x in range(2, 10):\n",
    "    print(x)"
   ]
  },
  {
   "cell_type": "code",
   "execution_count": 8,
   "id": "09296a41",
   "metadata": {},
   "outputs": [
    {
     "name": "stdout",
     "output_type": "stream",
     "text": [
      "2\n",
      "5\n",
      "8\n"
     ]
    }
   ],
   "source": [
    "for x in range(2, 10, 3):\n",
    "    print(x)"
   ]
  },
  {
   "cell_type": "code",
   "execution_count": 9,
   "id": "166aff3a",
   "metadata": {},
   "outputs": [
    {
     "name": "stdout",
     "output_type": "stream",
     "text": [
      "0\n",
      "1\n",
      "2\n",
      "3\n",
      "4\n",
      "5\n",
      "Proceso terminado.\n"
     ]
    }
   ],
   "source": [
    "for x in range(6):\n",
    "    print(x)\n",
    "else:\n",
    "    print(\"Proceso terminado.\")"
   ]
  },
  {
   "cell_type": "code",
   "execution_count": 10,
   "id": "2074bb69",
   "metadata": {},
   "outputs": [
    {
     "name": "stdout",
     "output_type": "stream",
     "text": [
      "Número más grande: 74\n"
     ]
    }
   ],
   "source": [
    "mas_grande = -1\n",
    "for numero in [9, 41, 12, 3, 74, 15]:\n",
    "    if numero > mas_grande:\n",
    "        mas_grande = numero\n",
    "print(\"Número más grande:\", mas_grande)"
   ]
  },
  {
   "cell_type": "code",
   "execution_count": 11,
   "id": "3b27ec0a",
   "metadata": {},
   "outputs": [
    {
     "name": "stdout",
     "output_type": "stream",
     "text": [
      "Manzana\n",
      "Fresa\n"
     ]
    }
   ],
   "source": [
    "frutas = [\"Manzana\", \"Fresa\", \"Cereza\"]\n",
    "\n",
    "for fruta in frutas:\n",
    "    print(fruta)\n",
    "    if fruta == \"Fresa\":\n",
    "        break"
   ]
  },
  {
   "cell_type": "code",
   "execution_count": 17,
   "id": "dc27dc25",
   "metadata": {},
   "outputs": [
    {
     "name": "stdout",
     "output_type": "stream",
     "text": [
      "0\n",
      "1\n",
      "2\n"
     ]
    }
   ],
   "source": [
    "for x in range(6):\n",
    "    if x == 3: break\n",
    "    print(x)\n",
    "else:\n",
    "    print(\"Proceso terminado.\")"
   ]
  },
  {
   "cell_type": "code",
   "execution_count": 18,
   "id": "9f834276",
   "metadata": {},
   "outputs": [
    {
     "name": "stdout",
     "output_type": "stream",
     "text": [
      "0\n",
      "1\n",
      "2\n",
      "3\n",
      "4\n",
      "5\n",
      "Proceso terminado.\n"
     ]
    }
   ],
   "source": [
    "for x in range(6):\n",
    "    if x == 8: break\n",
    "    print(x)\n",
    "else:\n",
    "    print(\"Proceso terminado.\")"
   ]
  },
  {
   "cell_type": "code",
   "execution_count": 14,
   "id": "1d9ebb09",
   "metadata": {},
   "outputs": [
    {
     "name": "stdout",
     "output_type": "stream",
     "text": [
      "Nombre del estudiante: Miguel\n",
      "Calificación: 75\n"
     ]
    }
   ],
   "source": [
    "nombre = input(\"Nombre del estudiante: \")\n",
    "datos = {\"José\": 85, \"Angela\": 92, \"Miguel\": 75, \"Ana\": 98}\n",
    "\n",
    "for estudiante in datos:\n",
    "    if estudiante == nombre:\n",
    "        print(\"Calificación:\", datos[estudiante])\n",
    "        break\n",
    "else:\n",
    "    print(\"No se encontró al estudiante solicitado.\")"
   ]
  },
  {
   "cell_type": "code",
   "execution_count": 15,
   "id": "9601181b",
   "metadata": {},
   "outputs": [
    {
     "name": "stdout",
     "output_type": "stream",
     "text": [
      "Nombre del estudiante: Raúl\n",
      "No se encontró al estudiante solicitado.\n"
     ]
    }
   ],
   "source": [
    "nombre = input(\"Nombre del estudiante: \")\n",
    "datos = {\"José\": 85, \"Angela\": 92, \"Miguel\": 75, \"Ana\": 98}\n",
    "\n",
    "for estudiante in datos:\n",
    "    if estudiante == nombre:\n",
    "        print(\"Calificación:\", datos[estudiante])\n",
    "        break\n",
    "else:\n",
    "    print(\"No se encontró al estudiante solicitado.\")"
   ]
  },
  {
   "cell_type": "code",
   "execution_count": 19,
   "id": "50830f3f",
   "metadata": {},
   "outputs": [
    {
     "name": "stdout",
     "output_type": "stream",
     "text": [
      "Manzana roja\n",
      "Manzana grande\n",
      "Manzana deliciosa\n",
      "Fresa roja\n",
      "Fresa grande\n",
      "Fresa deliciosa\n",
      "Cereza roja\n",
      "Cereza grande\n",
      "Cereza deliciosa\n"
     ]
    }
   ],
   "source": [
    "frutas = [\"Manzana\", \"Fresa\", \"Cereza\"]\n",
    "\n",
    "adjetivos = [\"roja\", \"grande\", \"deliciosa\"]\n",
    "\n",
    "for fruta in frutas:\n",
    "    for adjetivo in adjetivos:\n",
    "        print(fruta, adjetivo)"
   ]
  },
  {
   "cell_type": "code",
   "execution_count": 20,
   "id": "35f07164",
   "metadata": {},
   "outputs": [
    {
     "name": "stdout",
     "output_type": "stream",
     "text": [
      "40\n",
      "30\n",
      "20\n",
      "10\n"
     ]
    }
   ],
   "source": [
    "lista = [10, 20, 30, 40]\n",
    "\n",
    "for numero in reversed(lista):\n",
    "    print(numero)"
   ]
  },
  {
   "cell_type": "code",
   "execution_count": 22,
   "id": "6f62688d",
   "metadata": {},
   "outputs": [
    {
     "name": "stdout",
     "output_type": "stream",
     "text": [
      "Número de tablas a calcular: 10\n",
      "Tabla de multiplicar del: 1\n",
      "1 2 3 4 5 6 7 8 9 10 \n",
      "\n",
      "Tabla de multiplicar del: 2\n",
      "2 4 6 8 10 12 14 16 18 20 \n",
      "\n",
      "Tabla de multiplicar del: 3\n",
      "3 6 9 12 15 18 21 24 27 30 \n",
      "\n",
      "Tabla de multiplicar del: 4\n",
      "4 8 12 16 20 24 28 32 36 40 \n",
      "\n",
      "Tabla de multiplicar del: 5\n",
      "5 10 15 20 25 30 35 40 45 50 \n",
      "\n",
      "Tabla de multiplicar del: 6\n",
      "6 12 18 24 30 36 42 48 54 60 \n",
      "\n",
      "Tabla de multiplicar del: 7\n",
      "7 14 21 28 35 42 49 56 63 70 \n",
      "\n",
      "Tabla de multiplicar del: 8\n",
      "8 16 24 32 40 48 56 64 72 80 \n",
      "\n",
      "Tabla de multiplicar del: 9\n",
      "9 18 27 36 45 54 63 72 81 90 \n",
      "\n",
      "Tabla de multiplicar del: 10\n",
      "10 20 30 40 50 60 70 80 90 100 \n",
      "\n"
     ]
    }
   ],
   "source": [
    "tablas = int(input(\"Número de tablas a calcular: \"))\n",
    "\n",
    "for i in range(1, tablas + 1):\n",
    "    print(\"Tabla de multiplicar del:\", i)\n",
    "    contador = 1\n",
    "    while contador < 11:\n",
    "        print(i * contador, end = \" \")\n",
    "        contador += 1\n",
    "    print(\"\\n\")"
   ]
  },
  {
   "cell_type": "code",
   "execution_count": null,
   "id": "b5079a4a",
   "metadata": {},
   "outputs": [],
   "source": []
  }
 ],
 "metadata": {
  "kernelspec": {
   "display_name": "Python 3 (ipykernel)",
   "language": "python",
   "name": "python3"
  },
  "language_info": {
   "codemirror_mode": {
    "name": "ipython",
    "version": 3
   },
   "file_extension": ".py",
   "mimetype": "text/x-python",
   "name": "python",
   "nbconvert_exporter": "python",
   "pygments_lexer": "ipython3",
   "version": "3.11.5"
  }
 },
 "nbformat": 4,
 "nbformat_minor": 5
}
