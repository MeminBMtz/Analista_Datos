{
 "cells": [
  {
   "cell_type": "code",
   "execution_count": 1,
   "id": "8ccf0021",
   "metadata": {},
   "outputs": [
    {
     "name": "stdout",
     "output_type": "stream",
     "text": [
      "Hola\n"
     ]
    }
   ],
   "source": [
    "def saludo():\n",
    "    print(\"Hola\")\n",
    "\n",
    "saludo()"
   ]
  },
  {
   "cell_type": "code",
   "execution_count": 2,
   "id": "5d844a17",
   "metadata": {},
   "outputs": [
    {
     "name": "stdout",
     "output_type": "stream",
     "text": [
      "Hola, Memo\n"
     ]
    }
   ],
   "source": [
    "def saludo_nombre(nombre):\n",
    "    print(\"Hola, \" + nombre)\n",
    "\n",
    "saludo_nombre(\"Memo\")"
   ]
  },
  {
   "cell_type": "code",
   "execution_count": 3,
   "id": "5967f67a",
   "metadata": {},
   "outputs": [
    {
     "name": "stdout",
     "output_type": "stream",
     "text": [
      "12.5664\n"
     ]
    }
   ],
   "source": [
    "# Área de un círculo\n",
    "def area_circulo(radio):\n",
    "    area = 3.1416 * (radio ** 2)\n",
    "    return area\n",
    "\n",
    "mi_area = area_circulo(2)\n",
    "print(mi_area)"
   ]
  },
  {
   "cell_type": "code",
   "execution_count": 4,
   "id": "ad69013b",
   "metadata": {},
   "outputs": [
    {
     "data": {
      "text/plain": [
       "8"
      ]
     },
     "execution_count": 4,
     "metadata": {},
     "output_type": "execute_result"
    }
   ],
   "source": [
    "def producto(x1, x2):\n",
    "    return x1 * x2\n",
    "\n",
    "producto(2, 4)"
   ]
  },
  {
   "cell_type": "code",
   "execution_count": 5,
   "id": "429f167c",
   "metadata": {},
   "outputs": [
    {
     "name": "stdout",
     "output_type": "stream",
     "text": [
      "6\n"
     ]
    }
   ],
   "source": [
    "# Función con valores predeterminados\n",
    "def suma(a, b=3):\n",
    "    return a + b\n",
    "\n",
    "resultado = suma(2, 4)\n",
    "print(resultado)"
   ]
  },
  {
   "cell_type": "code",
   "execution_count": 6,
   "id": "a09b00ae",
   "metadata": {},
   "outputs": [
    {
     "name": "stdout",
     "output_type": "stream",
     "text": [
      "5\n"
     ]
    }
   ],
   "source": [
    "resultado = suma(2)\n",
    "print(resultado)"
   ]
  },
  {
   "cell_type": "code",
   "execution_count": 7,
   "id": "f2401d9f",
   "metadata": {},
   "outputs": [
    {
     "ename": "NameError",
     "evalue": "name 'x' is not defined",
     "output_type": "error",
     "traceback": [
      "\u001b[0;31m---------------------------------------------------------------------------\u001b[0m",
      "\u001b[0;31mNameError\u001b[0m                                 Traceback (most recent call last)",
      "Cell \u001b[0;32mIn[7], line 5\u001b[0m\n\u001b[1;32m      2\u001b[0m     x \u001b[38;5;241m=\u001b[39m numero \u001b[38;5;241m*\u001b[39m \u001b[38;5;241m2\u001b[39m\n\u001b[1;32m      3\u001b[0m     \u001b[38;5;28;01mreturn\u001b[39;00m x\n\u001b[0;32m----> 5\u001b[0m \u001b[38;5;28mprint\u001b[39m(x)\n",
      "\u001b[0;31mNameError\u001b[0m: name 'x' is not defined"
     ]
    }
   ],
   "source": [
    "def duplica(numero):\n",
    "    x = numero * 2\n",
    "    return x\n",
    "\n",
    "print(x)"
   ]
  },
  {
   "cell_type": "code",
   "execution_count": 8,
   "id": "dfe4d79a",
   "metadata": {},
   "outputs": [
    {
     "name": "stdout",
     "output_type": "stream",
     "text": [
      "20\n"
     ]
    }
   ],
   "source": [
    "print(duplica(10))"
   ]
  },
  {
   "cell_type": "code",
   "execution_count": 9,
   "id": "fcdf4f31",
   "metadata": {},
   "outputs": [
    {
     "name": "stdout",
     "output_type": "stream",
     "text": [
      "Mi mejor amigo/a es Alexia\n"
     ]
    }
   ],
   "source": [
    "def mi_funcion(*amigos):\n",
    "    print(\"Mi mejor amigo/a es \" + amigos[2])\n",
    "\n",
    "mi_funcion(\"Pedro\", \"José\", \"Alexia\", \"Juan\")"
   ]
  },
  {
   "cell_type": "code",
   "execution_count": 10,
   "id": "4db9bd7c",
   "metadata": {},
   "outputs": [
    {
     "name": "stdout",
     "output_type": "stream",
     "text": [
      "El chico más joven es Emil\n"
     ]
    }
   ],
   "source": [
    "def chicos(chico1, chico2, chico3):\n",
    "    print(\"El chico más joven es \" + chico3)\n",
    "\n",
    "chicos(chico3 = \"Emil\", chico1 = \"Tobías\", chico2 = \"Armando\")"
   ]
  },
  {
   "cell_type": "code",
   "execution_count": 11,
   "id": "ff290d5d",
   "metadata": {},
   "outputs": [
    {
     "name": "stdout",
     "output_type": "stream",
     "text": [
      "El apellido es Suárez\n"
     ]
    }
   ],
   "source": [
    "def apellido(**chico):\n",
    "    print(\"El apellido es \" + chico[\"apellido\"])\n",
    "\n",
    "apellido(npila = \"Juan\", apellido = \"Suárez\", edad = 15)"
   ]
  },
  {
   "cell_type": "code",
   "execution_count": 12,
   "id": "9e21842d",
   "metadata": {},
   "outputs": [
    {
     "name": "stdout",
     "output_type": "stream",
     "text": [
      "Soy de Argentina\n",
      "Soy de México\n"
     ]
    }
   ],
   "source": [
    "def pais(country = \"México\"):\n",
    "    print(\"Soy de \" + country)\n",
    "\n",
    "pais(\"Argentina\")\n",
    "pais()"
   ]
  },
  {
   "cell_type": "code",
   "execution_count": 13,
   "id": "9096d6e7",
   "metadata": {},
   "outputs": [],
   "source": [
    "def funcion():\n",
    "    pass\n",
    "\n",
    "funcion()"
   ]
  },
  {
   "cell_type": "code",
   "execution_count": 14,
   "id": "34a73ab4",
   "metadata": {},
   "outputs": [
    {
     "name": "stdout",
     "output_type": "stream",
     "text": [
      "manzana\n",
      "fresa\n",
      "sandía\n"
     ]
    }
   ],
   "source": [
    "# Pase de listas en funciones\n",
    "def lista_comida(comida):\n",
    "    for x in comida:\n",
    "        print(x)\n",
    "\n",
    "frutas = [\"manzana\", \"fresa\", \"sandía\"]\n",
    "lista_comida(frutas)"
   ]
  },
  {
   "cell_type": "code",
   "execution_count": 15,
   "id": "b6f6ceb6",
   "metadata": {},
   "outputs": [
    {
     "data": {
      "text/plain": [
       "[3, 6, 9, 12, 15, 18, 21, 24, 27, 30]"
      ]
     },
     "execution_count": 15,
     "metadata": {},
     "output_type": "execute_result"
    }
   ],
   "source": [
    "def tabla_del(numero):\n",
    "    resultados = []\n",
    "    for i in range(1, 11):\n",
    "        resultados.append(numero * i)\n",
    "    return resultados\n",
    "\n",
    "tabla_del(3)"
   ]
  },
  {
   "cell_type": "code",
   "execution_count": 16,
   "id": "f6f62811",
   "metadata": {},
   "outputs": [
    {
     "data": {
      "text/plain": [
       "[5, 10, 15, 20, 25, 30, 35, 40, 45, 50]"
      ]
     },
     "execution_count": 16,
     "metadata": {},
     "output_type": "execute_result"
    }
   ],
   "source": [
    "tabla_del(5)"
   ]
  },
  {
   "cell_type": "code",
   "execution_count": 17,
   "id": "ae89721f",
   "metadata": {},
   "outputs": [
    {
     "name": "stdout",
     "output_type": "stream",
     "text": [
      "[1, 2, 3, 4, 5, 6, 7, 8, 9, 10]\n",
      "[2, 4, 6, 8, 10, 12, 14, 16, 18, 20]\n",
      "[3, 6, 9, 12, 15, 18, 21, 24, 27, 30]\n",
      "[4, 8, 12, 16, 20, 24, 28, 32, 36, 40]\n",
      "[5, 10, 15, 20, 25, 30, 35, 40, 45, 50]\n",
      "[6, 12, 18, 24, 30, 36, 42, 48, 54, 60]\n",
      "[7, 14, 21, 28, 35, 42, 49, 56, 63, 70]\n",
      "[8, 16, 24, 32, 40, 48, 56, 64, 72, 80]\n",
      "[9, 18, 27, 36, 45, 54, 63, 72, 81, 90]\n",
      "[10, 20, 30, 40, 50, 60, 70, 80, 90, 100]\n"
     ]
    }
   ],
   "source": [
    "for valor in range(1, 11):\n",
    "    print(tabla_del(valor))"
   ]
  },
  {
   "cell_type": "code",
   "execution_count": 18,
   "id": "99cdfbff",
   "metadata": {},
   "outputs": [
    {
     "name": "stdout",
     "output_type": "stream",
     "text": [
      "True\n"
     ]
    }
   ],
   "source": [
    "def Palindromo(cadena):\n",
    "    izquierda = 0\n",
    "    derecha = len(cadena) - 1\n",
    "    \n",
    "    while derecha >= izquierda:\n",
    "        if not(cadena[izquierda] == cadena[derecha]):\n",
    "            return False\n",
    "        izquierda += 1\n",
    "        derecha -= 1\n",
    "    return True\n",
    "\n",
    "print(Palindromo(\"anitalavalatina\"))"
   ]
  },
  {
   "cell_type": "code",
   "execution_count": 19,
   "id": "1314c01b",
   "metadata": {},
   "outputs": [
    {
     "name": "stdout",
     "output_type": "stream",
     "text": [
      "True\n"
     ]
    }
   ],
   "source": [
    "print(Palindromo(\"rayar\"))"
   ]
  },
  {
   "cell_type": "code",
   "execution_count": 20,
   "id": "bc9ea9f7",
   "metadata": {},
   "outputs": [
    {
     "name": "stdout",
     "output_type": "stream",
     "text": [
      "False\n"
     ]
    }
   ],
   "source": [
    "print(Palindromo(\"raya\"))"
   ]
  },
  {
   "cell_type": "code",
   "execution_count": 21,
   "id": "0577aec9",
   "metadata": {},
   "outputs": [
    {
     "name": "stdout",
     "output_type": "stream",
     "text": [
      "False\n"
     ]
    }
   ],
   "source": [
    "print(Palindromo(\"Rayar\"))"
   ]
  },
  {
   "cell_type": "code",
   "execution_count": 22,
   "id": "ea06593b",
   "metadata": {},
   "outputs": [
    {
     "name": "stdout",
     "output_type": "stream",
     "text": [
      "True\n"
     ]
    }
   ],
   "source": [
    "# Versión 2\n",
    "def Palindromo2(cadena):\n",
    "    izquierda = 0\n",
    "    derecha = len(cadena) - 1\n",
    "    \n",
    "    while derecha >= izquierda:\n",
    "        if not(cadena[izquierda].lower() == cadena[derecha].lower()):\n",
    "            return False\n",
    "        izquierda += 1\n",
    "        derecha -= 1\n",
    "    return True\n",
    "\n",
    "print(Palindromo2(\"AnitaLavaLaTina\"))"
   ]
  },
  {
   "cell_type": "code",
   "execution_count": 23,
   "id": "df06f269",
   "metadata": {},
   "outputs": [
    {
     "name": "stdout",
     "output_type": "stream",
     "text": [
      "False\n"
     ]
    }
   ],
   "source": [
    "print(Palindromo2(\"Raya\"))"
   ]
  },
  {
   "cell_type": "code",
   "execution_count": 24,
   "id": "34a26732",
   "metadata": {},
   "outputs": [
    {
     "name": "stdout",
     "output_type": "stream",
     "text": [
      "True\n"
     ]
    }
   ],
   "source": [
    "print(Palindromo2(\"Rayar\"))"
   ]
  },
  {
   "cell_type": "code",
   "execution_count": 25,
   "id": "638901e4",
   "metadata": {},
   "outputs": [
    {
     "name": "stdout",
     "output_type": "stream",
     "text": [
      "4\n"
     ]
    }
   ],
   "source": [
    "# Función tradicional\n",
    "def cuadrado(x):\n",
    "    return x ** 2\n",
    "\n",
    "print(cuadrado(2))"
   ]
  },
  {
   "cell_type": "code",
   "execution_count": 26,
   "id": "07179ebc",
   "metadata": {},
   "outputs": [
    {
     "name": "stdout",
     "output_type": "stream",
     "text": [
      "4\n"
     ]
    }
   ],
   "source": [
    "# Función lambda\n",
    "cuadrado = lambda x: x ** 2\n",
    "print(cuadrado(2))"
   ]
  },
  {
   "cell_type": "code",
   "execution_count": 27,
   "id": "35588984",
   "metadata": {},
   "outputs": [
    {
     "data": {
      "text/plain": [
       "5"
      ]
     },
     "execution_count": 27,
     "metadata": {},
     "output_type": "execute_result"
    }
   ],
   "source": [
    "suma = lambda x, y: x + y\n",
    "suma(2, 3)"
   ]
  },
  {
   "cell_type": "code",
   "execution_count": 28,
   "id": "9e9f36cd",
   "metadata": {},
   "outputs": [
    {
     "data": {
      "text/plain": [
       "5"
      ]
     },
     "execution_count": 28,
     "metadata": {},
     "output_type": "execute_result"
    }
   ],
   "source": [
    "(lambda x, y: x + y)(2, 3)"
   ]
  },
  {
   "cell_type": "code",
   "execution_count": 30,
   "id": "26597179",
   "metadata": {},
   "outputs": [
    {
     "name": "stdout",
     "output_type": "stream",
     "text": [
      "El doble del número 15 es 30\n"
     ]
    }
   ],
   "source": [
    "def Calcula(n):\n",
    "    return lambda x: x * n\n",
    "\n",
    "result = Calcula(2)\n",
    "print(\"El doble del número 15 es\", result(15))"
   ]
  },
  {
   "cell_type": "code",
   "execution_count": 31,
   "id": "e610146a",
   "metadata": {},
   "outputs": [
    {
     "name": "stdout",
     "output_type": "stream",
     "text": [
      "True\n"
     ]
    }
   ],
   "source": [
    "Inicia_con = lambda letra, texto: True if texto.startswith(letra) else False\n",
    "print(Inicia_con(\"P\", \"Python\"))"
   ]
  },
  {
   "cell_type": "code",
   "execution_count": 32,
   "id": "eb3d2104",
   "metadata": {},
   "outputs": [
    {
     "name": "stdout",
     "output_type": "stream",
     "text": [
      "False\n"
     ]
    }
   ],
   "source": [
    "print(Inicia_con(\"Y\", \"Python\"))"
   ]
  }
 ],
 "metadata": {
  "kernelspec": {
   "display_name": "Python 3 (ipykernel)",
   "language": "python",
   "name": "python3"
  },
  "language_info": {
   "codemirror_mode": {
    "name": "ipython",
    "version": 3
   },
   "file_extension": ".py",
   "mimetype": "text/x-python",
   "name": "python",
   "nbconvert_exporter": "python",
   "pygments_lexer": "ipython3",
   "version": "3.11.5"
  }
 },
 "nbformat": 4,
 "nbformat_minor": 5
}
