{
 "cells": [
  {
   "cell_type": "code",
   "execution_count": 1,
   "id": "39dded00",
   "metadata": {},
   "outputs": [],
   "source": [
    "# Creación de una nueva clase\n",
    "class Mi_Clase:\n",
    "    pass"
   ]
  },
  {
   "cell_type": "code",
   "execution_count": 2,
   "id": "1c0833cb",
   "metadata": {},
   "outputs": [
    {
     "name": "stdout",
     "output_type": "stream",
     "text": [
      "5\n",
      "10\n"
     ]
    }
   ],
   "source": [
    "# Creación de un nuevo objeto\n",
    "objeto = Mi_Clase\n",
    "objeto.x = 5\n",
    "objeto.y = 10\n",
    "\n",
    "print(objeto.x)\n",
    "print(objeto.y)"
   ]
  },
  {
   "cell_type": "code",
   "execution_count": 3,
   "id": "934d9342",
   "metadata": {},
   "outputs": [],
   "source": [
    "# Creación de una nueva clase con atributos iniciales\n",
    "class Mi_Clase:\n",
    "    x = 5\n",
    "    y = 10"
   ]
  },
  {
   "cell_type": "code",
   "execution_count": 4,
   "id": "52102e5e",
   "metadata": {},
   "outputs": [
    {
     "name": "stdout",
     "output_type": "stream",
     "text": [
      "5\n",
      "10\n"
     ]
    }
   ],
   "source": [
    "objeto = Mi_Clase()\n",
    "print(objeto.x)\n",
    "print(objeto.y)"
   ]
  },
  {
   "cell_type": "code",
   "execution_count": 5,
   "id": "c99d0f51",
   "metadata": {},
   "outputs": [
    {
     "name": "stdout",
     "output_type": "stream",
     "text": [
      "5\n",
      "10\n"
     ]
    }
   ],
   "source": [
    "objeto = Mi_Clase\n",
    "print(objeto.x)\n",
    "print(objeto.y)"
   ]
  },
  {
   "cell_type": "code",
   "execution_count": 6,
   "id": "b2586d5c",
   "metadata": {},
   "outputs": [],
   "source": [
    "# Definición de un método para una clase\n",
    "class Aviso:\n",
    "    def saludar(self):\n",
    "        print(\"¡Hola, buen día!\")"
   ]
  },
  {
   "cell_type": "code",
   "execution_count": 7,
   "id": "e22dbdba",
   "metadata": {},
   "outputs": [
    {
     "name": "stdout",
     "output_type": "stream",
     "text": [
      "¡Hola, buen día!\n"
     ]
    }
   ],
   "source": [
    "texto = Aviso()\n",
    "texto.saludar()"
   ]
  },
  {
   "cell_type": "code",
   "execution_count": 8,
   "id": "93ef4922",
   "metadata": {},
   "outputs": [],
   "source": [
    "# Definición de una clase para almacenar los datos de estudiantes\n",
    "class Estudiante:\n",
    "    def aprobado(self):\n",
    "        if self.calif >= 60:\n",
    "            return True\n",
    "        else:\n",
    "            return False"
   ]
  },
  {
   "cell_type": "code",
   "execution_count": 9,
   "id": "43cdd8ec",
   "metadata": {},
   "outputs": [
    {
     "name": "stdout",
     "output_type": "stream",
     "text": [
      "True\n"
     ]
    }
   ],
   "source": [
    "estudiante1 = Estudiante()\n",
    "estudiante1.nombre = \"Juan\"\n",
    "estudiante1.calif = 80\n",
    "aprobo1 = estudiante1.aprobado()\n",
    "print(aprobo1)"
   ]
  },
  {
   "cell_type": "code",
   "execution_count": 10,
   "id": "2a84fe90",
   "metadata": {},
   "outputs": [
    {
     "name": "stdout",
     "output_type": "stream",
     "text": [
      "False\n"
     ]
    }
   ],
   "source": [
    "estudiante2 = Estudiante()\n",
    "estudiante2.nombre = \"Araceli\"\n",
    "estudiante2.calif = 50\n",
    "aprobo2 = estudiante2.aprobado()\n",
    "print(aprobo2)"
   ]
  },
  {
   "cell_type": "code",
   "execution_count": 11,
   "id": "ec4d95f2",
   "metadata": {},
   "outputs": [],
   "source": [
    "# Manejo de un constructor\n",
    "class Estudiante:\n",
    "    def __init__(self, nombre, calif):\n",
    "        self.nombre = nombre\n",
    "        self.calif = calif\n",
    "    \n",
    "    def aprobado(self):\n",
    "        if self.calif >= 60:\n",
    "            return True\n",
    "        else:\n",
    "            return False"
   ]
  },
  {
   "cell_type": "code",
   "execution_count": 12,
   "id": "a45b61c2",
   "metadata": {},
   "outputs": [
    {
     "name": "stdout",
     "output_type": "stream",
     "text": [
      "Juan\n",
      "80\n"
     ]
    }
   ],
   "source": [
    "estudiante1 = Estudiante(\"Juan\", 80)\n",
    "print(estudiante1.nombre)\n",
    "print(estudiante1.calif)"
   ]
  },
  {
   "cell_type": "code",
   "execution_count": 13,
   "id": "5eb6a4a8",
   "metadata": {},
   "outputs": [
    {
     "name": "stdout",
     "output_type": "stream",
     "text": [
      "Araceli\n",
      "50\n"
     ]
    }
   ],
   "source": [
    "estudiante2 = Estudiante(\"Araceli\", 50)\n",
    "print(estudiante2.nombre)\n",
    "print(estudiante2.calif)"
   ]
  },
  {
   "cell_type": "code",
   "execution_count": 14,
   "id": "1393e3ba",
   "metadata": {},
   "outputs": [
    {
     "name": "stdout",
     "output_type": "stream",
     "text": [
      "True\n",
      "False\n"
     ]
    }
   ],
   "source": [
    "aprobo1 = estudiante1.aprobado()\n",
    "aprobo2 = estudiante2.aprobado()\n",
    "print(aprobo1)\n",
    "print(aprobo2)"
   ]
  },
  {
   "cell_type": "code",
   "execution_count": 15,
   "id": "80beb4de",
   "metadata": {},
   "outputs": [],
   "source": [
    "# Suma de 2 números complejos\n",
    "class Complejo:\n",
    "    def __init__(self, real, imaginario):\n",
    "        self.real = real\n",
    "        self.imaginario = imaginario\n",
    "    \n",
    "    def agregar(self, numero):\n",
    "        real = self.real + numero.real\n",
    "        imaginario = self.imaginario + numero.imaginario\n",
    "        resultado = Complejo(real, imaginario)\n",
    "        return resultado"
   ]
  },
  {
   "cell_type": "code",
   "execution_count": 17,
   "id": "5fe1805c",
   "metadata": {},
   "outputs": [
    {
     "name": "stdout",
     "output_type": "stream",
     "text": [
      "Parte real: 5\n",
      "Parte imaginaria: 7\n"
     ]
    }
   ],
   "source": [
    "numero1 = Complejo(2, 3)\n",
    "numero2 = Complejo(3, 4)\n",
    "\n",
    "suma = numero1.agregar(numero2)\n",
    "print(\"Parte real:\", suma.real)\n",
    "print(\"Parte imaginaria:\", suma.imaginario)"
   ]
  },
  {
   "cell_type": "code",
   "execution_count": 18,
   "id": "dac99f97",
   "metadata": {},
   "outputs": [
    {
     "ename": "NameError",
     "evalue": "name 'numero1' is not defined",
     "output_type": "error",
     "traceback": [
      "\u001b[0;31m---------------------------------------------------------------------------\u001b[0m",
      "\u001b[0;31mNameError\u001b[0m                                 Traceback (most recent call last)",
      "Cell \u001b[0;32mIn[18], line 2\u001b[0m\n\u001b[1;32m      1\u001b[0m \u001b[38;5;28;01mdel\u001b[39;00m numero1\n\u001b[0;32m----> 2\u001b[0m numero1\n",
      "\u001b[0;31mNameError\u001b[0m: name 'numero1' is not defined"
     ]
    }
   ],
   "source": [
    "del numero1\n",
    "numero1"
   ]
  },
  {
   "cell_type": "code",
   "execution_count": 19,
   "id": "6e8beddb",
   "metadata": {},
   "outputs": [
    {
     "name": "stdout",
     "output_type": "stream",
     "text": [
      "¡Hola! Mi nombre es: Juan\n"
     ]
    }
   ],
   "source": [
    "# La referencia \"self\" puede tomar cualquier otra denominación\n",
    "class Persona:\n",
    "    def __init__(objeto, nombre, edad):\n",
    "        objeto.nombre = nombre\n",
    "        objeto.edad = edad\n",
    "    \n",
    "    def mensaje(objeto):\n",
    "        print(\"¡Hola! Mi nombre es: \" + objeto.nombre)\n",
    "\n",
    "persona1 = Persona(\"Juan\", 36)\n",
    "persona1.mensaje()"
   ]
  },
  {
   "cell_type": "code",
   "execution_count": 20,
   "id": "d52ee75d",
   "metadata": {},
   "outputs": [],
   "source": [
    "class Triangulo:\n",
    "    def __init__(self, a, b, c):\n",
    "        self.a = a\n",
    "        self.b = b\n",
    "        self.c = c\n",
    "    \n",
    "    def perim(self):\n",
    "        return self.a + self.b + self.c"
   ]
  },
  {
   "cell_type": "code",
   "execution_count": 21,
   "id": "e2889306",
   "metadata": {},
   "outputs": [
    {
     "name": "stdout",
     "output_type": "stream",
     "text": [
      "Perímetro del triángulo 1: 9\n"
     ]
    }
   ],
   "source": [
    "triangulo1 = Triangulo(2, 3, 4)\n",
    "perimetro1 = triangulo1.perim()\n",
    "print(\"Perímetro del triángulo 1:\", perimetro1)"
   ]
  }
 ],
 "metadata": {
  "kernelspec": {
   "display_name": "Python 3 (ipykernel)",
   "language": "python",
   "name": "python3"
  },
  "language_info": {
   "codemirror_mode": {
    "name": "ipython",
    "version": 3
   },
   "file_extension": ".py",
   "mimetype": "text/x-python",
   "name": "python",
   "nbconvert_exporter": "python",
   "pygments_lexer": "ipython3",
   "version": "3.11.5"
  }
 },
 "nbformat": 4,
 "nbformat_minor": 5
}
