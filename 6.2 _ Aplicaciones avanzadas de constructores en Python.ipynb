{
 "cells": [
  {
   "cell_type": "code",
   "execution_count": 3,
   "id": "d2fe3ad5",
   "metadata": {},
   "outputs": [
    {
     "name": "stdout",
     "output_type": "stream",
     "text": [
      "Sesión experta\n"
     ]
    }
   ],
   "source": [
    "class Expertos:\n",
    "    def __init__(self):\n",
    "        self.text = \"Sesión experta\"\n",
    "    \n",
    "    def imprime_texto(self):\n",
    "        print(self.text)\n",
    "\n",
    "elemento = Expertos()\n",
    "elemento.imprime_texto()"
   ]
  },
  {
   "cell_type": "code",
   "execution_count": 4,
   "id": "cc00ef67",
   "metadata": {},
   "outputs": [],
   "source": [
    "class Adicion:\n",
    "    respuesta = 0\n",
    "    \n",
    "    def __init__(self, primero, segundo):\n",
    "        self.primero = primero\n",
    "        self.segundo = segundo\n",
    "    \n",
    "    def calcula(self):\n",
    "        self.respuesta = self.primero + self.segundo\n",
    "    \n",
    "    def mostrar(self):\n",
    "        print(\"Primer número =\", self.primero)\n",
    "        print(\"Segundo número =\", self.segundo)\n",
    "        print(\"Adición de dos números =\", self.respuesta)"
   ]
  },
  {
   "cell_type": "code",
   "execution_count": 5,
   "id": "1cd4aa71",
   "metadata": {},
   "outputs": [
    {
     "name": "stdout",
     "output_type": "stream",
     "text": [
      "Primer número = 1000\n",
      "Segundo número = 2000\n",
      "Adición de dos números = 3000\n"
     ]
    }
   ],
   "source": [
    "obj = Adicion(1000, 2000)\n",
    "obj.calcula()\n",
    "obj.mostrar()"
   ]
  },
  {
   "cell_type": "code",
   "execution_count": 7,
   "id": "c0a158b9",
   "metadata": {},
   "outputs": [
    {
     "name": "stdout",
     "output_type": "stream",
     "text": [
      "Soy Manuel Gómez y tengo 26 años y estudio derecho.\n"
     ]
    }
   ],
   "source": [
    "# Ejemplo de herencia simple\n",
    "class Estudiante(object): # Clase padre\n",
    "    def __init__(self, edad, nombre):\n",
    "        self.edad = edad\n",
    "        self.nombre = nombre\n",
    "    \n",
    "class Derecho(Estudiante): # Clase hija\n",
    "    def presentarse(self):\n",
    "        print(f\"Soy {self.nombre} y tengo {self.edad} años y estudio derecho.\")\n",
    "\n",
    "Manuel = Derecho(26, \"Manuel Gómez\")\n",
    "Manuel.presentarse()"
   ]
  },
  {
   "cell_type": "code",
   "execution_count": 8,
   "id": "1c6a620f",
   "metadata": {},
   "outputs": [
    {
     "name": "stdout",
     "output_type": "stream",
     "text": [
      "Soy Manuel Contreras y tengo 26 años y estudio derecho.\n",
      "Estudio en el Instituto de Leyes.\n"
     ]
    }
   ],
   "source": [
    "# Ejemplo de herencia múltiple\n",
    "class Estudiante(object): # Clase padre\n",
    "    def __init__(self, edad, nombre):\n",
    "        self.edad = edad\n",
    "        self.nombre = nombre\n",
    "\n",
    "class Instituto(object): # Clase padre 2\n",
    "    def presentar_instituto(self):\n",
    "        print(\"Estudio en el Instituto de Leyes.\")\n",
    "\n",
    "class Derecho(Estudiante, Instituto): # Clase hija\n",
    "    def presentarse(self):\n",
    "        print(f\"Soy {self.nombre} y tengo {self.edad} años y estudio derecho.\")\n",
    "\n",
    "Manuel = Derecho(26, \"Manuel Contreras\")\n",
    "Manuel.presentarse()\n",
    "Manuel.presentar_instituto()"
   ]
  },
  {
   "cell_type": "code",
   "execution_count": 12,
   "id": "420d3050",
   "metadata": {},
   "outputs": [],
   "source": [
    "class Figura(object):\n",
    "    def area(self):\n",
    "        pass\n",
    "\n",
    "class Circulo(Figura):\n",
    "    \"\"\" Objeto de tipo círculo \"\"\"\n",
    "    def __init__(self, radio=0):\n",
    "        self.radio = radio\n",
    "    \n",
    "    def area(self):\n",
    "        return 3.1416 * (self.radio ** 2)\n",
    "\n",
    "class Triangulo(Figura):\n",
    "    \"\"\" Objeto de tipo triángulo \"\"\"\n",
    "    def __init__(self, base=0, altura=0):\n",
    "        self.base = base\n",
    "        self.altura = altura\n",
    "    \n",
    "    def area(self):\n",
    "        return (self.base * self.altura) / 2"
   ]
  },
  {
   "cell_type": "code",
   "execution_count": 13,
   "id": "e4e7e443",
   "metadata": {},
   "outputs": [
    {
     "data": {
      "text/plain": [
       "50.2656"
      ]
     },
     "execution_count": 13,
     "metadata": {},
     "output_type": "execute_result"
    }
   ],
   "source": [
    "circulo = Circulo(4)\n",
    "circulo.area()"
   ]
  },
  {
   "cell_type": "code",
   "execution_count": 14,
   "id": "daf56ce7",
   "metadata": {},
   "outputs": [
    {
     "data": {
      "text/plain": [
       "7.5"
      ]
     },
     "execution_count": 14,
     "metadata": {},
     "output_type": "execute_result"
    }
   ],
   "source": [
    "triangulo = Triangulo(3, 5)\n",
    "triangulo.area()"
   ]
  },
  {
   "cell_type": "code",
   "execution_count": null,
   "id": "47847b44",
   "metadata": {},
   "outputs": [],
   "source": []
  }
 ],
 "metadata": {
  "kernelspec": {
   "display_name": "Python 3 (ipykernel)",
   "language": "python",
   "name": "python3"
  },
  "language_info": {
   "codemirror_mode": {
    "name": "ipython",
    "version": 3
   },
   "file_extension": ".py",
   "mimetype": "text/x-python",
   "name": "python",
   "nbconvert_exporter": "python",
   "pygments_lexer": "ipython3",
   "version": "3.11.5"
  }
 },
 "nbformat": 4,
 "nbformat_minor": 5
}
