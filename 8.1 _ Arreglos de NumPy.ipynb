{
 "cells": [
  {
   "cell_type": "code",
   "execution_count": 1,
   "id": "46c741e0",
   "metadata": {},
   "outputs": [],
   "source": [
    "import numpy as np"
   ]
  },
  {
   "cell_type": "code",
   "execution_count": 2,
   "id": "2a3dc8b8",
   "metadata": {},
   "outputs": [
    {
     "data": {
      "text/plain": [
       "array([1, 2, 3, 4, 5])"
      ]
     },
     "execution_count": 2,
     "metadata": {},
     "output_type": "execute_result"
    }
   ],
   "source": [
    "# Creación de un arreglo a partir de una lista\n",
    "lista1 = [1, 2, 3, 4, 5]\n",
    "arreglo1 = np.array(lista1)\n",
    "arreglo1"
   ]
  },
  {
   "cell_type": "code",
   "execution_count": 3,
   "id": "2fcd3342",
   "metadata": {},
   "outputs": [
    {
     "data": {
      "text/plain": [
       "numpy.ndarray"
      ]
     },
     "execution_count": 3,
     "metadata": {},
     "output_type": "execute_result"
    }
   ],
   "source": [
    "type(arreglo1)"
   ]
  },
  {
   "cell_type": "code",
   "execution_count": 4,
   "id": "f93f1137",
   "metadata": {},
   "outputs": [
    {
     "data": {
      "text/plain": [
       "array([[1, 2, 3],\n",
       "       [4, 5, 6],\n",
       "       [7, 8, 9]])"
      ]
     },
     "execution_count": 4,
     "metadata": {},
     "output_type": "execute_result"
    }
   ],
   "source": [
    "# Creación de un arreglo a partir de una lista de listas\n",
    "lista2 = [[1,2,3],\n",
    "          [4,5,6],\n",
    "          [7,8,9]]\n",
    "arreglo2 = np.array(lista2)\n",
    "arreglo2"
   ]
  },
  {
   "cell_type": "code",
   "execution_count": 5,
   "id": "7fa38194",
   "metadata": {},
   "outputs": [
    {
     "data": {
      "text/plain": [
       "['a', True, 1]"
      ]
     },
     "execution_count": 5,
     "metadata": {},
     "output_type": "execute_result"
    }
   ],
   "source": [
    "# Las listas pueden contener diversos tipos de datos\n",
    "lista = [\"a\", True, 1]\n",
    "lista"
   ]
  },
  {
   "cell_type": "code",
   "execution_count": 6,
   "id": "3ed18bc9",
   "metadata": {},
   "outputs": [
    {
     "data": {
      "text/plain": [
       "array(['a', 'True', '1'], dtype='<U21')"
      ]
     },
     "execution_count": 6,
     "metadata": {},
     "output_type": "execute_result"
    }
   ],
   "source": [
    "# Los arreglos sólo pueden tener un mismo tipo de datos\n",
    "# Usan menos espacio en memoria\n",
    "arreglo = np.array(lista)\n",
    "arreglo # Solo se almacenaron textos"
   ]
  },
  {
   "cell_type": "code",
   "execution_count": 7,
   "id": "78014292",
   "metadata": {},
   "outputs": [
    {
     "data": {
      "text/plain": [
       "array([[0., 0., 0., 0.],\n",
       "       [0., 0., 0., 0.],\n",
       "       [0., 0., 0., 0.],\n",
       "       [0., 0., 0., 0.],\n",
       "       [0., 0., 0., 0.]])"
      ]
     },
     "execution_count": 7,
     "metadata": {},
     "output_type": "execute_result"
    }
   ],
   "source": [
    "# Creación de arreglos con ceros\n",
    "arreglo3 = np.zeros((5,4))\n",
    "arreglo3"
   ]
  },
  {
   "cell_type": "code",
   "execution_count": 8,
   "id": "5cfce606",
   "metadata": {},
   "outputs": [
    {
     "data": {
      "text/plain": [
       "array([[0.95110817, 0.07505166],\n",
       "       [0.17819651, 0.28600239],\n",
       "       [0.33348999, 0.56018123]])"
      ]
     },
     "execution_count": 8,
     "metadata": {},
     "output_type": "execute_result"
    }
   ],
   "source": [
    "# Creación de arreglo con números aleatorios uniformes entre 0 y 1\n",
    "np.random.random((3,2))"
   ]
  },
  {
   "cell_type": "code",
   "execution_count": 9,
   "id": "3bcae65c",
   "metadata": {},
   "outputs": [
    {
     "data": {
      "text/plain": [
       "array([-2, -1,  0,  1,  2,  3,  4,  5,  6])"
      ]
     },
     "execution_count": 9,
     "metadata": {},
     "output_type": "execute_result"
    }
   ],
   "source": [
    "# Creación de arreglos en un rango\n",
    "np.arange(-2,7)"
   ]
  },
  {
   "cell_type": "code",
   "execution_count": 10,
   "id": "1dbc4500",
   "metadata": {},
   "outputs": [
    {
     "data": {
      "text/plain": [
       "array([0, 1, 2, 3, 4])"
      ]
     },
     "execution_count": 10,
     "metadata": {},
     "output_type": "execute_result"
    }
   ],
   "source": [
    "np.arange(5)"
   ]
  },
  {
   "cell_type": "code",
   "execution_count": 11,
   "id": "12e36b34",
   "metadata": {},
   "outputs": [],
   "source": [
    "arreglo1 = np.array([[1,2],\n",
    "                     [5,7]])\n",
    "arreglo2 = np.array([[8,9],\n",
    "                     [5,7]])\n",
    "arreglo3 = np.array([[1,2],\n",
    "                     [5,7]])"
   ]
  },
  {
   "cell_type": "code",
   "execution_count": 12,
   "id": "5ea8d244",
   "metadata": {},
   "outputs": [
    {
     "data": {
      "text/plain": [
       "array([[[1, 2],\n",
       "        [5, 7]],\n",
       "\n",
       "       [[8, 9],\n",
       "        [5, 7]],\n",
       "\n",
       "       [[1, 2],\n",
       "        [5, 7]]])"
      ]
     },
     "execution_count": 12,
     "metadata": {},
     "output_type": "execute_result"
    }
   ],
   "source": [
    "arreglo_3D = np.array([arreglo1, arreglo2, arreglo3])\n",
    "arreglo_3D"
   ]
  },
  {
   "cell_type": "code",
   "execution_count": 13,
   "id": "4e0b7cde",
   "metadata": {},
   "outputs": [
    {
     "data": {
      "text/plain": [
       "array([[0., 0., 0., 0.],\n",
       "       [0., 0., 0., 0.],\n",
       "       [0., 0., 0., 0.],\n",
       "       [0., 0., 0., 0.],\n",
       "       [0., 0., 0., 0.]])"
      ]
     },
     "execution_count": 13,
     "metadata": {},
     "output_type": "execute_result"
    }
   ],
   "source": [
    "arreglo3 = np.zeros((5,4))\n",
    "arreglo3"
   ]
  },
  {
   "cell_type": "code",
   "execution_count": 14,
   "id": "00969891",
   "metadata": {},
   "outputs": [
    {
     "data": {
      "text/plain": [
       "(5, 4)"
      ]
     },
     "execution_count": 14,
     "metadata": {},
     "output_type": "execute_result"
    }
   ],
   "source": [
    "arreglo3.shape"
   ]
  },
  {
   "cell_type": "code",
   "execution_count": 15,
   "id": "e1a94b78",
   "metadata": {},
   "outputs": [
    {
     "data": {
      "text/plain": [
       "array([[1, 2, 3],\n",
       "       [4, 5, 6],\n",
       "       [7, 8, 9]])"
      ]
     },
     "execution_count": 15,
     "metadata": {},
     "output_type": "execute_result"
    }
   ],
   "source": [
    "# Conversión de un arreglo multi-dimensional a uni-dimensional\n",
    "lista2 = [[1,2,3],\n",
    "          [4,5,6],\n",
    "          [7,8,9]]\n",
    "arreglo2 = np.array(lista2)\n",
    "arreglo2"
   ]
  },
  {
   "cell_type": "code",
   "execution_count": 16,
   "id": "9f34f562",
   "metadata": {},
   "outputs": [
    {
     "data": {
      "text/plain": [
       "array([1, 2, 3, 4, 5, 6, 7, 8, 9])"
      ]
     },
     "execution_count": 16,
     "metadata": {},
     "output_type": "execute_result"
    }
   ],
   "source": [
    "arreglo2.flatten()"
   ]
  },
  {
   "cell_type": "code",
   "execution_count": 17,
   "id": "b6e6b3ee",
   "metadata": {},
   "outputs": [
    {
     "data": {
      "text/plain": [
       "array([[1, 2, 3],\n",
       "       [4, 5, 6]])"
      ]
     },
     "execution_count": 17,
     "metadata": {},
     "output_type": "execute_result"
    }
   ],
   "source": [
    "# Cambio de dimensión de un arreglo\n",
    "arreglo = np.array([[1,2],\n",
    "                    [3,4],\n",
    "                    [5,6]])\n",
    "arreglo.reshape(2,3)"
   ]
  },
  {
   "cell_type": "code",
   "execution_count": 18,
   "id": "8a530b43",
   "metadata": {},
   "outputs": [
    {
     "ename": "ValueError",
     "evalue": "cannot reshape array of size 6 into shape (3,3)",
     "output_type": "error",
     "traceback": [
      "\u001b[0;31m---------------------------------------------------------------------------\u001b[0m",
      "\u001b[0;31mValueError\u001b[0m                                Traceback (most recent call last)",
      "Cell \u001b[0;32mIn[18], line 2\u001b[0m\n\u001b[1;32m      1\u001b[0m \u001b[38;5;66;03m# Ejemplo de ERROR al momento de cambiar la dimensión\u001b[39;00m\n\u001b[0;32m----> 2\u001b[0m arreglo\u001b[38;5;241m.\u001b[39mreshape(\u001b[38;5;241m3\u001b[39m,\u001b[38;5;241m3\u001b[39m)\n",
      "\u001b[0;31mValueError\u001b[0m: cannot reshape array of size 6 into shape (3,3)"
     ]
    }
   ],
   "source": [
    "# Ejemplo de ERROR al momento de cambiar la dimensión\n",
    "arreglo.reshape(3,3)"
   ]
  },
  {
   "cell_type": "code",
   "execution_count": 19,
   "id": "e3ba2f3d",
   "metadata": {},
   "outputs": [
    {
     "data": {
      "text/plain": [
       "dtype('float64')"
      ]
     },
     "execution_count": 19,
     "metadata": {},
     "output_type": "execute_result"
    }
   ],
   "source": [
    "# El atributo dtype\n",
    "np.array([1.25, 2.43, 200.88]).dtype"
   ]
  },
  {
   "cell_type": "code",
   "execution_count": 20,
   "id": "1380584d",
   "metadata": {},
   "outputs": [
    {
     "data": {
      "text/plain": [
       "dtype('int64')"
      ]
     },
     "execution_count": 20,
     "metadata": {},
     "output_type": "execute_result"
    }
   ],
   "source": [
    "arreglo_int = np.array([[1,2,3], [4,5,6]])\n",
    "arreglo_int.dtype"
   ]
  },
  {
   "cell_type": "code",
   "execution_count": 21,
   "id": "e3f424dd",
   "metadata": {},
   "outputs": [
    {
     "data": {
      "text/plain": [
       "dtype('<U12')"
      ]
     },
     "execution_count": 21,
     "metadata": {},
     "output_type": "execute_result"
    }
   ],
   "source": [
    "arreglo_string = np.array([\"Introducción\", \"a\", \"la\", \"programación\"])\n",
    "arreglo_string.dtype"
   ]
  },
  {
   "cell_type": "code",
   "execution_count": 23,
   "id": "6bcc58e1",
   "metadata": {},
   "outputs": [
    {
     "data": {
      "text/plain": [
       "dtype('float32')"
      ]
     },
     "execution_count": 23,
     "metadata": {},
     "output_type": "execute_result"
    }
   ],
   "source": [
    "# Uso de dtype como argumento\n",
    "arreglo = np.array([1.25, 2.43, 200.88], dtype = np.float32) # Mismo arreglo de arriba\n",
    "arreglo.dtype"
   ]
  },
  {
   "cell_type": "code",
   "execution_count": 24,
   "id": "934c3b73",
   "metadata": {},
   "outputs": [
    {
     "data": {
      "text/plain": [
       "dtype('bool')"
      ]
     },
     "execution_count": 24,
     "metadata": {},
     "output_type": "execute_result"
    }
   ],
   "source": [
    "# Cambio de tipo de arreglo\n",
    "arreglo_booleano = np.array([[True, False]], dtype = np.bool_)\n",
    "arreglo_booleano.dtype"
   ]
  },
  {
   "cell_type": "code",
   "execution_count": 25,
   "id": "52143c12",
   "metadata": {},
   "outputs": [
    {
     "data": {
      "text/plain": [
       "array([[1, 0]], dtype=int32)"
      ]
     },
     "execution_count": 25,
     "metadata": {},
     "output_type": "execute_result"
    }
   ],
   "source": [
    "arreglo = arreglo_booleano.astype(np.int32)\n",
    "arreglo"
   ]
  },
  {
   "cell_type": "code",
   "execution_count": 26,
   "id": "aeec232c",
   "metadata": {},
   "outputs": [
    {
     "data": {
      "text/plain": [
       "dtype('float64')"
      ]
     },
     "execution_count": 26,
     "metadata": {},
     "output_type": "execute_result"
    }
   ],
   "source": [
    "# Homologación del tipo por jerarquía\n",
    "np.array([0, 50, 50.8]).dtype"
   ]
  },
  {
   "cell_type": "code",
   "execution_count": 27,
   "id": "7c6a8add",
   "metadata": {},
   "outputs": [
    {
     "data": {
      "text/plain": [
       "array([ 0, 42])"
      ]
     },
     "execution_count": 27,
     "metadata": {},
     "output_type": "execute_result"
    }
   ],
   "source": [
    "np.array([False, 42])"
   ]
  },
  {
   "cell_type": "code",
   "execution_count": null,
   "id": "2024ef5d",
   "metadata": {},
   "outputs": [],
   "source": []
  }
 ],
 "metadata": {
  "kernelspec": {
   "display_name": "Python 3 (ipykernel)",
   "language": "python",
   "name": "python3"
  },
  "language_info": {
   "codemirror_mode": {
    "name": "ipython",
    "version": 3
   },
   "file_extension": ".py",
   "mimetype": "text/x-python",
   "name": "python",
   "nbconvert_exporter": "python",
   "pygments_lexer": "ipython3",
   "version": "3.11.5"
  }
 },
 "nbformat": 4,
 "nbformat_minor": 5
}
