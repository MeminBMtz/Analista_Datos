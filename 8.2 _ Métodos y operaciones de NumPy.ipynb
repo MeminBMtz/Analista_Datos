{
 "cells": [
  {
   "cell_type": "code",
   "execution_count": 1,
   "id": "139b8f07",
   "metadata": {},
   "outputs": [],
   "source": [
    "import numpy as np\n",
    "accidentes = np.array([[0,1,1],\n",
    "                       [1,0,1],\n",
    "                       [1,3,2],\n",
    "                       [2,2,0]])"
   ]
  },
  {
   "cell_type": "code",
   "execution_count": 2,
   "id": "65211d2c",
   "metadata": {},
   "outputs": [
    {
     "data": {
      "text/plain": [
       "14"
      ]
     },
     "execution_count": 2,
     "metadata": {},
     "output_type": "execute_result"
    }
   ],
   "source": [
    "# Inciso A\n",
    "accidentes.sum()"
   ]
  },
  {
   "cell_type": "code",
   "execution_count": 3,
   "id": "d331a86b",
   "metadata": {},
   "outputs": [
    {
     "data": {
      "text/plain": [
       "array([4, 6, 4])"
      ]
     },
     "execution_count": 3,
     "metadata": {},
     "output_type": "execute_result"
    }
   ],
   "source": [
    "# Inciso B\n",
    "accid_areas = accidentes.sum(axis=0)\n",
    "accid_areas"
   ]
  },
  {
   "cell_type": "code",
   "execution_count": 4,
   "id": "5a97aea0",
   "metadata": {},
   "outputs": [
    {
     "name": "stdout",
     "output_type": "stream",
     "text": [
      "Los accidentes del área 1: 4\n",
      "Los accidentes del área 2: 6\n",
      "Los accidentes del área 3: 4\n"
     ]
    }
   ],
   "source": [
    "print(\"Los accidentes del área 1:\", accid_areas[0])\n",
    "print(\"Los accidentes del área 2:\", accid_areas[1])\n",
    "print(\"Los accidentes del área 3:\", accid_areas[2])"
   ]
  },
  {
   "cell_type": "code",
   "execution_count": 5,
   "id": "a347d0af",
   "metadata": {},
   "outputs": [
    {
     "data": {
      "text/plain": [
       "array([2, 2, 6, 4])"
      ]
     },
     "execution_count": 5,
     "metadata": {},
     "output_type": "execute_result"
    }
   ],
   "source": [
    "# Inciso C\n",
    "accid_anios = accidentes.sum(axis=1)\n",
    "accid_anios"
   ]
  },
  {
   "cell_type": "code",
   "execution_count": 6,
   "id": "168af7fd",
   "metadata": {},
   "outputs": [
    {
     "data": {
      "text/plain": [
       "array([[2],\n",
       "       [2],\n",
       "       [6],\n",
       "       [4]])"
      ]
     },
     "execution_count": 6,
     "metadata": {},
     "output_type": "execute_result"
    }
   ],
   "source": [
    "# Conservación de dimensiones\n",
    "accid_anios = accidentes.sum(axis=1, keepdims=True)\n",
    "accid_anios"
   ]
  },
  {
   "cell_type": "code",
   "execution_count": 7,
   "id": "17a29ee1",
   "metadata": {},
   "outputs": [
    {
     "name": "stdout",
     "output_type": "stream",
     "text": [
      "Los accidentes del año 1: [2]\n",
      "Los accidentes del año 2: [2]\n",
      "Los accidentes del año 3: [6]\n",
      "Los accidentes del año 4: [4]\n"
     ]
    }
   ],
   "source": [
    "print(\"Los accidentes del año 1:\", accid_anios[0])\n",
    "print(\"Los accidentes del año 2:\", accid_anios[1])\n",
    "print(\"Los accidentes del año 3:\", accid_anios[2])\n",
    "print(\"Los accidentes del año 4:\", accid_anios[3])"
   ]
  },
  {
   "cell_type": "code",
   "execution_count": 8,
   "id": "0d9b41a7",
   "metadata": {},
   "outputs": [
    {
     "name": "stdout",
     "output_type": "stream",
     "text": [
      "Máximo de accidentes: 3\n",
      "Mínimo de accidentes: 0\n"
     ]
    }
   ],
   "source": [
    "# Inciso D\n",
    "maximo = accidentes.max()\n",
    "minimo = accidentes.min()\n",
    "print(f\"Máximo de accidentes: {maximo}\")\n",
    "print(f\"Mínimo de accidentes: {minimo}\")"
   ]
  },
  {
   "cell_type": "code",
   "execution_count": 9,
   "id": "adaf49c3",
   "metadata": {},
   "outputs": [
    {
     "name": "stdout",
     "output_type": "stream",
     "text": [
      "Promedio de accidentes: 1.1666666666666667\n"
     ]
    }
   ],
   "source": [
    "# Inciso E\n",
    "promedio = accidentes.mean()\n",
    "print(f\"Promedio de accidentes: {promedio}\")"
   ]
  },
  {
   "cell_type": "code",
   "execution_count": 10,
   "id": "a0dc1bd1",
   "metadata": {},
   "outputs": [
    {
     "name": "stdout",
     "output_type": "stream",
     "text": [
      "2\n",
      "3\n",
      "1\n"
     ]
    }
   ],
   "source": [
    "arreglo = np.array([[1,2,3],\n",
    "                    [4,5,6]])\n",
    "dimensiones = arreglo.shape\n",
    "print(dimensiones[0]) # Renglones\n",
    "print(dimensiones[1]) # Columnas\n",
    "print(arreglo[0][0]) # Primer elemento"
   ]
  },
  {
   "cell_type": "code",
   "execution_count": 11,
   "id": "aa04370f",
   "metadata": {},
   "outputs": [
    {
     "name": "stdout",
     "output_type": "stream",
     "text": [
      "Tiempo total de ejecución (segs.): 0.00156402587890625\n",
      "[[4. 5. 6.]\n",
      " [7. 8. 9.]]\n"
     ]
    }
   ],
   "source": [
    "# Inciso A\n",
    "import time\n",
    "inicio = time.time()\n",
    "\n",
    "arreglo_final = np.zeros((2,3))\n",
    "for renglon in range(dimensiones[0]):\n",
    "    for columna in range(dimensiones[1]):\n",
    "        arreglo_final[renglon][columna] = arreglo[renglon][columna] + 3\n",
    "\n",
    "fin = time.time()\n",
    "print(\"Tiempo total de ejecución (segs.):\", fin - inicio)\n",
    "print(arreglo_final)"
   ]
  },
  {
   "cell_type": "code",
   "execution_count": 12,
   "id": "f8229d68",
   "metadata": {},
   "outputs": [
    {
     "name": "stdout",
     "output_type": "stream",
     "text": [
      "Tiempo total de ejecución (segs.): 0.00030493736267089844\n",
      "[[4 5 6]\n",
      " [7 8 9]]\n"
     ]
    }
   ],
   "source": [
    "# Inciso B\n",
    "inicio = time.time()\n",
    "\n",
    "arreglo_final = arreglo + 3\n",
    "fin = time.time()\n",
    "print(\"Tiempo total de ejecución (segs.):\", fin - inicio)\n",
    "print(arreglo_final)"
   ]
  },
  {
   "cell_type": "code",
   "execution_count": 13,
   "id": "bccf47dd",
   "metadata": {},
   "outputs": [
    {
     "data": {
      "text/plain": [
       "array([[ 3,  6,  9],\n",
       "       [12, 15, 18]])"
      ]
     },
     "execution_count": 13,
     "metadata": {},
     "output_type": "execute_result"
    }
   ],
   "source": [
    "# Multiplicación por un escalar\n",
    "arreglo_prod = arreglo * 3\n",
    "arreglo_prod"
   ]
  },
  {
   "cell_type": "code",
   "execution_count": 14,
   "id": "b0f4e4fb",
   "metadata": {},
   "outputs": [
    {
     "data": {
      "text/plain": [
       "array([[ 8, 10, 12],\n",
       "       [14, 16, 18]])"
      ]
     },
     "execution_count": 14,
     "metadata": {},
     "output_type": "execute_result"
    }
   ],
   "source": [
    "# Adición de 2 arreglos\n",
    "arreglo1 = np.array([[1,2,3],\n",
    "                     [4,5,6]])\n",
    "arreglo2 = np.array([[7,8,9],\n",
    "                     [10,11,12]])\n",
    "arreglo3 = arreglo1 + arreglo2\n",
    "arreglo3"
   ]
  },
  {
   "cell_type": "code",
   "execution_count": 15,
   "id": "7dd7489c",
   "metadata": {},
   "outputs": [
    {
     "data": {
      "text/plain": [
       "array([[False, False,  True],\n",
       "       [ True,  True,  True]])"
      ]
     },
     "execution_count": 15,
     "metadata": {},
     "output_type": "execute_result"
    }
   ],
   "source": [
    "# Evaluación de condiciones\n",
    "arreglo1 = np.array([[1,2,3],\n",
    "                     [4,5,6]])\n",
    "arreglo1 > 2"
   ]
  },
  {
   "cell_type": "code",
   "execution_count": 16,
   "id": "47b8cabe",
   "metadata": {},
   "outputs": [
    {
     "data": {
      "text/plain": [
       "False"
      ]
     },
     "execution_count": 16,
     "metadata": {},
     "output_type": "execute_result"
    }
   ],
   "source": [
    "# Las funciones de Python no están vectorizadas de origen\n",
    "arreglo = np.array([\"NumPy\", \"maneja\", \"vectorización\"])\n",
    "len(arreglo) > 5"
   ]
  },
  {
   "cell_type": "code",
   "execution_count": 17,
   "id": "e59141ba",
   "metadata": {},
   "outputs": [
    {
     "data": {
      "text/plain": [
       "array([False,  True,  True])"
      ]
     },
     "execution_count": 17,
     "metadata": {},
     "output_type": "execute_result"
    }
   ],
   "source": [
    "# Transformación para vectorización la función \"len\"\n",
    "len_vectorizada = np.vectorize(len)\n",
    "len_vectorizada(arreglo) > 5"
   ]
  },
  {
   "cell_type": "code",
   "execution_count": 18,
   "id": "dee2679c",
   "metadata": {},
   "outputs": [
    {
     "data": {
      "text/plain": [
       "array([[0, 1, 2, 3, 4],\n",
       "       [5, 6, 7, 8, 9]])"
      ]
     },
     "execution_count": 18,
     "metadata": {},
     "output_type": "execute_result"
    }
   ],
   "source": [
    "# Broadcasting de renglones\n",
    "arreglo = np.arange(10).reshape((2,5))\n",
    "arreglo"
   ]
  },
  {
   "cell_type": "code",
   "execution_count": 19,
   "id": "e9ffae01",
   "metadata": {},
   "outputs": [
    {
     "data": {
      "text/plain": [
       "array([[ 0,  2,  4,  6,  8],\n",
       "       [ 5,  7,  9, 11, 13]])"
      ]
     },
     "execution_count": 19,
     "metadata": {},
     "output_type": "execute_result"
    }
   ],
   "source": [
    "arreglo + np.array([0,1,2,3,4])"
   ]
  },
  {
   "cell_type": "code",
   "execution_count": 20,
   "id": "b85ba6e1",
   "metadata": {},
   "outputs": [
    {
     "data": {
      "text/plain": [
       "array([[ 0,  1,  2,  3,  4],\n",
       "       [ 6,  7,  8,  9, 10]])"
      ]
     },
     "execution_count": 20,
     "metadata": {},
     "output_type": "execute_result"
    }
   ],
   "source": [
    "# Broadcasting de columnas\n",
    "arreglo = np.arange(10).reshape((2,5))\n",
    "arreglo + np.array([0,1]).reshape((2,1))"
   ]
  },
  {
   "cell_type": "code",
   "execution_count": 21,
   "id": "6af1d9fa",
   "metadata": {},
   "outputs": [
    {
     "ename": "ValueError",
     "evalue": "operands could not be broadcast together with shapes (2,5) (2,) ",
     "output_type": "error",
     "traceback": [
      "\u001b[0;31m---------------------------------------------------------------------------\u001b[0m",
      "\u001b[0;31mValueError\u001b[0m                                Traceback (most recent call last)",
      "Cell \u001b[0;32mIn[21], line 1\u001b[0m\n\u001b[0;32m----> 1\u001b[0m arreglo \u001b[38;5;241m+\u001b[39m np\u001b[38;5;241m.\u001b[39marray([\u001b[38;5;241m0\u001b[39m,\u001b[38;5;241m1\u001b[39m])\n",
      "\u001b[0;31mValueError\u001b[0m: operands could not be broadcast together with shapes (2,5) (2,) "
     ]
    }
   ],
   "source": [
    "arreglo + np.array([0,1])"
   ]
  },
  {
   "cell_type": "code",
   "execution_count": 22,
   "id": "a4253596",
   "metadata": {},
   "outputs": [
    {
     "data": {
      "text/plain": [
       "array([[4.3, 4.2, 4.1],\n",
       "       [2.3, 2.2, 2.1],\n",
       "       [1.3, 1.2, 1.1]])"
      ]
     },
     "execution_count": 22,
     "metadata": {},
     "output_type": "execute_result"
    }
   ],
   "source": [
    "# Volteo a un arreglo\n",
    "arreglo = np.array([[1.1, 1.2, 1.3],\n",
    "                    [2.1, 2.2, 2.3],\n",
    "                    [4.1, 4.2, 4.3]])\n",
    "np.flip(arreglo)"
   ]
  },
  {
   "cell_type": "code",
   "execution_count": 23,
   "id": "f32a82ae",
   "metadata": {},
   "outputs": [
    {
     "data": {
      "text/plain": [
       "array([[1.1, 2.1, 4.1],\n",
       "       [1.2, 2.2, 4.2],\n",
       "       [1.3, 2.3, 4.3]])"
      ]
     },
     "execution_count": 23,
     "metadata": {},
     "output_type": "execute_result"
    }
   ],
   "source": [
    "# Transposición de un arreglo\n",
    "arreglo = np.array([[1.1, 1.2, 1.3],\n",
    "                    [2.1, 2.2, 2.3],\n",
    "                    [4.1, 4.2, 4.3]])\n",
    "np.transpose(arreglo)"
   ]
  },
  {
   "cell_type": "code",
   "execution_count": 24,
   "id": "ea72d81c",
   "metadata": {},
   "outputs": [
    {
     "data": {
      "text/plain": [
       "array([[ 5, 10],\n",
       "       [30, 40]])"
      ]
     },
     "execution_count": 24,
     "metadata": {},
     "output_type": "execute_result"
    }
   ],
   "source": [
    "# Operación 1\n",
    "np.array([[1,2], [3,4]]) * np.array([[5], [10]])"
   ]
  },
  {
   "cell_type": "code",
   "execution_count": 25,
   "id": "10642cf1",
   "metadata": {},
   "outputs": [
    {
     "data": {
      "text/plain": [
       "array([[-4, -8],\n",
       "       [-2, -6]])"
      ]
     },
     "execution_count": 25,
     "metadata": {},
     "output_type": "execute_result"
    }
   ],
   "source": [
    "# Operación 2\n",
    "np.array([[1,2], [3,4]]) - np.array([[5,10]])"
   ]
  },
  {
   "cell_type": "code",
   "execution_count": null,
   "id": "61fa400d",
   "metadata": {},
   "outputs": [],
   "source": []
  }
 ],
 "metadata": {
  "kernelspec": {
   "display_name": "Python 3 (ipykernel)",
   "language": "python",
   "name": "python3"
  },
  "language_info": {
   "codemirror_mode": {
    "name": "ipython",
    "version": 3
   },
   "file_extension": ".py",
   "mimetype": "text/x-python",
   "name": "python",
   "nbconvert_exporter": "python",
   "pygments_lexer": "ipython3",
   "version": "3.11.5"
  }
 },
 "nbformat": 4,
 "nbformat_minor": 5
}
