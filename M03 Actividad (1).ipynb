{
 "cells": [
  {
   "cell_type": "code",
   "execution_count": 17,
   "id": "26874859",
   "metadata": {},
   "outputs": [
    {
     "name": "stdout",
     "output_type": "stream",
     "text": [
      "Escribe el número de horas laboradas por un trabajador en 1 semana: 40\n",
      "Escribe la tarifa de pago por hora del trabajador: 8\n"
     ]
    }
   ],
   "source": [
    "dato1 = input(\"Escribe el número de horas laboradas por un trabajador en 1 semana: \")\n",
    "dato2 = input(\"Escribe la tarifa de pago por hora del trabajador: \")"
   ]
  },
  {
   "cell_type": "code",
   "execution_count": 18,
   "id": "5c53e8d2",
   "metadata": {},
   "outputs": [
    {
     "name": "stdout",
     "output_type": "stream",
     "text": [
      "Número de horas trabajadas: 40\n",
      "Tarifa por hora: 8\n",
      "Monto a pagar: $ 320\n"
     ]
    }
   ],
   "source": [
    "try: # Trata de volver enteros los datos que da el usuario, sin importar si sean o no números\n",
    "    horas = int(dato1)\n",
    "    tarifa = int(dato2)\n",
    "except: # Si ocurre un error volverá ambos datos negativos\n",
    "    horas = tarifa = -1\n",
    "\n",
    "# Si AMBOS son positivos, comienza el programa, sino imprime que los parámetros son incorrectos.\n",
    "if horas > 0 and tarifa > 0:\n",
    "    # Aunque el usuario dé un número, si es negativo, la condición no se cumpliría y no ejecutaría esto.\n",
    "    \n",
    "    # Si trabajó 40 horas o menos, el monto es las horas x tarifa.\n",
    "    if horas <= 40: monto = horas * tarifa\n",
    "\n",
    "    # Si trabajó +40 pero 50 o menos, el monto es 40 x tarifa + (horas trabajadas-40) x tarifa x 1.1\n",
    "    elif horas > 40 and horas <= 50: monto = (40 * tarifa) + ((horas - 40) * tarifa * 1.1)\n",
    "\n",
    "    # Si trabajó +50, el monto es 40 x tarifa + 10 x tarifa x 1.1 + (horas trabajadas - 50) x tarifa x 1.2 \n",
    "    elif horas > 50: monto = (40 * tarifa) + (10 * tarifa * 1.1) + ((horas - 50) * tarifa * 1.2)\n",
    "    \n",
    "    # Imprime los datos obtenidos\n",
    "    print(\"Número de horas trabajadas:\", horas)\n",
    "    print(\"Tarifa por hora:\", tarifa)\n",
    "    print(\"Monto a pagar: $\", monto)\n",
    "\n",
    "else:\n",
    "    print(\"Parámetros incorrectos.\")"
   ]
  },
  {
   "cell_type": "code",
   "execution_count": null,
   "id": "f90d407e",
   "metadata": {},
   "outputs": [],
   "source": []
  }
 ],
 "metadata": {
  "kernelspec": {
   "display_name": "Python 3 (ipykernel)",
   "language": "python",
   "name": "python3"
  },
  "language_info": {
   "codemirror_mode": {
    "name": "ipython",
    "version": 3
   },
   "file_extension": ".py",
   "mimetype": "text/x-python",
   "name": "python",
   "nbconvert_exporter": "python",
   "pygments_lexer": "ipython3",
   "version": "3.11.5"
  }
 },
 "nbformat": 4,
 "nbformat_minor": 5
}
