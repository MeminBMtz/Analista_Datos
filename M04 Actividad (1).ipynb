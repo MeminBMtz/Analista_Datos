{
 "cells": [
  {
   "cell_type": "markdown",
   "id": "edd78fe6",
   "metadata": {},
   "source": [
    "## Ejercicio 1"
   ]
  },
  {
   "cell_type": "code",
   "execution_count": 35,
   "id": "c8828dbf",
   "metadata": {},
   "outputs": [
    {
     "name": "stdout",
     "output_type": "stream",
     "text": [
      "Ingresa el número 'n': 40\n",
      "Si n = 40, no puede ser expresado como 2^k = 40\n"
     ]
    }
   ],
   "source": [
    "n = int(input(\"Ingresa el número 'n': \"))\n",
    "\n",
    "k = 0\n",
    "producto = 2 ** k\n",
    "\n",
    "while producto < n:\n",
    "    k += 1\n",
    "    producto = 2 ** k\n",
    "\n",
    "if producto == n: mensaje = \"Si n = \" + str(n) + \", puede ser expresado como 2^\" + str(k) + \" = \" + str(n)\n",
    "else: mensaje = \"Si n = \" + str(n) + \", no puede ser expresado como 2^k = \" + str(n)\n",
    "\n",
    "print(mensaje)"
   ]
  },
  {
   "cell_type": "markdown",
   "id": "31c61bf9",
   "metadata": {},
   "source": [
    "## Ejercicio 2"
   ]
  },
  {
   "cell_type": "code",
   "execution_count": 45,
   "id": "800fa5c8",
   "metadata": {},
   "outputs": [
    {
     "name": "stdout",
     "output_type": "stream",
     "text": [
      "Ingresa un número entero no negativo 'n': 7\n",
      "Factorial de 7 = 5040\n"
     ]
    }
   ],
   "source": [
    "# Recibe un valor numérico\n",
    "valor = input(\"Ingresa un número entero no negativo 'n': \")\n",
    "\n",
    "try:\n",
    "    # Si el valor es negativo, la condición del código principal se encargará\n",
    "    # Si el valor es decimal o inválido (no numérico), lo siguiente causará un error\n",
    "    n = int(valor)\n",
    "except:\n",
    "    n = -1\n",
    "\n",
    "if n >= 0: # Si 'n' es un entero y es no negativo, entonces es válido\n",
    "    producto = 1\n",
    "    for i in range(2, n + 1): producto *= i\n",
    "    print(\"Factorial de \" + str(n) + \" =\", producto)\n",
    "else: # 'n' es None o negativo\n",
    "    print(\"Error de captura. Debe ser un ENTERO NO NEGATIVO.\")"
   ]
  },
  {
   "cell_type": "code",
   "execution_count": null,
   "id": "d09ae4e2",
   "metadata": {},
   "outputs": [],
   "source": []
  }
 ],
 "metadata": {
  "kernelspec": {
   "display_name": "Python 3 (ipykernel)",
   "language": "python",
   "name": "python3"
  },
  "language_info": {
   "codemirror_mode": {
    "name": "ipython",
    "version": 3
   },
   "file_extension": ".py",
   "mimetype": "text/x-python",
   "name": "python",
   "nbconvert_exporter": "python",
   "pygments_lexer": "ipython3",
   "version": "3.11.5"
  }
 },
 "nbformat": 4,
 "nbformat_minor": 5
}
