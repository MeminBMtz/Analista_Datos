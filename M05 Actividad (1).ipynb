{
 "cells": [
  {
   "cell_type": "code",
   "execution_count": 8,
   "id": "ed9b2662",
   "metadata": {},
   "outputs": [
    {
     "name": "stdout",
     "output_type": "stream",
     "text": [
      "cba321\n",
      "aloh\n",
      "a\n"
     ]
    }
   ],
   "source": [
    "def Invierte_cadena(cadena):\n",
    "    if len(cadena) == 1:\n",
    "        # Es solo una letra, la devuelve\n",
    "        return cadena\n",
    "    else:\n",
    "        # Devuelve la última letra + la función repetida con la cadena sin esa última letra\n",
    "        return cadena[-1] + Invierte_cadena(cadena[:len(cadena) - 1])\n",
    "\n",
    "print(Invierte_cadena(\"123abc\"))\n",
    "print(Invierte_cadena(\"hola\"))\n",
    "print(Invierte_cadena(\"a\"))"
   ]
  },
  {
   "cell_type": "code",
   "execution_count": 9,
   "id": "bd9bbbe1",
   "metadata": {},
   "outputs": [],
   "source": [
    "def prueba_primo(n): # Recibe un número\n",
    "    def prueba_divisor(d): # El número que recibe la función original existe en el entorno de esta\n",
    "        # El número es 2, ya que al llamar la función de divisor con 1 unidad menos da 1, el 2 es primo\n",
    "        if d == 1: return True\n",
    "        \n",
    "        # Si el número original es divisible entre un n - 1, 2, 3, ..., ya no es solo divisible entre 1 y él mismo\n",
    "        elif (n % d) == 0: return False\n",
    "        \n",
    "        # Continúa evaluando la función hasta que el divisor sea 1\n",
    "        else: return prueba_divisor(d - 1)\n",
    "    \n",
    "    # Si es un número mayor que 1, regresará la función del divisor evaluada en el número - 1\n",
    "    if n > 1: return prueba_divisor(n - 1)\n",
    "    else: return False"
   ]
  },
  {
   "cell_type": "code",
   "execution_count": 10,
   "id": "f1963f78",
   "metadata": {},
   "outputs": [
    {
     "name": "stdout",
     "output_type": "stream",
     "text": [
      "¿7 es primo? True\n",
      "¿1 es primo? False\n",
      "¿2 es primo? True\n",
      "¿10 es primo? False\n",
      "¿13 es primo? True\n"
     ]
    }
   ],
   "source": [
    "print(\"¿7 es primo? \" + str(prueba_primo(7)))\n",
    "print(\"¿1 es primo? \" + str(prueba_primo(1)))\n",
    "print(\"¿2 es primo? \" + str(prueba_primo(2)))\n",
    "print(\"¿10 es primo? \" + str(prueba_primo(10)))\n",
    "print(\"¿13 es primo? \" + str(prueba_primo(13)))"
   ]
  }
 ],
 "metadata": {
  "kernelspec": {
   "display_name": "Python 3 (ipykernel)",
   "language": "python",
   "name": "python3"
  },
  "language_info": {
   "codemirror_mode": {
    "name": "ipython",
    "version": 3
   },
   "file_extension": ".py",
   "mimetype": "text/x-python",
   "name": "python",
   "nbconvert_exporter": "python",
   "pygments_lexer": "ipython3",
   "version": "3.11.5"
  }
 },
 "nbformat": 4,
 "nbformat_minor": 5
}
