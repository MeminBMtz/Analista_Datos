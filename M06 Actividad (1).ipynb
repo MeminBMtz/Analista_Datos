{
 "cells": [
  {
   "cell_type": "code",
   "execution_count": 59,
   "id": "70058748",
   "metadata": {},
   "outputs": [
    {
     "data": {
      "text/plain": [
       "3986"
      ]
     },
     "execution_count": 59,
     "metadata": {},
     "output_type": "execute_result"
    }
   ],
   "source": [
    "class Conversion:\n",
    "    def __init__(self, numero=0):\n",
    "        self.numero = numero\n",
    "        \n",
    "    def romano_entero(self, romano):\n",
    "        romanos = {\"I\": 1, \"V\": 5, \"X\": 10, \"L\": 50, \"C\": 100, \"D\": 500, \"M\": 1000}\n",
    "        entero = 0; letra_anterior = \"\"\n",
    "        for letra in romano:\n",
    "            if entero==0: entero += romanos[letra]\n",
    "            else:\n",
    "                if romanos[letra_anterior] < romanos[letra]:\n",
    "                    entero -= romanos[letra_anterior]; entero += romanos[letra] - romanos[letra_anterior]\n",
    "                else: entero += romanos[letra]\n",
    "            letra_anterior = letra\n",
    "        self.numero = entero\n",
    "        return entero\n",
    "\n",
    "numero = Conversion(); numero.romano_entero(\"MMMCMLXXXVI\")"
   ]
  },
  {
   "cell_type": "code",
   "execution_count": 60,
   "id": "f1065531",
   "metadata": {},
   "outputs": [
    {
     "name": "stdout",
     "output_type": "stream",
     "text": [
      "IX (Correcto): 9\n",
      "VIIII (Incorrecto): 9\n",
      "VIV (Incorrecto): 9\n"
     ]
    }
   ],
   "source": [
    "# A pesar de lo útil, el programa tiene una limitación\n",
    "# Aceptaría sintaxis inválida para números romanos\n",
    "# Por ejemplo, el 9 en romano es IX\n",
    "num1 = Conversion(); nueve1 = num1.romano_entero(\"IX\")\n",
    "\n",
    "# Sin embargo, al programa le da lo mismo si lo escribimos como IX o VIIII o VIV, todos son 9 para el método\n",
    "# Aunque en el lenguaje de números romanos sea inválido\n",
    "num2 = Conversion(); nueve2 = num2.romano_entero(\"VIIII\")\n",
    "num3 = Conversion(); nueve3 = num3.romano_entero(\"VIV\")\n",
    "\n",
    "print(\"IX (Correcto):\", nueve1)\n",
    "print(\"VIIII (Incorrecto):\", nueve2)\n",
    "print(\"VIV (Incorrecto):\", nueve3)"
   ]
  },
  {
   "cell_type": "code",
   "execution_count": null,
   "id": "31f52045",
   "metadata": {},
   "outputs": [],
   "source": []
  }
 ],
 "metadata": {
  "kernelspec": {
   "display_name": "Python 3 (ipykernel)",
   "language": "python",
   "name": "python3"
  },
  "language_info": {
   "codemirror_mode": {
    "name": "ipython",
    "version": 3
   },
   "file_extension": ".py",
   "mimetype": "text/x-python",
   "name": "python",
   "nbconvert_exporter": "python",
   "pygments_lexer": "ipython3",
   "version": "3.11.5"
  }
 },
 "nbformat": 4,
 "nbformat_minor": 5
}
