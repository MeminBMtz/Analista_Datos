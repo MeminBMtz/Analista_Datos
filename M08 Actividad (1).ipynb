{
 "cells": [
  {
   "cell_type": "code",
   "execution_count": 2,
   "id": "be21ec60",
   "metadata": {},
   "outputs": [
    {
     "name": "stdout",
     "output_type": "stream",
     "text": [
      "Arreglo original: [12 13 14 15 16 17 18 19 20]\n",
      "Arreglo final (invertido): [20 19 18 17 16 15 14 13 12]\n"
     ]
    }
   ],
   "source": [
    "import numpy as np\n",
    "\n",
    "# Problema 1\n",
    "arreglo1 = np.arange(12, 21) # Empieza en 12 al 21 (sin incluirlo)\n",
    "arreglo_final = arreglo1[-1::-1] # Empieza en el último, acaba en el primero (0)\n",
    "\n",
    "print(\"Arreglo original:\", arreglo1)\n",
    "print(\"Arreglo final (invertido):\", arreglo_final)"
   ]
  },
  {
   "cell_type": "code",
   "execution_count": 5,
   "id": "dad1b767",
   "metadata": {},
   "outputs": [
    {
     "name": "stdout",
     "output_type": "stream",
     "text": [
      "Valores en grados Fahrenheit:\n",
      " [ 0.   12.   45.21 34.   99.91 32.  ]\n",
      "Valores en grados Celsius:\n",
      " [-17.78 -11.11   7.34   1.11  37.73   0.  ]\n"
     ]
    }
   ],
   "source": [
    "# Problema 2\n",
    "fahrenheit = np.array([0, 12, 45.21, 34, 99.91, 32]) # Grados Celsius\n",
    "celsius = (5 * (fahrenheit - 32)) / 9 # Le aplicamos la fórmula de °F a °C\n",
    "print(\"Valores en grados Fahrenheit:\\n\",fahrenheit)\n",
    "print(\"Valores en grados Celsius:\\n\",np.round(celsius,2)) # Usé la instrucción round para redondear a 2 decimales"
   ]
  },
  {
   "cell_type": "code",
   "execution_count": 10,
   "id": "71a19ce7",
   "metadata": {},
   "outputs": [
    {
     "name": "stdout",
     "output_type": "stream",
     "text": [
      "Primer array: [ 0 10 20]\n",
      "Segundo array: [20 10 30]\n",
      "Tercer array (ordenado sin repetidos): [ 0 10 20 30]\n"
     ]
    }
   ],
   "source": [
    "# Problema 3\n",
    "arreglo1 = np.array([0, 10, 20])\n",
    "arreglo2 = np.array([20, 10, 30])\n",
    "\n",
    "union = np.concatenate([arreglo1, arreglo2]) # Unimos los 2 arrays\n",
    "ordenado = np.sort(union) # Los ordenamos de menor a mayor con la función sort\n",
    "arreglo3 = np.unique(ordenado) # Quitamos repetidos con la instrucción unique\n",
    "\n",
    "print(\"Primer array:\", arreglo1)\n",
    "print(\"Segundo array:\", arreglo2)\n",
    "print(\"Tercer array (ordenado sin repetidos):\", arreglo3)"
   ]
  },
  {
   "cell_type": "code",
   "execution_count": null,
   "id": "9a21d203",
   "metadata": {},
   "outputs": [],
   "source": []
  }
 ],
 "metadata": {
  "kernelspec": {
   "display_name": "Python 3 (ipykernel)",
   "language": "python",
   "name": "python3"
  },
  "language_info": {
   "codemirror_mode": {
    "name": "ipython",
    "version": 3
   },
   "file_extension": ".py",
   "mimetype": "text/x-python",
   "name": "python",
   "nbconvert_exporter": "python",
   "pygments_lexer": "ipython3",
   "version": "3.11.5"
  }
 },
 "nbformat": 4,
 "nbformat_minor": 5
}
