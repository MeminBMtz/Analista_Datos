{
 "cells": [
  {
   "cell_type": "code",
   "execution_count": 1,
   "id": "87a74fff",
   "metadata": {},
   "outputs": [
    {
     "data": {
      "text/html": [
       "<div>\n",
       "<style scoped>\n",
       "    .dataframe tbody tr th:only-of-type {\n",
       "        vertical-align: middle;\n",
       "    }\n",
       "\n",
       "    .dataframe tbody tr th {\n",
       "        vertical-align: top;\n",
       "    }\n",
       "\n",
       "    .dataframe thead th {\n",
       "        text-align: right;\n",
       "    }\n",
       "</style>\n",
       "<table border=\"1\" class=\"dataframe\">\n",
       "  <thead>\n",
       "    <tr style=\"text-align: right;\">\n",
       "      <th></th>\n",
       "      <th>Survived</th>\n",
       "      <th>Pclass</th>\n",
       "      <th>Name</th>\n",
       "      <th>Sex</th>\n",
       "      <th>Age</th>\n",
       "      <th>Siblings/Spouses Aboard</th>\n",
       "      <th>Parents/Children Aboard</th>\n",
       "      <th>Fare</th>\n",
       "    </tr>\n",
       "  </thead>\n",
       "  <tbody>\n",
       "    <tr>\n",
       "      <th>0</th>\n",
       "      <td>0</td>\n",
       "      <td>3</td>\n",
       "      <td>Mr. Owen Harris Braund</td>\n",
       "      <td>male</td>\n",
       "      <td>22.0</td>\n",
       "      <td>1</td>\n",
       "      <td>0</td>\n",
       "      <td>7.2500</td>\n",
       "    </tr>\n",
       "    <tr>\n",
       "      <th>1</th>\n",
       "      <td>1</td>\n",
       "      <td>1</td>\n",
       "      <td>Mrs. John Bradley (Florence Briggs Thayer) Cum...</td>\n",
       "      <td>female</td>\n",
       "      <td>38.0</td>\n",
       "      <td>1</td>\n",
       "      <td>0</td>\n",
       "      <td>71.2833</td>\n",
       "    </tr>\n",
       "    <tr>\n",
       "      <th>2</th>\n",
       "      <td>1</td>\n",
       "      <td>3</td>\n",
       "      <td>Miss. Laina Heikkinen</td>\n",
       "      <td>female</td>\n",
       "      <td>26.0</td>\n",
       "      <td>0</td>\n",
       "      <td>0</td>\n",
       "      <td>7.9250</td>\n",
       "    </tr>\n",
       "    <tr>\n",
       "      <th>3</th>\n",
       "      <td>1</td>\n",
       "      <td>1</td>\n",
       "      <td>Mrs. Jacques Heath (Lily May Peel) Futrelle</td>\n",
       "      <td>female</td>\n",
       "      <td>35.0</td>\n",
       "      <td>1</td>\n",
       "      <td>0</td>\n",
       "      <td>53.1000</td>\n",
       "    </tr>\n",
       "    <tr>\n",
       "      <th>4</th>\n",
       "      <td>0</td>\n",
       "      <td>3</td>\n",
       "      <td>Mr. William Henry Allen</td>\n",
       "      <td>male</td>\n",
       "      <td>35.0</td>\n",
       "      <td>0</td>\n",
       "      <td>0</td>\n",
       "      <td>8.0500</td>\n",
       "    </tr>\n",
       "    <tr>\n",
       "      <th>...</th>\n",
       "      <td>...</td>\n",
       "      <td>...</td>\n",
       "      <td>...</td>\n",
       "      <td>...</td>\n",
       "      <td>...</td>\n",
       "      <td>...</td>\n",
       "      <td>...</td>\n",
       "      <td>...</td>\n",
       "    </tr>\n",
       "    <tr>\n",
       "      <th>882</th>\n",
       "      <td>0</td>\n",
       "      <td>2</td>\n",
       "      <td>Rev. Juozas Montvila</td>\n",
       "      <td>male</td>\n",
       "      <td>27.0</td>\n",
       "      <td>0</td>\n",
       "      <td>0</td>\n",
       "      <td>13.0000</td>\n",
       "    </tr>\n",
       "    <tr>\n",
       "      <th>883</th>\n",
       "      <td>1</td>\n",
       "      <td>1</td>\n",
       "      <td>Miss. Margaret Edith Graham</td>\n",
       "      <td>female</td>\n",
       "      <td>19.0</td>\n",
       "      <td>0</td>\n",
       "      <td>0</td>\n",
       "      <td>30.0000</td>\n",
       "    </tr>\n",
       "    <tr>\n",
       "      <th>884</th>\n",
       "      <td>0</td>\n",
       "      <td>3</td>\n",
       "      <td>Miss. Catherine Helen Johnston</td>\n",
       "      <td>female</td>\n",
       "      <td>7.0</td>\n",
       "      <td>1</td>\n",
       "      <td>2</td>\n",
       "      <td>23.4500</td>\n",
       "    </tr>\n",
       "    <tr>\n",
       "      <th>885</th>\n",
       "      <td>1</td>\n",
       "      <td>1</td>\n",
       "      <td>Mr. Karl Howell Behr</td>\n",
       "      <td>male</td>\n",
       "      <td>26.0</td>\n",
       "      <td>0</td>\n",
       "      <td>0</td>\n",
       "      <td>30.0000</td>\n",
       "    </tr>\n",
       "    <tr>\n",
       "      <th>886</th>\n",
       "      <td>0</td>\n",
       "      <td>3</td>\n",
       "      <td>Mr. Patrick Dooley</td>\n",
       "      <td>male</td>\n",
       "      <td>32.0</td>\n",
       "      <td>0</td>\n",
       "      <td>0</td>\n",
       "      <td>7.7500</td>\n",
       "    </tr>\n",
       "  </tbody>\n",
       "</table>\n",
       "<p>887 rows × 8 columns</p>\n",
       "</div>"
      ],
      "text/plain": [
       "     Survived  Pclass                                               Name  \\\n",
       "0           0       3                             Mr. Owen Harris Braund   \n",
       "1           1       1  Mrs. John Bradley (Florence Briggs Thayer) Cum...   \n",
       "2           1       3                              Miss. Laina Heikkinen   \n",
       "3           1       1        Mrs. Jacques Heath (Lily May Peel) Futrelle   \n",
       "4           0       3                            Mr. William Henry Allen   \n",
       "..        ...     ...                                                ...   \n",
       "882         0       2                               Rev. Juozas Montvila   \n",
       "883         1       1                        Miss. Margaret Edith Graham   \n",
       "884         0       3                     Miss. Catherine Helen Johnston   \n",
       "885         1       1                               Mr. Karl Howell Behr   \n",
       "886         0       3                                 Mr. Patrick Dooley   \n",
       "\n",
       "        Sex   Age  Siblings/Spouses Aboard  Parents/Children Aboard     Fare  \n",
       "0      male  22.0                        1                        0   7.2500  \n",
       "1    female  38.0                        1                        0  71.2833  \n",
       "2    female  26.0                        0                        0   7.9250  \n",
       "3    female  35.0                        1                        0  53.1000  \n",
       "4      male  35.0                        0                        0   8.0500  \n",
       "..      ...   ...                      ...                      ...      ...  \n",
       "882    male  27.0                        0                        0  13.0000  \n",
       "883  female  19.0                        0                        0  30.0000  \n",
       "884  female   7.0                        1                        2  23.4500  \n",
       "885    male  26.0                        0                        0  30.0000  \n",
       "886    male  32.0                        0                        0   7.7500  \n",
       "\n",
       "[887 rows x 8 columns]"
      ]
     },
     "execution_count": 1,
     "metadata": {},
     "output_type": "execute_result"
    }
   ],
   "source": [
    "import numpy as np\n",
    "import pandas as pd\n",
    "import matplotlib.pyplot as plt\n",
    "\n",
    "df = pd.read_csv(\"titanic.csv\")\n",
    "df"
   ]
  },
  {
   "cell_type": "code",
   "execution_count": 8,
   "id": "62b64e6a",
   "metadata": {},
   "outputs": [
    {
     "data": {
      "image/png": "[encoded data removed]",
      "text/plain": [
       "<Figure size 640x480 with 1 Axes>"
      ]
     },
     "metadata": {},
     "output_type": "display_data"
    }
   ],
   "source": [
    "# Inciso A\n",
    "# Estilo \"ggplot\"\n",
    "plt.style.use(\"ggplot\")\n",
    "fig, ax = plt.subplots()\n",
    "ax.hist(df[\"Age\"], bins=[x for x in range(0,81,10)])\n",
    "ax.set_xlabel(\"Edad\")\n",
    "ax.set_ylabel(\"No. de observaciones\")\n",
    "plt.show()"
   ]
  },
  {
   "cell_type": "markdown",
   "id": "9fe4d7f0",
   "metadata": {},
   "source": [
    "Se observa un histograma para todas las edades de los pasajeros que se encontraban en el RMS Titanic. Se encuentra separado en grupos de 10. De esta manera, vemos primero pasajeros de entre 0 y 10 años a bordo del barco, con una frecuencia no mayor a 75. Por su parte, vemos que había aprox. 125 pasajeros de entre 10 y 20 años en el navío al momento de su naufragio. Las principales observaciones que nos da este histograma son que la mayoría de los pasajeros en el Titanic tenían entre 20 y 30 años, ya que más de 250 se encontraban en este grupo de edad. Por su parte, grupos de edad de entre 30 y 40 años, 40 y 50 años, 50 y 60 años contaban con 200, más de 100 y aprox. 50 pasajeros, respectivamente. Finalmente, vemos que había menos pasajeros tanto de entre 60 y 70 años como entre 70 y 80, ya que había menos de 50 pasajeros en cada uno de esos grupos, respectivamente."
   ]
  },
  {
   "cell_type": "code",
   "execution_count": 12,
   "id": "a36f4490",
   "metadata": {},
   "outputs": [
    {
     "data": {
      "image/png": "[encoded data removed]",
      "text/plain": [
       "<Figure size 640x480 with 1 Axes>"
      ]
     },
     "metadata": {},
     "output_type": "display_data"
    }
   ],
   "source": [
    "# Guardamos la imagen como jpg\n",
    "fig.savefig(\"IMAGEN1-histograma_edades_titanic.jpg\", dpi=200)\n",
    "\n",
    "# Inciso B\n",
    "fig2, ax = plt.subplots()\n",
    "ax.boxplot(df[\"Age\"])\n",
    "ax.set_xlabel(\"Edad\")\n",
    "ax.set_xticklabels([])\n",
    "ax.set_ylabel(\"No. de observaciones\")\n",
    "plt.show()"
   ]
  },
  {
   "cell_type": "markdown",
   "id": "655ed5d8",
   "metadata": {},
   "source": [
    "Aquí podemos observar algo similar a lo que veíamos en el histograma. Notamos que la mayoría de los pasajeros tenían entre 20 años y 40 años, ya que aquí se encuentran los cuartiles inferior y superior del diagrama, mientras que la mediana, es decir, el punto medio, está muy cercano a 30. Además, notamos que los mínimos y máximos no atípicos en nuestro diagrama son 0 y 64 aprox. respectivamente. Por su parte, contamos también con varios valores atípicos que se encuentran en niveles superiores al valor máximo, lo que indica que, numéricamente, los pasajeros de 65 años o más son distantes de la mayoría del resto, lo cual nos revela, al igual que el histograma, que se trata del grupo de edad que fue una minoría entre el total de pasajeros del Titanic."
   ]
  },
  {
   "cell_type": "code",
   "execution_count": 25,
   "id": "82b356a0",
   "metadata": {},
   "outputs": [
    {
     "data": {
      "image/png": "[encoded data removed]",
      "text/plain": [
       "<Figure size 640x480 with 1 Axes>"
      ]
     },
     "metadata": {},
     "output_type": "display_data"
    }
   ],
   "source": [
    "# Guardamos la imagen como jpg\n",
    "fig2.savefig(\"IMAGEN2-caja_edades_titanic.jpg\", dpi=200)\n",
    "\n",
    "# Inciso C\n",
    "fig3, ax = plt.subplots()\n",
    "df2 = df.groupby([\"Pclass\"]).count()\n",
    "ax.bar(df2.index, df2[\"Survived\"])\n",
    "ax.set_xlabel(\"Clase\")\n",
    "ax.set_ylabel(\"No. de pasajeros\")\n",
    "fig3.savefig(\"IMAGEN3-barra_clases_titanic.jpg\", dpi=200)\n",
    "plt.show()"
   ]
  },
  {
   "cell_type": "markdown",
   "id": "9585c280",
   "metadata": {},
   "source": [
    "En esta gráfica vemos las frecuencias de pasajeros en el Titanic por clase. Las clases van del 1-3, siendo 1 primera clase, 2 segunda y 3 tercera. Entonces, podemos observar que la mayoría de los pasajeros en el navío eran de 3ra clase, ya que casi 500 del total de pasajeros eran de esta clase. Por su parte, la cantidad de pasajeros en el barco tanto de 1ra como de 2da clase es muy parecida, ya que de primera clase había poco más de 200 mientras que de segunda clase había poco menos de 200. Esto último nos indica también que la cantidad de pasajeros de segunda clase en el Titanic era menor a la de pasajeros de primera y tercera."
   ]
  },
  {
   "cell_type": "code",
   "execution_count": 26,
   "id": "556b7b11",
   "metadata": {},
   "outputs": [
    {
     "name": "stdout",
     "output_type": "stream",
     "text": [
      "1. Variables, expresiones y enunciados.ipynb\r\n",
      "2.1 Manejo de cadenas.ipynb\r\n",
      "2.2 Manejo de listas.ipynb\r\n",
      "2.5 Actividad práctica.ipynb\r\n",
      "3. Manejo de diccionarios.ipynb\r\n",
      "3.1 Introducción a las tablas de verdad (and, or, not).ipynb\r\n",
      "3.2 IF, ELSE y ELIF.ipynb\r\n",
      "4. Manejo de tuplas.ipynb\r\n",
      "4.1 | La instrucción \"while\".ipynb\r\n",
      "4.2 | La instrucción \"for\".ipynb\r\n",
      "5.1 | Propósito y tipos de funciones en Python.ipynb\r\n",
      "5.2 | Recursividad en Python.ipynb\r\n",
      "6.1 | Definición de clases, objetos y constructores en Python.ipynb\r\n",
      "6.2 | Aplicaciones avanzadas de constructores en Python.ipynb\r\n",
      "7.1 | Transformación de Dataframes.ipynb\r\n",
      "7.2.1 | Agregación de Dataframes y extracción e indexación en Dataframes.ipynb\r\n",
      "7.2.2 Extracción e indexación en Dataframes.ipynb\r\n",
      "7.3 | Creación y visualización de Dataframes.ipynb\r\n",
      "8.1 | Arreglos de NumPy.ipynb\r\n",
      "8.2 | Métodos y operaciones de NumPy.ipynb\r\n",
      "8.3 | Indexación y asignaciones con NumPy.ipynb\r\n",
      "9.1 | Introducción a la visualización con MatPlotLib.ipynb\r\n",
      "9.2.1 | Graficación de series de tiempo.ipynb\r\n",
      "9.2.2 | Visualizaciones cuantitativas y estadísticas.ipynb\r\n",
      "9.3 | Compartición de visualizaciones.ipynb\r\n",
      "\u001b[34mApplications\u001b[m\u001b[m/\r\n",
      "\u001b[34mDesktop\u001b[m\u001b[m/\r\n",
      "\u001b[34mDocuments\u001b[m\u001b[m/\r\n",
      "\u001b[34mDownloads\u001b[m\u001b[m/\r\n",
      "ElRamoAzul.txt\r\n",
      "IMAGEN1-histograma_edades_titanic.jpg\r\n",
      "IMAGEN2-caja_edades_titanic.jpg\r\n",
      "IMAGEN3-barra_clases_titanic.jpg\r\n",
      "Iris.csv\r\n",
      "Iris2.csv\r\n",
      "\u001b[34mLibrary\u001b[m\u001b[m/\r\n",
      "M03 Actividad.ipynb\r\n",
      "M04 Actividad.ipynb\r\n",
      "M05 Actividad.ipynb\r\n",
      "M06 Actividad.ipynb\r\n",
      "M07 Actividad.ipynb\r\n",
      "M08 Actividad.ipynb\r\n",
      "M09 | Actividad.ipynb\r\n",
      "\u001b[34mMovies\u001b[m\u001b[m/\r\n",
      "\u001b[34mMusic\u001b[m\u001b[m/\r\n",
      "\u001b[34mPictures\u001b[m\u001b[m/\r\n",
      "Primera lección - Instalación.ipynb\r\n",
      "Programa 1.ipynb\r\n",
      "\u001b[34mPublic\u001b[m\u001b[m/\r\n",
      "Trabalenguas.txt\r\n",
      "\u001b[34mUntitled Folder\u001b[m\u001b[m/\r\n",
      "Untitled.ipynb\r\n",
      "\u001b[34manaconda3\u001b[m\u001b[m/\r\n",
      "co2-mm-mlo.csv\r\n",
      "get-pip.py\r\n",
      "medallas.jpg\r\n",
      "medallas.png\r\n",
      "olympic-medals.csv\r\n",
      "titanic.csv\r\n",
      "\u001b[34mwekafiles\u001b[m\u001b[m/\r\n"
     ]
    }
   ],
   "source": [
    "ls"
   ]
  },
  {
   "cell_type": "code",
   "execution_count": null,
   "id": "6b2592a1",
   "metadata": {},
   "outputs": [],
   "source": []
  }
 ],
 "metadata": {
  "kernelspec": {
   "display_name": "Python 3 (ipykernel)",
   "language": "python",
   "name": "python3"
  },
  "language_info": {
   "codemirror_mode": {
    "name": "ipython",
    "version": 3
   },
   "file_extension": ".py",
   "mimetype": "text/x-python",
   "name": "python",
   "nbconvert_exporter": "python",
   "pygments_lexer": "ipython3",
   "version": "3.11.5"
  }
 },
 "nbformat": 4,
 "nbformat_minor": 5
}
