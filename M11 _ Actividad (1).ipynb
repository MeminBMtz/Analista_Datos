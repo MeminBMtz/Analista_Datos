{
 "cells": [
  {
   "cell_type": "markdown",
   "id": "cc085041",
   "metadata": {},
   "source": [
    "# Ejercicio 1: Función lambda"
   ]
  },
  {
   "cell_type": "code",
   "execution_count": 3,
   "id": "e17b5fef",
   "metadata": {},
   "outputs": [
    {
     "data": {
      "text/plain": [
       "2.0"
      ]
     },
     "execution_count": 3,
     "metadata": {},
     "output_type": "execute_result"
    }
   ],
   "source": [
    "# Sin lambda\n",
    "def raiz_cuadrada_manual(num):\n",
    "    raiz = num ** (1 / 2)\n",
    "    return raiz\n",
    "\n",
    "numero = 4\n",
    "raiz_cuadrada_manual(numero)"
   ]
  },
  {
   "cell_type": "code",
   "execution_count": 4,
   "id": "8a413830",
   "metadata": {},
   "outputs": [
    {
     "data": {
      "text/plain": [
       "3.0"
      ]
     },
     "execution_count": 4,
     "metadata": {},
     "output_type": "execute_result"
    }
   ],
   "source": [
    "# Con lambda\n",
    "raiz_lambda = lambda x: x ** (1 / 2)\n",
    "\n",
    "raiz_lambda(9)"
   ]
  },
  {
   "cell_type": "markdown",
   "id": "9af10560",
   "metadata": {},
   "source": [
    "# Ejercicio 2: Función map"
   ]
  },
  {
   "cell_type": "code",
   "execution_count": 5,
   "id": "aa31f552",
   "metadata": {},
   "outputs": [
    {
     "name": "stdout",
     "output_type": "stream",
     "text": [
      "Largo de cada palabra de la cadena: [2, 5, 3, 9, 1, 8, 6]\n",
      "Largo de la cadena de palabras: 34\n"
     ]
    }
   ],
   "source": [
    "# Sin map\n",
    "def largo_cadena_palabras(cadena):\n",
    "    palabras = cadena.split()\n",
    "    longitudes = []\n",
    "    \n",
    "    for palabra in palabras: longitudes.append(len(palabra))\n",
    "    return longitudes\n",
    "\n",
    "cadena = \"Me gusta ver películas y escuchar música\"\n",
    "longitudes = largo_cadena_palabras(cadena)\n",
    "print(f\"Largo de cada palabra de la cadena: {longitudes}\")\n",
    "print(f\"Largo de la cadena de palabras: {sum(longitudes)}\")"
   ]
  },
  {
   "cell_type": "code",
   "execution_count": 7,
   "id": "e43587c3",
   "metadata": {},
   "outputs": [
    {
     "name": "stdout",
     "output_type": "stream",
     "text": [
      "Largo de cada palabra de la cadena: [2, 5, 3, 6, 1, 4, 6]\n",
      "Largo de la cadena de palabras: 27\n"
     ]
    }
   ],
   "source": [
    "# Con map\n",
    "cadena = \"Me gusta ver series y leer libros\"\n",
    "longitudes = list(map(len, cadena.split()))\n",
    "print(f\"Largo de cada palabra de la cadena: {longitudes}\")\n",
    "print(f\"Largo de la cadena de palabras: {sum(longitudes)}\")"
   ]
  },
  {
   "cell_type": "markdown",
   "id": "aec3ecbd",
   "metadata": {},
   "source": [
    "# Ejercicio 3: Función reduce"
   ]
  },
  {
   "cell_type": "code",
   "execution_count": 12,
   "id": "976abc82",
   "metadata": {},
   "outputs": [
    {
     "name": "stdout",
     "output_type": "stream",
     "text": [
      "1 * 2 = 2\n",
      "2 * 3 = 6\n",
      "6 * 4 = 24\n",
      "24 * 5 = 120\n",
      "120 * 6 = 720\n",
      "Producto de la lista: 720\n"
     ]
    }
   ],
   "source": [
    "# Sin reduce\n",
    "def producto(a, b):\n",
    "    print(f\"{a} * {b} = {a * b}\")\n",
    "    return a * b\n",
    "\n",
    "product = 1\n",
    "lista = [2, 3, 4, 5, 6] # Longitud 5: 0, 1, 2, 3, 4\n",
    "for num in lista: product = producto(product, num)\n",
    "print(f\"Producto de la lista: {product}\")"
   ]
  },
  {
   "cell_type": "code",
   "execution_count": 13,
   "id": "efe7c8ad",
   "metadata": {},
   "outputs": [
    {
     "name": "stdout",
     "output_type": "stream",
     "text": [
      "2 * 3 = 6\n",
      "6 * 4 = 24\n",
      "24 * 5 = 120\n",
      "120 * 6 = 720\n"
     ]
    },
    {
     "data": {
      "text/plain": [
       "720"
      ]
     },
     "execution_count": 13,
     "metadata": {},
     "output_type": "execute_result"
    }
   ],
   "source": [
    "# Con reduce\n",
    "from functools import reduce\n",
    "\n",
    "lista = [2, 3, 4, 5, 6]\n",
    "reduce(producto, lista)"
   ]
  },
  {
   "cell_type": "markdown",
   "id": "c070a8d4",
   "metadata": {},
   "source": [
    "# Ejercicio 4: Función filter"
   ]
  },
  {
   "cell_type": "code",
   "execution_count": 16,
   "id": "9d5ef480",
   "metadata": {},
   "outputs": [
    {
     "data": {
      "text/plain": [
       "['Hola', '21', 'Años', 'México']"
      ]
     },
     "execution_count": 16,
     "metadata": {},
     "output_type": "execute_result"
    }
   ],
   "source": [
    "# Sin filter\n",
    "def encuentra_mayusculas_y_numeros(palabras):\n",
    "    palabras_mayusculas_numeros = []\n",
    "    mayusculas = list('abcdefghijklmnñopqrstuvwxyz'.upper())\n",
    "    numeros = [str(x) for x in range(10)]\n",
    "    for palabra in palabras:\n",
    "        caracteres = list(palabra)\n",
    "        for caracter in caracteres:\n",
    "            if caracter in mayusculas or caracter in numeros:\n",
    "                palabras_mayusculas_numeros.append(palabra)\n",
    "                # Con hallar un número o mayúscula en una palabra le basta para agregarla a la lista y seguir\n",
    "                break\n",
    "    return palabras_mayusculas_numeros\n",
    "\n",
    "palabras = \"Hola tengo 21 Años y soy de México\".split()\n",
    "encuentra_mayusculas_y_numeros(palabras)"
   ]
  },
  {
   "cell_type": "code",
   "execution_count": 19,
   "id": "be1cd141",
   "metadata": {},
   "outputs": [
    {
     "data": {
      "text/plain": [
       "['Hola', '21', 'Años', 'México']"
      ]
     },
     "execution_count": 19,
     "metadata": {},
     "output_type": "execute_result"
    }
   ],
   "source": [
    "# Con filter\n",
    "def tieneNumOMayus(palabra):\n",
    "    for x in palabra:\n",
    "        if x in list('abcdefghijklmnñopqrstuvwxyz'.upper()) or x in [str(x) for x in range(10)]: return True\n",
    "\n",
    "palabras = \"Hola tengo 21 Años y soy de México\".split()\n",
    "list(filter(tieneNumOMayus, palabras))"
   ]
  },
  {
   "cell_type": "code",
   "execution_count": null,
   "id": "c987405f",
   "metadata": {},
   "outputs": [],
   "source": []
  }
 ],
 "metadata": {
  "kernelspec": {
   "display_name": "Python 3 (ipykernel)",
   "language": "python",
   "name": "python3"
  },
  "language_info": {
   "codemirror_mode": {
    "name": "ipython",
    "version": 3
   },
   "file_extension": ".py",
   "mimetype": "text/x-python",
   "name": "python",
   "nbconvert_exporter": "python",
   "pygments_lexer": "ipython3",
   "version": "3.11.5"
  }
 },
 "nbformat": 4,
 "nbformat_minor": 5
}
