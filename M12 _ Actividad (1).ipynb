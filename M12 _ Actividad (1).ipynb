{
 "cells": [
  {
   "cell_type": "code",
   "execution_count": 54,
   "id": "131b6f91",
   "metadata": {},
   "outputs": [
    {
     "name": "stdout",
     "output_type": "stream",
     "text": [
      "Current working directory: /Users/memobarbosa/Análisis de datos/Parte 2\n"
     ]
    }
   ],
   "source": [
    "from statistics import mean, median, mode, stdev\n",
    "import matplotlib.pyplot as plt\n",
    "import numpy as np\n",
    "import csv\n",
    "import os\n",
    "\n",
    "# Directorio actual\n",
    "cwd = os.getcwd()\n",
    "print(\"Current working directory: {0}\".format(cwd))"
   ]
  },
  {
   "cell_type": "markdown",
   "id": "628d279e",
   "metadata": {},
   "source": [
    "### Cambio del directorio"
   ]
  },
  {
   "cell_type": "code",
   "execution_count": 55,
   "id": "5b1e48be",
   "metadata": {},
   "outputs": [],
   "source": [
    "# Cambiar el directorio actual\n",
    "os.chdir('/users/memobarbosa/análisis de datos/parte 2')"
   ]
  },
  {
   "cell_type": "markdown",
   "id": "19ba69b3",
   "metadata": {},
   "source": [
    "### Lectura del archivo"
   ]
  },
  {
   "cell_type": "code",
   "execution_count": 40,
   "id": "c8449902",
   "metadata": {},
   "outputs": [],
   "source": [
    "# Abro el archivo\n",
    "file = open(r'./Height of Male and Female by Country 2022.csv')\n",
    "\n",
    "# Leo el archivo\n",
    "csvreader = csv.reader(file)"
   ]
  },
  {
   "cell_type": "code",
   "execution_count": 41,
   "id": "1e501005",
   "metadata": {},
   "outputs": [
    {
     "data": {
      "text/plain": [
       "['Rank',\n",
       " 'Country Name',\n",
       " 'Male Height in Cm',\n",
       " 'Female Height in Cm',\n",
       " 'Male Height in Ft',\n",
       " 'Female Height in Ft']"
      ]
     },
     "execution_count": 41,
     "metadata": {},
     "output_type": "execute_result"
    }
   ],
   "source": [
    "# Obtiene los encabezados del archivo (header)\n",
    "header = []\n",
    "header = next(csvreader)\n",
    "header"
   ]
  },
  {
   "cell_type": "code",
   "execution_count": 42,
   "id": "a271b5fe",
   "metadata": {},
   "outputs": [],
   "source": [
    "# Paso los datos a una lista\n",
    "rows = []\n",
    "for row in csvreader: rows.append(row)"
   ]
  },
  {
   "cell_type": "markdown",
   "id": "9ca10df8",
   "metadata": {},
   "source": [
    "### Impresión de las primeras 50 líneas"
   ]
  },
  {
   "cell_type": "code",
   "execution_count": 43,
   "id": "f0f45abd",
   "metadata": {},
   "outputs": [
    {
     "data": {
      "text/plain": [
       "[['1', 'Netherlands', '183.78', '170.36', '6.03', '5.59'],\n",
       " ['2', 'Montenegro', '183.30', '169.96', '6.01', '5.58'],\n",
       " ['3', 'Estonia', '182.79', '168.66', '6.00', '5.53'],\n",
       " ['4', 'Bosnia and Herzegovina', '182.47', '167.47', '5.99', '5.49'],\n",
       " ['5', 'Iceland', '182.10', '168.91', '5.97', '5.54'],\n",
       " ['6', 'Denmark', '181.89', '169.47', '5.97', '5.56'],\n",
       " ['7', 'Czech Republic', '181.19', '167.96', '5.94', '5.51'],\n",
       " ['8', 'Latvia', '181.17', '168.81', '5.94', '5.54'],\n",
       " ['9', 'Slovakia', '181.02', '167.12', '5.94', '5.48'],\n",
       " ['10', 'Slovenia', '180.98', '167.20', '5.94', '5.49'],\n",
       " ['11', 'Ukraine', '180.98', '166.62', '5.94', '5.47'],\n",
       " ['12', 'Croatia', '180.76', '166.80', '5.93', '5.47'],\n",
       " ['13', 'Serbia', '180.74', '168.29', '5.93', '5.52'],\n",
       " ['14', 'Lithuania', '180.72', '167.63', '5.93', '5.50'],\n",
       " ['15', 'Poland', '180.69', '165.78', '5.93', '5.44'],\n",
       " ['16', 'Finland', '180.57', '166.48', '5.92', '5.46'],\n",
       " ['17', 'Norway', '180.48', '166.45', '5.92', '5.46'],\n",
       " ['18', 'Sweden', '180.46', '166.67', '5.92', '5.47'],\n",
       " ['19', 'Germany', '180.28', '166.18', '5.91', '5.45'],\n",
       " ['20', 'Dominica', '180.15', '166.89', '5.91', '5.48'],\n",
       " ['21', 'Bermuda', '179.72', '166.11', '5.90', '5.45'],\n",
       " ['22', 'Puerto Rico', '179.48', '163.06', '5.89', '5.35'],\n",
       " ['23', 'Greece', '179.26', '165.81', '5.88', '5.44'],\n",
       " ['24', 'Belgium', '179.09', '163.40', '5.88', '5.36'],\n",
       " ['25', 'Ireland', '179.04', '164.50', '5.87', '5.40'],\n",
       " ['26', 'Lebanon', '178.96', '163.67', '5.87', '5.37'],\n",
       " ['27', 'Andorra', '178.84', '165.53', '5.87', '5.43'],\n",
       " ['28', 'Antigua and Barbuda', '178.84', '165.72', '5.87', '5.44'],\n",
       " ['29', 'Australia', '178.77', '164.67', '5.87', '5.40'],\n",
       " ['30', 'Canada', '178.75', '164.73', '5.86', '5.40'],\n",
       " ['31', 'Switzerland', '178.73', '164.33', '5.86', '5.39'],\n",
       " ['32', 'Grenada', '178.70', '165.99', '5.86', '5.45'],\n",
       " ['33', 'Belarus', '178.69', '166.93', '5.86', '5.48'],\n",
       " ['34', 'France', '178.60', '164.49', '5.86', '5.40'],\n",
       " ['35', 'Austria', '178.52', '166.93', '5.86', '5.48'],\n",
       " ['36', 'Luxembourg', '178.46', '165.07', '5.86', '5.42'],\n",
       " ['37', 'Cook Islands', '178.32', '167.31', '5.85', '5.49'],\n",
       " ['38', 'French Polynesia', '178.32', '166.52', '5.85', '5.46'],\n",
       " ['39', 'United Kingdom', '178.21', '163.94', '5.85', '5.38'],\n",
       " ['40', 'Romania', '177.82', '164.73', '5.83', '5.40'],\n",
       " ['41', 'New Zealand', '177.72', '164.66', '5.83', '5.40'],\n",
       " ['42',\n",
       "  'Saint Vincent and the Grenadines',\n",
       "  '177.49',\n",
       "  '165.30',\n",
       "  '5.82',\n",
       "  '5.42'],\n",
       " ['43', 'Niue', '177.19', '167.03', '5.81', '5.48'],\n",
       " ['44', 'American Samoa', '177.09', '167.55', '5.81', '5.50'],\n",
       " ['45', 'Barbados', '177.03', '165.66', '5.81', '5.44'],\n",
       " ['46', 'Jamaica', '176.97', '164.32', '5.81', '5.39'],\n",
       " ['47', 'United States', '176.94', '163.31', '5.81', '5.36'],\n",
       " ['48', 'Tunisia', '176.85', '161.69', '5.80', '5.30'],\n",
       " ['49', 'Russia', '176.65', '164.52', '5.80', '5.40'],\n",
       " ['50', 'Hungary', '176.59', '162.55', '5.79', '5.33']]"
      ]
     },
     "execution_count": 43,
     "metadata": {},
     "output_type": "execute_result"
    }
   ],
   "source": [
    "rows[:50]"
   ]
  },
  {
   "cell_type": "markdown",
   "id": "62b2a1fe",
   "metadata": {},
   "source": [
    "# Altura media, mínima y máxima de hombres y mujeres del dataset completo\n",
    "##  Hombres (cm)"
   ]
  },
  {
   "cell_type": "code",
   "execution_count": 44,
   "id": "d228c425",
   "metadata": {},
   "outputs": [
    {
     "data": {
      "text/plain": [
       "array(['183.78', '183.30', '182.79', '182.47', '182.10', '181.89',\n",
       "       '181.19', '181.17', '181.02', '180.98', '180.98', '180.76',\n",
       "       '180.74', '180.72', '180.69', '180.57', '180.48', '180.46',\n",
       "       '180.28', '180.15', '179.72', '179.48', '179.26', '179.09',\n",
       "       '179.04', '178.96', '178.84', '178.84', '178.77', '178.75',\n",
       "       '178.73', '178.70', '178.69', '178.60', '178.52', '178.46',\n",
       "       '178.32', '178.32', '178.21', '177.82', '177.72', '177.49',\n",
       "       '177.19', '177.09', '177.03', '176.97', '176.94', '176.85',\n",
       "       '176.65', '176.59', '176.43', '176.43', '176.39', '176.36',\n",
       "       '176.35', '176.18', '176.11', '176.06', '176.03', '175.98',\n",
       "       '175.98', '175.90', '175.73', '175.66', '175.62', '175.59',\n",
       "       '175.52', '175.50', '175.11', '175.05', '175.04', '175.02',\n",
       "       '174.96', '174.84', '174.83', '174.76', '174.69', '174.65',\n",
       "       '174.57', '174.51', '174.42', '174.42', '174.40', '174.38',\n",
       "       '174.37', '174.37', '174.32', '174.17', '174.08', '174.07',\n",
       "       '174.04', '174.00', '173.98', '173.84', '173.81', '173.79',\n",
       "       '173.71', '173.67', '173.56', '173.53', '173.53', '173.50',\n",
       "       '173.27', '173.16', '173.01', '172.88', '172.76', '172.75',\n",
       "       '172.23', '172.15', '172.13', '172.07', '172.06', '171.89',\n",
       "       '171.85', '171.84', '171.70', '171.66', '171.64', '171.61',\n",
       "       '171.55', '171.30', '171.23', '171.22', '170.94', '170.77',\n",
       "       '170.70', '170.69', '170.67', '170.67', '170.67', '170.62',\n",
       "       '170.60', '170.52', '170.48', '170.46', '170.37', '170.30',\n",
       "       '170.29', '170.26', '170.19', '170.14', '170.09', '169.91',\n",
       "       '169.75', '169.63', '169.59', '169.57', '169.57', '169.41',\n",
       "       '169.20', '169.01', '168.89', '168.84', '168.74', '168.60',\n",
       "       '168.50', '168.46', '168.44', '168.43', '168.36', '168.29',\n",
       "       '168.23', '168.18', '168.17', '168.10', '168.07', '167.92',\n",
       "       '167.87', '167.72', '167.62', '167.34', '167.33', '167.32',\n",
       "       '167.05', '166.98', '166.75', '166.70', '166.50', '166.43',\n",
       "       '166.31', '166.26', '166.02', '165.68', '165.54', '165.48',\n",
       "       '165.35', '165.26', '165.23', '165.16', '165.08', '164.42',\n",
       "       '164.36', '164.36', '164.30', '163.10', '163.07', '162.78',\n",
       "       '160.13'], dtype='<U32')"
      ]
     },
     "execution_count": 44,
     "metadata": {},
     "output_type": "execute_result"
    }
   ],
   "source": [
    "alturas = np.array(rows)\n",
    "\n",
    "altura_hombres = alturas[:, 2]\n",
    "altura_hombres"
   ]
  },
  {
   "cell_type": "code",
   "execution_count": 45,
   "id": "b9b1282c",
   "metadata": {},
   "outputs": [
    {
     "name": "stdout",
     "output_type": "stream",
     "text": [
      "En promedio, la altura en cm de los hombres es de: 173.09 cm.\n",
      "La altura más baja que se muestra en los datos de hombres es de: 160.1 cm.\n",
      "La altura más alta que se muestra en los datos de hombres es de: 183.8 cm.\n"
     ]
    }
   ],
   "source": [
    "# Transformación del array en números\n",
    "altura_hombres_cm_int = [float(numeric_string) for numeric_string in altura_hombres]\n",
    "\n",
    "# Cálculo de la media, min y max de alturas de hombres en cm\n",
    "mean_altura_h_cm = mean(altura_hombres_cm_int)\n",
    "min_altura_h_cm = min(altura_hombres_cm_int)\n",
    "max_altura_h_cm = max(altura_hombres_cm_int)\n",
    "\n",
    "# Primer reporte estadístico de los datos\n",
    "print('En promedio, la altura en cm de los hombres es de: {:.2f}'.format(mean_altura_h_cm), 'cm.')\n",
    "print('La altura más baja que se muestra en los datos de hombres es de: {:.1f}'.format(min_altura_h_cm), 'cm.')\n",
    "print('La altura más alta que se muestra en los datos de hombres es de: {:.1f}'.format(max_altura_h_cm), 'cm.')"
   ]
  },
  {
   "cell_type": "markdown",
   "id": "bfe95678",
   "metadata": {},
   "source": [
    "## Hombres (ft)"
   ]
  },
  {
   "cell_type": "code",
   "execution_count": 46,
   "id": "66e9bfe7",
   "metadata": {},
   "outputs": [
    {
     "name": "stdout",
     "output_type": "stream",
     "text": [
      "En promedio, la altura en pies de los hombres es de: 5.68 pies.\n",
      "La altura más baja que se muestra en los datos de hombres es de: 5.2 pies.\n",
      "La altura más alta que se muestra en los datos de hombres es de: 6.0 pies.\n"
     ]
    }
   ],
   "source": [
    "altura_hombres_ft = alturas[:, 4]\n",
    "\n",
    "# Transformación del array en números\n",
    "altura_hombres_ft_float = [float(numeric_string) for numeric_string in altura_hombres_ft]\n",
    "\n",
    "# Cálculo de la media, min y max de alturas de hombres en ft\n",
    "mean_altura_h_ft = mean(altura_hombres_ft_float)\n",
    "min_altura_h_ft = min(altura_hombres_ft_float)\n",
    "max_altura_h_ft = max(altura_hombres_ft_float)\n",
    "\n",
    "# Primer reporte estadístico de los datos\n",
    "print('En promedio, la altura en pies de los hombres es de: {:.2f}'.format(mean_altura_h_ft), 'pies.')\n",
    "print('La altura más baja que se muestra en los datos de hombres es de: {:.1f}'.format(min_altura_h_ft), 'pies.')\n",
    "print('La altura más alta que se muestra en los datos de hombres es de: {:.1f}'.format(max_altura_h_ft), 'pies.')"
   ]
  },
  {
   "cell_type": "markdown",
   "id": "850054f7",
   "metadata": {},
   "source": [
    "## Mujeres (cm)"
   ]
  },
  {
   "cell_type": "code",
   "execution_count": 47,
   "id": "e50233ca",
   "metadata": {},
   "outputs": [
    {
     "name": "stdout",
     "output_type": "stream",
     "text": [
      "En promedio, la altura en cm de las mujeres es de: 160.94 cm.\n",
      "La altura más baja que se muestra en los datos de mujeres es de: 150.9 cm.\n",
      "La altura más alta que se muestra en los datos de mujeres es de: 170.4 cm.\n"
     ]
    }
   ],
   "source": [
    "altura_mujeres_cm = alturas[:, 3]\n",
    "\n",
    "# Transformación del array en números\n",
    "altura_mujeres_cm_float = [float(numeric_string) for numeric_string in altura_mujeres_cm]\n",
    "\n",
    "# Cálculo de la media, min y max de alturas de mujeres en cm\n",
    "mean_altura_m_cm = mean(altura_mujeres_cm_float)\n",
    "min_altura_m_cm = min(altura_mujeres_cm_float)\n",
    "max_altura_m_cm = max(altura_mujeres_cm_float)\n",
    "\n",
    "# Primer reporte estadístico de los datos\n",
    "print('En promedio, la altura en cm de las mujeres es de: {:.2f}'.format(mean_altura_m_cm), 'cm.')\n",
    "print('La altura más baja que se muestra en los datos de mujeres es de: {:.1f}'.format(min_altura_m_cm), 'cm.')\n",
    "print('La altura más alta que se muestra en los datos de mujeres es de: {:.1f}'.format(max_altura_m_cm), 'cm.')"
   ]
  },
  {
   "cell_type": "markdown",
   "id": "17496fcf",
   "metadata": {},
   "source": [
    "## Mujeres (ft)"
   ]
  },
  {
   "cell_type": "code",
   "execution_count": 48,
   "id": "73c3c312",
   "metadata": {},
   "outputs": [
    {
     "name": "stdout",
     "output_type": "stream",
     "text": [
      "En promedio, la altura en pies de las mujeres es de: 5.28 pies.\n",
      "La altura más baja que se muestra en los datos de mujeres es de: 5.0 pies.\n",
      "La altura más alta que se muestra en los datos de mujeres es de: 5.6 pies.\n"
     ]
    }
   ],
   "source": [
    "altura_mujeres_ft = alturas[:, 5]\n",
    "\n",
    "# Transformación del array en números\n",
    "altura_mujeres_ft_float = [float(numeric_string) for numeric_string in altura_mujeres_ft]\n",
    "\n",
    "# Cálculo de la media, min y max de alturas de mujeres en ft\n",
    "mean_altura_m_ft = mean(altura_mujeres_ft_float)\n",
    "min_altura_m_ft = min(altura_mujeres_ft_float)\n",
    "max_altura_m_ft = max(altura_mujeres_ft_float)\n",
    "\n",
    "# Primer reporte estadístico de los datos\n",
    "print('En promedio, la altura en pies de las mujeres es de: {:.2f}'.format(mean_altura_m_ft), 'pies.')\n",
    "print('La altura más baja que se muestra en los datos de mujeres es de: {:.1f}'.format(min_altura_m_ft), 'pies.')\n",
    "print('La altura más alta que se muestra en los datos de mujeres es de: {:.1f}'.format(max_altura_m_ft), 'pies.')"
   ]
  },
  {
   "cell_type": "markdown",
   "id": "7bba2703",
   "metadata": {},
   "source": [
    "# Data de alturas de mi país de origen (México)"
   ]
  },
  {
   "cell_type": "code",
   "execution_count": 49,
   "id": "2a2e280e",
   "metadata": {},
   "outputs": [
    {
     "data": {
      "text/plain": [
       "array(['Netherlands', 'Montenegro', 'Estonia', 'Bosnia and Herzegovina',\n",
       "       'Iceland', 'Denmark', 'Czech Republic', 'Latvia', 'Slovakia',\n",
       "       'Slovenia', 'Ukraine', 'Croatia', 'Serbia', 'Lithuania', 'Poland',\n",
       "       'Finland', 'Norway', 'Sweden', 'Germany', 'Dominica', 'Bermuda',\n",
       "       'Puerto Rico', 'Greece', 'Belgium', 'Ireland', 'Lebanon',\n",
       "       'Andorra', 'Antigua and Barbuda', 'Australia', 'Canada',\n",
       "       'Switzerland', 'Grenada', 'Belarus', 'France', 'Austria',\n",
       "       'Luxembourg', 'Cook Islands', 'French Polynesia', 'United Kingdom',\n",
       "       'Romania', 'New Zealand', 'Saint Vincent and the Grenadines',\n",
       "       'Niue', 'American Samoa', 'Barbados', 'Jamaica', 'United States',\n",
       "       'Tunisia', 'Russia', 'Hungary', 'Saint Lucia', 'North Macedonia',\n",
       "       'Libya', 'Turkey', 'Morocco', 'Senegal', 'Spain', 'Tokelau',\n",
       "       'Trinidad and Tobago', 'Israel', 'Georgia', 'Seychelles', 'Brazil',\n",
       "       'China', 'Iran', 'Moldova', 'South Korea', 'Kazakhstan', 'Tonga',\n",
       "       'Palestine', 'Algeria', 'Mali', 'Kuwait', 'Jordan', 'Hong Kong',\n",
       "       'Argentina', 'North Korea', 'Dominican Republic', 'Egypt',\n",
       "       'Suriname', 'Italy', 'Samoa', 'Bahamas', 'Malta', 'Turkmenistan',\n",
       "       'Portugal', 'Uruguay', 'Bulgaria', 'United Arab Emirates',\n",
       "       'Albania', 'Costa Rica', 'Azerbaijan', 'Fiji', 'Greenland',\n",
       "       'Paraguay', 'Iraq', 'Saint Kitts and Nevis', 'Armenia', 'Cuba',\n",
       "       'Venezuela', 'Taiwan', 'Singapore', 'Qatar', 'Botswana',\n",
       "       'Mauritius', 'Chile', 'Bahrain', 'Cyprus', 'Haiti', 'Guyana',\n",
       "       'Cameroon', 'Sudan', 'Japan', 'Burkina Faso', 'Colombia', 'Chad',\n",
       "       'Oman', 'Kyrgyzstan', 'Syria', 'Thailand', 'Nigeria', 'Tuvalu',\n",
       "       'Republic of the Congo', 'Somalia', 'Uzbekistan', 'Djibouti',\n",
       "       'Guinea', 'Zimbabwe', 'Mongolia', 'El Salvador', 'Saudi Arabia',\n",
       "       'Palau', 'Eritrea', 'Belize', 'Gabon', 'Kenya',\n",
       "       'Sao Tome and Principe', 'Ghana', 'Mexico', 'Niger', 'Panama',\n",
       "       'Togo', 'Kiribati', 'Nicaragua', 'Namibia', 'South Africa',\n",
       "       'Honduras', 'Micronesia', 'Nauru', 'Eswatini', 'Malaysia',\n",
       "       'Central African Republic', 'Vietnam', 'Ethiopia', 'Uganda',\n",
       "       'DR Congo', 'Afghanistan', 'Angola', 'Benin', 'Tajikistan',\n",
       "       'Gambia', 'Vanuatu', 'Ivory Coast', 'Equatorial Guinea',\n",
       "       'Guinea-Bissau', 'Bolivia', 'Sri Lanka', 'Lesotho', 'Maldives',\n",
       "       'Comoros', 'Zambia', 'Burundi', 'Pakistan', 'Ecuador', 'Bhutan',\n",
       "       'Tanzania', 'Peru', 'Myanmar', 'India', 'Sierra Leone', 'Brunei',\n",
       "       'Indonesia', 'Rwanda', 'Malawi', 'Mauritania', 'Liberia',\n",
       "       'Cambodia', 'Marshall Islands', 'Philippines', 'Madagascar',\n",
       "       'Bangladesh', 'Yemen', 'Nepal', 'Guatemala', 'Mozambique',\n",
       "       'Papua New Guinea', 'Solomon Islands', 'Laos', 'Timor-Leste'],\n",
       "      dtype='<U32')"
      ]
     },
     "execution_count": 49,
     "metadata": {},
     "output_type": "execute_result"
    }
   ],
   "source": [
    "paises = alturas[:, 1]\n",
    "paises"
   ]
  },
  {
   "cell_type": "code",
   "execution_count": 50,
   "id": "038ecc00",
   "metadata": {},
   "outputs": [
    {
     "name": "stdout",
     "output_type": "stream",
     "text": [
      "[False False False False False False False False False False False False\n",
      " False False False False False False False False False False False False\n",
      " False False False False False False False False False False False False\n",
      " False False False False False False False False False False False False\n",
      " False False False False False False False False False False False False\n",
      " False False False False False False False False False False False False\n",
      " False False False False False False False False False False False False\n",
      " False False False False False False False False False False False False\n",
      " False False False False False False False False False False False False\n",
      " False False False False False False False False False False False False\n",
      " False False False False False False False False False False False False\n",
      " False False False False False False  True False False False False False\n",
      " False False False False False False False False False False False False\n",
      " False False False False False False False False False False False False\n",
      " False False False False False False False False False False False False\n",
      " False False False False False False False False False False False False\n",
      " False False False False False False False]\n"
     ]
    }
   ],
   "source": [
    "# Mexico\n",
    "filter_arr = (paises == 'Mexico')\n",
    "print(filter_arr)"
   ]
  },
  {
   "cell_type": "code",
   "execution_count": 51,
   "id": "0df93964",
   "metadata": {},
   "outputs": [
    {
     "name": "stdout",
     "output_type": "stream",
     "text": [
      "Datos de altura en Mexico\n",
      "Altura de hombres (cm): 170.29\n",
      "Altura de hombres (ft): 5.59\n",
      "Altura de mujeres (cm): 157.90\n",
      "Altura de mujeres (ft): 5.18\n"
     ]
    }
   ],
   "source": [
    "data_mexico = alturas[filter_arr]\n",
    "\n",
    "print('Datos de altura en', data_mexico[0][1])\n",
    "print('Altura de hombres (cm): {:.2f}'.format(float(data_mexico[0][2])))\n",
    "print('Altura de hombres (ft): {:.2f}'.format(float(data_mexico[0][4])))\n",
    "print('Altura de mujeres (cm): {:.2f}'.format(float(data_mexico[0][3])))\n",
    "print('Altura de mujeres (ft): {:.2f}'.format(float(data_mexico[0][5])))"
   ]
  },
  {
   "cell_type": "code",
   "execution_count": null,
   "id": "350b869d",
   "metadata": {},
   "outputs": [],
   "source": []
  }
 ],
 "metadata": {
  "kernelspec": {
   "display_name": "Python 3 (ipykernel)",
   "language": "python",
   "name": "python3"
  },
  "language_info": {
   "codemirror_mode": {
    "name": "ipython",
    "version": 3
   },
   "file_extension": ".py",
   "mimetype": "text/x-python",
   "name": "python",
   "nbconvert_exporter": "python",
   "pygments_lexer": "ipython3",
   "version": "3.11.5"
  }
 },
 "nbformat": 4,
 "nbformat_minor": 5
}
