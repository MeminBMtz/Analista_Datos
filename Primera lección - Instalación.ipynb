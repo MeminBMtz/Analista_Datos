{
 "cells": [
  {
   "cell_type": "markdown",
   "id": "7834a23b",
   "metadata": {},
   "source": [
    "## Primera leccion - Analista de datos\n",
    "### Subtítulo"
   ]
  },
  {
   "cell_type": "markdown",
   "id": "e3dc342d",
   "metadata": {},
   "source": [
    "### Ejemplo de visualización de imagen\n",
    "\n",
    "<img src=\"https://seeklogo.com/images/O/Oasis-logo-D16739DD2D-seeklogo.com.png\">"
   ]
  },
  {
   "cell_type": "code",
   "execution_count": 1,
   "id": "68bb7d93",
   "metadata": {},
   "outputs": [
    {
     "name": "stdout",
     "output_type": "stream",
     "text": [
      "Bienvenidos al curso de Python\n"
     ]
    }
   ],
   "source": [
    "print(\"Bienvenidos al curso de Python\")"
   ]
  },
  {
   "cell_type": "code",
   "execution_count": 2,
   "id": "0ae09c65",
   "metadata": {},
   "outputs": [
    {
     "data": {
      "text/plain": [
       "'3.11.5 (main, Sep 11 2023, 08:19:27) [Clang 14.0.6 ]'"
      ]
     },
     "execution_count": 2,
     "metadata": {},
     "output_type": "execute_result"
    }
   ],
   "source": [
    "import sys\n",
    "sys.version"
   ]
  },
  {
   "cell_type": "code",
   "execution_count": null,
   "id": "f1e0e06b",
   "metadata": {},
   "outputs": [],
   "source": []
  }
 ],
 "metadata": {
  "kernelspec": {
   "display_name": "Python 3 (ipykernel)",
   "language": "python",
   "name": "python3"
  },
  "language_info": {
   "codemirror_mode": {
    "name": "ipython",
    "version": 3
   },
   "file_extension": ".py",
   "mimetype": "text/x-python",
   "name": "python",
   "nbconvert_exporter": "python",
   "pygments_lexer": "ipython3",
   "version": "3.11.5"
  }
 },
 "nbformat": 4,
 "nbformat_minor": 5
}
