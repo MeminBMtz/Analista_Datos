{
 "cells": [
  {
   "cell_type": "code",
   "execution_count": 6,
   "id": "fd1932b4",
   "metadata": {},
   "outputs": [
    {
     "name": "stdout",
     "output_type": "stream",
     "text": [
      "Bienvenido al curso de Python\n"
     ]
    }
   ],
   "source": [
    "print('Bienvenido al curso de Python')"
   ]
  },
  {
   "cell_type": "code",
   "execution_count": 7,
   "id": "b2d3440d",
   "metadata": {},
   "outputs": [
    {
     "name": "stdout",
     "output_type": "stream",
     "text": [
      "123\n"
     ]
    }
   ],
   "source": [
    "print(123)"
   ]
  },
  {
   "cell_type": "code",
   "execution_count": 8,
   "id": "b743d877",
   "metadata": {},
   "outputs": [],
   "source": [
    "x = 10.5\n",
    "y = 20"
   ]
  },
  {
   "cell_type": "code",
   "execution_count": 9,
   "id": "d45d3536",
   "metadata": {},
   "outputs": [
    {
     "name": "stdout",
     "output_type": "stream",
     "text": [
      "10.5\n"
     ]
    }
   ],
   "source": [
    "print(x)"
   ]
  },
  {
   "cell_type": "code",
   "execution_count": 11,
   "id": "fcfe7a60",
   "metadata": {},
   "outputs": [
    {
     "name": "stdout",
     "output_type": "stream",
     "text": [
      "El valor de x es 10.5\n"
     ]
    }
   ],
   "source": [
    "print(\"El valor de x es\", x)"
   ]
  },
  {
   "cell_type": "code",
   "execution_count": 12,
   "id": "f1227a2e",
   "metadata": {},
   "outputs": [
    {
     "name": "stdout",
     "output_type": "stream",
     "text": [
      "El resultado de z es 30.5\n"
     ]
    }
   ],
   "source": [
    "z = x + y\n",
    "print(\"El resultado de z es\", z)"
   ]
  },
  {
   "cell_type": "code",
   "execution_count": 13,
   "id": "848658a9",
   "metadata": {},
   "outputs": [
    {
     "name": "stdout",
     "output_type": "stream",
     "text": [
      "30.5\n"
     ]
    }
   ],
   "source": [
    "long_objeto1 = 10.5\n",
    "long_objeto2 = 20\n",
    "long_objeto3 = long_objeto1 + long_objeto2\n",
    "print(long_objeto3)"
   ]
  },
  {
   "cell_type": "code",
   "execution_count": null,
   "id": "1f552f2a",
   "metadata": {},
   "outputs": [],
   "source": []
  }
 ],
 "metadata": {
  "kernelspec": {
   "display_name": "Python 3 (ipykernel)",
   "language": "python",
   "name": "python3"
  },
  "language_info": {
   "codemirror_mode": {
    "name": "ipython",
    "version": 3
   },
   "file_extension": ".py",
   "mimetype": "text/x-python",
   "name": "python",
   "nbconvert_exporter": "python",
   "pygments_lexer": "ipython3",
   "version": "3.11.5"
  }
 },
 "nbformat": 4,
 "nbformat_minor": 5
}
